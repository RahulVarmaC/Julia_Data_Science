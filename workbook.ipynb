{
 "cells": [
  {
   "cell_type": "markdown",
   "metadata": {},
   "source": [
    "# <center>Julia for Beginners in Data Science\n",
    "#### <center>Instructor: Vinita Silaparasetty"
   ]
  },
  {
   "cell_type": "markdown",
   "metadata": {},
   "source": [
    "#### Added Packages"
   ]
  },
  {
   "cell_type": "code",
   "execution_count": 1,
   "metadata": {},
   "outputs": [
    {
     "name": "stdout",
     "output_type": "stream",
     "text": [
      "\u001b[32m\u001b[1m  Updating\u001b[22m\u001b[39m registry at `~/.julia/registries/General`\n",
      "\u001b[32m\u001b[1m  Updating\u001b[22m\u001b[39m git-repo `https://github.com/JuliaRegistries/General.git`\n",
      "\u001b[2K\u001b[?25h[1mFetching:\u001b[22m\u001b[39m [========================================>]  100.0 %.0 %\u001b[32m\u001b[1m Resolving\u001b[22m\u001b[39m package versions...\n",
      "\u001b[32m\u001b[1m  Updating\u001b[22m\u001b[39m `~/.julia/environments/v1.0/Project.toml`\n",
      "\u001b[90m [no changes]\u001b[39m\n",
      "\u001b[32m\u001b[1m  Updating\u001b[22m\u001b[39m `~/.julia/environments/v1.0/Manifest.toml`\n",
      "\u001b[90m [no changes]\u001b[39m\n",
      "\u001b[32m\u001b[1m Resolving\u001b[22m\u001b[39m package versions...\n",
      "\u001b[32m\u001b[1m  Updating\u001b[22m\u001b[39m `~/.julia/environments/v1.0/Project.toml`\n",
      "\u001b[90m [no changes]\u001b[39m\n",
      "\u001b[32m\u001b[1m  Updating\u001b[22m\u001b[39m `~/.julia/environments/v1.0/Manifest.toml`\n",
      "\u001b[90m [no changes]\u001b[39m\n",
      "\u001b[32m\u001b[1m Resolving\u001b[22m\u001b[39m package versions...\n",
      "\u001b[32m\u001b[1m  Updating\u001b[22m\u001b[39m `~/.julia/environments/v1.0/Project.toml`\n",
      "\u001b[90m [no changes]\u001b[39m\n",
      "\u001b[32m\u001b[1m  Updating\u001b[22m\u001b[39m `~/.julia/environments/v1.0/Manifest.toml`\n",
      "\u001b[90m [no changes]\u001b[39m\n",
      "\u001b[32m\u001b[1m Resolving\u001b[22m\u001b[39m package versions...\n",
      "\u001b[32m\u001b[1m  Updating\u001b[22m\u001b[39m `~/.julia/environments/v1.0/Project.toml`\n",
      "\u001b[90m [no changes]\u001b[39m\n",
      "\u001b[32m\u001b[1m  Updating\u001b[22m\u001b[39m `~/.julia/environments/v1.0/Manifest.toml`\n",
      "\u001b[90m [no changes]\u001b[39m\n",
      "\u001b[32m\u001b[1m Resolving\u001b[22m\u001b[39m package versions...\n",
      "\u001b[32m\u001b[1m  Updating\u001b[22m\u001b[39m `~/.julia/environments/v1.0/Project.toml`\n",
      "\u001b[90m [no changes]\u001b[39m\n",
      "\u001b[32m\u001b[1m  Updating\u001b[22m\u001b[39m `~/.julia/environments/v1.0/Manifest.toml`\n",
      "\u001b[90m [no changes]\u001b[39m\n",
      "\u001b[32m\u001b[1m Resolving\u001b[22m\u001b[39m package versions...\n",
      "\u001b[32m\u001b[1m  Updating\u001b[22m\u001b[39m `~/.julia/environments/v1.0/Project.toml`\n",
      "\u001b[90m [no changes]\u001b[39m\n",
      "\u001b[32m\u001b[1m  Updating\u001b[22m\u001b[39m `~/.julia/environments/v1.0/Manifest.toml`\n",
      "\u001b[90m [no changes]\u001b[39m\n",
      "\u001b[32m\u001b[1m Resolving\u001b[22m\u001b[39m package versions...\n",
      "\u001b[32m\u001b[1m  Updating\u001b[22m\u001b[39m `~/.julia/environments/v1.0/Project.toml`\n",
      "\u001b[90m [no changes]\u001b[39m\n",
      "\u001b[32m\u001b[1m  Updating\u001b[22m\u001b[39m `~/.julia/environments/v1.0/Manifest.toml`\n",
      "\u001b[90m [no changes]\u001b[39m\n",
      "\u001b[32m\u001b[1m Resolving\u001b[22m\u001b[39m package versions...\n",
      "\u001b[32m\u001b[1m  Updating\u001b[22m\u001b[39m `~/.julia/environments/v1.0/Project.toml`\n",
      "\u001b[90m [no changes]\u001b[39m\n",
      "\u001b[32m\u001b[1m  Updating\u001b[22m\u001b[39m `~/.julia/environments/v1.0/Manifest.toml`\n",
      "\u001b[90m [no changes]\u001b[39m\n"
     ]
    }
   ],
   "source": [
    "using Pkg\n",
    "Pkg.add(\"DataFrames\") \n",
    "Pkg.add(\"CSV\") \n",
    "Pkg.add(\"HTTP\")\n",
    "Pkg.add(\"Statistics\")\n",
    "Pkg.add(\"MLDataUtils\")\n",
    "Pkg.add(\"Impute\")\n",
    "Pkg.add(\"Plots\")\n",
    "Pkg.add(\"XLSX\")"
   ]
  },
  {
   "cell_type": "markdown",
   "metadata": {},
   "source": [
    "#### Creating Dictionaries"
   ]
  },
  {
   "cell_type": "code",
   "execution_count": 2,
   "metadata": {},
   "outputs": [
    {
     "data": {
      "text/plain": [
       "Dict{String,Any} with 4 entries:\n",
       "  \"The sky is blue\" => true\n",
       "  \"sales%\"          => 40.5\n",
       "  \"country\"         => \"Canada\"\n",
       "  \"ID#\"             => 2"
      ]
     },
     "execution_count": 2,
     "metadata": {},
     "output_type": "execute_result"
    }
   ],
   "source": [
    "d1 = Dict(\"The sky is blue\"=>true, \"country\"=>\"Canada\", \"ID#\"=>2,\"sales%\"=>40.5 )"
   ]
  },
  {
   "cell_type": "code",
   "execution_count": 3,
   "metadata": {},
   "outputs": [
    {
     "data": {
      "text/plain": [
       "\"Canada\""
      ]
     },
     "execution_count": 3,
     "metadata": {},
     "output_type": "execute_result"
    }
   ],
   "source": [
    "d1[\"country\"]"
   ]
  },
  {
   "cell_type": "markdown",
   "metadata": {},
   "source": [
    "## <center>🏆 Challenge\n",
    "    \n",
    "1) Create a dictionary, D2, with the following key and value pairs:\n",
    "\n",
    "\"animal\" => \"cat\"\n",
    "    \n",
    "\"fruit\"  => \"apple\"\n",
    "    \n",
    "\"age\"    => \"20\"\n",
    "    \n",
    "    \n",
    "2) Then print the value of the key \"animal\"."
   ]
  },
  {
   "cell_type": "code",
   "execution_count": 4,
   "metadata": {},
   "outputs": [
    {
     "data": {
      "text/plain": [
       "Dict{String,Any} with 3 entries:\n",
       "  \"fruit\"  => \"apple\"\n",
       "  \"animal\" => \"cat\"\n",
       "  \"age\"    => 20"
      ]
     },
     "execution_count": 4,
     "metadata": {},
     "output_type": "execute_result"
    }
   ],
   "source": [
    "#Create dictionary\n",
    "D2 = Dict(\"animal\" => \"cat\", \"fruit\" =>\"apple\", \"age\" => 20 )\n"
   ]
  },
  {
   "cell_type": "code",
   "execution_count": 5,
   "metadata": {},
   "outputs": [
    {
     "data": {
      "text/plain": [
       "\"cat\""
      ]
     },
     "execution_count": 5,
     "metadata": {},
     "output_type": "execute_result"
    }
   ],
   "source": [
    "#View key value\n",
    "D2[\"animal\"]"
   ]
  },
  {
   "cell_type": "markdown",
   "metadata": {},
   "source": [
    "### Loops"
   ]
  },
  {
   "cell_type": "markdown",
   "metadata": {},
   "source": [
    "#### While Loop"
   ]
  },
  {
   "cell_type": "code",
   "execution_count": 6,
   "metadata": {},
   "outputs": [
    {
     "name": "stdout",
     "output_type": "stream",
     "text": [
      "0,1,1,2,3,"
     ]
    }
   ],
   "source": [
    "length =5\n",
    "a=0\n",
    "b=1\n",
    "i=0\n",
    "\n",
    "while i<length\n",
    "    print(a, \",\")\n",
    "    c= a+b\n",
    "    global a=b\n",
    "    global b=c\n",
    "    global i += 1\n",
    "end\n"
   ]
  },
  {
   "cell_type": "markdown",
   "metadata": {},
   "source": [
    "#### For Loop"
   ]
  },
  {
   "cell_type": "code",
   "execution_count": 7,
   "metadata": {},
   "outputs": [
    {
     "name": "stdout",
     "output_type": "stream",
     "text": [
      "apples\n",
      "oranges\n",
      "cherries\n"
     ]
    }
   ],
   "source": [
    "l=[\"apples\", \"oranges\", \"cherries\"]\n",
    "for i in l\n",
    "    println(i)\n",
    "end"
   ]
  },
  {
   "cell_type": "markdown",
   "metadata": {},
   "source": [
    "## <center>🏆 Challenge\n",
    "    \n",
    "Create a list l1 with the following integers:\n",
    "\n",
    "10\n",
    "\n",
    "20\n",
    "\n",
    "30\n",
    "\n",
    "Use a for loop to iterate over the integers and display them.\n"
   ]
  },
  {
   "cell_type": "code",
   "execution_count": 8,
   "metadata": {},
   "outputs": [
    {
     "name": "stdout",
     "output_type": "stream",
     "text": [
      "10\n",
      "20\n",
      "30\n"
     ]
    }
   ],
   "source": [
    "l = [10, 20 , 30]\n",
    "for i in l\n",
    "    println(i)\n",
    "end"
   ]
  },
  {
   "cell_type": "markdown",
   "metadata": {},
   "source": [
    "#### Conditional Statments"
   ]
  },
  {
   "cell_type": "code",
   "execution_count": 9,
   "metadata": {},
   "outputs": [
    {
     "name": "stdout",
     "output_type": "stream",
     "text": [
      "35 greater than 30\n"
     ]
    }
   ],
   "source": [
    "i = 35\n",
    "if (i<30)\n",
    "    println(\"$i less than 30\")\n",
    "    else\n",
    "    println(\"$i greater than 30\")\n",
    "end"
   ]
  },
  {
   "cell_type": "markdown",
   "metadata": {},
   "source": [
    "### Loading and Exporting Data"
   ]
  },
  {
   "cell_type": "markdown",
   "metadata": {},
   "source": [
    "#### Loading from a Local System"
   ]
  },
  {
   "cell_type": "markdown",
   "metadata": {},
   "source": [
    "#### CSV files"
   ]
  },
  {
   "cell_type": "code",
   "execution_count": 10,
   "metadata": {},
   "outputs": [
    {
     "name": "stderr",
     "output_type": "stream",
     "text": [
      "┌ Info: Recompiling stale cache file /home/rhyme/.julia/compiled/v1.0/DataFrames/AR9oZ.ji for DataFrames [a93c6f00-e57d-5684-b7b6-d8193f3e46c0]\n",
      "└ @ Base loading.jl:1190\n",
      "┌ Info: Recompiling stale cache file /home/rhyme/.julia/compiled/v1.0/CSV/HHBkp.ji for CSV [336ed68f-0bac-5ca0-87d4-7b16caf5d00b]\n",
      "└ @ Base loading.jl:1190\n",
      "┌ Warning: `CSV.read(input; kw...)` is deprecated in favor of `using DataFrames; CSV.read(input, DataFrame; kw...)\n",
      "│   caller = read(::String) at CSV.jl:40\n",
      "└ @ CSV /home/rhyme/.julia/packages/CSV/MKemC/src/CSV.jl:40\n"
     ]
    },
    {
     "ename": "InterruptException",
     "evalue": "InterruptException:",
     "output_type": "error",
     "traceback": [
      "InterruptException:",
      "",
      "Stacktrace:",
      " [1] #File#27(::Nothing, ::Nothing, ::Nothing, ::Nothing, ::Dict{Type,Type}, ::Int32, ::Bool, ::Type, ::CSV.Header{false,Parsers.Options{false,false,true,false,Missing,UInt8,Nothing},Array{UInt8,1}}) at /home/rhyme/.julia/packages/CSV/MKemC/src/file.jl:265",
      " [2] (::getfield(Core, Symbol(\"#kw#Type\")))(::NamedTuple{(:debug, :typemap),Tuple{Bool,Dict{Type,Type}}}, ::Type{CSV.File}, ::CSV.Header{false,Parsers.Options{false,false,true,false,Missing,UInt8,Nothing},Array{UInt8,1}}) at ./none:0",
      " [3] #File#26(::Int32, ::Bool, ::Int32, ::Nothing, ::Int32, ::Bool, ::Nothing, ::Nothing, ::Bool, ::Nothing, ::Nothing, ::Array{String,1}, ::String, ::Nothing, ::Bool, ::Char, ::Nothing, ::Nothing, ::Char, ::Nothing, ::Nothing, ::UInt8, ::Array{String,1}, ::Array{String,1}, ::Nothing, ::Nothing, ::Dict{Type,Type}, ::Nothing, ::Float64, ::Bool, ::Bool, ::Bool, ::Bool, ::Bool, ::Base.Iterators.Pairs{Union{},Union{},Tuple{},NamedTuple{(),Tuple{}}}, ::Type, ::String) at /home/rhyme/.julia/packages/CSV/MKemC/src/file.jl:217",
      " [4] CSV.File(::String) at /home/rhyme/.julia/packages/CSV/MKemC/src/file.jl:216",
      " [5] #read#75(::Bool, ::Base.Iterators.Pairs{Union{},Union{},Tuple{},NamedTuple{(),Tuple{}}}, ::Function, ::String, ::Nothing) at /home/rhyme/.julia/packages/CSV/MKemC/src/CSV.jl:44",
      " [6] read(::String, ::Nothing) at /home/rhyme/.julia/packages/CSV/MKemC/src/CSV.jl:40 (repeats 2 times)",
      " [7] top-level scope at In[10]:2"
     ]
    }
   ],
   "source": [
    "using DataFrames, CSV\n",
    "data=CSV.read(\"nba19-20.csv\")\n",
    "first(data,5)"
   ]
  },
  {
   "cell_type": "markdown",
   "metadata": {},
   "source": [
    "#### XLSX files"
   ]
  },
  {
   "cell_type": "code",
   "execution_count": 11,
   "metadata": {},
   "outputs": [
    {
     "data": {
      "text/plain": [
       "XLSXFile(\"nba19-20.xlsx\") containing 1 Worksheet\n",
       "            sheetname size          range        \n",
       "-------------------------------------------------\n",
       "              Sheet 1 1140x24       A2:X1141     \n"
      ]
     },
     "execution_count": 11,
     "metadata": {},
     "output_type": "execute_result"
    }
   ],
   "source": [
    "using XLSX\n",
    "df = XLSX.readxlsx(\"nba19-20.xlsx\")"
   ]
  },
  {
   "cell_type": "markdown",
   "metadata": {},
   "source": [
    "#### Loading from a URL"
   ]
  },
  {
   "cell_type": "code",
   "execution_count": 14,
   "metadata": {},
   "outputs": [
    {
     "name": "stderr",
     "output_type": "stream",
     "text": [
      "┌ Warning: `CSV.read(input; kw...)` is deprecated in favor of `using DataFrames; CSV.read(input, DataFrame; kw...)\n",
      "│   caller = read(::Array{UInt8,1}) at CSV.jl:40\n",
      "└ @ CSV /home/rhyme/.julia/packages/CSV/MKemC/src/CSV.jl:40\n"
     ]
    },
    {
     "data": {
      "text/html": [
       "<table class=\"data-frame\"><thead><tr><th></th><th>Symbol</th><th>Name</th><th>Sector</th><th>Price</th><th>Earnings</th><th>Dividend Yield</th><th>Share</th></tr><tr><th></th><th>String</th><th>String</th><th>String</th><th>Float64</th><th>Float64?</th><th>Float64</th><th>Float64</th></tr></thead><tbody><p>5 rows × 14 columns (omitted printing of 7 columns)</p><tr><th>1</th><td>MMM</td><td>3M Company</td><td>Industrials</td><td>222.89</td><td>24.31</td><td>2.33286</td><td>7.92</td></tr><tr><th>2</th><td>MMM</td><td>3M Company</td><td>Industrials</td><td>222.89</td><td>24.31</td><td>2.33286</td><td>7.92</td></tr><tr><th>3</th><td>AOS</td><td>A.O. Smith Corp</td><td>Industrials</td><td>60.24</td><td>27.76</td><td>1.14796</td><td>1.7</td></tr><tr><th>4</th><td>AOS</td><td>A.O. Smith Corp</td><td>Industrials</td><td>60.24</td><td>27.76</td><td>1.14796</td><td>1.7</td></tr><tr><th>5</th><td>ABT</td><td>Abbott Laboratories</td><td>Health Care</td><td>56.27</td><td>22.51</td><td>1.90898</td><td>0.26</td></tr></tbody></table>"
      ],
      "text/latex": [
       "\\begin{tabular}{r|cccccccc}\n",
       "\t& Symbol & Name & Sector & Price & Earnings & Dividend Yield & Share & \\\\\n",
       "\t\\hline\n",
       "\t& String & String & String & Float64 & Float64? & Float64 & Float64 & \\\\\n",
       "\t\\hline\n",
       "\t1 & MMM & 3M Company & Industrials & 222.89 & 24.31 & 2.33286 & 7.92 & $\\dots$ \\\\\n",
       "\t2 & MMM & 3M Company & Industrials & 222.89 & 24.31 & 2.33286 & 7.92 & $\\dots$ \\\\\n",
       "\t3 & AOS & A.O. Smith Corp & Industrials & 60.24 & 27.76 & 1.14796 & 1.7 & $\\dots$ \\\\\n",
       "\t4 & AOS & A.O. Smith Corp & Industrials & 60.24 & 27.76 & 1.14796 & 1.7 & $\\dots$ \\\\\n",
       "\t5 & ABT & Abbott Laboratories & Health Care & 56.27 & 22.51 & 1.90898 & 0.26 & $\\dots$ \\\\\n",
       "\\end{tabular}\n"
      ],
      "text/plain": [
       "5×14 DataFrame. Omitted printing of 9 columns\n",
       "│ Row │ Symbol │ Name                │ Sector      │ Price   │ Earnings │\n",
       "│     │ \u001b[90mString\u001b[39m │ \u001b[90mString\u001b[39m              │ \u001b[90mString\u001b[39m      │ \u001b[90mFloat64\u001b[39m │ \u001b[90mFloat64?\u001b[39m │\n",
       "├─────┼────────┼─────────────────────┼─────────────┼─────────┼──────────┤\n",
       "│ 1   │ MMM    │ 3M Company          │ Industrials │ 222.89  │ 24.31    │\n",
       "│ 2   │ MMM    │ 3M Company          │ Industrials │ 222.89  │ 24.31    │\n",
       "│ 3   │ AOS    │ A.O. Smith Corp     │ Industrials │ 60.24   │ 27.76    │\n",
       "│ 4   │ AOS    │ A.O. Smith Corp     │ Industrials │ 60.24   │ 27.76    │\n",
       "│ 5   │ ABT    │ Abbott Laboratories │ Health Care │ 56.27   │ 22.51    │"
      ]
     },
     "execution_count": 14,
     "metadata": {},
     "output_type": "execute_result"
    }
   ],
   "source": [
    "#Use this URL\n",
    "using HTTP, DataFrames, CSV\n",
    "df= CSV.read(HTTP.get(\"https://raw.githubusercontent.com/VinitaSilaparasetty/julia-beginners/master/data/s_p500companies/constituents-financials_csv.csv\").body)\n",
    "first(df,5)"
   ]
  },
  {
   "cell_type": "code",
   "execution_count": 24,
   "metadata": {},
   "outputs": [
    {
     "name": "stderr",
     "output_type": "stream",
     "text": [
      "┌ Warning: `CSV.read(input; kw...)` is deprecated in favor of `using DataFrames; CSV.read(input, DataFrame; kw...)\n",
      "│   caller = read(::Array{UInt8,1}) at CSV.jl:40\n",
      "└ @ CSV /home/rhyme/.julia/packages/CSV/MKemC/src/CSV.jl:40\n"
     ]
    },
    {
     "data": {
      "text/html": [
       "<table class=\"data-frame\"><thead><tr><th></th><th>Symbol</th><th>Name</th><th>Sector</th><th>Price</th><th>Earnings</th><th>Dividend Yield</th></tr><tr><th></th><th>String</th><th>String</th><th>String</th><th>Float64</th><th>Float64?</th><th>Float64</th></tr></thead><tbody><p>5 rows × 13 columns (omitted printing of 7 columns)</p><tr><th>1</th><td>MMM</td><td>3M Company</td><td>Industrials</td><td>222.89</td><td>24.31</td><td>2.33286</td></tr><tr><th>2</th><td>AOS</td><td>A.O. Smith Corp</td><td>Industrials</td><td>60.24</td><td>27.76</td><td>1.14796</td></tr><tr><th>3</th><td>ABT</td><td>Abbott Laboratories</td><td>Health Care</td><td>56.27</td><td>22.51</td><td>1.90898</td></tr><tr><th>4</th><td>ABBV</td><td>AbbVie Inc.</td><td>Health Care</td><td>108.48</td><td>19.41</td><td>2.49956</td></tr><tr><th>5</th><td>ACN</td><td>Accenture plc</td><td>Information Technology</td><td>150.51</td><td>25.47</td><td>1.71447</td></tr></tbody></table>"
      ],
      "text/latex": [
       "\\begin{tabular}{r|ccccccc}\n",
       "\t& Symbol & Name & Sector & Price & Earnings & Dividend Yield & \\\\\n",
       "\t\\hline\n",
       "\t& String & String & String & Float64 & Float64? & Float64 & \\\\\n",
       "\t\\hline\n",
       "\t1 & MMM & 3M Company & Industrials & 222.89 & 24.31 & 2.33286 & $\\dots$ \\\\\n",
       "\t2 & AOS & A.O. Smith Corp & Industrials & 60.24 & 27.76 & 1.14796 & $\\dots$ \\\\\n",
       "\t3 & ABT & Abbott Laboratories & Health Care & 56.27 & 22.51 & 1.90898 & $\\dots$ \\\\\n",
       "\t4 & ABBV & AbbVie Inc. & Health Care & 108.48 & 19.41 & 2.49956 & $\\dots$ \\\\\n",
       "\t5 & ACN & Accenture plc & Information Technology & 150.51 & 25.47 & 1.71447 & $\\dots$ \\\\\n",
       "\\end{tabular}\n"
      ],
      "text/plain": [
       "5×13 DataFrame. Omitted printing of 9 columns\n",
       "│ Row │ Symbol │ Name                │ Sector                 │ Price   │\n",
       "│     │ \u001b[90mString\u001b[39m │ \u001b[90mString\u001b[39m              │ \u001b[90mString\u001b[39m                 │ \u001b[90mFloat64\u001b[39m │\n",
       "├─────┼────────┼─────────────────────┼────────────────────────┼─────────┤\n",
       "│ 1   │ MMM    │ 3M Company          │ Industrials            │ 222.89  │\n",
       "│ 2   │ AOS    │ A.O. Smith Corp     │ Industrials            │ 60.24   │\n",
       "│ 3   │ ABT    │ Abbott Laboratories │ Health Care            │ 56.27   │\n",
       "│ 4   │ ABBV   │ AbbVie Inc.         │ Health Care            │ 108.48  │\n",
       "│ 5   │ ACN    │ Accenture plc       │ Information Technology │ 150.51  │"
      ]
     },
     "execution_count": 24,
     "metadata": {},
     "output_type": "execute_result"
    }
   ],
   "source": [
    "## <center>🏆 Challenge\n",
    "    \n",
    "#Create the dataframe df1 and load in data from this url: \n",
    "using HTTP, DataFrames, CSV\n",
    "df1=CSV.read(HTTP.get(\"https://raw.githubusercontent.com/VinitaSilaparasetty/julia-beginners/master/data/s_p500companies/constituents_csv.csv\").body)\n",
    "first(df,5)"
   ]
  },
  {
   "cell_type": "markdown",
   "metadata": {},
   "source": [
    "#### Export Data"
   ]
  },
  {
   "cell_type": "markdown",
   "metadata": {},
   "source": [
    "#### CSV"
   ]
  },
  {
   "cell_type": "code",
   "execution_count": 12,
   "metadata": {},
   "outputs": [
    {
     "ename": "ArgumentError",
     "evalue": "ArgumentError: no default `Tables.rows` implementation for type: XLSX.XLSXFile",
     "output_type": "error",
     "traceback": [
      "ArgumentError: no default `Tables.rows` implementation for type: XLSX.XLSXFile",
      "",
      "Stacktrace:",
      " [1] nodefault(::Type) at /home/rhyme/.julia/packages/Tables/AcRIE/src/fallbacks.jl:83",
      " [2] _rows at /home/rhyme/.julia/packages/Tables/AcRIE/src/fallbacks.jl:101 [inlined]",
      " [3] rows at /home/rhyme/.julia/packages/Tables/AcRIE/src/fallbacks.jl:85 [inlined]",
      " [4] #write#58(::Char, ::Char, ::Nothing, ::Nothing, ::Char, ::Char, ::Char, ::Nothing, ::Bool, ::String, ::getfield(CSV, Symbol(\"##59#61\")), ::Bool, ::Bool, ::Nothing, ::Base.Iterators.Pairs{Union{},Union{},Tuple{},NamedTuple{(),Tuple{}}}, ::typeof(CSV.write), ::String, ::XLSX.XLSXFile) at /home/rhyme/.julia/packages/CSV/MKemC/src/write.jl:160",
      " [5] write(::String, ::XLSX.XLSXFile) at /home/rhyme/.julia/packages/CSV/MKemC/src/write.jl:149",
      " [6] top-level scope at In[12]:3"
     ]
    }
   ],
   "source": [
    "#Use this file path:\n",
    "using CSV\n",
    "CSV.write(\"//home//rhyme//Desktop//Project//output.csv\",df)"
   ]
  },
  {
   "cell_type": "markdown",
   "metadata": {},
   "source": [
    "### Exploratory Data Analysis"
   ]
  },
  {
   "cell_type": "markdown",
   "metadata": {},
   "source": [
    "#### Summary Statistics"
   ]
  },
  {
   "cell_type": "code",
   "execution_count": 15,
   "metadata": {},
   "outputs": [
    {
     "name": "stdout",
     "output_type": "stream",
     "text": [
      "14×8 DataFrame\n",
      "│ Row │ variable       │ mean      │ min                    │ median     │\n",
      "│     │ \u001b[90mSymbol\u001b[39m         │ \u001b[90mUnion…\u001b[39m    │ \u001b[90mAny\u001b[39m                    │ \u001b[90mUnion…\u001b[39m     │\n",
      "├─────┼────────────────┼───────────┼────────────────────────┼────────────┤\n",
      "│ 1   │ Symbol         │           │ A                      │            │\n",
      "│ 2   │ Name           │           │ 3M Company             │            │\n",
      "│ 3   │ Sector         │           │ Consumer Discretionary │            │\n",
      "│ 4   │ Price          │ 103.886   │ 2.82                   │ 73.89      │\n",
      "│ 5   │ Earnings       │ 24.8087   │ -251.53                │ 19.555     │\n",
      "│ 6   │ Dividend Yield │ 1.89537   │ 0.0                    │ 1.77972    │\n",
      "│ 7   │ Share          │ 3.75102   │ -28.01                 │ 2.89       │\n",
      "│ 8   │ 52 Week Low    │ 122.673   │ 6.59                   │ 86.61      │\n",
      "│ 9   │ 52 Week High   │ 83.5683   │ 2.8                    │ 62.77      │\n",
      "│ 10  │ Market Cap     │ 4.9444e10 │ 2626102121             │ 2.14174e10 │\n",
      "│ 11  │ EBITDA         │ 3.59943e9 │ -5.067e9               │ 1.61942e9  │\n",
      "│ 12  │ Sales          │ 3.94147   │ 0.153186               │ 2.94327    │\n",
      "│ 13  │ Price_Book     │ 14.4082   │ 0.51                   │ 3.425      │\n",
      "│ 14  │ SEC Fillings   │           │                        │            │\n",
      "\n",
      "│ Row │ max          │ nunique │ nmissing │ eltype                  │\n",
      "│     │ \u001b[90mAny\u001b[39m          │ \u001b[90mUnion…\u001b[39m  │ \u001b[90mUnion…\u001b[39m   │ \u001b[90mType\u001b[39m                    │\n",
      "├─────┼──────────────┼─────────┼──────────┼─────────────────────────┤\n",
      "│ 1   │ ZTS          │ 505     │          │ String                  │\n",
      "│ 2   │ eBay Inc.    │ 505     │          │ String                  │\n",
      "│ 3   │ Utilities    │ 11      │          │ String                  │\n",
      "│ 4   │ 1806.06      │         │          │ Float64                 │\n",
      "│ 5   │ 520.15       │         │ 2        │ Union{Missing, Float64} │\n",
      "│ 6   │ 12.6612      │         │          │ Float64                 │\n",
      "│ 7   │ 44.09        │         │          │ Float64                 │\n",
      "│ 8   │ 2067.99      │         │          │ Float64                 │\n",
      "│ 9   │ 1589.0       │         │          │ Float64                 │\n",
      "│ 10  │ 809508034020 │         │          │ Int64                   │\n",
      "│ 11  │ 7.9386e10    │         │          │ Float64                 │\n",
      "│ 12  │ 20.0943      │         │          │ Float64                 │\n",
      "│ 13  │ 1403.38      │         │ 8        │ Union{Missing, Float64} │\n",
      "│ 14  │              │         │ 508      │ Missing                 │"
     ]
    }
   ],
   "source": [
    "show(describe(df),allrows=true,allcols=true)"
   ]
  },
  {
   "cell_type": "markdown",
   "metadata": {},
   "source": [
    "### Feature Selection"
   ]
  },
  {
   "cell_type": "code",
   "execution_count": 16,
   "metadata": {},
   "outputs": [
    {
     "data": {
      "text/plain": [
       "14-element Array{String,1}:\n",
       " \"Symbol\"        \n",
       " \"Name\"          \n",
       " \"Sector\"        \n",
       " \"Price\"         \n",
       " \"Earnings\"      \n",
       " \"Dividend Yield\"\n",
       " \"Share\"         \n",
       " \"52 Week Low\"   \n",
       " \"52 Week High\"  \n",
       " \"Market Cap\"    \n",
       " \"EBITDA\"        \n",
       " \"Sales\"         \n",
       " \"Price_Book\"    \n",
       " \"SEC Fillings\"  "
      ]
     },
     "execution_count": 16,
     "metadata": {},
     "output_type": "execute_result"
    }
   ],
   "source": [
    "names(df)"
   ]
  },
  {
   "cell_type": "markdown",
   "metadata": {},
   "source": [
    "#### View Total Number of Rows and Columns"
   ]
  },
  {
   "cell_type": "code",
   "execution_count": 17,
   "metadata": {},
   "outputs": [
    {
     "data": {
      "text/plain": [
       "(508, 14)"
      ]
     },
     "execution_count": 17,
     "metadata": {},
     "output_type": "execute_result"
    }
   ],
   "source": [
    "size(df)"
   ]
  },
  {
   "cell_type": "markdown",
   "metadata": {},
   "source": [
    "### Visualizations"
   ]
  },
  {
   "cell_type": "markdown",
   "metadata": {},
   "source": [
    "Line Graph"
   ]
  },
  {
   "cell_type": "code",
   "execution_count": 18,
   "metadata": {},
   "outputs": [
    {
     "name": "stderr",
     "output_type": "stream",
     "text": [
      "┌ Info: Recompiling stale cache file /home/rhyme/.julia/compiled/v1.0/Plots/ld3vC.ji for Plots [91a5bcdd-55d7-5caf-9e0b-520d859cae80]\n",
      "└ @ Base loading.jl:1190\n"
     ]
    },
    {
     "data": {
      "image/svg+xml": [
       "<?xml version=\"1.0\" encoding=\"utf-8\"?>\n",
       "<svg xmlns=\"http://www.w3.org/2000/svg\" xmlns:xlink=\"http://www.w3.org/1999/xlink\" width=\"600\" height=\"400\" viewBox=\"0 0 2400 1600\">\n",
       "<defs>\n",
       "  <clipPath id=\"clip590\">\n",
       "    <rect x=\"0\" y=\"0\" width=\"2400\" height=\"1600\"/>\n",
       "  </clipPath>\n",
       "</defs>\n",
       "<path clip-path=\"url(#clip590)\" d=\"\n",
       "M0 1600 L2400 1600 L2400 8.88178e-14 L0 8.88178e-14  Z\n",
       "  \" fill=\"#ffffff\" fill-rule=\"evenodd\" fill-opacity=\"1\"/>\n",
       "<defs>\n",
       "  <clipPath id=\"clip591\">\n",
       "    <rect x=\"480\" y=\"0\" width=\"1681\" height=\"1600\"/>\n",
       "  </clipPath>\n",
       "</defs>\n",
       "<path clip-path=\"url(#clip590)\" d=\"\n",
       "M188.612 1486.45 L2352.76 1486.45 L2352.76 123.472 L188.612 123.472  Z\n",
       "  \" fill=\"#ffffff\" fill-rule=\"evenodd\" fill-opacity=\"1\"/>\n",
       "<defs>\n",
       "  <clipPath id=\"clip592\">\n",
       "    <rect x=\"188\" y=\"123\" width=\"2165\" height=\"1364\"/>\n",
       "  </clipPath>\n",
       "</defs>\n",
       "<polyline clip-path=\"url(#clip592)\" style=\"stroke:#000000; stroke-width:2; stroke-opacity:0.1; fill:none\" points=\"\n",
       "  245.834,1486.45 245.834,123.472 \n",
       "  \"/>\n",
       "<polyline clip-path=\"url(#clip592)\" style=\"stroke:#000000; stroke-width:2; stroke-opacity:0.1; fill:none\" points=\"\n",
       "  648.526,1486.45 648.526,123.472 \n",
       "  \"/>\n",
       "<polyline clip-path=\"url(#clip592)\" style=\"stroke:#000000; stroke-width:2; stroke-opacity:0.1; fill:none\" points=\"\n",
       "  1051.22,1486.45 1051.22,123.472 \n",
       "  \"/>\n",
       "<polyline clip-path=\"url(#clip592)\" style=\"stroke:#000000; stroke-width:2; stroke-opacity:0.1; fill:none\" points=\"\n",
       "  1453.91,1486.45 1453.91,123.472 \n",
       "  \"/>\n",
       "<polyline clip-path=\"url(#clip592)\" style=\"stroke:#000000; stroke-width:2; stroke-opacity:0.1; fill:none\" points=\"\n",
       "  1856.6,1486.45 1856.6,123.472 \n",
       "  \"/>\n",
       "<polyline clip-path=\"url(#clip592)\" style=\"stroke:#000000; stroke-width:2; stroke-opacity:0.1; fill:none\" points=\"\n",
       "  2259.29,1486.45 2259.29,123.472 \n",
       "  \"/>\n",
       "<polyline clip-path=\"url(#clip592)\" style=\"stroke:#000000; stroke-width:2; stroke-opacity:0.1; fill:none\" points=\"\n",
       "  188.612,1449.88 2352.76,1449.88 \n",
       "  \"/>\n",
       "<polyline clip-path=\"url(#clip592)\" style=\"stroke:#000000; stroke-width:2; stroke-opacity:0.1; fill:none\" points=\"\n",
       "  188.612,1093.35 2352.76,1093.35 \n",
       "  \"/>\n",
       "<polyline clip-path=\"url(#clip592)\" style=\"stroke:#000000; stroke-width:2; stroke-opacity:0.1; fill:none\" points=\"\n",
       "  188.612,736.82 2352.76,736.82 \n",
       "  \"/>\n",
       "<polyline clip-path=\"url(#clip592)\" style=\"stroke:#000000; stroke-width:2; stroke-opacity:0.1; fill:none\" points=\"\n",
       "  188.612,380.287 2352.76,380.287 \n",
       "  \"/>\n",
       "<polyline clip-path=\"url(#clip590)\" style=\"stroke:#000000; stroke-width:4; stroke-opacity:1; fill:none\" points=\"\n",
       "  188.612,1486.45 2352.76,1486.45 \n",
       "  \"/>\n",
       "<polyline clip-path=\"url(#clip590)\" style=\"stroke:#000000; stroke-width:4; stroke-opacity:1; fill:none\" points=\"\n",
       "  188.612,1486.45 188.612,123.472 \n",
       "  \"/>\n",
       "<polyline clip-path=\"url(#clip590)\" style=\"stroke:#000000; stroke-width:4; stroke-opacity:1; fill:none\" points=\"\n",
       "  245.834,1486.45 245.834,1470.09 \n",
       "  \"/>\n",
       "<polyline clip-path=\"url(#clip590)\" style=\"stroke:#000000; stroke-width:4; stroke-opacity:1; fill:none\" points=\"\n",
       "  648.526,1486.45 648.526,1470.09 \n",
       "  \"/>\n",
       "<polyline clip-path=\"url(#clip590)\" style=\"stroke:#000000; stroke-width:4; stroke-opacity:1; fill:none\" points=\"\n",
       "  1051.22,1486.45 1051.22,1470.09 \n",
       "  \"/>\n",
       "<polyline clip-path=\"url(#clip590)\" style=\"stroke:#000000; stroke-width:4; stroke-opacity:1; fill:none\" points=\"\n",
       "  1453.91,1486.45 1453.91,1470.09 \n",
       "  \"/>\n",
       "<polyline clip-path=\"url(#clip590)\" style=\"stroke:#000000; stroke-width:4; stroke-opacity:1; fill:none\" points=\"\n",
       "  1856.6,1486.45 1856.6,1470.09 \n",
       "  \"/>\n",
       "<polyline clip-path=\"url(#clip590)\" style=\"stroke:#000000; stroke-width:4; stroke-opacity:1; fill:none\" points=\"\n",
       "  2259.29,1486.45 2259.29,1470.09 \n",
       "  \"/>\n",
       "<polyline clip-path=\"url(#clip590)\" style=\"stroke:#000000; stroke-width:4; stroke-opacity:1; fill:none\" points=\"\n",
       "  188.612,1449.88 214.582,1449.88 \n",
       "  \"/>\n",
       "<polyline clip-path=\"url(#clip590)\" style=\"stroke:#000000; stroke-width:4; stroke-opacity:1; fill:none\" points=\"\n",
       "  188.612,1093.35 214.582,1093.35 \n",
       "  \"/>\n",
       "<polyline clip-path=\"url(#clip590)\" style=\"stroke:#000000; stroke-width:4; stroke-opacity:1; fill:none\" points=\"\n",
       "  188.612,736.82 214.582,736.82 \n",
       "  \"/>\n",
       "<polyline clip-path=\"url(#clip590)\" style=\"stroke:#000000; stroke-width:4; stroke-opacity:1; fill:none\" points=\"\n",
       "  188.612,380.287 214.582,380.287 \n",
       "  \"/>\n",
       "<path clip-path=\"url(#clip590)\" d=\"M 0 0 M245.834 1508.44 Q242.223 1508.44 240.395 1512 Q238.589 1515.55 238.589 1522.67 Q238.589 1529.78 240.395 1533.35 Q242.223 1536.89 245.834 1536.89 Q249.469 1536.89 251.274 1533.35 Q253.103 1529.78 253.103 1522.67 Q253.103 1515.55 251.274 1512 Q249.469 1508.44 245.834 1508.44 M245.834 1504.73 Q251.645 1504.73 254.7 1509.34 Q257.779 1513.92 257.779 1522.67 Q257.779 1531.4 254.7 1536.01 Q251.645 1540.59 245.834 1540.59 Q240.024 1540.59 236.946 1536.01 Q233.89 1531.4 233.89 1522.67 Q233.89 1513.92 236.946 1509.34 Q240.024 1504.73 245.834 1504.73 Z\" fill=\"#000000\" fill-rule=\"evenodd\" fill-opacity=\"1\" /><path clip-path=\"url(#clip590)\" d=\"M 0 0 M611.894 1535.98 L619.533 1535.98 L619.533 1509.62 L611.223 1511.29 L611.223 1507.03 L619.487 1505.36 L624.162 1505.36 L624.162 1535.98 L631.801 1535.98 L631.801 1539.92 L611.894 1539.92 L611.894 1535.98 Z\" fill=\"#000000\" fill-rule=\"evenodd\" fill-opacity=\"1\" /><path clip-path=\"url(#clip590)\" d=\"M 0 0 M646.871 1508.44 Q643.26 1508.44 641.431 1512 Q639.625 1515.55 639.625 1522.67 Q639.625 1529.78 641.431 1533.35 Q643.26 1536.89 646.871 1536.89 Q650.505 1536.89 652.31 1533.35 Q654.139 1529.78 654.139 1522.67 Q654.139 1515.55 652.31 1512 Q650.505 1508.44 646.871 1508.44 M646.871 1504.73 Q652.681 1504.73 655.736 1509.34 Q658.815 1513.92 658.815 1522.67 Q658.815 1531.4 655.736 1536.01 Q652.681 1540.59 646.871 1540.59 Q641.061 1540.59 637.982 1536.01 Q634.926 1531.4 634.926 1522.67 Q634.926 1513.92 637.982 1509.34 Q641.061 1504.73 646.871 1504.73 Z\" fill=\"#000000\" fill-rule=\"evenodd\" fill-opacity=\"1\" /><path clip-path=\"url(#clip590)\" d=\"M 0 0 M673.884 1508.44 Q670.273 1508.44 668.445 1512 Q666.639 1515.55 666.639 1522.67 Q666.639 1529.78 668.445 1533.35 Q670.273 1536.89 673.884 1536.89 Q677.519 1536.89 679.324 1533.35 Q681.153 1529.78 681.153 1522.67 Q681.153 1515.55 679.324 1512 Q677.519 1508.44 673.884 1508.44 M673.884 1504.73 Q679.695 1504.73 682.75 1509.34 Q685.829 1513.92 685.829 1522.67 Q685.829 1531.4 682.75 1536.01 Q679.695 1540.59 673.884 1540.59 Q668.074 1540.59 664.996 1536.01 Q661.94 1531.4 661.94 1522.67 Q661.94 1513.92 664.996 1509.34 Q668.074 1504.73 673.884 1504.73 Z\" fill=\"#000000\" fill-rule=\"evenodd\" fill-opacity=\"1\" /><path clip-path=\"url(#clip590)\" d=\"M 0 0 M1018.86 1535.98 L1035.18 1535.98 L1035.18 1539.92 L1013.23 1539.92 L1013.23 1535.98 Q1015.89 1533.23 1020.48 1528.6 Q1025.08 1523.95 1026.26 1522.61 Q1028.51 1520.08 1029.39 1518.35 Q1030.29 1516.59 1030.29 1514.9 Q1030.29 1512.14 1028.35 1510.41 Q1026.43 1508.67 1023.32 1508.67 Q1021.12 1508.67 1018.67 1509.43 Q1016.24 1510.2 1013.46 1511.75 L1013.46 1507.03 Q1016.29 1505.89 1018.74 1505.31 Q1021.19 1504.73 1023.23 1504.73 Q1028.6 1504.73 1031.8 1507.42 Q1034.99 1510.11 1034.99 1514.6 Q1034.99 1516.73 1034.18 1518.65 Q1033.39 1520.54 1031.29 1523.14 Q1030.71 1523.81 1027.61 1527.03 Q1024.5 1530.22 1018.86 1535.98 Z\" fill=\"#000000\" fill-rule=\"evenodd\" fill-opacity=\"1\" /><path clip-path=\"url(#clip590)\" d=\"M 0 0 M1050.24 1508.44 Q1046.63 1508.44 1044.81 1512 Q1043 1515.55 1043 1522.67 Q1043 1529.78 1044.81 1533.35 Q1046.63 1536.89 1050.24 1536.89 Q1053.88 1536.89 1055.68 1533.35 Q1057.51 1529.78 1057.51 1522.67 Q1057.51 1515.55 1055.68 1512 Q1053.88 1508.44 1050.24 1508.44 M1050.24 1504.73 Q1056.06 1504.73 1059.11 1509.34 Q1062.19 1513.92 1062.19 1522.67 Q1062.19 1531.4 1059.11 1536.01 Q1056.06 1540.59 1050.24 1540.59 Q1044.43 1540.59 1041.36 1536.01 Q1038.3 1531.4 1038.3 1522.67 Q1038.3 1513.92 1041.36 1509.34 Q1044.43 1504.73 1050.24 1504.73 Z\" fill=\"#000000\" fill-rule=\"evenodd\" fill-opacity=\"1\" /><path clip-path=\"url(#clip590)\" d=\"M 0 0 M1077.26 1508.44 Q1073.65 1508.44 1071.82 1512 Q1070.01 1515.55 1070.01 1522.67 Q1070.01 1529.78 1071.82 1533.35 Q1073.65 1536.89 1077.26 1536.89 Q1080.89 1536.89 1082.7 1533.35 Q1084.53 1529.78 1084.53 1522.67 Q1084.53 1515.55 1082.7 1512 Q1080.89 1508.44 1077.26 1508.44 M1077.26 1504.73 Q1083.07 1504.73 1086.12 1509.34 Q1089.2 1513.92 1089.2 1522.67 Q1089.2 1531.4 1086.12 1536.01 Q1083.07 1540.59 1077.26 1540.59 Q1071.45 1540.59 1068.37 1536.01 Q1065.31 1531.4 1065.31 1522.67 Q1065.31 1513.92 1068.37 1509.34 Q1071.45 1504.73 1077.26 1504.73 Z\" fill=\"#000000\" fill-rule=\"evenodd\" fill-opacity=\"1\" /><path clip-path=\"url(#clip590)\" d=\"M 0 0 M1431.14 1521.29 Q1434.5 1522 1436.37 1524.27 Q1438.27 1526.54 1438.27 1529.87 Q1438.27 1534.99 1434.75 1537.79 Q1431.24 1540.59 1424.75 1540.59 Q1422.58 1540.59 1420.26 1540.15 Q1417.97 1539.73 1415.52 1538.88 L1415.52 1534.36 Q1417.46 1535.5 1419.78 1536.08 Q1422.09 1536.66 1424.61 1536.66 Q1429.01 1536.66 1431.3 1534.92 Q1433.62 1533.18 1433.62 1529.87 Q1433.62 1526.82 1431.47 1525.11 Q1429.34 1523.37 1425.52 1523.37 L1421.49 1523.37 L1421.49 1519.53 L1425.7 1519.53 Q1429.15 1519.53 1430.98 1518.16 Q1432.81 1516.77 1432.81 1514.18 Q1432.81 1511.52 1430.91 1510.11 Q1429.04 1508.67 1425.52 1508.67 Q1423.6 1508.67 1421.4 1509.09 Q1419.2 1509.5 1416.56 1510.38 L1416.56 1506.22 Q1419.22 1505.48 1421.54 1505.11 Q1423.87 1504.73 1425.93 1504.73 Q1431.26 1504.73 1434.36 1507.17 Q1437.46 1509.57 1437.46 1513.69 Q1437.46 1516.56 1435.82 1518.55 Q1434.17 1520.52 1431.14 1521.29 Z\" fill=\"#000000\" fill-rule=\"evenodd\" fill-opacity=\"1\" /><path clip-path=\"url(#clip590)\" d=\"M 0 0 M1453.34 1508.44 Q1449.73 1508.44 1447.9 1512 Q1446.1 1515.55 1446.1 1522.67 Q1446.1 1529.78 1447.9 1533.35 Q1449.73 1536.89 1453.34 1536.89 Q1456.98 1536.89 1458.78 1533.35 Q1460.61 1529.78 1460.61 1522.67 Q1460.61 1515.55 1458.78 1512 Q1456.98 1508.44 1453.34 1508.44 M1453.34 1504.73 Q1459.15 1504.73 1462.21 1509.34 Q1465.29 1513.92 1465.29 1522.67 Q1465.29 1531.4 1462.21 1536.01 Q1459.15 1540.59 1453.34 1540.59 Q1447.53 1540.59 1444.45 1536.01 Q1441.4 1531.4 1441.4 1522.67 Q1441.4 1513.92 1444.45 1509.34 Q1447.53 1504.73 1453.34 1504.73 Z\" fill=\"#000000\" fill-rule=\"evenodd\" fill-opacity=\"1\" /><path clip-path=\"url(#clip590)\" d=\"M 0 0 M1480.36 1508.44 Q1476.74 1508.44 1474.92 1512 Q1473.11 1515.55 1473.11 1522.67 Q1473.11 1529.78 1474.92 1533.35 Q1476.74 1536.89 1480.36 1536.89 Q1483.99 1536.89 1485.79 1533.35 Q1487.62 1529.78 1487.62 1522.67 Q1487.62 1515.55 1485.79 1512 Q1483.99 1508.44 1480.36 1508.44 M1480.36 1504.73 Q1486.17 1504.73 1489.22 1509.34 Q1492.3 1513.92 1492.3 1522.67 Q1492.3 1531.4 1489.22 1536.01 Q1486.17 1540.59 1480.36 1540.59 Q1474.54 1540.59 1471.47 1536.01 Q1468.41 1531.4 1468.41 1522.67 Q1468.41 1513.92 1471.47 1509.34 Q1474.54 1504.73 1480.36 1504.73 Z\" fill=\"#000000\" fill-rule=\"evenodd\" fill-opacity=\"1\" /><path clip-path=\"url(#clip590)\" d=\"M 0 0 M1832.6 1509.43 L1820.79 1527.88 L1832.6 1527.88 L1832.6 1509.43 M1831.37 1505.36 L1837.25 1505.36 L1837.25 1527.88 L1842.18 1527.88 L1842.18 1531.77 L1837.25 1531.77 L1837.25 1539.92 L1832.6 1539.92 L1832.6 1531.77 L1816.99 1531.77 L1816.99 1527.26 L1831.37 1505.36 Z\" fill=\"#000000\" fill-rule=\"evenodd\" fill-opacity=\"1\" /><path clip-path=\"url(#clip590)\" d=\"M 0 0 M1857.25 1508.44 Q1853.64 1508.44 1851.81 1512 Q1850 1515.55 1850 1522.67 Q1850 1529.78 1851.81 1533.35 Q1853.64 1536.89 1857.25 1536.89 Q1860.88 1536.89 1862.69 1533.35 Q1864.52 1529.78 1864.52 1522.67 Q1864.52 1515.55 1862.69 1512 Q1860.88 1508.44 1857.25 1508.44 M1857.25 1504.73 Q1863.06 1504.73 1866.11 1509.34 Q1869.19 1513.92 1869.19 1522.67 Q1869.19 1531.4 1866.11 1536.01 Q1863.06 1540.59 1857.25 1540.59 Q1851.44 1540.59 1848.36 1536.01 Q1845.3 1531.4 1845.3 1522.67 Q1845.3 1513.92 1848.36 1509.34 Q1851.44 1504.73 1857.25 1504.73 Z\" fill=\"#000000\" fill-rule=\"evenodd\" fill-opacity=\"1\" /><path clip-path=\"url(#clip590)\" d=\"M 0 0 M1884.26 1508.44 Q1880.65 1508.44 1878.82 1512 Q1877.02 1515.55 1877.02 1522.67 Q1877.02 1529.78 1878.82 1533.35 Q1880.65 1536.89 1884.26 1536.89 Q1887.9 1536.89 1889.7 1533.35 Q1891.53 1529.78 1891.53 1522.67 Q1891.53 1515.55 1889.7 1512 Q1887.9 1508.44 1884.26 1508.44 M1884.26 1504.73 Q1890.07 1504.73 1893.13 1509.34 Q1896.21 1513.92 1896.21 1522.67 Q1896.21 1531.4 1893.13 1536.01 Q1890.07 1540.59 1884.26 1540.59 Q1878.45 1540.59 1875.37 1536.01 Q1872.32 1531.4 1872.32 1522.67 Q1872.32 1513.92 1875.37 1509.34 Q1878.45 1504.73 1884.26 1504.73 Z\" fill=\"#000000\" fill-rule=\"evenodd\" fill-opacity=\"1\" /><path clip-path=\"url(#clip590)\" d=\"M 0 0 M2222.56 1505.36 L2240.91 1505.36 L2240.91 1509.3 L2226.84 1509.3 L2226.84 1517.77 Q2227.86 1517.42 2228.87 1517.26 Q2229.89 1517.07 2230.91 1517.07 Q2236.7 1517.07 2240.08 1520.24 Q2243.46 1523.42 2243.46 1528.83 Q2243.46 1534.41 2239.99 1537.51 Q2236.51 1540.59 2230.19 1540.59 Q2228.02 1540.59 2225.75 1540.22 Q2223.5 1539.85 2221.1 1539.11 L2221.1 1534.41 Q2223.18 1535.54 2225.4 1536.1 Q2227.62 1536.66 2230.1 1536.66 Q2234.11 1536.66 2236.44 1534.55 Q2238.78 1532.44 2238.78 1528.83 Q2238.78 1525.22 2236.44 1523.11 Q2234.11 1521.01 2230.1 1521.01 Q2228.23 1521.01 2226.35 1521.42 Q2224.5 1521.84 2222.56 1522.72 L2222.56 1505.36 Z\" fill=\"#000000\" fill-rule=\"evenodd\" fill-opacity=\"1\" /><path clip-path=\"url(#clip590)\" d=\"M 0 0 M2258.53 1508.44 Q2254.92 1508.44 2253.09 1512 Q2251.28 1515.55 2251.28 1522.67 Q2251.28 1529.78 2253.09 1533.35 Q2254.92 1536.89 2258.53 1536.89 Q2262.16 1536.89 2263.97 1533.35 Q2265.8 1529.78 2265.8 1522.67 Q2265.8 1515.55 2263.97 1512 Q2262.16 1508.44 2258.53 1508.44 M2258.53 1504.73 Q2264.34 1504.73 2267.39 1509.34 Q2270.47 1513.92 2270.47 1522.67 Q2270.47 1531.4 2267.39 1536.01 Q2264.34 1540.59 2258.53 1540.59 Q2252.72 1540.59 2249.64 1536.01 Q2246.58 1531.4 2246.58 1522.67 Q2246.58 1513.92 2249.64 1509.34 Q2252.72 1504.73 2258.53 1504.73 Z\" fill=\"#000000\" fill-rule=\"evenodd\" fill-opacity=\"1\" /><path clip-path=\"url(#clip590)\" d=\"M 0 0 M2285.54 1508.44 Q2281.93 1508.44 2280.1 1512 Q2278.3 1515.55 2278.3 1522.67 Q2278.3 1529.78 2280.1 1533.35 Q2281.93 1536.89 2285.54 1536.89 Q2289.18 1536.89 2290.98 1533.35 Q2292.81 1529.78 2292.81 1522.67 Q2292.81 1515.55 2290.98 1512 Q2289.18 1508.44 2285.54 1508.44 M2285.54 1504.73 Q2291.35 1504.73 2294.41 1509.34 Q2297.49 1513.92 2297.49 1522.67 Q2297.49 1531.4 2294.41 1536.01 Q2291.35 1540.59 2285.54 1540.59 Q2279.73 1540.59 2276.65 1536.01 Q2273.6 1531.4 2273.6 1522.67 Q2273.6 1513.92 2276.65 1509.34 Q2279.73 1504.73 2285.54 1504.73 Z\" fill=\"#000000\" fill-rule=\"evenodd\" fill-opacity=\"1\" /><path clip-path=\"url(#clip590)\" d=\"M 0 0 M152.668 1435.68 Q149.056 1435.68 147.228 1439.25 Q145.422 1442.79 145.422 1449.92 Q145.422 1457.03 147.228 1460.59 Q149.056 1464.13 152.668 1464.13 Q156.302 1464.13 158.107 1460.59 Q159.936 1457.03 159.936 1449.92 Q159.936 1442.79 158.107 1439.25 Q156.302 1435.68 152.668 1435.68 M152.668 1431.98 Q158.478 1431.98 161.533 1436.59 Q164.612 1441.17 164.612 1449.92 Q164.612 1458.65 161.533 1463.25 Q158.478 1467.84 152.668 1467.84 Q146.857 1467.84 143.779 1463.25 Q140.723 1458.65 140.723 1449.92 Q140.723 1441.17 143.779 1436.59 Q146.857 1431.98 152.668 1431.98 Z\" fill=\"#000000\" fill-rule=\"evenodd\" fill-opacity=\"1\" /><path clip-path=\"url(#clip590)\" d=\"M 0 0 M89.6818 1076.07 L108.038 1076.07 L108.038 1080.01 L93.9642 1080.01 L93.9642 1088.48 Q94.9827 1088.13 96.0012 1087.97 Q97.0197 1087.78 98.0382 1087.78 Q103.825 1087.78 107.205 1090.96 Q110.584 1094.13 110.584 1099.54 Q110.584 1105.12 107.112 1108.22 Q103.64 1111.3 97.3206 1111.3 Q95.1447 1111.3 92.8762 1110.93 Q90.6309 1110.56 88.2235 1109.82 L88.2235 1105.12 Q90.3068 1106.26 92.529 1106.81 Q94.7512 1107.37 97.2281 1107.37 Q101.233 1107.37 103.571 1105.26 Q105.909 1103.15 105.909 1099.54 Q105.909 1095.93 103.571 1093.83 Q101.233 1091.72 97.2281 1091.72 Q95.3531 1091.72 93.4781 1092.14 Q91.6262 1092.55 89.6818 1093.43 L89.6818 1076.07 Z\" fill=\"#000000\" fill-rule=\"evenodd\" fill-opacity=\"1\" /><path clip-path=\"url(#clip590)\" d=\"M 0 0 M125.654 1079.15 Q122.043 1079.15 120.214 1082.72 Q118.408 1086.26 118.408 1093.39 Q118.408 1100.49 120.214 1104.06 Q122.043 1107.6 125.654 1107.6 Q129.288 1107.6 131.094 1104.06 Q132.922 1100.49 132.922 1093.39 Q132.922 1086.26 131.094 1082.72 Q129.288 1079.15 125.654 1079.15 M125.654 1075.45 Q131.464 1075.45 134.52 1080.05 Q137.598 1084.64 137.598 1093.39 Q137.598 1102.11 134.52 1106.72 Q131.464 1111.3 125.654 1111.3 Q119.844 1111.3 116.765 1106.72 Q113.709 1102.11 113.709 1093.39 Q113.709 1084.64 116.765 1080.05 Q119.844 1075.45 125.654 1075.45 Z\" fill=\"#000000\" fill-rule=\"evenodd\" fill-opacity=\"1\" /><path clip-path=\"url(#clip590)\" d=\"M 0 0 M152.668 1079.15 Q149.056 1079.15 147.228 1082.72 Q145.422 1086.26 145.422 1093.39 Q145.422 1100.49 147.228 1104.06 Q149.056 1107.6 152.668 1107.6 Q156.302 1107.6 158.107 1104.06 Q159.936 1100.49 159.936 1093.39 Q159.936 1086.26 158.107 1082.72 Q156.302 1079.15 152.668 1079.15 M152.668 1075.45 Q158.478 1075.45 161.533 1080.05 Q164.612 1084.64 164.612 1093.39 Q164.612 1102.11 161.533 1106.72 Q158.478 1111.3 152.668 1111.3 Q146.857 1111.3 143.779 1106.72 Q140.723 1102.11 140.723 1093.39 Q140.723 1084.64 143.779 1080.05 Q146.857 1075.45 152.668 1075.45 Z\" fill=\"#000000\" fill-rule=\"evenodd\" fill-opacity=\"1\" /><path clip-path=\"url(#clip590)\" d=\"M 0 0 M63.6634 750.164 L71.3023 750.164 L71.3023 723.799 L62.9921 725.465 L62.9921 721.206 L71.256 719.54 L75.9319 719.54 L75.9319 750.164 L83.5707 750.164 L83.5707 754.1 L63.6634 754.1 L63.6634 750.164 Z\" fill=\"#000000\" fill-rule=\"evenodd\" fill-opacity=\"1\" /><path clip-path=\"url(#clip590)\" d=\"M 0 0 M98.6401 722.618 Q95.029 722.618 93.2003 726.183 Q91.3948 729.725 91.3948 736.854 Q91.3948 743.961 93.2003 747.526 Q95.029 751.067 98.6401 751.067 Q102.274 751.067 104.08 747.526 Q105.909 743.961 105.909 736.854 Q105.909 729.725 104.08 726.183 Q102.274 722.618 98.6401 722.618 M98.6401 718.915 Q104.45 718.915 107.506 723.521 Q110.584 728.104 110.584 736.854 Q110.584 745.581 107.506 750.188 Q104.45 754.771 98.6401 754.771 Q92.8299 754.771 89.7512 750.188 Q86.6957 745.581 86.6957 736.854 Q86.6957 728.104 89.7512 723.521 Q92.8299 718.915 98.6401 718.915 Z\" fill=\"#000000\" fill-rule=\"evenodd\" fill-opacity=\"1\" /><path clip-path=\"url(#clip590)\" d=\"M 0 0 M125.654 722.618 Q122.043 722.618 120.214 726.183 Q118.408 729.725 118.408 736.854 Q118.408 743.961 120.214 747.526 Q122.043 751.067 125.654 751.067 Q129.288 751.067 131.094 747.526 Q132.922 743.961 132.922 736.854 Q132.922 729.725 131.094 726.183 Q129.288 722.618 125.654 722.618 M125.654 718.915 Q131.464 718.915 134.52 723.521 Q137.598 728.104 137.598 736.854 Q137.598 745.581 134.52 750.188 Q131.464 754.771 125.654 754.771 Q119.844 754.771 116.765 750.188 Q113.709 745.581 113.709 736.854 Q113.709 728.104 116.765 723.521 Q119.844 718.915 125.654 718.915 Z\" fill=\"#000000\" fill-rule=\"evenodd\" fill-opacity=\"1\" /><path clip-path=\"url(#clip590)\" d=\"M 0 0 M152.668 722.618 Q149.056 722.618 147.228 726.183 Q145.422 729.725 145.422 736.854 Q145.422 743.961 147.228 747.526 Q149.056 751.067 152.668 751.067 Q156.302 751.067 158.107 747.526 Q159.936 743.961 159.936 736.854 Q159.936 729.725 158.107 726.183 Q156.302 722.618 152.668 722.618 M152.668 718.915 Q158.478 718.915 161.533 723.521 Q164.612 728.104 164.612 736.854 Q164.612 745.581 161.533 750.188 Q158.478 754.771 152.668 754.771 Q146.857 754.771 143.779 750.188 Q140.723 745.581 140.723 736.854 Q140.723 728.104 143.779 723.521 Q146.857 718.915 152.668 718.915 Z\" fill=\"#000000\" fill-rule=\"evenodd\" fill-opacity=\"1\" /><path clip-path=\"url(#clip590)\" d=\"M 0 0 M64.6588 393.632 L72.2976 393.632 L72.2976 367.267 L63.9875 368.933 L63.9875 364.674 L72.2513 363.007 L76.9272 363.007 L76.9272 393.632 L84.5661 393.632 L84.5661 397.567 L64.6588 397.567 L64.6588 393.632 Z\" fill=\"#000000\" fill-rule=\"evenodd\" fill-opacity=\"1\" /><path clip-path=\"url(#clip590)\" d=\"M 0 0 M89.6818 363.007 L108.038 363.007 L108.038 366.943 L93.9642 366.943 L93.9642 375.415 Q94.9827 375.068 96.0012 374.905 Q97.0197 374.72 98.0382 374.72 Q103.825 374.72 107.205 377.892 Q110.584 381.063 110.584 386.479 Q110.584 392.058 107.112 395.16 Q103.64 398.239 97.3206 398.239 Q95.1447 398.239 92.8762 397.868 Q90.6309 397.498 88.2235 396.757 L88.2235 392.058 Q90.3068 393.192 92.529 393.748 Q94.7512 394.304 97.2281 394.304 Q101.233 394.304 103.571 392.197 Q105.909 390.091 105.909 386.479 Q105.909 382.868 103.571 380.762 Q101.233 378.655 97.2281 378.655 Q95.3531 378.655 93.4781 379.072 Q91.6262 379.489 89.6818 380.368 L89.6818 363.007 Z\" fill=\"#000000\" fill-rule=\"evenodd\" fill-opacity=\"1\" /><path clip-path=\"url(#clip590)\" d=\"M 0 0 M125.654 366.086 Q122.043 366.086 120.214 369.651 Q118.408 373.193 118.408 380.322 Q118.408 387.429 120.214 390.993 Q122.043 394.535 125.654 394.535 Q129.288 394.535 131.094 390.993 Q132.922 387.429 132.922 380.322 Q132.922 373.193 131.094 369.651 Q129.288 366.086 125.654 366.086 M125.654 362.382 Q131.464 362.382 134.52 366.989 Q137.598 371.572 137.598 380.322 Q137.598 389.049 134.52 393.655 Q131.464 398.239 125.654 398.239 Q119.844 398.239 116.765 393.655 Q113.709 389.049 113.709 380.322 Q113.709 371.572 116.765 366.989 Q119.844 362.382 125.654 362.382 Z\" fill=\"#000000\" fill-rule=\"evenodd\" fill-opacity=\"1\" /><path clip-path=\"url(#clip590)\" d=\"M 0 0 M152.668 366.086 Q149.056 366.086 147.228 369.651 Q145.422 373.193 145.422 380.322 Q145.422 387.429 147.228 390.993 Q149.056 394.535 152.668 394.535 Q156.302 394.535 158.107 390.993 Q159.936 387.429 159.936 380.322 Q159.936 373.193 158.107 369.651 Q156.302 366.086 152.668 366.086 M152.668 362.382 Q158.478 362.382 161.533 366.989 Q164.612 371.572 164.612 380.322 Q164.612 389.049 161.533 393.655 Q158.478 398.239 152.668 398.239 Q146.857 398.239 143.779 393.655 Q140.723 389.049 140.723 380.322 Q140.723 371.572 143.779 366.989 Q146.857 362.382 152.668 362.382 Z\" fill=\"#000000\" fill-rule=\"evenodd\" fill-opacity=\"1\" /><path clip-path=\"url(#clip590)\" d=\"M 0 0 M1191.83 18.8205 L1191.83 41.5461 L1202.12 41.5461 Q1207.83 41.5461 1210.95 38.5889 Q1214.07 35.6318 1214.07 30.163 Q1214.07 24.7348 1210.95 21.7777 Q1207.83 18.8205 1202.12 18.8205 L1191.83 18.8205 M1183.65 12.096 L1202.12 12.096 Q1212.29 12.096 1217.48 16.714 Q1222.7 21.2916 1222.7 30.163 Q1222.7 39.1155 1217.48 43.6931 Q1212.29 48.2706 1202.12 48.2706 L1191.83 48.2706 L1191.83 72.576 L1183.65 72.576 L1183.65 12.096 Z\" fill=\"#000000\" fill-rule=\"evenodd\" fill-opacity=\"1\" /><path clip-path=\"url(#clip590)\" d=\"M 0 0 M1255.35 34.1734 Q1254.1 33.4443 1252.6 33.1202 Q1251.14 32.7556 1249.36 32.7556 Q1243.04 32.7556 1239.63 36.8875 Q1236.27 40.9789 1236.27 48.6757 L1236.27 72.576 L1228.78 72.576 L1228.78 27.2059 L1236.27 27.2059 L1236.27 34.2544 Q1238.62 30.1225 1242.39 28.1376 Q1246.16 26.1121 1251.54 26.1121 Q1252.31 26.1121 1253.24 26.2337 Q1254.18 26.3147 1255.31 26.5172 L1255.35 34.1734 Z\" fill=\"#000000\" fill-rule=\"evenodd\" fill-opacity=\"1\" /><path clip-path=\"url(#clip590)\" d=\"M 0 0 M1263.17 27.2059 L1270.62 27.2059 L1270.62 72.576 L1263.17 72.576 L1263.17 27.2059 M1263.17 9.54393 L1270.62 9.54393 L1270.62 18.9825 L1263.17 18.9825 L1263.17 9.54393 Z\" fill=\"#000000\" fill-rule=\"evenodd\" fill-opacity=\"1\" /><path clip-path=\"url(#clip590)\" d=\"M 0 0 M1311.09 28.9478 L1311.09 35.9153 Q1307.93 34.1734 1304.73 33.3227 Q1301.57 32.4315 1298.33 32.4315 Q1291.08 32.4315 1287.07 37.0496 Q1283.06 41.6271 1283.06 49.9314 Q1283.06 58.2358 1287.07 62.8538 Q1291.08 67.4314 1298.33 67.4314 Q1301.57 67.4314 1304.73 66.5807 Q1307.93 65.6895 1311.09 63.9476 L1311.09 70.8341 Q1307.97 72.2924 1304.61 73.0216 Q1301.29 73.7508 1297.52 73.7508 Q1287.27 73.7508 1281.24 67.3098 Q1275.2 60.8689 1275.2 49.9314 Q1275.2 38.832 1281.28 32.472 Q1287.39 26.1121 1298.01 26.1121 Q1301.45 26.1121 1304.73 26.8413 Q1308.01 27.5299 1311.09 28.9478 Z\" fill=\"#000000\" fill-rule=\"evenodd\" fill-opacity=\"1\" /><path clip-path=\"url(#clip590)\" d=\"M 0 0 M1357.72 48.0275 L1357.72 51.6733 L1323.45 51.6733 Q1323.93 59.3701 1328.06 63.421 Q1332.24 67.4314 1339.65 67.4314 Q1343.94 67.4314 1347.95 66.3781 Q1352.01 65.3249 1355.98 63.2184 L1355.98 70.267 Q1351.97 71.9684 1347.75 72.8596 Q1343.54 73.7508 1339.2 73.7508 Q1328.35 73.7508 1321.99 67.4314 Q1315.67 61.1119 1315.67 50.3365 Q1315.67 39.1965 1321.66 32.6746 Q1327.7 26.1121 1337.91 26.1121 Q1347.06 26.1121 1352.37 32.0264 Q1357.72 37.9003 1357.72 48.0275 M1350.26 45.84 Q1350.18 39.7232 1346.82 36.0774 Q1343.5 32.4315 1337.99 32.4315 Q1331.75 32.4315 1327.98 35.9558 Q1324.26 39.4801 1323.69 45.8805 L1350.26 45.84 Z\" fill=\"#000000\" fill-rule=\"evenodd\" fill-opacity=\"1\" /><polyline clip-path=\"url(#clip592)\" style=\"stroke:#009af9; stroke-width:12; stroke-opacity:1; fill:none\" points=\"\n",
       "  249.861,1290.95 253.888,1290.95 257.915,1406.93 261.942,1406.93 265.969,1409.76 269.996,1409.76 274.023,1372.53 278.05,1342.56 282.077,1402.94 286.104,1346.2 \n",
       "  290.13,1317.85 294.157,1371.71 298.184,1441.88 302.211,1442.71 306.238,1322.96 310.265,1322.17 314.292,1390.52 318.319,1403.5 322.346,1340.93 326.373,1405.32 \n",
       "  330.4,1404.22 334.426,1374.88 338.453,1368.18 342.48,1372.54 346.507,1292.5 350.534,1394.75 354.561,1332.8 358.588,1278.32 362.615,1423.4 366.642,1385.67 \n",
       "  370.669,731.322 374.696,735.736 378.723,1404.21 382.749,486.891 386.776,1412.38 390.803,1415.23 394.83,1404.69 398.857,1386.89 402.884,1408.33 406.911,1354.64 \n",
       "  410.938,1395.65 414.965,1341.14 418.992,1384.6 423.019,1398.51 427.046,1326.44 431.072,1389.67 435.099,1409.81 439.126,1390.93 443.153,1380.79 447.18,1343.75 \n",
       "  451.207,1285.47 455.234,1352.87 459.261,1422.98 463.288,1422.64 467.315,1339.25 471.342,1417.26 475.368,1386.23 479.395,1420.4 483.422,1432.45 487.449,1403.96 \n",
       "  491.476,1389.16 495.503,1424.52 499.53,1375.15 503.557,1372.69 507.584,937.497 511.611,1339.4 515.638,1370.9 519.665,1430.27 523.691,1422.47 527.718,1428.68 \n",
       "  531.745,1405.27 535.772,1413.47 539.799,1299.11 543.826,1313.39 547.853,1400.83 551.88,1227.56 555.907,1086.66 559.934,1431.92 563.961,1214.82 567.987,1412.85 \n",
       "  572.014,1369.96 576.041,1431.91 580.068,1410.35 584.095,1405.18 588.122,1286.19 592.149,1404.73 596.176,1385.37 600.203,1426.6 604.23,1433.48 608.257,1423.63 \n",
       "  612.284,1417.92 616.31,1384.42 620.337,1402.37 624.364,1404.01 628.391,1402.28 632.418,1345.78 636.445,1370.63 640.472,1419.99 644.499,1412.95 648.526,1384.98 \n",
       "  652.553,1378.32 656.58,1431.45 660.607,1438.33 664.633,1406.23 668.66,1423.17 672.687,1415.02 676.714,1201.27 680.741,1447.87 684.768,1369.81 688.795,1260.2 \n",
       "  692.822,1349.78 696.849,1416.1 700.876,1314.92 704.903,1378.44 708.929,1399.73 712.956,1343.41 716.983,1422.24 721.01,1398.64 725.037,1419.8 729.064,1389.61 \n",
       "  733.091,1340.76 737.118,1420.1 741.145,1419.15 745.172,1396.29 749.199,1400.72 753.226,1422.65 757.252,1386.29 761.279,1424.58 765.306,1349.99 769.333,1411.92 \n",
       "  773.36,1396.6 777.387,1301.05 781.414,1429.6 785.441,1322.52 789.468,1435.65 793.495,1375.86 797.522,1427.89 801.548,1413.9 805.575,1331.71 809.602,1399.58 \n",
       "  813.629,1418.12 817.656,1384.17 821.683,1384.76 825.71,1398.61 829.737,1340.31 833.764,1413.35 837.791,1409.35 841.818,1424.97 845.845,1379.32 849.871,1398.26 \n",
       "  853.898,1433.58 857.925,1434.5 861.952,1418.67 865.979,1382.07 870.006,1377.45 874.033,1397.61 878.06,1381.29 882.087,1401.25 886.114,1366.51 890.141,1379.65 \n",
       "  894.167,1396.89 898.194,1432.4 902.221,1384.34 906.248,1415.31 910.275,1383.16 914.302,1393.26 918.329,1420.63 922.356,1358.78 926.383,1408.48 930.41,1361.62 \n",
       "  934.437,1366.78 938.464,1402.54 942.49,1398.53 946.517,1424.68 950.544,1377.84 954.571,1416.9 958.598,1368.59 962.625,1157.54 966.652,1410.48 970.679,1294.24 \n",
       "  974.706,1356.14 978.733,1277.99 982.76,1409.87 986.787,1424.23 990.813,1362.16 994.84,1406.84 998.867,1397.58 1002.89,1394.58 1006.92,1395.64 1010.95,1352.02 \n",
       "  1014.97,1327.54 1019,1412.7 1023.03,1372.79 1027.06,1279.27 1031.08,1383.75 1035.11,1427.71 1039.14,1428.04 1043.16,1355.01 1047.19,1416.75 1051.22,1420.78 \n",
       "  1055.24,1410.44 1059.27,1392.22 1063.3,1417.17 1067.32,1442.45 1071.35,1400.58 1075.38,1405.36 1079.41,1422.79 1083.43,1437.65 1087.46,1427.66 1091.49,1406.29 \n",
       "  1095.51,1368.41 1099.54,1302.96 1103.57,1439.58 1107.59,1434.47 1111.62,1411.39 1115.65,1420.83 1119.67,1381.21 1123.7,1394.11 1127.73,1378.16 1131.76,1274.22 \n",
       "  1135.78,1427.96 1139.81,1265.49 1143.84,1416.08 1147.86,1435.93 1151.89,1415.98 1155.92,1343.04 1159.94,1411.85 1163.97,1381.09 1168,1381.45 1172.02,1433.74 \n",
       "  1176.05,1403.63 1180.08,1399.36 1184.11,1419.22 1188.13,1439.16 1192.16,1393.79 1196.19,1422.22 1200.21,1320.66 1204.24,1345.76 1208.27,1426.92 1212.29,1436.51 \n",
       "  1216.32,1435.68 1220.35,1262.8 1224.37,1439.12 1228.4,1289.18 1232.43,1329.18 1236.46,1418.7 1240.48,1338.54 1244.51,1300.47 1248.54,1390.04 1252.56,1387.42 \n",
       "  1256.59,1419.4 1260.62,1402.11 1264.64,1344.64 1268.67,1409.92 1272.7,1434.67 1276.72,1351.48 1280.75,1340.96 1284.78,1177.59 1288.81,1427.12 1292.83,1381.98 \n",
       "  1296.86,1427.02 1300.89,1368.02 1304.91,1405.09 1308.94,1365.48 1312.97,1359.78 1316.99,1423.82 1321.02,1372.96 1325.05,1432.3 1329.07,1376.06 1333.1,1402.84 \n",
       "  1337.13,1435.57 1341.15,1370.24 1345.18,1439.89 1349.21,1437.9 1353.24,1379.62 1357.26,1406.86 1361.29,1398.84 1365.32,1430.22 1369.34,1415.82 1373.37,1308.13 \n",
       "  1377.4,1331.9 1381.42,1334.2 1385.45,1418.52 1389.48,1407.73 1393.5,1432.87 1397.53,1396.97 1401.56,1397.22 1405.59,1422.17 1409.61,1211.51 1413.64,1417.05 \n",
       "  1417.67,1382.14 1421.69,1374.45 1425.72,1322.71 1429.75,1408.27 1433.77,1432.77 1437.8,1438.7 1441.83,1405.11 1445.85,1354.42 1449.88,1393.33 1453.91,1301.27 \n",
       "  1457.94,1420.86 1461.96,1335.35 1465.99,1438.47 1470.02,1377.61 1474.04,1336.53 1478.07,1342.76 1482.1,1393.99 1486.12,1410.86 1490.15,1418.31 1494.18,1021.33 \n",
       "  1498.2,1426 1502.23,1407.08 1506.26,1392.91 1510.29,1421.36 1514.31,1389.27 1518.34,1389 1522.37,1266.93 1526.39,1396.75 1530.42,1419.45 1534.45,1364.97 \n",
       "  1538.47,1405.68 1542.5,1341.4 1546.53,1412.95 1550.55,1379.48 1554.58,1421.9 1558.61,1396.25 1562.64,1426.61 1566.66,1440.34 1570.69,1410.06 1574.72,1271.55 \n",
       "  1578.74,1429.98 1582.77,1431.07 1586.8,1423.78 1590.82,1438.72 1594.85,1438.58 1598.88,1346.28 1602.9,1425.71 1606.93,1405.32 1610.96,1433.83 1614.99,1431.75 \n",
       "  1619.01,1416.21 1623.04,1352.27 1627.07,1381.29 1631.09,1218.84 1635.12,1409.95 1639.15,1432.77 1643.17,1406.83 1647.2,1294.78 1651.23,1270.03 1655.25,1401.06 \n",
       "  1659.28,1395.76 1663.31,1411.09 1667.33,1416.48 1671.36,1402.12 1675.39,1370.06 1679.42,1325.45 1683.44,1426.44 1687.47,1405.77 1691.5,1398.32 1695.52,1402.34 \n",
       "  1699.55,1436.65 1703.58,1371.34 1707.6,1398.5 1711.63,1389.67 1715.66,1425.9 1719.68,1422.62 1723.71,1378.3 1727.74,1383.97 1731.77,1396.87 1735.79,1329.26 \n",
       "  1739.82,1343.37 1743.85,1377.64 1747.87,1371.23 1751.9,1428.83 1755.93,1347.15 1759.95,162.047 1763.98,1406.83 1768.01,1392.68 1772.03,1413.47 1776.06,1408.29 \n",
       "  1780.09,1376.17 1784.12,1416.56 1788.14,1321.18 1792.17,1429.44 1796.2,1348.14 1800.22,1395.08 1804.25,1405.37 1808.28,1425.99 1812.3,1381.13 1816.33,1440.74 \n",
       "  1820.36,1388.52 1824.38,1308.17 1828.41,1415.97 1832.44,1361 1836.47,1410.25 1840.49,1219.84 1844.52,1437.12 1848.55,1405.16 1852.57,1386.24 1856.6,1412.62 \n",
       "  1860.63,1322.44 1864.65,1354.83 1868.68,1264.92 1872.71,1396.36 1876.73,1362.57 1880.76,1326.3 1884.79,1375.7 1888.82,1335.9 1892.84,1424.5 1896.87,1401.82 \n",
       "  1900.9,1388.23 1904.92,1416.06 1908.95,1419.49 1912.98,1376.18 1917,1173.46 1921.03,1414.67 1925.06,1341.37 1929.08,1379.26 1933.11,1385.27 1937.14,1338.13 \n",
       "  1941.17,1418.94 1945.19,1410.22 1949.22,1340.88 1953.25,1411.54 1957.27,1379.62 1961.3,1399.58 1965.33,1344.34 1969.35,1402.96 1973.38,1431.64 1977.41,1424.94 \n",
       "  1981.43,1390.97 1985.46,1409.24 1989.49,1377.16 1993.51,1415.05 1997.54,1399.18 2001.57,1381.95 2005.6,1429.13 2009.62,1380.25 2013.65,1410.28 2017.68,1411.88 \n",
       "  2021.7,1358.78 2025.73,1290.75 2029.76,1380.25 2033.78,1432.68 2037.81,1353.61 2041.84,1377.61 2045.86,1308.18 2049.89,1378.85 2053.92,1383.55 2057.95,1396.86 \n",
       "  2061.97,1392.47 2066,1392 2070.03,1402.86 2074.05,1248.09 2078.08,1421.33 2082.11,1425.24 2086.13,1425.58 2090.16,1397.17 2094.19,1412.34 2098.21,1426.41 \n",
       "  2102.24,1300.79 2106.27,1440.51 2110.3,1441.36 2114.32,1360.85 2118.35,1404.7 2122.38,1295.53 2126.4,1371.96 2130.43,1334.37 2134.46,1358.98 2138.48,1367.97 \n",
       "  2142.51,1415.75 2146.54,1393.73 2150.56,1388.01 2154.59,1369.44 2158.62,1413.57 2162.65,1374.57 2166.67,1384.08 2170.7,1414.92 2174.73,1341.78 2178.75,1426.56 \n",
       "  2182.78,1368.69 2186.81,1402.69 2190.83,1363.27 2194.86,1378.56 2198.89,1401.24 2202.91,1393.47 2206.94,1313.13 2210.97,1407.46 2215,1410.38 2219.02,1410.9 \n",
       "  2223.05,1392.77 2227.08,1436.47 2231.1,1406.44 2235.13,1425.92 2239.16,1332.26 2243.18,1429.52 2247.21,1341.24 2251.24,1368.91 2255.26,1329.18 2259.29,1419.62 \n",
       "  2263.32,1428.63 2267.35,1405.09 2271.37,1420.46 2275.4,1399.8 2279.43,1395.48 2283.45,1367.5 2287.48,1413.72 2291.51,1398.89 \n",
       "  \"/>\n",
       "<path clip-path=\"url(#clip590)\" d=\"\n",
       "M1941.29 327.952 L2280.76 327.952 L2280.76 206.992 L1941.29 206.992  Z\n",
       "  \" fill=\"#ffffff\" fill-rule=\"evenodd\" fill-opacity=\"1\"/>\n",
       "<polyline clip-path=\"url(#clip590)\" style=\"stroke:#000000; stroke-width:4; stroke-opacity:1; fill:none\" points=\"\n",
       "  1941.29,327.952 2280.76,327.952 2280.76,206.992 1941.29,206.992 1941.29,327.952 \n",
       "  \"/>\n",
       "<polyline clip-path=\"url(#clip590)\" style=\"stroke:#009af9; stroke-width:4; stroke-opacity:1; fill:none\" points=\"\n",
       "  1965.29,267.472 2109.29,267.472 \n",
       "  \"/>\n",
       "<path clip-path=\"url(#clip590)\" d=\"M 0 0 M2137.96 254.035 L2137.96 267.021 L2143.84 267.021 Q2147.11 267.021 2148.89 265.331 Q2150.67 263.641 2150.67 260.516 Q2150.67 257.414 2148.89 255.725 Q2147.11 254.035 2143.84 254.035 L2137.96 254.035 M2133.29 250.192 L2143.84 250.192 Q2149.65 250.192 2152.62 252.831 Q2155.6 255.447 2155.6 260.516 Q2155.6 265.632 2152.62 268.248 Q2149.65 270.863 2143.84 270.863 L2137.96 270.863 L2137.96 284.752 L2133.29 284.752 L2133.29 250.192 Z\" fill=\"#000000\" fill-rule=\"evenodd\" fill-opacity=\"1\" /><path clip-path=\"url(#clip590)\" d=\"M 0 0 M2174.26 262.808 Q2173.54 262.391 2172.69 262.206 Q2171.85 261.998 2170.83 261.998 Q2167.22 261.998 2165.28 264.359 Q2163.36 266.697 2163.36 271.095 L2163.36 284.752 L2159.08 284.752 L2159.08 258.826 L2163.36 258.826 L2163.36 262.854 Q2164.7 260.493 2166.85 259.359 Q2169.01 258.201 2172.08 258.201 Q2172.52 258.201 2173.06 258.271 Q2173.59 258.317 2174.24 258.433 L2174.26 262.808 Z\" fill=\"#000000\" fill-rule=\"evenodd\" fill-opacity=\"1\" /><path clip-path=\"url(#clip590)\" d=\"M 0 0 M2178.73 258.826 L2182.99 258.826 L2182.99 284.752 L2178.73 284.752 L2178.73 258.826 M2178.73 248.734 L2182.99 248.734 L2182.99 254.127 L2178.73 254.127 L2178.73 248.734 Z\" fill=\"#000000\" fill-rule=\"evenodd\" fill-opacity=\"1\" /><path clip-path=\"url(#clip590)\" d=\"M 0 0 M2206.11 259.822 L2206.11 263.803 Q2204.31 262.808 2202.48 262.322 Q2200.67 261.812 2198.82 261.812 Q2194.68 261.812 2192.39 264.451 Q2190.09 267.067 2190.09 271.812 Q2190.09 276.558 2192.39 279.197 Q2194.68 281.812 2198.82 281.812 Q2200.67 281.812 2202.48 281.326 Q2204.31 280.817 2206.11 279.822 L2206.11 283.757 Q2204.33 284.59 2202.41 285.007 Q2200.51 285.423 2198.36 285.423 Q2192.5 285.423 2189.05 281.743 Q2185.6 278.062 2185.6 271.812 Q2185.6 265.47 2189.08 261.836 Q2192.57 258.201 2198.64 258.201 Q2200.6 258.201 2202.48 258.618 Q2204.35 259.012 2206.11 259.822 Z\" fill=\"#000000\" fill-rule=\"evenodd\" fill-opacity=\"1\" /><path clip-path=\"url(#clip590)\" d=\"M 0 0 M2232.76 270.724 L2232.76 272.808 L2213.17 272.808 Q2213.45 277.206 2215.81 279.521 Q2218.2 281.812 2222.43 281.812 Q2224.89 281.812 2227.18 281.21 Q2229.49 280.609 2231.76 279.405 L2231.76 283.433 Q2229.47 284.405 2227.06 284.914 Q2224.65 285.423 2222.18 285.423 Q2215.97 285.423 2212.34 281.812 Q2208.73 278.201 2208.73 272.044 Q2208.73 265.678 2212.15 261.951 Q2215.6 258.201 2221.44 258.201 Q2226.67 258.201 2229.7 261.581 Q2232.76 264.937 2232.76 270.724 M2228.5 269.474 Q2228.45 265.979 2226.53 263.896 Q2224.63 261.812 2221.48 261.812 Q2217.92 261.812 2215.77 263.826 Q2213.64 265.84 2213.31 269.498 L2228.5 269.474 Z\" fill=\"#000000\" fill-rule=\"evenodd\" fill-opacity=\"1\" /></svg>\n"
      ]
     },
     "execution_count": 18,
     "metadata": {},
     "output_type": "execute_result"
    }
   ],
   "source": [
    "using Plots\n",
    "plot(df[!,4], title=\"Price\",label=\"Price\", lw = 3)"
   ]
  },
  {
   "cell_type": "markdown",
   "metadata": {},
   "source": [
    "## <center>🏆 Challenge\n",
    "    \n",
    "Generate a line graph for the \"elo1_pre\" in \"data\". \n",
    "    \n",
    "Hint: The index of the column \"elo1_pre\" is 7."
   ]
  },
  {
   "cell_type": "markdown",
   "metadata": {},
   "source": [
    "#### Scatter Plot"
   ]
  },
  {
   "cell_type": "code",
   "execution_count": 34,
   "metadata": {},
   "outputs": [
    {
     "data": {
      "image/svg+xml": [
       "<?xml version=\"1.0\" encoding=\"utf-8\"?>\n",
       "<svg xmlns=\"http://www.w3.org/2000/svg\" xmlns:xlink=\"http://www.w3.org/1999/xlink\" width=\"600\" height=\"400\" viewBox=\"0 0 2400 1600\">\n",
       "<defs>\n",
       "  <clipPath id=\"clip030\">\n",
       "    <rect x=\"0\" y=\"0\" width=\"2400\" height=\"1600\"/>\n",
       "  </clipPath>\n",
       "</defs>\n",
       "<path clip-path=\"url(#clip030)\" d=\"\n",
       "M0 1600 L2400 1600 L2400 8.88178e-14 L0 8.88178e-14  Z\n",
       "  \" fill=\"#ffffff\" fill-rule=\"evenodd\" fill-opacity=\"1\"/>\n",
       "<defs>\n",
       "  <clipPath id=\"clip031\">\n",
       "    <rect x=\"480\" y=\"0\" width=\"1681\" height=\"1600\"/>\n",
       "  </clipPath>\n",
       "</defs>\n",
       "<path clip-path=\"url(#clip030)\" d=\"\n",
       "M151.899 1486.45 L2352.76 1486.45 L2352.76 123.472 L151.899 123.472  Z\n",
       "  \" fill=\"#ffffff\" fill-rule=\"evenodd\" fill-opacity=\"1\"/>\n",
       "<defs>\n",
       "  <clipPath id=\"clip032\">\n",
       "    <rect x=\"151\" y=\"123\" width=\"2202\" height=\"1364\"/>\n",
       "  </clipPath>\n",
       "</defs>\n",
       "<polyline clip-path=\"url(#clip032)\" style=\"stroke:#000000; stroke-width:2; stroke-opacity:0.1; fill:none\" points=\"\n",
       "  210.092,1486.45 210.092,123.472 \n",
       "  \"/>\n",
       "<polyline clip-path=\"url(#clip032)\" style=\"stroke:#000000; stroke-width:2; stroke-opacity:0.1; fill:none\" points=\"\n",
       "  619.615,1486.45 619.615,123.472 \n",
       "  \"/>\n",
       "<polyline clip-path=\"url(#clip032)\" style=\"stroke:#000000; stroke-width:2; stroke-opacity:0.1; fill:none\" points=\"\n",
       "  1029.14,1486.45 1029.14,123.472 \n",
       "  \"/>\n",
       "<polyline clip-path=\"url(#clip032)\" style=\"stroke:#000000; stroke-width:2; stroke-opacity:0.1; fill:none\" points=\"\n",
       "  1438.66,1486.45 1438.66,123.472 \n",
       "  \"/>\n",
       "<polyline clip-path=\"url(#clip032)\" style=\"stroke:#000000; stroke-width:2; stroke-opacity:0.1; fill:none\" points=\"\n",
       "  1848.18,1486.45 1848.18,123.472 \n",
       "  \"/>\n",
       "<polyline clip-path=\"url(#clip032)\" style=\"stroke:#000000; stroke-width:2; stroke-opacity:0.1; fill:none\" points=\"\n",
       "  2257.71,1486.45 2257.71,123.472 \n",
       "  \"/>\n",
       "<polyline clip-path=\"url(#clip032)\" style=\"stroke:#000000; stroke-width:2; stroke-opacity:0.1; fill:none\" points=\"\n",
       "  151.899,1305.02 2352.76,1305.02 \n",
       "  \"/>\n",
       "<polyline clip-path=\"url(#clip032)\" style=\"stroke:#000000; stroke-width:2; stroke-opacity:0.1; fill:none\" points=\"\n",
       "  151.899,948.345 2352.76,948.345 \n",
       "  \"/>\n",
       "<polyline clip-path=\"url(#clip032)\" style=\"stroke:#000000; stroke-width:2; stroke-opacity:0.1; fill:none\" points=\"\n",
       "  151.899,591.666 2352.76,591.666 \n",
       "  \"/>\n",
       "<polyline clip-path=\"url(#clip032)\" style=\"stroke:#000000; stroke-width:2; stroke-opacity:0.1; fill:none\" points=\"\n",
       "  151.899,234.988 2352.76,234.988 \n",
       "  \"/>\n",
       "<polyline clip-path=\"url(#clip030)\" style=\"stroke:#000000; stroke-width:4; stroke-opacity:1; fill:none\" points=\"\n",
       "  151.899,1486.45 2352.76,1486.45 \n",
       "  \"/>\n",
       "<polyline clip-path=\"url(#clip030)\" style=\"stroke:#000000; stroke-width:4; stroke-opacity:1; fill:none\" points=\"\n",
       "  151.899,1486.45 151.899,123.472 \n",
       "  \"/>\n",
       "<polyline clip-path=\"url(#clip030)\" style=\"stroke:#000000; stroke-width:4; stroke-opacity:1; fill:none\" points=\"\n",
       "  210.092,1486.45 210.092,1470.09 \n",
       "  \"/>\n",
       "<polyline clip-path=\"url(#clip030)\" style=\"stroke:#000000; stroke-width:4; stroke-opacity:1; fill:none\" points=\"\n",
       "  619.615,1486.45 619.615,1470.09 \n",
       "  \"/>\n",
       "<polyline clip-path=\"url(#clip030)\" style=\"stroke:#000000; stroke-width:4; stroke-opacity:1; fill:none\" points=\"\n",
       "  1029.14,1486.45 1029.14,1470.09 \n",
       "  \"/>\n",
       "<polyline clip-path=\"url(#clip030)\" style=\"stroke:#000000; stroke-width:4; stroke-opacity:1; fill:none\" points=\"\n",
       "  1438.66,1486.45 1438.66,1470.09 \n",
       "  \"/>\n",
       "<polyline clip-path=\"url(#clip030)\" style=\"stroke:#000000; stroke-width:4; stroke-opacity:1; fill:none\" points=\"\n",
       "  1848.18,1486.45 1848.18,1470.09 \n",
       "  \"/>\n",
       "<polyline clip-path=\"url(#clip030)\" style=\"stroke:#000000; stroke-width:4; stroke-opacity:1; fill:none\" points=\"\n",
       "  2257.71,1486.45 2257.71,1470.09 \n",
       "  \"/>\n",
       "<polyline clip-path=\"url(#clip030)\" style=\"stroke:#000000; stroke-width:4; stroke-opacity:1; fill:none\" points=\"\n",
       "  151.899,1305.02 178.309,1305.02 \n",
       "  \"/>\n",
       "<polyline clip-path=\"url(#clip030)\" style=\"stroke:#000000; stroke-width:4; stroke-opacity:1; fill:none\" points=\"\n",
       "  151.899,948.345 178.309,948.345 \n",
       "  \"/>\n",
       "<polyline clip-path=\"url(#clip030)\" style=\"stroke:#000000; stroke-width:4; stroke-opacity:1; fill:none\" points=\"\n",
       "  151.899,591.666 178.309,591.666 \n",
       "  \"/>\n",
       "<polyline clip-path=\"url(#clip030)\" style=\"stroke:#000000; stroke-width:4; stroke-opacity:1; fill:none\" points=\"\n",
       "  151.899,234.988 178.309,234.988 \n",
       "  \"/>\n",
       "<path clip-path=\"url(#clip030)\" d=\"M 0 0 M210.092 1508.44 Q206.481 1508.44 204.653 1512 Q202.847 1515.55 202.847 1522.67 Q202.847 1529.78 204.653 1533.35 Q206.481 1536.89 210.092 1536.89 Q213.727 1536.89 215.532 1533.35 Q217.361 1529.78 217.361 1522.67 Q217.361 1515.55 215.532 1512 Q213.727 1508.44 210.092 1508.44 M210.092 1504.73 Q215.903 1504.73 218.958 1509.34 Q222.037 1513.92 222.037 1522.67 Q222.037 1531.4 218.958 1536.01 Q215.903 1540.59 210.092 1540.59 Q204.282 1540.59 201.204 1536.01 Q198.148 1531.4 198.148 1522.67 Q198.148 1513.92 201.204 1509.34 Q204.282 1504.73 210.092 1504.73 Z\" fill=\"#000000\" fill-rule=\"evenodd\" fill-opacity=\"1\" /><path clip-path=\"url(#clip030)\" d=\"M 0 0 M582.983 1535.98 L590.622 1535.98 L590.622 1509.62 L582.312 1511.29 L582.312 1507.03 L590.576 1505.36 L595.252 1505.36 L595.252 1535.98 L602.891 1535.98 L602.891 1539.92 L582.983 1539.92 L582.983 1535.98 Z\" fill=\"#000000\" fill-rule=\"evenodd\" fill-opacity=\"1\" /><path clip-path=\"url(#clip030)\" d=\"M 0 0 M617.96 1508.44 Q614.349 1508.44 612.52 1512 Q610.715 1515.55 610.715 1522.67 Q610.715 1529.78 612.52 1533.35 Q614.349 1536.89 617.96 1536.89 Q621.594 1536.89 623.4 1533.35 Q625.228 1529.78 625.228 1522.67 Q625.228 1515.55 623.4 1512 Q621.594 1508.44 617.96 1508.44 M617.96 1504.73 Q623.77 1504.73 626.826 1509.34 Q629.904 1513.92 629.904 1522.67 Q629.904 1531.4 626.826 1536.01 Q623.77 1540.59 617.96 1540.59 Q612.15 1540.59 609.071 1536.01 Q606.016 1531.4 606.016 1522.67 Q606.016 1513.92 609.071 1509.34 Q612.15 1504.73 617.96 1504.73 Z\" fill=\"#000000\" fill-rule=\"evenodd\" fill-opacity=\"1\" /><path clip-path=\"url(#clip030)\" d=\"M 0 0 M644.974 1508.44 Q641.363 1508.44 639.534 1512 Q637.728 1515.55 637.728 1522.67 Q637.728 1529.78 639.534 1533.35 Q641.363 1536.89 644.974 1536.89 Q648.608 1536.89 650.413 1533.35 Q652.242 1529.78 652.242 1522.67 Q652.242 1515.55 650.413 1512 Q648.608 1508.44 644.974 1508.44 M644.974 1504.73 Q650.784 1504.73 653.839 1509.34 Q656.918 1513.92 656.918 1522.67 Q656.918 1531.4 653.839 1536.01 Q650.784 1540.59 644.974 1540.59 Q639.164 1540.59 636.085 1536.01 Q633.029 1531.4 633.029 1522.67 Q633.029 1513.92 636.085 1509.34 Q639.164 1504.73 644.974 1504.73 Z\" fill=\"#000000\" fill-rule=\"evenodd\" fill-opacity=\"1\" /><path clip-path=\"url(#clip030)\" d=\"M 0 0 M996.777 1535.98 L1013.1 1535.98 L1013.1 1539.92 L991.152 1539.92 L991.152 1535.98 Q993.814 1533.23 998.397 1528.6 Q1003 1523.95 1004.18 1522.61 Q1006.43 1520.08 1007.31 1518.35 Q1008.21 1516.59 1008.21 1514.9 Q1008.21 1512.14 1006.27 1510.41 Q1004.35 1508.67 1001.24 1508.67 Q999.045 1508.67 996.592 1509.43 Q994.161 1510.2 991.383 1511.75 L991.383 1507.03 Q994.207 1505.89 996.661 1505.31 Q999.115 1504.73 1001.15 1504.73 Q1006.52 1504.73 1009.72 1507.42 Q1012.91 1510.11 1012.91 1514.6 Q1012.91 1516.73 1012.1 1518.65 Q1011.31 1520.54 1009.21 1523.14 Q1008.63 1523.81 1005.53 1527.03 Q1002.42 1530.22 996.777 1535.98 Z\" fill=\"#000000\" fill-rule=\"evenodd\" fill-opacity=\"1\" /><path clip-path=\"url(#clip030)\" d=\"M 0 0 M1028.17 1508.44 Q1024.55 1508.44 1022.73 1512 Q1020.92 1515.55 1020.92 1522.67 Q1020.92 1529.78 1022.73 1533.35 Q1024.55 1536.89 1028.17 1536.89 Q1031.8 1536.89 1033.61 1533.35 Q1035.43 1529.78 1035.43 1522.67 Q1035.43 1515.55 1033.61 1512 Q1031.8 1508.44 1028.17 1508.44 M1028.17 1504.73 Q1033.98 1504.73 1037.03 1509.34 Q1040.11 1513.92 1040.11 1522.67 Q1040.11 1531.4 1037.03 1536.01 Q1033.98 1540.59 1028.17 1540.59 Q1022.36 1540.59 1019.28 1536.01 Q1016.22 1531.4 1016.22 1522.67 Q1016.22 1513.92 1019.28 1509.34 Q1022.36 1504.73 1028.17 1504.73 Z\" fill=\"#000000\" fill-rule=\"evenodd\" fill-opacity=\"1\" /><path clip-path=\"url(#clip030)\" d=\"M 0 0 M1055.18 1508.44 Q1051.57 1508.44 1049.74 1512 Q1047.93 1515.55 1047.93 1522.67 Q1047.93 1529.78 1049.74 1533.35 Q1051.57 1536.89 1055.18 1536.89 Q1058.81 1536.89 1060.62 1533.35 Q1062.45 1529.78 1062.45 1522.67 Q1062.45 1515.55 1060.62 1512 Q1058.81 1508.44 1055.18 1508.44 M1055.18 1504.73 Q1060.99 1504.73 1064.04 1509.34 Q1067.12 1513.92 1067.12 1522.67 Q1067.12 1531.4 1064.04 1536.01 Q1060.99 1540.59 1055.18 1540.59 Q1049.37 1540.59 1046.29 1536.01 Q1043.23 1531.4 1043.23 1522.67 Q1043.23 1513.92 1046.29 1509.34 Q1049.37 1504.73 1055.18 1504.73 Z\" fill=\"#000000\" fill-rule=\"evenodd\" fill-opacity=\"1\" /><path clip-path=\"url(#clip030)\" d=\"M 0 0 M1415.89 1521.29 Q1419.25 1522 1421.13 1524.27 Q1423.02 1526.54 1423.02 1529.87 Q1423.02 1534.99 1419.51 1537.79 Q1415.99 1540.59 1409.51 1540.59 Q1407.33 1540.59 1405.01 1540.15 Q1402.72 1539.73 1400.27 1538.88 L1400.27 1534.36 Q1402.21 1535.5 1404.53 1536.08 Q1406.84 1536.66 1409.37 1536.66 Q1413.76 1536.66 1416.06 1534.92 Q1418.37 1533.18 1418.37 1529.87 Q1418.37 1526.82 1416.22 1525.11 Q1414.09 1523.37 1410.27 1523.37 L1406.24 1523.37 L1406.24 1519.53 L1410.45 1519.53 Q1413.9 1519.53 1415.73 1518.16 Q1417.56 1516.77 1417.56 1514.18 Q1417.56 1511.52 1415.66 1510.11 Q1413.79 1508.67 1410.27 1508.67 Q1408.35 1508.67 1406.15 1509.09 Q1403.95 1509.5 1401.31 1510.38 L1401.31 1506.22 Q1403.97 1505.48 1406.29 1505.11 Q1408.63 1504.73 1410.69 1504.73 Q1416.01 1504.73 1419.11 1507.17 Q1422.21 1509.57 1422.21 1513.69 Q1422.21 1516.56 1420.57 1518.55 Q1418.93 1520.52 1415.89 1521.29 Z\" fill=\"#000000\" fill-rule=\"evenodd\" fill-opacity=\"1\" /><path clip-path=\"url(#clip030)\" d=\"M 0 0 M1438.09 1508.44 Q1434.48 1508.44 1432.65 1512 Q1430.85 1515.55 1430.85 1522.67 Q1430.85 1529.78 1432.65 1533.35 Q1434.48 1536.89 1438.09 1536.89 Q1441.73 1536.89 1443.53 1533.35 Q1445.36 1529.78 1445.36 1522.67 Q1445.36 1515.55 1443.53 1512 Q1441.73 1508.44 1438.09 1508.44 M1438.09 1504.73 Q1443.9 1504.73 1446.96 1509.34 Q1450.04 1513.92 1450.04 1522.67 Q1450.04 1531.4 1446.96 1536.01 Q1443.9 1540.59 1438.09 1540.59 Q1432.28 1540.59 1429.2 1536.01 Q1426.15 1531.4 1426.15 1522.67 Q1426.15 1513.92 1429.2 1509.34 Q1432.28 1504.73 1438.09 1504.73 Z\" fill=\"#000000\" fill-rule=\"evenodd\" fill-opacity=\"1\" /><path clip-path=\"url(#clip030)\" d=\"M 0 0 M1465.11 1508.44 Q1461.5 1508.44 1459.67 1512 Q1457.86 1515.55 1457.86 1522.67 Q1457.86 1529.78 1459.67 1533.35 Q1461.5 1536.89 1465.11 1536.89 Q1468.74 1536.89 1470.55 1533.35 Q1472.38 1529.78 1472.38 1522.67 Q1472.38 1515.55 1470.55 1512 Q1468.74 1508.44 1465.11 1508.44 M1465.11 1504.73 Q1470.92 1504.73 1473.97 1509.34 Q1477.05 1513.92 1477.05 1522.67 Q1477.05 1531.4 1473.97 1536.01 Q1470.92 1540.59 1465.11 1540.59 Q1459.3 1540.59 1456.22 1536.01 Q1453.16 1531.4 1453.16 1522.67 Q1453.16 1513.92 1456.22 1509.34 Q1459.3 1504.73 1465.11 1504.73 Z\" fill=\"#000000\" fill-rule=\"evenodd\" fill-opacity=\"1\" /><path clip-path=\"url(#clip030)\" d=\"M 0 0 M1824.18 1509.43 L1812.37 1527.88 L1824.18 1527.88 L1824.18 1509.43 M1822.95 1505.36 L1828.83 1505.36 L1828.83 1527.88 L1833.76 1527.88 L1833.76 1531.77 L1828.83 1531.77 L1828.83 1539.92 L1824.18 1539.92 L1824.18 1531.77 L1808.58 1531.77 L1808.58 1527.26 L1822.95 1505.36 Z\" fill=\"#000000\" fill-rule=\"evenodd\" fill-opacity=\"1\" /><path clip-path=\"url(#clip030)\" d=\"M 0 0 M1848.83 1508.44 Q1845.22 1508.44 1843.39 1512 Q1841.59 1515.55 1841.59 1522.67 Q1841.59 1529.78 1843.39 1533.35 Q1845.22 1536.89 1848.83 1536.89 Q1852.47 1536.89 1854.27 1533.35 Q1856.1 1529.78 1856.1 1522.67 Q1856.1 1515.55 1854.27 1512 Q1852.47 1508.44 1848.83 1508.44 M1848.83 1504.73 Q1854.64 1504.73 1857.7 1509.34 Q1860.78 1513.92 1860.78 1522.67 Q1860.78 1531.4 1857.7 1536.01 Q1854.64 1540.59 1848.83 1540.59 Q1843.02 1540.59 1839.94 1536.01 Q1836.89 1531.4 1836.89 1522.67 Q1836.89 1513.92 1839.94 1509.34 Q1843.02 1504.73 1848.83 1504.73 Z\" fill=\"#000000\" fill-rule=\"evenodd\" fill-opacity=\"1\" /><path clip-path=\"url(#clip030)\" d=\"M 0 0 M1875.84 1508.44 Q1872.23 1508.44 1870.41 1512 Q1868.6 1515.55 1868.6 1522.67 Q1868.6 1529.78 1870.41 1533.35 Q1872.23 1536.89 1875.84 1536.89 Q1879.48 1536.89 1881.28 1533.35 Q1883.11 1529.78 1883.11 1522.67 Q1883.11 1515.55 1881.28 1512 Q1879.48 1508.44 1875.84 1508.44 M1875.84 1504.73 Q1881.66 1504.73 1884.71 1509.34 Q1887.79 1513.92 1887.79 1522.67 Q1887.79 1531.4 1884.71 1536.01 Q1881.66 1540.59 1875.84 1540.59 Q1870.03 1540.59 1866.96 1536.01 Q1863.9 1531.4 1863.9 1522.67 Q1863.9 1513.92 1866.96 1509.34 Q1870.03 1504.73 1875.84 1504.73 Z\" fill=\"#000000\" fill-rule=\"evenodd\" fill-opacity=\"1\" /><path clip-path=\"url(#clip030)\" d=\"M 0 0 M2220.97 1505.36 L2239.33 1505.36 L2239.33 1509.3 L2225.25 1509.3 L2225.25 1517.77 Q2226.27 1517.42 2227.29 1517.26 Q2228.31 1517.07 2229.33 1517.07 Q2235.11 1517.07 2238.49 1520.24 Q2241.87 1523.42 2241.87 1528.83 Q2241.87 1534.41 2238.4 1537.51 Q2234.93 1540.59 2228.61 1540.59 Q2226.43 1540.59 2224.16 1540.22 Q2221.92 1539.85 2219.51 1539.11 L2219.51 1534.41 Q2221.59 1535.54 2223.82 1536.1 Q2226.04 1536.66 2228.52 1536.66 Q2232.52 1536.66 2234.86 1534.55 Q2237.2 1532.44 2237.2 1528.83 Q2237.2 1525.22 2234.86 1523.11 Q2232.52 1521.01 2228.52 1521.01 Q2226.64 1521.01 2224.77 1521.42 Q2222.91 1521.84 2220.97 1522.72 L2220.97 1505.36 Z\" fill=\"#000000\" fill-rule=\"evenodd\" fill-opacity=\"1\" /><path clip-path=\"url(#clip030)\" d=\"M 0 0 M2256.94 1508.44 Q2253.33 1508.44 2251.5 1512 Q2249.7 1515.55 2249.7 1522.67 Q2249.7 1529.78 2251.5 1533.35 Q2253.33 1536.89 2256.94 1536.89 Q2260.58 1536.89 2262.38 1533.35 Q2264.21 1529.78 2264.21 1522.67 Q2264.21 1515.55 2262.38 1512 Q2260.58 1508.44 2256.94 1508.44 M2256.94 1504.73 Q2262.75 1504.73 2265.81 1509.34 Q2268.89 1513.92 2268.89 1522.67 Q2268.89 1531.4 2265.81 1536.01 Q2262.75 1540.59 2256.94 1540.59 Q2251.13 1540.59 2248.05 1536.01 Q2245 1531.4 2245 1522.67 Q2245 1513.92 2248.05 1509.34 Q2251.13 1504.73 2256.94 1504.73 Z\" fill=\"#000000\" fill-rule=\"evenodd\" fill-opacity=\"1\" /><path clip-path=\"url(#clip030)\" d=\"M 0 0 M2283.96 1508.44 Q2280.34 1508.44 2278.52 1512 Q2276.71 1515.55 2276.71 1522.67 Q2276.71 1529.78 2278.52 1533.35 Q2280.34 1536.89 2283.96 1536.89 Q2287.59 1536.89 2289.4 1533.35 Q2291.22 1529.78 2291.22 1522.67 Q2291.22 1515.55 2289.4 1512 Q2287.59 1508.44 2283.96 1508.44 M2283.96 1504.73 Q2289.77 1504.73 2292.82 1509.34 Q2295.9 1513.92 2295.9 1522.67 Q2295.9 1531.4 2292.82 1536.01 Q2289.77 1540.59 2283.96 1540.59 Q2278.15 1540.59 2275.07 1536.01 Q2272.01 1531.4 2272.01 1522.67 Q2272.01 1513.92 2275.07 1509.34 Q2278.15 1504.73 2283.96 1504.73 Z\" fill=\"#000000\" fill-rule=\"evenodd\" fill-opacity=\"1\" /><path clip-path=\"url(#clip030)\" d=\"M 0 0 M62.9921 1307.42 L75.4689 1307.42 L75.4689 1311.22 L62.9921 1311.22 L62.9921 1307.42 Z\" fill=\"#000000\" fill-rule=\"evenodd\" fill-opacity=\"1\" /><path clip-path=\"url(#clip030)\" d=\"M 0 0 M84.5661 1318.37 L100.885 1318.37 L100.885 1322.3 L78.9411 1322.3 L78.9411 1318.37 Q81.6031 1315.61 86.1864 1310.98 Q90.7929 1306.33 91.9735 1304.99 Q94.2188 1302.47 95.0984 1300.73 Q96.0012 1298.97 96.0012 1297.28 Q96.0012 1294.53 94.0568 1292.79 Q92.1355 1291.05 89.0337 1291.05 Q86.8346 1291.05 84.3809 1291.82 Q81.9504 1292.58 79.1726 1294.13 L79.1726 1289.41 Q81.9967 1288.28 84.4503 1287.7 Q86.904 1287.12 88.9411 1287.12 Q94.3114 1287.12 97.5058 1289.8 Q100.7 1292.49 100.7 1296.98 Q100.7 1299.11 99.8901 1301.03 Q99.103 1302.93 96.9966 1305.52 Q96.4179 1306.19 93.316 1309.41 Q90.2142 1312.6 84.5661 1318.37 Z\" fill=\"#000000\" fill-rule=\"evenodd\" fill-opacity=\"1\" /><path clip-path=\"url(#clip030)\" d=\"M 0 0 M115.955 1290.82 Q112.344 1290.82 110.515 1294.39 Q108.709 1297.93 108.709 1305.06 Q108.709 1312.16 110.515 1315.73 Q112.344 1319.27 115.955 1319.27 Q119.589 1319.27 121.395 1315.73 Q123.223 1312.16 123.223 1305.06 Q123.223 1297.93 121.395 1294.39 Q119.589 1290.82 115.955 1290.82 M115.955 1287.12 Q121.765 1287.12 124.82 1291.72 Q127.899 1296.31 127.899 1305.06 Q127.899 1313.78 124.82 1318.39 Q121.765 1322.97 115.955 1322.97 Q110.145 1322.97 107.066 1318.39 Q104.01 1313.78 104.01 1305.06 Q104.01 1296.31 107.066 1291.72 Q110.145 1287.12 115.955 1287.12 Z\" fill=\"#000000\" fill-rule=\"evenodd\" fill-opacity=\"1\" /><path clip-path=\"url(#clip030)\" d=\"M 0 0 M115.955 934.143 Q112.344 934.143 110.515 937.708 Q108.709 941.25 108.709 948.379 Q108.709 955.486 110.515 959.051 Q112.344 962.592 115.955 962.592 Q119.589 962.592 121.395 959.051 Q123.223 955.486 123.223 948.379 Q123.223 941.25 121.395 937.708 Q119.589 934.143 115.955 934.143 M115.955 930.44 Q121.765 930.44 124.82 935.046 Q127.899 939.63 127.899 948.379 Q127.899 957.106 124.82 961.713 Q121.765 966.296 115.955 966.296 Q110.145 966.296 107.066 961.713 Q104.01 957.106 104.01 948.379 Q104.01 939.63 107.066 935.046 Q110.145 930.44 115.955 930.44 Z\" fill=\"#000000\" fill-rule=\"evenodd\" fill-opacity=\"1\" /><path clip-path=\"url(#clip030)\" d=\"M 0 0 M84.5661 605.011 L100.885 605.011 L100.885 608.946 L78.9411 608.946 L78.9411 605.011 Q81.6031 602.256 86.1864 597.627 Q90.7929 592.974 91.9735 591.632 Q94.2188 589.108 95.0984 587.372 Q96.0012 585.613 96.0012 583.923 Q96.0012 581.169 94.0568 579.432 Q92.1355 577.696 89.0337 577.696 Q86.8346 577.696 84.3809 578.46 Q81.9504 579.224 79.1726 580.775 L79.1726 576.053 Q81.9967 574.919 84.4503 574.34 Q86.904 573.761 88.9411 573.761 Q94.3114 573.761 97.5058 576.446 Q100.7 579.132 100.7 583.622 Q100.7 585.752 99.8901 587.673 Q99.103 589.571 96.9966 592.164 Q96.4179 592.835 93.316 596.053 Q90.2142 599.247 84.5661 605.011 Z\" fill=\"#000000\" fill-rule=\"evenodd\" fill-opacity=\"1\" /><path clip-path=\"url(#clip030)\" d=\"M 0 0 M115.955 577.465 Q112.344 577.465 110.515 581.03 Q108.709 584.571 108.709 591.701 Q108.709 598.807 110.515 602.372 Q112.344 605.914 115.955 605.914 Q119.589 605.914 121.395 602.372 Q123.223 598.807 123.223 591.701 Q123.223 584.571 121.395 581.03 Q119.589 577.465 115.955 577.465 M115.955 573.761 Q121.765 573.761 124.82 578.368 Q127.899 582.951 127.899 591.701 Q127.899 600.428 124.82 605.034 Q121.765 609.618 115.955 609.618 Q110.145 609.618 107.066 605.034 Q104.01 600.428 104.01 591.701 Q104.01 582.951 107.066 578.368 Q110.145 573.761 115.955 573.761 Z\" fill=\"#000000\" fill-rule=\"evenodd\" fill-opacity=\"1\" /><path clip-path=\"url(#clip030)\" d=\"M 0 0 M91.3022 221.782 L79.4967 240.231 L91.3022 240.231 L91.3022 221.782 M90.0753 217.708 L95.9549 217.708 L95.9549 240.231 L100.885 240.231 L100.885 244.12 L95.9549 244.12 L95.9549 252.268 L91.3022 252.268 L91.3022 244.12 L75.7004 244.12 L75.7004 239.606 L90.0753 217.708 Z\" fill=\"#000000\" fill-rule=\"evenodd\" fill-opacity=\"1\" /><path clip-path=\"url(#clip030)\" d=\"M 0 0 M115.955 220.786 Q112.344 220.786 110.515 224.351 Q108.709 227.893 108.709 235.022 Q108.709 242.129 110.515 245.694 Q112.344 249.235 115.955 249.235 Q119.589 249.235 121.395 245.694 Q123.223 242.129 123.223 235.022 Q123.223 227.893 121.395 224.351 Q119.589 220.786 115.955 220.786 M115.955 217.083 Q121.765 217.083 124.82 221.689 Q127.899 226.272 127.899 235.022 Q127.899 243.749 124.82 248.356 Q121.765 252.939 115.955 252.939 Q110.145 252.939 107.066 248.356 Q104.01 243.749 104.01 235.022 Q104.01 226.272 107.066 221.689 Q110.145 217.083 115.955 217.083 Z\" fill=\"#000000\" fill-rule=\"evenodd\" fill-opacity=\"1\" /><path clip-path=\"url(#clip030)\" d=\"M 0 0 M1135.38 48.0275 L1135.38 51.6733 L1101.11 51.6733 Q1101.59 59.3701 1105.73 63.421 Q1109.9 67.4314 1117.31 67.4314 Q1121.6 67.4314 1125.62 66.3781 Q1129.67 65.3249 1133.64 63.2184 L1133.64 70.267 Q1129.63 71.9684 1125.41 72.8596 Q1121.2 73.7508 1116.87 73.7508 Q1106.01 73.7508 1099.65 67.4314 Q1093.33 61.1119 1093.33 50.3365 Q1093.33 39.1965 1099.32 32.6746 Q1105.36 26.1121 1115.57 26.1121 Q1124.72 26.1121 1130.03 32.0264 Q1135.38 37.9003 1135.38 48.0275 M1127.92 45.84 Q1127.84 39.7232 1124.48 36.0774 Q1121.16 32.4315 1115.65 32.4315 Q1109.41 32.4315 1105.64 35.9558 Q1101.92 39.4801 1101.35 45.8805 L1127.92 45.84 Z\" fill=\"#000000\" fill-rule=\"evenodd\" fill-opacity=\"1\" /><path clip-path=\"url(#clip030)\" d=\"M 0 0 M1143.2 9.54393 L1150.65 9.54393 L1150.65 72.576 L1143.2 72.576 L1143.2 9.54393 Z\" fill=\"#000000\" fill-rule=\"evenodd\" fill-opacity=\"1\" /><path clip-path=\"url(#clip030)\" d=\"M 0 0 M1176.05 32.4315 Q1170.05 32.4315 1166.57 37.1306 Q1163.09 41.7891 1163.09 49.9314 Q1163.09 58.0738 1166.53 62.7728 Q1170.01 67.4314 1176.05 67.4314 Q1182 67.4314 1185.49 62.7323 Q1188.97 58.0333 1188.97 49.9314 Q1188.97 41.8701 1185.49 37.1711 Q1182 32.4315 1176.05 32.4315 M1176.05 26.1121 Q1185.77 26.1121 1191.32 32.4315 Q1196.87 38.7509 1196.87 49.9314 Q1196.87 61.0714 1191.32 67.4314 Q1185.77 73.7508 1176.05 73.7508 Q1166.29 73.7508 1160.74 67.4314 Q1155.23 61.0714 1155.23 49.9314 Q1155.23 38.7509 1160.74 32.4315 Q1166.29 26.1121 1176.05 26.1121 Z\" fill=\"#000000\" fill-rule=\"evenodd\" fill-opacity=\"1\" /><path clip-path=\"url(#clip030)\" d=\"M 0 0 M1207.16 65.6895 L1220.53 65.6895 L1220.53 19.5497 L1205.99 22.4663 L1205.99 15.0127 L1220.45 12.096 L1228.63 12.096 L1228.63 65.6895 L1242 65.6895 L1242 72.576 L1207.16 72.576 L1207.16 65.6895 Z\" fill=\"#000000\" fill-rule=\"evenodd\" fill-opacity=\"1\" /><path clip-path=\"url(#clip030)\" d=\"M 0 0 M1284.29 86.3491 L1284.29 92.1419 L1241.19 92.1419 L1241.19 86.3491 L1284.29 86.3491 Z\" fill=\"#000000\" fill-rule=\"evenodd\" fill-opacity=\"1\" /><path clip-path=\"url(#clip030)\" d=\"M 0 0 M1299.32 65.7705 L1299.32 89.8329 L1291.82 89.8329 L1291.82 27.2059 L1299.32 27.2059 L1299.32 34.0924 Q1301.67 30.0415 1305.23 28.0971 Q1308.84 26.1121 1313.82 26.1121 Q1322.08 26.1121 1327.23 32.6746 Q1332.41 39.2371 1332.41 49.9314 Q1332.41 60.6258 1327.23 67.1883 Q1322.08 73.7508 1313.82 73.7508 Q1308.84 73.7508 1305.23 71.8063 Q1301.67 69.8214 1299.32 65.7705 M1324.68 49.9314 Q1324.68 41.7081 1321.27 37.0496 Q1317.91 32.3505 1312 32.3505 Q1306.08 32.3505 1302.68 37.0496 Q1299.32 41.7081 1299.32 49.9314 Q1299.32 58.1548 1302.68 62.8538 Q1306.08 67.5124 1312 67.5124 Q1317.91 67.5124 1321.27 62.8538 Q1324.68 58.1548 1324.68 49.9314 Z\" fill=\"#000000\" fill-rule=\"evenodd\" fill-opacity=\"1\" /><path clip-path=\"url(#clip030)\" d=\"M 0 0 M1366.52 34.1734 Q1365.27 33.4443 1363.77 33.1202 Q1362.31 32.7556 1360.53 32.7556 Q1354.21 32.7556 1350.81 36.8875 Q1347.44 40.9789 1347.44 48.6757 L1347.44 72.576 L1339.95 72.576 L1339.95 27.2059 L1347.44 27.2059 L1347.44 34.2544 Q1349.79 30.1225 1353.56 28.1376 Q1357.33 26.1121 1362.71 26.1121 Q1363.48 26.1121 1364.42 26.2337 Q1365.35 26.3147 1366.48 26.5172 L1366.52 34.1734 Z\" fill=\"#000000\" fill-rule=\"evenodd\" fill-opacity=\"1\" /><path clip-path=\"url(#clip030)\" d=\"M 0 0 M1411.33 48.0275 L1411.33 51.6733 L1377.05 51.6733 Q1377.54 59.3701 1381.67 63.421 Q1385.85 67.4314 1393.26 67.4314 Q1397.55 67.4314 1401.56 66.3781 Q1405.61 65.3249 1409.58 63.2184 L1409.58 70.267 Q1405.57 71.9684 1401.36 72.8596 Q1397.15 73.7508 1392.81 73.7508 Q1381.96 73.7508 1375.6 67.4314 Q1369.28 61.1119 1369.28 50.3365 Q1369.28 39.1965 1375.27 32.6746 Q1381.31 26.1121 1391.52 26.1121 Q1400.67 26.1121 1405.98 32.0264 Q1411.33 37.9003 1411.33 48.0275 M1403.87 45.84 Q1403.79 39.7232 1400.43 36.0774 Q1397.11 32.4315 1391.6 32.4315 Q1385.36 32.4315 1381.59 35.9558 Q1377.87 39.4801 1377.3 45.8805 L1403.87 45.84 Z\" fill=\"#000000\" fill-rule=\"evenodd\" fill-opacity=\"1\" /><polyline clip-path=\"url(#clip032)\" style=\"stroke:#009af9; stroke-width:16; stroke-opacity:1; fill:none\" points=\"\n",
       "  214.188,807.1 218.283,807.1 222.378,918.027 226.473,918.027 230.568,943.708 234.664,943.708 238.759,889.671 242.854,851.328 246.949,925.517 251.045,815.839 \n",
       "  255.14,887.888 259.235,837.953 263.33,947.81 267.426,979.019 271.521,845.8 275.616,733.089 279.711,751.993 283.806,910.894 287.902,704.733 291.997,916.422 \n",
       "  296.092,800.68 300.187,847.405 304.283,920.346 308.378,916.779 312.473,897.696 316.568,906.078 320.663,264.414 324.759,696.351 328.854,918.919 332.949,864.882 \n",
       "  337.044,551.183 341.14,551.183 345.235,853.647 349.33,838.488 353.425,900.55 357.521,878.614 361.616,926.231 365.711,896.626 369.806,961.899 373.901,913.212 \n",
       "  377.997,901.442 382.092,779.993 386.187,919.097 390.282,895.913 394.378,902.512 398.473,911.785 402.568,1053.56 406.663,910.715 410.758,839.023 414.854,895.021 \n",
       "  418.949,692.25 423.044,865.239 427.139,1014.69 431.235,913.569 435.33,784.273 439.425,891.811 443.52,858.283 447.616,909.645 451.711,952.09 455.806,903.047 \n",
       "  459.901,786.413 463.996,863.455 468.092,994.891 472.187,879.684 476.282,162.047 480.377,834.921 484.473,892.881 488.568,953.873 492.663,933.186 496.758,920.702 \n",
       "  500.853,925.339 504.949,899.48 509.044,865.417 513.139,774.286 517.234,880.398 521.33,735.408 525.425,407.977 529.52,914.104 533.615,708.122 537.71,938.536 \n",
       "  541.806,896.091 545.901,947.096 549.996,1387.42 554.091,901.085 558.187,876.831 562.282,918.027 566.377,884.678 570.472,915.352 574.568,964.752 578.663,935.148 \n",
       "  582.758,896.805 586.853,886.818 590.948,876.296 595.044,877.544 599.139,884.499 603.234,925.874 607.329,907.862 611.425,918.205 615.52,898.231 619.615,884.499 \n",
       "  623.71,890.741 627.805,930.511 631.901,927.657 635.996,915.53 640.091,969.745 644.186,919.632 648.282,340.565 652.377,1063.2 656.472,861.85 660.567,934.078 \n",
       "  664.663,802.107 668.758,896.27 672.853,819.94 676.948,1031.09 681.043,885.034 685.139,870.232 689.234,914.282 693.329,1003.63 697.424,890.028 701.52,952.625 \n",
       "  705.615,735.408 709.71,912.855 713.805,921.772 717.9,903.047 721.996,907.683 726.091,863.812 730.186,874.691 734.281,922.307 738.377,1145.23 742.472,959.937 \n",
       "  746.567,875.226 750.662,793.011 754.758,962.255 758.853,839.736 762.948,959.58 767.043,930.154 771.138,915.709 775.234,840.093 779.329,801.572 783.424,860.78 \n",
       "  787.519,899.658 791.615,885.391 795.71,880.398 799.805,871.659 803.9,829.927 807.995,860.245 812.091,912.855 816.186,1071.22 820.281,909.288 824.376,851.863 \n",
       "  828.472,913.39 832.567,913.39 836.662,893.773 840.757,869.34 844.852,881.111 848.948,860.78 853.043,856.5 857.138,919.989 861.233,867.379 865.329,862.385 \n",
       "  869.424,892.703 873.519,932.651 877.614,964.217 881.71,910.002 885.805,767.865 889.9,829.214 893.995,967.427 898.09,874.512 902.186,877.722 906.281,896.983 \n",
       "  910.376,893.595 914.471,906.435 918.567,1006.48 922.662,956.905 926.757,983.656 930.852,996.318 934.947,876.296 939.043,916.779 943.138,919.275 947.233,836.526 \n",
       "  951.328,888.601 955.424,525.502 959.519,895.556 963.614,926.409 967.709,916.065 971.805,906.257 975.9,852.22 979.995,896.27 984.09,914.817 988.185,832.246 \n",
       "  992.281,852.22 996.376,912.499 1000.47,885.926 1004.57,750.923 1008.66,917.67 1012.76,897.518 1016.85,1206.76 1020.95,874.512 1025.04,926.766 1029.14,928.371 \n",
       "  1033.23,912.855 1037.33,920.524 1041.42,860.78 1045.52,914.46 1049.61,904.473 1053.71,894.13 1057.8,894.843 1061.9,926.231 1065.99,918.205 1070.09,900.372 \n",
       "  1074.19,907.148 1078.28,778.031 1082.38,961.185 1086.47,924.447 1090.57,898.945 1094.66,841.341 1098.76,866.309 1102.85,770.897 1106.95,920.167 1111.04,794.795 \n",
       "  1115.14,863.812 1119.23,769.649 1123.33,957.797 1127.42,923.199 1131.52,895.2 1135.61,869.34 1139.71,907.862 1143.8,870.946 1147.9,842.411 1151.99,924.626 \n",
       "  1156.09,969.745 1160.18,893.06 1164.28,1303.95 1168.38,944.6 1172.47,929.619 1176.57,901.263 1180.66,833.138 1184.76,911.25 1188.85,920.346 1192.95,930.154 \n",
       "  1197.04,921.772 1201.14,875.939 1205.23,930.511 1209.33,731.663 1213.42,895.913 1217.52,930.511 1221.61,861.672 1225.71,860.602 1229.8,938.714 1233.9,857.927 \n",
       "  1237.99,913.034 1242.09,906.078 1246.18,839.379 1250.28,856.678 1254.38,921.772 1258.47,858.283 1262.57,882.003 1266.66,847.226 1270.76,899.48 1274.85,934.791 \n",
       "  1278.95,940.141 1283.04,837.953 1287.14,905.008 1291.23,857.392 1295.33,941.39 1299.42,917.849 1303.52,835.991 1307.61,934.434 1311.71,784.986 1315.8,913.569 \n",
       "  1319.9,928.371 1323.99,834.029 1328.09,934.078 1332.18,948.166 1336.28,843.481 1340.37,892.703 1344.47,898.231 1348.57,911.785 1352.66,877.366 1356.76,796.578 \n",
       "  1360.85,823.151 1364.95,783.916 1369.04,899.123 1373.14,888.066 1377.23,942.46 1381.33,951.912 1385.42,783.559 1389.52,921.594 1393.61,826.539 1397.71,913.925 \n",
       "  1401.8,886.639 1405.9,729.879 1409.99,793.368 1414.09,887.174 1418.18,913.034 1422.28,995.605 1426.37,826.182 1430.47,900.728 1434.57,897.161 1438.66,830.106 \n",
       "  1442.76,922.129 1446.85,883.251 1450.95,1002.92 1455.04,881.824 1459.14,834.921 1463.23,542.801 1467.33,896.805 1471.42,923.377 1475.52,937.109 1479.61,694.39 \n",
       "  1483.71,914.104 1487.8,889.314 1491.9,936.574 1495.99,870.589 1500.09,895.378 1504.18,897.34 1508.28,725.777 1512.37,783.024 1516.47,914.282 1520.56,857.57 \n",
       "  1524.66,927.122 1528.76,924.269 1532.85,893.238 1536.95,967.605 1541.04,931.759 1545.14,871.302 1549.23,1062.48 1553.33,930.333 1557.42,916.065 1561.52,926.052 \n",
       "  1565.61,927.479 1569.71,1064.27 1573.8,969.389 1577.9,971.172 1581.99,971.172 1586.09,745.216 1590.18,923.556 1594.28,903.582 1598.37,930.154 1602.47,989.719 \n",
       "  1606.56,912.32 1610.66,614.315 1614.76,860.602 1618.85,743.79 1622.95,898.766 1627.04,988.114 1631.14,875.226 1635.23,902.512 1639.33,756.987 1643.42,961.72 \n",
       "  1647.52,862.92 1651.61,918.74 1655.71,909.11 1659.8,863.634 1663.9,822.259 1667.99,819.227 1672.09,916.422 1676.18,908.04 1680.28,922.129 1684.37,883.608 \n",
       "  1688.47,931.046 1692.56,870.589 1696.66,901.263 1700.75,1447.87 1704.85,885.748 1708.95,898.766 1713.04,868.449 1717.14,771.254 1721.23,877.901 1725.33,1008.8 \n",
       "  1729.42,762.872 1733.52,969.567 1737.61,835.813 1741.71,898.588 1745.8,871.302 1749.9,187.549 1753.99,868.092 1758.09,848.475 1762.18,899.658 1766.28,893.773 \n",
       "  1770.37,774.821 1774.47,917.135 1778.56,826.896 1782.66,922.664 1786.75,827.609 1790.85,950.663 1794.95,918.919 1799.04,925.517 1803.14,850.258 1807.23,998.101 \n",
       "  1811.33,874.869 1815.42,824.399 1819.52,928.371 1823.61,918.384 1827.71,922.842 1831.8,810.31 1835.9,930.511 1839.99,916.779 1844.09,905.365 1848.18,906.97 \n",
       "  1852.28,835.099 1856.37,862.742 1860.47,781.063 1864.56,897.875 1868.66,814.055 1872.75,806.565 1876.85,943.53 1880.94,937.288 1885.04,874.156 1889.14,967.605 \n",
       "  1893.23,855.965 1897.33,902.333 1901.42,904.473 1905.52,851.15 1909.61,616.455 1913.71,822.972 1917.8,836.883 1921.9,851.863 1925.99,932.651 1930.09,784.273 \n",
       "  1934.18,903.225 1938.28,844.551 1942.37,804.782 1946.47,913.212 1950.56,855.073 1954.66,911.25 1958.75,900.55 1962.85,868.449 1966.94,951.377 1971.04,905.365 \n",
       "  1975.14,932.829 1979.23,911.25 1983.33,863.634 1987.42,911.072 1991.52,864.347 1995.61,864.347 1999.71,948.345 2003.8,884.143 2007.9,928.014 2011.99,881.824 \n",
       "  2016.09,853.29 2020.18,814.234 2024.28,883.073 2028.37,933.186 2032.47,817.979 2036.56,846.691 2040.66,848.475 2044.75,885.034 2048.85,830.284 2052.94,886.639 \n",
       "  2057.04,868.092 2061.13,891.99 2065.23,889.493 2069.33,807.1 2073.42,933.899 2077.52,919.989 2081.61,919.989 2085.71,862.92 2089.8,885.569 2093.9,929.084 \n",
       "  2097.99,832.068 2102.09,940.32 2106.18,940.32 2110.28,707.23 2114.37,822.616 2118.47,757.343 2122.56,848.118 2126.66,667.995 2130.75,846.691 2134.85,821.011 \n",
       "  2138.94,870.232 2143.04,902.868 2147.13,783.559 2151.23,900.372 2155.33,915.174 2159.42,887.174 2163.52,886.818 2167.61,817.087 2171.71,929.797 2175.8,864.882 \n",
       "  2179.9,898.41 2183.99,871.124 2188.09,893.06 2192.18,870.054 2196.28,880.933 2200.37,900.907 2204.47,944.956 2208.56,880.754 2212.66,875.761 2216.75,898.231 \n",
       "  2220.85,925.339 2224.94,939.249 2229.04,898.945 2233.13,934.613 2237.23,867.914 2241.32,958.51 2245.42,893.595 2249.52,849.723 2253.61,818.692 2257.71,908.932 \n",
       "  2261.8,937.823 2265.9,906.97 2269.99,988.293 2274.09,915.709 2278.18,875.761 2282.28,787.661 2286.37,901.977 2290.47,918.919 \n",
       "  \"/>\n",
       "<path clip-path=\"url(#clip030)\" d=\"\n",
       "M1859.04 327.952 L2280.76 327.952 L2280.76 206.992 L1859.04 206.992  Z\n",
       "  \" fill=\"#ffffff\" fill-rule=\"evenodd\" fill-opacity=\"1\"/>\n",
       "<polyline clip-path=\"url(#clip030)\" style=\"stroke:#000000; stroke-width:4; stroke-opacity:1; fill:none\" points=\"\n",
       "  1859.04,327.952 2280.76,327.952 2280.76,206.992 1859.04,206.992 1859.04,327.952 \n",
       "  \"/>\n",
       "<polyline clip-path=\"url(#clip030)\" style=\"stroke:#009af9; stroke-width:4; stroke-opacity:1; fill:none\" points=\"\n",
       "  1883.04,267.472 2027.04,267.472 \n",
       "  \"/>\n",
       "<path clip-path=\"url(#clip030)\" d=\"M 0 0 M2075.07 270.724 L2075.07 272.808 L2055.49 272.808 Q2055.77 277.206 2058.13 279.521 Q2060.51 281.812 2064.75 281.812 Q2067.2 281.812 2069.49 281.21 Q2071.81 280.609 2074.08 279.405 L2074.08 283.433 Q2071.78 284.405 2069.38 284.914 Q2066.97 285.423 2064.49 285.423 Q2058.29 285.423 2054.66 281.812 Q2051.04 278.201 2051.04 272.044 Q2051.04 265.678 2054.47 261.951 Q2057.92 258.201 2063.75 258.201 Q2068.98 258.201 2072.02 261.581 Q2075.07 264.937 2075.07 270.724 M2070.81 269.474 Q2070.77 265.979 2068.84 263.896 Q2066.95 261.812 2063.8 261.812 Q2060.23 261.812 2058.08 263.826 Q2055.95 265.84 2055.63 269.498 L2070.81 269.474 Z\" fill=\"#000000\" fill-rule=\"evenodd\" fill-opacity=\"1\" /><path clip-path=\"url(#clip030)\" d=\"M 0 0 M2079.54 248.734 L2083.8 248.734 L2083.8 284.752 L2079.54 284.752 L2079.54 248.734 Z\" fill=\"#000000\" fill-rule=\"evenodd\" fill-opacity=\"1\" /><path clip-path=\"url(#clip030)\" d=\"M 0 0 M2098.31 261.812 Q2094.89 261.812 2092.9 264.498 Q2090.9 267.16 2090.9 271.812 Q2090.9 276.465 2092.87 279.15 Q2094.86 281.812 2098.31 281.812 Q2101.71 281.812 2103.71 279.127 Q2105.7 276.442 2105.7 271.812 Q2105.7 267.206 2103.71 264.521 Q2101.71 261.812 2098.31 261.812 M2098.31 258.201 Q2103.87 258.201 2107.04 261.812 Q2110.21 265.424 2110.21 271.812 Q2110.21 278.178 2107.04 281.812 Q2103.87 285.423 2098.31 285.423 Q2092.73 285.423 2089.56 281.812 Q2086.41 278.178 2086.41 271.812 Q2086.41 265.424 2089.56 261.812 Q2092.73 258.201 2098.31 258.201 Z\" fill=\"#000000\" fill-rule=\"evenodd\" fill-opacity=\"1\" /><path clip-path=\"url(#clip030)\" d=\"M 0 0 M2116.09 280.817 L2123.73 280.817 L2123.73 254.451 L2115.42 256.118 L2115.42 251.859 L2123.68 250.192 L2128.36 250.192 L2128.36 280.817 L2136 280.817 L2136 284.752 L2116.09 284.752 L2116.09 280.817 Z\" fill=\"#000000\" fill-rule=\"evenodd\" fill-opacity=\"1\" /><path clip-path=\"url(#clip030)\" d=\"M 0 0 M2160.16 292.622 L2160.16 295.933 L2135.53 295.933 L2135.53 292.622 L2160.16 292.622 Z\" fill=\"#000000\" fill-rule=\"evenodd\" fill-opacity=\"1\" /><path clip-path=\"url(#clip030)\" d=\"M 0 0 M2168.75 280.863 L2168.75 294.613 L2164.47 294.613 L2164.47 258.826 L2168.75 258.826 L2168.75 262.762 Q2170.09 260.447 2172.13 259.336 Q2174.19 258.201 2177.04 258.201 Q2181.76 258.201 2184.7 261.951 Q2187.66 265.701 2187.66 271.812 Q2187.66 277.923 2184.7 281.673 Q2181.76 285.423 2177.04 285.423 Q2174.19 285.423 2172.13 284.312 Q2170.09 283.178 2168.75 280.863 M2183.24 271.812 Q2183.24 267.113 2181.3 264.451 Q2179.38 261.766 2176 261.766 Q2172.62 261.766 2170.67 264.451 Q2168.75 267.113 2168.75 271.812 Q2168.75 276.511 2170.67 279.197 Q2172.62 281.859 2176 281.859 Q2179.38 281.859 2181.3 279.197 Q2183.24 276.511 2183.24 271.812 Z\" fill=\"#000000\" fill-rule=\"evenodd\" fill-opacity=\"1\" /><path clip-path=\"url(#clip030)\" d=\"M 0 0 M2207.15 262.808 Q2206.44 262.391 2205.58 262.206 Q2204.75 261.998 2203.73 261.998 Q2200.12 261.998 2198.17 264.359 Q2196.25 266.697 2196.25 271.095 L2196.25 284.752 L2191.97 284.752 L2191.97 258.826 L2196.25 258.826 L2196.25 262.854 Q2197.59 260.493 2199.75 259.359 Q2201.9 258.201 2204.98 258.201 Q2205.42 258.201 2205.95 258.271 Q2206.48 258.317 2207.13 258.433 L2207.15 262.808 Z\" fill=\"#000000\" fill-rule=\"evenodd\" fill-opacity=\"1\" /><path clip-path=\"url(#clip030)\" d=\"M 0 0 M2232.76 270.724 L2232.76 272.808 L2213.17 272.808 Q2213.45 277.206 2215.81 279.521 Q2218.2 281.812 2222.43 281.812 Q2224.89 281.812 2227.18 281.21 Q2229.49 280.609 2231.76 279.405 L2231.76 283.433 Q2229.47 284.405 2227.06 284.914 Q2224.65 285.423 2222.18 285.423 Q2215.97 285.423 2212.34 281.812 Q2208.73 278.201 2208.73 272.044 Q2208.73 265.678 2212.15 261.951 Q2215.6 258.201 2221.44 258.201 Q2226.67 258.201 2229.7 261.581 Q2232.76 264.937 2232.76 270.724 M2228.5 269.474 Q2228.45 265.979 2226.53 263.896 Q2224.63 261.812 2221.48 261.812 Q2217.92 261.812 2215.77 263.826 Q2213.64 265.84 2213.31 269.498 L2228.5 269.474 Z\" fill=\"#000000\" fill-rule=\"evenodd\" fill-opacity=\"1\" /></svg>\n"
      ]
     },
     "execution_count": 34,
     "metadata": {},
     "output_type": "execute_result"
    }
   ],
   "source": [
    "using Plots\n",
    "plot(df[!,7], title=\"elo1_pre\", label=\"elo1_pre\", lw=4)"
   ]
  },
  {
   "cell_type": "markdown",
   "metadata": {},
   "source": [
    "## <center>🏆 Challenge\n",
    "    \n",
    "Generate a scatter plot for the \"elo_prob1\" in \"data\".\n",
    "    \n",
    "Hint: The index for the column \"elo_prob1\" is 9."
   ]
  },
  {
   "cell_type": "code",
   "execution_count": 19,
   "metadata": {},
   "outputs": [
    {
     "data": {
      "image/svg+xml": [
       "<?xml version=\"1.0\" encoding=\"utf-8\"?>\n",
       "<svg xmlns=\"http://www.w3.org/2000/svg\" xmlns:xlink=\"http://www.w3.org/1999/xlink\" width=\"600\" height=\"400\" viewBox=\"0 0 2400 1600\">\n",
       "<defs>\n",
       "  <clipPath id=\"clip630\">\n",
       "    <rect x=\"0\" y=\"0\" width=\"2400\" height=\"1600\"/>\n",
       "  </clipPath>\n",
       "</defs>\n",
       "<path clip-path=\"url(#clip630)\" d=\"\n",
       "M0 1600 L2400 1600 L2400 8.88178e-14 L0 8.88178e-14  Z\n",
       "  \" fill=\"#ffffff\" fill-rule=\"evenodd\" fill-opacity=\"1\"/>\n",
       "<defs>\n",
       "  <clipPath id=\"clip631\">\n",
       "    <rect x=\"480\" y=\"0\" width=\"1681\" height=\"1600\"/>\n",
       "  </clipPath>\n",
       "</defs>\n",
       "<path clip-path=\"url(#clip630)\" d=\"\n",
       "M188.612 1486.45 L2352.76 1486.45 L2352.76 123.472 L188.612 123.472  Z\n",
       "  \" fill=\"#ffffff\" fill-rule=\"evenodd\" fill-opacity=\"1\"/>\n",
       "<defs>\n",
       "  <clipPath id=\"clip632\">\n",
       "    <rect x=\"188\" y=\"123\" width=\"2165\" height=\"1364\"/>\n",
       "  </clipPath>\n",
       "</defs>\n",
       "<polyline clip-path=\"url(#clip632)\" style=\"stroke:#000000; stroke-width:2; stroke-opacity:0.1; fill:none\" points=\"\n",
       "  245.834,1486.45 245.834,123.472 \n",
       "  \"/>\n",
       "<polyline clip-path=\"url(#clip632)\" style=\"stroke:#000000; stroke-width:2; stroke-opacity:0.1; fill:none\" points=\"\n",
       "  648.526,1486.45 648.526,123.472 \n",
       "  \"/>\n",
       "<polyline clip-path=\"url(#clip632)\" style=\"stroke:#000000; stroke-width:2; stroke-opacity:0.1; fill:none\" points=\"\n",
       "  1051.22,1486.45 1051.22,123.472 \n",
       "  \"/>\n",
       "<polyline clip-path=\"url(#clip632)\" style=\"stroke:#000000; stroke-width:2; stroke-opacity:0.1; fill:none\" points=\"\n",
       "  1453.91,1486.45 1453.91,123.472 \n",
       "  \"/>\n",
       "<polyline clip-path=\"url(#clip632)\" style=\"stroke:#000000; stroke-width:2; stroke-opacity:0.1; fill:none\" points=\"\n",
       "  1856.6,1486.45 1856.6,123.472 \n",
       "  \"/>\n",
       "<polyline clip-path=\"url(#clip632)\" style=\"stroke:#000000; stroke-width:2; stroke-opacity:0.1; fill:none\" points=\"\n",
       "  2259.29,1486.45 2259.29,123.472 \n",
       "  \"/>\n",
       "<polyline clip-path=\"url(#clip632)\" style=\"stroke:#000000; stroke-width:2; stroke-opacity:0.1; fill:none\" points=\"\n",
       "  188.612,1450.14 2352.76,1450.14 \n",
       "  \"/>\n",
       "<polyline clip-path=\"url(#clip632)\" style=\"stroke:#000000; stroke-width:2; stroke-opacity:0.1; fill:none\" points=\"\n",
       "  188.612,1044.83 2352.76,1044.83 \n",
       "  \"/>\n",
       "<polyline clip-path=\"url(#clip632)\" style=\"stroke:#000000; stroke-width:2; stroke-opacity:0.1; fill:none\" points=\"\n",
       "  188.612,639.51 2352.76,639.51 \n",
       "  \"/>\n",
       "<polyline clip-path=\"url(#clip632)\" style=\"stroke:#000000; stroke-width:2; stroke-opacity:0.1; fill:none\" points=\"\n",
       "  188.612,234.193 2352.76,234.193 \n",
       "  \"/>\n",
       "<polyline clip-path=\"url(#clip630)\" style=\"stroke:#000000; stroke-width:4; stroke-opacity:1; fill:none\" points=\"\n",
       "  188.612,1486.45 2352.76,1486.45 \n",
       "  \"/>\n",
       "<polyline clip-path=\"url(#clip630)\" style=\"stroke:#000000; stroke-width:4; stroke-opacity:1; fill:none\" points=\"\n",
       "  188.612,1486.45 188.612,123.472 \n",
       "  \"/>\n",
       "<polyline clip-path=\"url(#clip630)\" style=\"stroke:#000000; stroke-width:4; stroke-opacity:1; fill:none\" points=\"\n",
       "  245.834,1486.45 245.834,1470.09 \n",
       "  \"/>\n",
       "<polyline clip-path=\"url(#clip630)\" style=\"stroke:#000000; stroke-width:4; stroke-opacity:1; fill:none\" points=\"\n",
       "  648.526,1486.45 648.526,1470.09 \n",
       "  \"/>\n",
       "<polyline clip-path=\"url(#clip630)\" style=\"stroke:#000000; stroke-width:4; stroke-opacity:1; fill:none\" points=\"\n",
       "  1051.22,1486.45 1051.22,1470.09 \n",
       "  \"/>\n",
       "<polyline clip-path=\"url(#clip630)\" style=\"stroke:#000000; stroke-width:4; stroke-opacity:1; fill:none\" points=\"\n",
       "  1453.91,1486.45 1453.91,1470.09 \n",
       "  \"/>\n",
       "<polyline clip-path=\"url(#clip630)\" style=\"stroke:#000000; stroke-width:4; stroke-opacity:1; fill:none\" points=\"\n",
       "  1856.6,1486.45 1856.6,1470.09 \n",
       "  \"/>\n",
       "<polyline clip-path=\"url(#clip630)\" style=\"stroke:#000000; stroke-width:4; stroke-opacity:1; fill:none\" points=\"\n",
       "  2259.29,1486.45 2259.29,1470.09 \n",
       "  \"/>\n",
       "<polyline clip-path=\"url(#clip630)\" style=\"stroke:#000000; stroke-width:4; stroke-opacity:1; fill:none\" points=\"\n",
       "  188.612,1450.14 214.582,1450.14 \n",
       "  \"/>\n",
       "<polyline clip-path=\"url(#clip630)\" style=\"stroke:#000000; stroke-width:4; stroke-opacity:1; fill:none\" points=\"\n",
       "  188.612,1044.83 214.582,1044.83 \n",
       "  \"/>\n",
       "<polyline clip-path=\"url(#clip630)\" style=\"stroke:#000000; stroke-width:4; stroke-opacity:1; fill:none\" points=\"\n",
       "  188.612,639.51 214.582,639.51 \n",
       "  \"/>\n",
       "<polyline clip-path=\"url(#clip630)\" style=\"stroke:#000000; stroke-width:4; stroke-opacity:1; fill:none\" points=\"\n",
       "  188.612,234.193 214.582,234.193 \n",
       "  \"/>\n",
       "<path clip-path=\"url(#clip630)\" d=\"M 0 0 M245.834 1508.44 Q242.223 1508.44 240.395 1512 Q238.589 1515.55 238.589 1522.67 Q238.589 1529.78 240.395 1533.35 Q242.223 1536.89 245.834 1536.89 Q249.469 1536.89 251.274 1533.35 Q253.103 1529.78 253.103 1522.67 Q253.103 1515.55 251.274 1512 Q249.469 1508.44 245.834 1508.44 M245.834 1504.73 Q251.645 1504.73 254.7 1509.34 Q257.779 1513.92 257.779 1522.67 Q257.779 1531.4 254.7 1536.01 Q251.645 1540.59 245.834 1540.59 Q240.024 1540.59 236.946 1536.01 Q233.89 1531.4 233.89 1522.67 Q233.89 1513.92 236.946 1509.34 Q240.024 1504.73 245.834 1504.73 Z\" fill=\"#000000\" fill-rule=\"evenodd\" fill-opacity=\"1\" /><path clip-path=\"url(#clip630)\" d=\"M 0 0 M611.894 1535.98 L619.533 1535.98 L619.533 1509.62 L611.223 1511.29 L611.223 1507.03 L619.487 1505.36 L624.162 1505.36 L624.162 1535.98 L631.801 1535.98 L631.801 1539.92 L611.894 1539.92 L611.894 1535.98 Z\" fill=\"#000000\" fill-rule=\"evenodd\" fill-opacity=\"1\" /><path clip-path=\"url(#clip630)\" d=\"M 0 0 M646.871 1508.44 Q643.26 1508.44 641.431 1512 Q639.625 1515.55 639.625 1522.67 Q639.625 1529.78 641.431 1533.35 Q643.26 1536.89 646.871 1536.89 Q650.505 1536.89 652.31 1533.35 Q654.139 1529.78 654.139 1522.67 Q654.139 1515.55 652.31 1512 Q650.505 1508.44 646.871 1508.44 M646.871 1504.73 Q652.681 1504.73 655.736 1509.34 Q658.815 1513.92 658.815 1522.67 Q658.815 1531.4 655.736 1536.01 Q652.681 1540.59 646.871 1540.59 Q641.061 1540.59 637.982 1536.01 Q634.926 1531.4 634.926 1522.67 Q634.926 1513.92 637.982 1509.34 Q641.061 1504.73 646.871 1504.73 Z\" fill=\"#000000\" fill-rule=\"evenodd\" fill-opacity=\"1\" /><path clip-path=\"url(#clip630)\" d=\"M 0 0 M673.884 1508.44 Q670.273 1508.44 668.445 1512 Q666.639 1515.55 666.639 1522.67 Q666.639 1529.78 668.445 1533.35 Q670.273 1536.89 673.884 1536.89 Q677.519 1536.89 679.324 1533.35 Q681.153 1529.78 681.153 1522.67 Q681.153 1515.55 679.324 1512 Q677.519 1508.44 673.884 1508.44 M673.884 1504.73 Q679.695 1504.73 682.75 1509.34 Q685.829 1513.92 685.829 1522.67 Q685.829 1531.4 682.75 1536.01 Q679.695 1540.59 673.884 1540.59 Q668.074 1540.59 664.996 1536.01 Q661.94 1531.4 661.94 1522.67 Q661.94 1513.92 664.996 1509.34 Q668.074 1504.73 673.884 1504.73 Z\" fill=\"#000000\" fill-rule=\"evenodd\" fill-opacity=\"1\" /><path clip-path=\"url(#clip630)\" d=\"M 0 0 M1018.86 1535.98 L1035.18 1535.98 L1035.18 1539.92 L1013.23 1539.92 L1013.23 1535.98 Q1015.89 1533.23 1020.48 1528.6 Q1025.08 1523.95 1026.26 1522.61 Q1028.51 1520.08 1029.39 1518.35 Q1030.29 1516.59 1030.29 1514.9 Q1030.29 1512.14 1028.35 1510.41 Q1026.43 1508.67 1023.32 1508.67 Q1021.12 1508.67 1018.67 1509.43 Q1016.24 1510.2 1013.46 1511.75 L1013.46 1507.03 Q1016.29 1505.89 1018.74 1505.31 Q1021.19 1504.73 1023.23 1504.73 Q1028.6 1504.73 1031.8 1507.42 Q1034.99 1510.11 1034.99 1514.6 Q1034.99 1516.73 1034.18 1518.65 Q1033.39 1520.54 1031.29 1523.14 Q1030.71 1523.81 1027.61 1527.03 Q1024.5 1530.22 1018.86 1535.98 Z\" fill=\"#000000\" fill-rule=\"evenodd\" fill-opacity=\"1\" /><path clip-path=\"url(#clip630)\" d=\"M 0 0 M1050.24 1508.44 Q1046.63 1508.44 1044.81 1512 Q1043 1515.55 1043 1522.67 Q1043 1529.78 1044.81 1533.35 Q1046.63 1536.89 1050.24 1536.89 Q1053.88 1536.89 1055.68 1533.35 Q1057.51 1529.78 1057.51 1522.67 Q1057.51 1515.55 1055.68 1512 Q1053.88 1508.44 1050.24 1508.44 M1050.24 1504.73 Q1056.06 1504.73 1059.11 1509.34 Q1062.19 1513.92 1062.19 1522.67 Q1062.19 1531.4 1059.11 1536.01 Q1056.06 1540.59 1050.24 1540.59 Q1044.43 1540.59 1041.36 1536.01 Q1038.3 1531.4 1038.3 1522.67 Q1038.3 1513.92 1041.36 1509.34 Q1044.43 1504.73 1050.24 1504.73 Z\" fill=\"#000000\" fill-rule=\"evenodd\" fill-opacity=\"1\" /><path clip-path=\"url(#clip630)\" d=\"M 0 0 M1077.26 1508.44 Q1073.65 1508.44 1071.82 1512 Q1070.01 1515.55 1070.01 1522.67 Q1070.01 1529.78 1071.82 1533.35 Q1073.65 1536.89 1077.26 1536.89 Q1080.89 1536.89 1082.7 1533.35 Q1084.53 1529.78 1084.53 1522.67 Q1084.53 1515.55 1082.7 1512 Q1080.89 1508.44 1077.26 1508.44 M1077.26 1504.73 Q1083.07 1504.73 1086.12 1509.34 Q1089.2 1513.92 1089.2 1522.67 Q1089.2 1531.4 1086.12 1536.01 Q1083.07 1540.59 1077.26 1540.59 Q1071.45 1540.59 1068.37 1536.01 Q1065.31 1531.4 1065.31 1522.67 Q1065.31 1513.92 1068.37 1509.34 Q1071.45 1504.73 1077.26 1504.73 Z\" fill=\"#000000\" fill-rule=\"evenodd\" fill-opacity=\"1\" /><path clip-path=\"url(#clip630)\" d=\"M 0 0 M1431.14 1521.29 Q1434.5 1522 1436.37 1524.27 Q1438.27 1526.54 1438.27 1529.87 Q1438.27 1534.99 1434.75 1537.79 Q1431.24 1540.59 1424.75 1540.59 Q1422.58 1540.59 1420.26 1540.15 Q1417.97 1539.73 1415.52 1538.88 L1415.52 1534.36 Q1417.46 1535.5 1419.78 1536.08 Q1422.09 1536.66 1424.61 1536.66 Q1429.01 1536.66 1431.3 1534.92 Q1433.62 1533.18 1433.62 1529.87 Q1433.62 1526.82 1431.47 1525.11 Q1429.34 1523.37 1425.52 1523.37 L1421.49 1523.37 L1421.49 1519.53 L1425.7 1519.53 Q1429.15 1519.53 1430.98 1518.16 Q1432.81 1516.77 1432.81 1514.18 Q1432.81 1511.52 1430.91 1510.11 Q1429.04 1508.67 1425.52 1508.67 Q1423.6 1508.67 1421.4 1509.09 Q1419.2 1509.5 1416.56 1510.38 L1416.56 1506.22 Q1419.22 1505.48 1421.54 1505.11 Q1423.87 1504.73 1425.93 1504.73 Q1431.26 1504.73 1434.36 1507.17 Q1437.46 1509.57 1437.46 1513.69 Q1437.46 1516.56 1435.82 1518.55 Q1434.17 1520.52 1431.14 1521.29 Z\" fill=\"#000000\" fill-rule=\"evenodd\" fill-opacity=\"1\" /><path clip-path=\"url(#clip630)\" d=\"M 0 0 M1453.34 1508.44 Q1449.73 1508.44 1447.9 1512 Q1446.1 1515.55 1446.1 1522.67 Q1446.1 1529.78 1447.9 1533.35 Q1449.73 1536.89 1453.34 1536.89 Q1456.98 1536.89 1458.78 1533.35 Q1460.61 1529.78 1460.61 1522.67 Q1460.61 1515.55 1458.78 1512 Q1456.98 1508.44 1453.34 1508.44 M1453.34 1504.73 Q1459.15 1504.73 1462.21 1509.34 Q1465.29 1513.92 1465.29 1522.67 Q1465.29 1531.4 1462.21 1536.01 Q1459.15 1540.59 1453.34 1540.59 Q1447.53 1540.59 1444.45 1536.01 Q1441.4 1531.4 1441.4 1522.67 Q1441.4 1513.92 1444.45 1509.34 Q1447.53 1504.73 1453.34 1504.73 Z\" fill=\"#000000\" fill-rule=\"evenodd\" fill-opacity=\"1\" /><path clip-path=\"url(#clip630)\" d=\"M 0 0 M1480.36 1508.44 Q1476.74 1508.44 1474.92 1512 Q1473.11 1515.55 1473.11 1522.67 Q1473.11 1529.78 1474.92 1533.35 Q1476.74 1536.89 1480.36 1536.89 Q1483.99 1536.89 1485.79 1533.35 Q1487.62 1529.78 1487.62 1522.67 Q1487.62 1515.55 1485.79 1512 Q1483.99 1508.44 1480.36 1508.44 M1480.36 1504.73 Q1486.17 1504.73 1489.22 1509.34 Q1492.3 1513.92 1492.3 1522.67 Q1492.3 1531.4 1489.22 1536.01 Q1486.17 1540.59 1480.36 1540.59 Q1474.54 1540.59 1471.47 1536.01 Q1468.41 1531.4 1468.41 1522.67 Q1468.41 1513.92 1471.47 1509.34 Q1474.54 1504.73 1480.36 1504.73 Z\" fill=\"#000000\" fill-rule=\"evenodd\" fill-opacity=\"1\" /><path clip-path=\"url(#clip630)\" d=\"M 0 0 M1832.6 1509.43 L1820.79 1527.88 L1832.6 1527.88 L1832.6 1509.43 M1831.37 1505.36 L1837.25 1505.36 L1837.25 1527.88 L1842.18 1527.88 L1842.18 1531.77 L1837.25 1531.77 L1837.25 1539.92 L1832.6 1539.92 L1832.6 1531.77 L1816.99 1531.77 L1816.99 1527.26 L1831.37 1505.36 Z\" fill=\"#000000\" fill-rule=\"evenodd\" fill-opacity=\"1\" /><path clip-path=\"url(#clip630)\" d=\"M 0 0 M1857.25 1508.44 Q1853.64 1508.44 1851.81 1512 Q1850 1515.55 1850 1522.67 Q1850 1529.78 1851.81 1533.35 Q1853.64 1536.89 1857.25 1536.89 Q1860.88 1536.89 1862.69 1533.35 Q1864.52 1529.78 1864.52 1522.67 Q1864.52 1515.55 1862.69 1512 Q1860.88 1508.44 1857.25 1508.44 M1857.25 1504.73 Q1863.06 1504.73 1866.11 1509.34 Q1869.19 1513.92 1869.19 1522.67 Q1869.19 1531.4 1866.11 1536.01 Q1863.06 1540.59 1857.25 1540.59 Q1851.44 1540.59 1848.36 1536.01 Q1845.3 1531.4 1845.3 1522.67 Q1845.3 1513.92 1848.36 1509.34 Q1851.44 1504.73 1857.25 1504.73 Z\" fill=\"#000000\" fill-rule=\"evenodd\" fill-opacity=\"1\" /><path clip-path=\"url(#clip630)\" d=\"M 0 0 M1884.26 1508.44 Q1880.65 1508.44 1878.82 1512 Q1877.02 1515.55 1877.02 1522.67 Q1877.02 1529.78 1878.82 1533.35 Q1880.65 1536.89 1884.26 1536.89 Q1887.9 1536.89 1889.7 1533.35 Q1891.53 1529.78 1891.53 1522.67 Q1891.53 1515.55 1889.7 1512 Q1887.9 1508.44 1884.26 1508.44 M1884.26 1504.73 Q1890.07 1504.73 1893.13 1509.34 Q1896.21 1513.92 1896.21 1522.67 Q1896.21 1531.4 1893.13 1536.01 Q1890.07 1540.59 1884.26 1540.59 Q1878.45 1540.59 1875.37 1536.01 Q1872.32 1531.4 1872.32 1522.67 Q1872.32 1513.92 1875.37 1509.34 Q1878.45 1504.73 1884.26 1504.73 Z\" fill=\"#000000\" fill-rule=\"evenodd\" fill-opacity=\"1\" /><path clip-path=\"url(#clip630)\" d=\"M 0 0 M2222.56 1505.36 L2240.91 1505.36 L2240.91 1509.3 L2226.84 1509.3 L2226.84 1517.77 Q2227.86 1517.42 2228.87 1517.26 Q2229.89 1517.07 2230.91 1517.07 Q2236.7 1517.07 2240.08 1520.24 Q2243.46 1523.42 2243.46 1528.83 Q2243.46 1534.41 2239.99 1537.51 Q2236.51 1540.59 2230.19 1540.59 Q2228.02 1540.59 2225.75 1540.22 Q2223.5 1539.85 2221.1 1539.11 L2221.1 1534.41 Q2223.18 1535.54 2225.4 1536.1 Q2227.62 1536.66 2230.1 1536.66 Q2234.11 1536.66 2236.44 1534.55 Q2238.78 1532.44 2238.78 1528.83 Q2238.78 1525.22 2236.44 1523.11 Q2234.11 1521.01 2230.1 1521.01 Q2228.23 1521.01 2226.35 1521.42 Q2224.5 1521.84 2222.56 1522.72 L2222.56 1505.36 Z\" fill=\"#000000\" fill-rule=\"evenodd\" fill-opacity=\"1\" /><path clip-path=\"url(#clip630)\" d=\"M 0 0 M2258.53 1508.44 Q2254.92 1508.44 2253.09 1512 Q2251.28 1515.55 2251.28 1522.67 Q2251.28 1529.78 2253.09 1533.35 Q2254.92 1536.89 2258.53 1536.89 Q2262.16 1536.89 2263.97 1533.35 Q2265.8 1529.78 2265.8 1522.67 Q2265.8 1515.55 2263.97 1512 Q2262.16 1508.44 2258.53 1508.44 M2258.53 1504.73 Q2264.34 1504.73 2267.39 1509.34 Q2270.47 1513.92 2270.47 1522.67 Q2270.47 1531.4 2267.39 1536.01 Q2264.34 1540.59 2258.53 1540.59 Q2252.72 1540.59 2249.64 1536.01 Q2246.58 1531.4 2246.58 1522.67 Q2246.58 1513.92 2249.64 1509.34 Q2252.72 1504.73 2258.53 1504.73 Z\" fill=\"#000000\" fill-rule=\"evenodd\" fill-opacity=\"1\" /><path clip-path=\"url(#clip630)\" d=\"M 0 0 M2285.54 1508.44 Q2281.93 1508.44 2280.1 1512 Q2278.3 1515.55 2278.3 1522.67 Q2278.3 1529.78 2280.1 1533.35 Q2281.93 1536.89 2285.54 1536.89 Q2289.18 1536.89 2290.98 1533.35 Q2292.81 1529.78 2292.81 1522.67 Q2292.81 1515.55 2290.98 1512 Q2289.18 1508.44 2285.54 1508.44 M2285.54 1504.73 Q2291.35 1504.73 2294.41 1509.34 Q2297.49 1513.92 2297.49 1522.67 Q2297.49 1531.4 2294.41 1536.01 Q2291.35 1540.59 2285.54 1540.59 Q2279.73 1540.59 2276.65 1536.01 Q2273.6 1531.4 2273.6 1522.67 Q2273.6 1513.92 2276.65 1509.34 Q2279.73 1504.73 2285.54 1504.73 Z\" fill=\"#000000\" fill-rule=\"evenodd\" fill-opacity=\"1\" /><path clip-path=\"url(#clip630)\" d=\"M 0 0 M152.668 1435.94 Q149.056 1435.94 147.228 1439.51 Q145.422 1443.05 145.422 1450.18 Q145.422 1457.28 147.228 1460.85 Q149.056 1464.39 152.668 1464.39 Q156.302 1464.39 158.107 1460.85 Q159.936 1457.28 159.936 1450.18 Q159.936 1443.05 158.107 1439.51 Q156.302 1435.94 152.668 1435.94 M152.668 1432.24 Q158.478 1432.24 161.533 1436.84 Q164.612 1441.43 164.612 1450.18 Q164.612 1458.9 161.533 1463.51 Q158.478 1468.09 152.668 1468.09 Q146.857 1468.09 143.779 1463.51 Q140.723 1458.9 140.723 1450.18 Q140.723 1441.43 143.779 1436.84 Q146.857 1432.24 152.668 1432.24 Z\" fill=\"#000000\" fill-rule=\"evenodd\" fill-opacity=\"1\" /><path clip-path=\"url(#clip630)\" d=\"M 0 0 M89.6818 1027.55 L108.038 1027.55 L108.038 1031.48 L93.9642 1031.48 L93.9642 1039.95 Q94.9827 1039.61 96.0012 1039.44 Q97.0197 1039.26 98.0382 1039.26 Q103.825 1039.26 107.205 1042.43 Q110.584 1045.6 110.584 1051.02 Q110.584 1056.6 107.112 1059.7 Q103.64 1062.78 97.3206 1062.78 Q95.1447 1062.78 92.8762 1062.41 Q90.6309 1062.04 88.2235 1061.3 L88.2235 1056.6 Q90.3068 1057.73 92.529 1058.29 Q94.7512 1058.84 97.2281 1058.84 Q101.233 1058.84 103.571 1056.74 Q105.909 1054.63 105.909 1051.02 Q105.909 1047.41 103.571 1045.3 Q101.233 1043.19 97.2281 1043.19 Q95.3531 1043.19 93.4781 1043.61 Q91.6262 1044.03 89.6818 1044.91 L89.6818 1027.55 Z\" fill=\"#000000\" fill-rule=\"evenodd\" fill-opacity=\"1\" /><path clip-path=\"url(#clip630)\" d=\"M 0 0 M125.654 1030.63 Q122.043 1030.63 120.214 1034.19 Q118.408 1037.73 118.408 1044.86 Q118.408 1051.97 120.214 1055.53 Q122.043 1059.07 125.654 1059.07 Q129.288 1059.07 131.094 1055.53 Q132.922 1051.97 132.922 1044.86 Q132.922 1037.73 131.094 1034.19 Q129.288 1030.63 125.654 1030.63 M125.654 1026.92 Q131.464 1026.92 134.52 1031.53 Q137.598 1036.11 137.598 1044.86 Q137.598 1053.59 134.52 1058.19 Q131.464 1062.78 125.654 1062.78 Q119.844 1062.78 116.765 1058.19 Q113.709 1053.59 113.709 1044.86 Q113.709 1036.11 116.765 1031.53 Q119.844 1026.92 125.654 1026.92 Z\" fill=\"#000000\" fill-rule=\"evenodd\" fill-opacity=\"1\" /><path clip-path=\"url(#clip630)\" d=\"M 0 0 M152.668 1030.63 Q149.056 1030.63 147.228 1034.19 Q145.422 1037.73 145.422 1044.86 Q145.422 1051.97 147.228 1055.53 Q149.056 1059.07 152.668 1059.07 Q156.302 1059.07 158.107 1055.53 Q159.936 1051.97 159.936 1044.86 Q159.936 1037.73 158.107 1034.19 Q156.302 1030.63 152.668 1030.63 M152.668 1026.92 Q158.478 1026.92 161.533 1031.53 Q164.612 1036.11 164.612 1044.86 Q164.612 1053.59 161.533 1058.19 Q158.478 1062.78 152.668 1062.78 Q146.857 1062.78 143.779 1058.19 Q140.723 1053.59 140.723 1044.86 Q140.723 1036.11 143.779 1031.53 Q146.857 1026.92 152.668 1026.92 Z\" fill=\"#000000\" fill-rule=\"evenodd\" fill-opacity=\"1\" /><path clip-path=\"url(#clip630)\" d=\"M 0 0 M63.6634 652.855 L71.3023 652.855 L71.3023 626.489 L62.9921 628.156 L62.9921 623.896 L71.256 622.23 L75.9319 622.23 L75.9319 652.855 L83.5707 652.855 L83.5707 656.79 L63.6634 656.79 L63.6634 652.855 Z\" fill=\"#000000\" fill-rule=\"evenodd\" fill-opacity=\"1\" /><path clip-path=\"url(#clip630)\" d=\"M 0 0 M98.6401 625.308 Q95.029 625.308 93.2003 628.873 Q91.3948 632.415 91.3948 639.545 Q91.3948 646.651 93.2003 650.216 Q95.029 653.757 98.6401 653.757 Q102.274 653.757 104.08 650.216 Q105.909 646.651 105.909 639.545 Q105.909 632.415 104.08 628.873 Q102.274 625.308 98.6401 625.308 M98.6401 621.605 Q104.45 621.605 107.506 626.211 Q110.584 630.795 110.584 639.545 Q110.584 648.271 107.506 652.878 Q104.45 657.461 98.6401 657.461 Q92.8299 657.461 89.7512 652.878 Q86.6957 648.271 86.6957 639.545 Q86.6957 630.795 89.7512 626.211 Q92.8299 621.605 98.6401 621.605 Z\" fill=\"#000000\" fill-rule=\"evenodd\" fill-opacity=\"1\" /><path clip-path=\"url(#clip630)\" d=\"M 0 0 M125.654 625.308 Q122.043 625.308 120.214 628.873 Q118.408 632.415 118.408 639.545 Q118.408 646.651 120.214 650.216 Q122.043 653.757 125.654 653.757 Q129.288 653.757 131.094 650.216 Q132.922 646.651 132.922 639.545 Q132.922 632.415 131.094 628.873 Q129.288 625.308 125.654 625.308 M125.654 621.605 Q131.464 621.605 134.52 626.211 Q137.598 630.795 137.598 639.545 Q137.598 648.271 134.52 652.878 Q131.464 657.461 125.654 657.461 Q119.844 657.461 116.765 652.878 Q113.709 648.271 113.709 639.545 Q113.709 630.795 116.765 626.211 Q119.844 621.605 125.654 621.605 Z\" fill=\"#000000\" fill-rule=\"evenodd\" fill-opacity=\"1\" /><path clip-path=\"url(#clip630)\" d=\"M 0 0 M152.668 625.308 Q149.056 625.308 147.228 628.873 Q145.422 632.415 145.422 639.545 Q145.422 646.651 147.228 650.216 Q149.056 653.757 152.668 653.757 Q156.302 653.757 158.107 650.216 Q159.936 646.651 159.936 639.545 Q159.936 632.415 158.107 628.873 Q156.302 625.308 152.668 625.308 M152.668 621.605 Q158.478 621.605 161.533 626.211 Q164.612 630.795 164.612 639.545 Q164.612 648.271 161.533 652.878 Q158.478 657.461 152.668 657.461 Q146.857 657.461 143.779 652.878 Q140.723 648.271 140.723 639.545 Q140.723 630.795 143.779 626.211 Q146.857 621.605 152.668 621.605 Z\" fill=\"#000000\" fill-rule=\"evenodd\" fill-opacity=\"1\" /><path clip-path=\"url(#clip630)\" d=\"M 0 0 M64.6588 247.538 L72.2976 247.538 L72.2976 221.172 L63.9875 222.839 L63.9875 218.58 L72.2513 216.913 L76.9272 216.913 L76.9272 247.538 L84.5661 247.538 L84.5661 251.473 L64.6588 251.473 L64.6588 247.538 Z\" fill=\"#000000\" fill-rule=\"evenodd\" fill-opacity=\"1\" /><path clip-path=\"url(#clip630)\" d=\"M 0 0 M89.6818 216.913 L108.038 216.913 L108.038 220.848 L93.9642 220.848 L93.9642 229.321 Q94.9827 228.973 96.0012 228.811 Q97.0197 228.626 98.0382 228.626 Q103.825 228.626 107.205 231.797 Q110.584 234.969 110.584 240.385 Q110.584 245.964 107.112 249.066 Q103.64 252.145 97.3206 252.145 Q95.1447 252.145 92.8762 251.774 Q90.6309 251.404 88.2235 250.663 L88.2235 245.964 Q90.3068 247.098 92.529 247.654 Q94.7512 248.209 97.2281 248.209 Q101.233 248.209 103.571 246.103 Q105.909 243.996 105.909 240.385 Q105.909 236.774 103.571 234.668 Q101.233 232.561 97.2281 232.561 Q95.3531 232.561 93.4781 232.978 Q91.6262 233.395 89.6818 234.274 L89.6818 216.913 Z\" fill=\"#000000\" fill-rule=\"evenodd\" fill-opacity=\"1\" /><path clip-path=\"url(#clip630)\" d=\"M 0 0 M125.654 219.992 Q122.043 219.992 120.214 223.557 Q118.408 227.098 118.408 234.228 Q118.408 241.334 120.214 244.899 Q122.043 248.441 125.654 248.441 Q129.288 248.441 131.094 244.899 Q132.922 241.334 132.922 234.228 Q132.922 227.098 131.094 223.557 Q129.288 219.992 125.654 219.992 M125.654 216.288 Q131.464 216.288 134.52 220.895 Q137.598 225.478 137.598 234.228 Q137.598 242.955 134.52 247.561 Q131.464 252.145 125.654 252.145 Q119.844 252.145 116.765 247.561 Q113.709 242.955 113.709 234.228 Q113.709 225.478 116.765 220.895 Q119.844 216.288 125.654 216.288 Z\" fill=\"#000000\" fill-rule=\"evenodd\" fill-opacity=\"1\" /><path clip-path=\"url(#clip630)\" d=\"M 0 0 M152.668 219.992 Q149.056 219.992 147.228 223.557 Q145.422 227.098 145.422 234.228 Q145.422 241.334 147.228 244.899 Q149.056 248.441 152.668 248.441 Q156.302 248.441 158.107 244.899 Q159.936 241.334 159.936 234.228 Q159.936 227.098 158.107 223.557 Q156.302 219.992 152.668 219.992 M152.668 216.288 Q158.478 216.288 161.533 220.895 Q164.612 225.478 164.612 234.228 Q164.612 242.955 161.533 247.561 Q158.478 252.145 152.668 252.145 Q146.857 252.145 143.779 247.561 Q140.723 242.955 140.723 234.228 Q140.723 225.478 143.779 220.895 Q146.857 216.288 152.668 216.288 Z\" fill=\"#000000\" fill-rule=\"evenodd\" fill-opacity=\"1\" /><path clip-path=\"url(#clip630)\" d=\"M 0 0 M1151.02 48.0275 L1151.02 51.6733 L1116.75 51.6733 Q1117.24 59.3701 1121.37 63.421 Q1125.54 67.4314 1132.95 67.4314 Q1137.25 67.4314 1141.26 66.3781 Q1145.31 65.3249 1149.28 63.2184 L1149.28 70.267 Q1145.27 71.9684 1141.05 72.8596 Q1136.84 73.7508 1132.51 73.7508 Q1121.65 73.7508 1115.29 67.4314 Q1108.97 61.1119 1108.97 50.3365 Q1108.97 39.1965 1114.97 32.6746 Q1121 26.1121 1131.21 26.1121 Q1140.37 26.1121 1145.67 32.0264 Q1151.02 37.9003 1151.02 48.0275 M1143.57 45.84 Q1143.49 39.7232 1140.12 36.0774 Q1136.8 32.4315 1131.29 32.4315 Q1125.05 32.4315 1121.29 35.9558 Q1117.56 39.4801 1116.99 45.8805 L1143.57 45.84 Z\" fill=\"#000000\" fill-rule=\"evenodd\" fill-opacity=\"1\" /><path clip-path=\"url(#clip630)\" d=\"M 0 0 M1158.84 9.54393 L1166.29 9.54393 L1166.29 72.576 L1158.84 72.576 L1158.84 9.54393 Z\" fill=\"#000000\" fill-rule=\"evenodd\" fill-opacity=\"1\" /><path clip-path=\"url(#clip630)\" d=\"M 0 0 M1191.69 32.4315 Q1185.7 32.4315 1182.21 37.1306 Q1178.73 41.7891 1178.73 49.9314 Q1178.73 58.0738 1182.17 62.7728 Q1185.66 67.4314 1191.69 67.4314 Q1197.65 67.4314 1201.13 62.7323 Q1204.61 58.0333 1204.61 49.9314 Q1204.61 41.8701 1201.13 37.1711 Q1197.65 32.4315 1191.69 32.4315 M1191.69 26.1121 Q1201.41 26.1121 1206.96 32.4315 Q1212.51 38.7509 1212.51 49.9314 Q1212.51 61.0714 1206.96 67.4314 Q1201.41 73.7508 1191.69 73.7508 Q1181.93 73.7508 1176.38 67.4314 Q1170.87 61.0714 1170.87 49.9314 Q1170.87 38.7509 1176.38 32.4315 Q1181.93 26.1121 1191.69 26.1121 Z\" fill=\"#000000\" fill-rule=\"evenodd\" fill-opacity=\"1\" /><path clip-path=\"url(#clip630)\" d=\"M 0 0 M1227.54 65.7705 L1227.54 89.8329 L1220.05 89.8329 L1220.05 27.2059 L1227.54 27.2059 L1227.54 34.0924 Q1229.89 30.0415 1233.46 28.0971 Q1237.06 26.1121 1242.04 26.1121 Q1250.31 26.1121 1255.45 32.6746 Q1260.64 39.2371 1260.64 49.9314 Q1260.64 60.6258 1255.45 67.1883 Q1250.31 73.7508 1242.04 73.7508 Q1237.06 73.7508 1233.46 71.8063 Q1229.89 69.8214 1227.54 65.7705 M1252.9 49.9314 Q1252.9 41.7081 1249.5 37.0496 Q1246.14 32.3505 1240.22 32.3505 Q1234.31 32.3505 1230.9 37.0496 Q1227.54 41.7081 1227.54 49.9314 Q1227.54 58.1548 1230.9 62.8538 Q1234.31 67.5124 1240.22 67.5124 Q1246.14 67.5124 1249.5 62.8538 Q1252.9 58.1548 1252.9 49.9314 Z\" fill=\"#000000\" fill-rule=\"evenodd\" fill-opacity=\"1\" /><path clip-path=\"url(#clip630)\" d=\"M 0 0 M1294.75 34.1734 Q1293.49 33.4443 1291.99 33.1202 Q1290.53 32.7556 1288.75 32.7556 Q1282.43 32.7556 1279.03 36.8875 Q1275.67 40.9789 1275.67 48.6757 L1275.67 72.576 L1268.17 72.576 L1268.17 27.2059 L1275.67 27.2059 L1275.67 34.2544 Q1278.02 30.1225 1281.78 28.1376 Q1285.55 26.1121 1290.94 26.1121 Q1291.71 26.1121 1292.64 26.2337 Q1293.57 26.3147 1294.71 26.5172 L1294.75 34.1734 Z\" fill=\"#000000\" fill-rule=\"evenodd\" fill-opacity=\"1\" /><path clip-path=\"url(#clip630)\" d=\"M 0 0 M1318.32 32.4315 Q1312.33 32.4315 1308.84 37.1306 Q1305.36 41.7891 1305.36 49.9314 Q1305.36 58.0738 1308.8 62.7728 Q1312.29 67.4314 1318.32 67.4314 Q1324.28 67.4314 1327.76 62.7323 Q1331.24 58.0333 1331.24 49.9314 Q1331.24 41.8701 1327.76 37.1711 Q1324.28 32.4315 1318.32 32.4315 M1318.32 26.1121 Q1328.04 26.1121 1333.59 32.4315 Q1339.14 38.7509 1339.14 49.9314 Q1339.14 61.0714 1333.59 67.4314 Q1328.04 73.7508 1318.32 73.7508 Q1308.56 73.7508 1303.01 67.4314 Q1297.5 61.0714 1297.5 49.9314 Q1297.5 38.7509 1303.01 32.4315 Q1308.56 26.1121 1318.32 26.1121 Z\" fill=\"#000000\" fill-rule=\"evenodd\" fill-opacity=\"1\" /><path clip-path=\"url(#clip630)\" d=\"M 0 0 M1379.53 49.9314 Q1379.53 41.7081 1376.13 37.0496 Q1372.77 32.3505 1366.85 32.3505 Q1360.94 32.3505 1357.54 37.0496 Q1354.17 41.7081 1354.17 49.9314 Q1354.17 58.1548 1357.54 62.8538 Q1360.94 67.5124 1366.85 67.5124 Q1372.77 67.5124 1376.13 62.8538 Q1379.53 58.1548 1379.53 49.9314 M1354.17 34.0924 Q1356.52 30.0415 1360.09 28.0971 Q1363.69 26.1121 1368.68 26.1121 Q1376.94 26.1121 1382.08 32.6746 Q1387.27 39.2371 1387.27 49.9314 Q1387.27 60.6258 1382.08 67.1883 Q1376.94 73.7508 1368.68 73.7508 Q1363.69 73.7508 1360.09 71.8063 Q1356.52 69.8214 1354.17 65.7705 L1354.17 72.576 L1346.68 72.576 L1346.68 9.54393 L1354.17 9.54393 L1354.17 34.0924 Z\" fill=\"#000000\" fill-rule=\"evenodd\" fill-opacity=\"1\" /><path clip-path=\"url(#clip630)\" d=\"M 0 0 M1397.56 65.6895 L1410.93 65.6895 L1410.93 19.5497 L1396.38 22.4663 L1396.38 15.0127 L1410.85 12.096 L1419.03 12.096 L1419.03 65.6895 L1432.4 65.6895 L1432.4 72.576 L1397.56 72.576 L1397.56 65.6895 Z\" fill=\"#000000\" fill-rule=\"evenodd\" fill-opacity=\"1\" /><circle clip-path=\"url(#clip632)\" cx=\"249.861\" cy=\"1307.88\" r=\"14\" fill=\"#009af9\" fill-rule=\"evenodd\" fill-opacity=\"1\" stroke=\"#000000\" stroke-opacity=\"1\" stroke-width=\"3.2\"/>\n",
       "<circle clip-path=\"url(#clip632)\" cx=\"253.888\" cy=\"1307.88\" r=\"14\" fill=\"#009af9\" fill-rule=\"evenodd\" fill-opacity=\"1\" stroke=\"#000000\" stroke-opacity=\"1\" stroke-width=\"3.2\"/>\n",
       "<circle clip-path=\"url(#clip632)\" cx=\"257.915\" cy=\"1410.48\" r=\"14\" fill=\"#009af9\" fill-rule=\"evenodd\" fill-opacity=\"1\" stroke=\"#000000\" stroke-opacity=\"1\" stroke-width=\"3.2\"/>\n",
       "<circle clip-path=\"url(#clip632)\" cx=\"261.942\" cy=\"1410.48\" r=\"14\" fill=\"#009af9\" fill-rule=\"evenodd\" fill-opacity=\"1\" stroke=\"#000000\" stroke-opacity=\"1\" stroke-width=\"3.2\"/>\n",
       "<circle clip-path=\"url(#clip632)\" cx=\"265.969\" cy=\"1415.87\" r=\"14\" fill=\"#009af9\" fill-rule=\"evenodd\" fill-opacity=\"1\" stroke=\"#000000\" stroke-opacity=\"1\" stroke-width=\"3.2\"/>\n",
       "<circle clip-path=\"url(#clip632)\" cx=\"269.996\" cy=\"1415.87\" r=\"14\" fill=\"#009af9\" fill-rule=\"evenodd\" fill-opacity=\"1\" stroke=\"#000000\" stroke-opacity=\"1\" stroke-width=\"3.2\"/>\n",
       "<circle clip-path=\"url(#clip632)\" cx=\"274.023\" cy=\"1401.46\" r=\"14\" fill=\"#009af9\" fill-rule=\"evenodd\" fill-opacity=\"1\" stroke=\"#000000\" stroke-opacity=\"1\" stroke-width=\"3.2\"/>\n",
       "<circle clip-path=\"url(#clip632)\" cx=\"278.05\" cy=\"1357.07\" r=\"14\" fill=\"#009af9\" fill-rule=\"evenodd\" fill-opacity=\"1\" stroke=\"#000000\" stroke-opacity=\"1\" stroke-width=\"3.2\"/>\n",
       "<circle clip-path=\"url(#clip632)\" cx=\"282.077\" cy=\"1418.58\" r=\"14\" fill=\"#009af9\" fill-rule=\"evenodd\" fill-opacity=\"1\" stroke=\"#000000\" stroke-opacity=\"1\" stroke-width=\"3.2\"/>\n",
       "<circle clip-path=\"url(#clip632)\" cx=\"286.104\" cy=\"1335.03\" r=\"14\" fill=\"#009af9\" fill-rule=\"evenodd\" fill-opacity=\"1\" stroke=\"#000000\" stroke-opacity=\"1\" stroke-width=\"3.2\"/>\n",
       "<circle clip-path=\"url(#clip632)\" cx=\"290.13\" cy=\"1357.37\" r=\"14\" fill=\"#009af9\" fill-rule=\"evenodd\" fill-opacity=\"1\" stroke=\"#000000\" stroke-opacity=\"1\" stroke-width=\"3.2\"/>\n",
       "<circle clip-path=\"url(#clip632)\" cx=\"294.157\" cy=\"1386.26\" r=\"14\" fill=\"#009af9\" fill-rule=\"evenodd\" fill-opacity=\"1\" stroke=\"#000000\" stroke-opacity=\"1\" stroke-width=\"3.2\"/>\n",
       "<circle clip-path=\"url(#clip632)\" cx=\"298.184\" cy=\"1442.28\" r=\"14\" fill=\"#009af9\" fill-rule=\"evenodd\" fill-opacity=\"1\" stroke=\"#000000\" stroke-opacity=\"1\" stroke-width=\"3.2\"/>\n",
       "<circle clip-path=\"url(#clip632)\" cx=\"302.211\" cy=\"1442.04\" r=\"14\" fill=\"#009af9\" fill-rule=\"evenodd\" fill-opacity=\"1\" stroke=\"#000000\" stroke-opacity=\"1\" stroke-width=\"3.2\"/>\n",
       "<circle clip-path=\"url(#clip632)\" cx=\"306.238\" cy=\"1353.26\" r=\"14\" fill=\"#009af9\" fill-rule=\"evenodd\" fill-opacity=\"1\" stroke=\"#000000\" stroke-opacity=\"1\" stroke-width=\"3.2\"/>\n",
       "<circle clip-path=\"url(#clip632)\" cx=\"310.265\" cy=\"1329.51\" r=\"14\" fill=\"#009af9\" fill-rule=\"evenodd\" fill-opacity=\"1\" stroke=\"#000000\" stroke-opacity=\"1\" stroke-width=\"3.2\"/>\n",
       "<circle clip-path=\"url(#clip632)\" cx=\"314.292\" cy=\"1394.37\" r=\"14\" fill=\"#009af9\" fill-rule=\"evenodd\" fill-opacity=\"1\" stroke=\"#000000\" stroke-opacity=\"1\" stroke-width=\"3.2\"/>\n",
       "<circle clip-path=\"url(#clip632)\" cx=\"318.319\" cy=\"1410.24\" r=\"14\" fill=\"#009af9\" fill-rule=\"evenodd\" fill-opacity=\"1\" stroke=\"#000000\" stroke-opacity=\"1\" stroke-width=\"3.2\"/>\n",
       "<circle clip-path=\"url(#clip632)\" cx=\"322.346\" cy=\"1341.82\" r=\"14\" fill=\"#009af9\" fill-rule=\"evenodd\" fill-opacity=\"1\" stroke=\"#000000\" stroke-opacity=\"1\" stroke-width=\"3.2\"/>\n",
       "<circle clip-path=\"url(#clip632)\" cx=\"326.373\" cy=\"1413.95\" r=\"14\" fill=\"#009af9\" fill-rule=\"evenodd\" fill-opacity=\"1\" stroke=\"#000000\" stroke-opacity=\"1\" stroke-width=\"3.2\"/>\n",
       "<circle clip-path=\"url(#clip632)\" cx=\"330.4\" cy=\"1402.11\" r=\"14\" fill=\"#009af9\" fill-rule=\"evenodd\" fill-opacity=\"1\" stroke=\"#000000\" stroke-opacity=\"1\" stroke-width=\"3.2\"/>\n",
       "<circle clip-path=\"url(#clip632)\" cx=\"334.426\" cy=\"1376.9\" r=\"14\" fill=\"#009af9\" fill-rule=\"evenodd\" fill-opacity=\"1\" stroke=\"#000000\" stroke-opacity=\"1\" stroke-width=\"3.2\"/>\n",
       "<circle clip-path=\"url(#clip632)\" cx=\"338.453\" cy=\"1363.49\" r=\"14\" fill=\"#009af9\" fill-rule=\"evenodd\" fill-opacity=\"1\" stroke=\"#000000\" stroke-opacity=\"1\" stroke-width=\"3.2\"/>\n",
       "<circle clip-path=\"url(#clip632)\" cx=\"342.48\" cy=\"1372.18\" r=\"14\" fill=\"#009af9\" fill-rule=\"evenodd\" fill-opacity=\"1\" stroke=\"#000000\" stroke-opacity=\"1\" stroke-width=\"3.2\"/>\n",
       "<circle clip-path=\"url(#clip632)\" cx=\"346.507\" cy=\"1375.07\" r=\"14\" fill=\"#009af9\" fill-rule=\"evenodd\" fill-opacity=\"1\" stroke=\"#000000\" stroke-opacity=\"1\" stroke-width=\"3.2\"/>\n",
       "<circle clip-path=\"url(#clip632)\" cx=\"350.534\" cy=\"1396.06\" r=\"14\" fill=\"#009af9\" fill-rule=\"evenodd\" fill-opacity=\"1\" stroke=\"#000000\" stroke-opacity=\"1\" stroke-width=\"3.2\"/>\n",
       "<circle clip-path=\"url(#clip632)\" cx=\"354.561\" cy=\"1320.38\" r=\"14\" fill=\"#009af9\" fill-rule=\"evenodd\" fill-opacity=\"1\" stroke=\"#000000\" stroke-opacity=\"1\" stroke-width=\"3.2\"/>\n",
       "<circle clip-path=\"url(#clip632)\" cx=\"358.588\" cy=\"1280.72\" r=\"14\" fill=\"#009af9\" fill-rule=\"evenodd\" fill-opacity=\"1\" stroke=\"#000000\" stroke-opacity=\"1\" stroke-width=\"3.2\"/>\n",
       "<circle clip-path=\"url(#clip632)\" cx=\"362.615\" cy=\"1420.28\" r=\"14\" fill=\"#009af9\" fill-rule=\"evenodd\" fill-opacity=\"1\" stroke=\"#000000\" stroke-opacity=\"1\" stroke-width=\"3.2\"/>\n",
       "<circle clip-path=\"url(#clip632)\" cx=\"366.642\" cy=\"1387.13\" r=\"14\" fill=\"#009af9\" fill-rule=\"evenodd\" fill-opacity=\"1\" stroke=\"#000000\" stroke-opacity=\"1\" stroke-width=\"3.2\"/>\n",
       "<circle clip-path=\"url(#clip632)\" cx=\"370.669\" cy=\"781.938\" r=\"14\" fill=\"#009af9\" fill-rule=\"evenodd\" fill-opacity=\"1\" stroke=\"#000000\" stroke-opacity=\"1\" stroke-width=\"3.2\"/>\n",
       "<circle clip-path=\"url(#clip632)\" cx=\"374.696\" cy=\"799.05\" r=\"14\" fill=\"#009af9\" fill-rule=\"evenodd\" fill-opacity=\"1\" stroke=\"#000000\" stroke-opacity=\"1\" stroke-width=\"3.2\"/>\n",
       "<circle clip-path=\"url(#clip632)\" cx=\"378.723\" cy=\"1401.5\" r=\"14\" fill=\"#009af9\" fill-rule=\"evenodd\" fill-opacity=\"1\" stroke=\"#000000\" stroke-opacity=\"1\" stroke-width=\"3.2\"/>\n",
       "<circle clip-path=\"url(#clip632)\" cx=\"382.749\" cy=\"791.503\" r=\"14\" fill=\"#009af9\" fill-rule=\"evenodd\" fill-opacity=\"1\" stroke=\"#000000\" stroke-opacity=\"1\" stroke-width=\"3.2\"/>\n",
       "<circle clip-path=\"url(#clip632)\" cx=\"386.776\" cy=\"1408.14\" r=\"14\" fill=\"#009af9\" fill-rule=\"evenodd\" fill-opacity=\"1\" stroke=\"#000000\" stroke-opacity=\"1\" stroke-width=\"3.2\"/>\n",
       "<circle clip-path=\"url(#clip632)\" cx=\"390.803\" cy=\"1418.36\" r=\"14\" fill=\"#009af9\" fill-rule=\"evenodd\" fill-opacity=\"1\" stroke=\"#000000\" stroke-opacity=\"1\" stroke-width=\"3.2\"/>\n",
       "<circle clip-path=\"url(#clip632)\" cx=\"394.83\" cy=\"1399.32\" r=\"14\" fill=\"#009af9\" fill-rule=\"evenodd\" fill-opacity=\"1\" stroke=\"#000000\" stroke-opacity=\"1\" stroke-width=\"3.2\"/>\n",
       "<circle clip-path=\"url(#clip632)\" cx=\"398.857\" cy=\"1388.93\" r=\"14\" fill=\"#009af9\" fill-rule=\"evenodd\" fill-opacity=\"1\" stroke=\"#000000\" stroke-opacity=\"1\" stroke-width=\"3.2\"/>\n",
       "<circle clip-path=\"url(#clip632)\" cx=\"402.884\" cy=\"1403.25\" r=\"14\" fill=\"#009af9\" fill-rule=\"evenodd\" fill-opacity=\"1\" stroke=\"#000000\" stroke-opacity=\"1\" stroke-width=\"3.2\"/>\n",
       "<circle clip-path=\"url(#clip632)\" cx=\"406.911\" cy=\"1366.36\" r=\"14\" fill=\"#009af9\" fill-rule=\"evenodd\" fill-opacity=\"1\" stroke=\"#000000\" stroke-opacity=\"1\" stroke-width=\"3.2\"/>\n",
       "<circle clip-path=\"url(#clip632)\" cx=\"410.938\" cy=\"1391.87\" r=\"14\" fill=\"#009af9\" fill-rule=\"evenodd\" fill-opacity=\"1\" stroke=\"#000000\" stroke-opacity=\"1\" stroke-width=\"3.2\"/>\n",
       "<circle clip-path=\"url(#clip632)\" cx=\"414.965\" cy=\"1353.81\" r=\"14\" fill=\"#009af9\" fill-rule=\"evenodd\" fill-opacity=\"1\" stroke=\"#000000\" stroke-opacity=\"1\" stroke-width=\"3.2\"/>\n",
       "<circle clip-path=\"url(#clip632)\" cx=\"418.992\" cy=\"1391.86\" r=\"14\" fill=\"#009af9\" fill-rule=\"evenodd\" fill-opacity=\"1\" stroke=\"#000000\" stroke-opacity=\"1\" stroke-width=\"3.2\"/>\n",
       "<circle clip-path=\"url(#clip632)\" cx=\"423.019\" cy=\"1408.55\" r=\"14\" fill=\"#009af9\" fill-rule=\"evenodd\" fill-opacity=\"1\" stroke=\"#000000\" stroke-opacity=\"1\" stroke-width=\"3.2\"/>\n",
       "<circle clip-path=\"url(#clip632)\" cx=\"427.046\" cy=\"1326.8\" r=\"14\" fill=\"#009af9\" fill-rule=\"evenodd\" fill-opacity=\"1\" stroke=\"#000000\" stroke-opacity=\"1\" stroke-width=\"3.2\"/>\n",
       "<circle clip-path=\"url(#clip632)\" cx=\"431.072\" cy=\"1395.62\" r=\"14\" fill=\"#009af9\" fill-rule=\"evenodd\" fill-opacity=\"1\" stroke=\"#000000\" stroke-opacity=\"1\" stroke-width=\"3.2\"/>\n",
       "<circle clip-path=\"url(#clip632)\" cx=\"435.099\" cy=\"1417.75\" r=\"14\" fill=\"#009af9\" fill-rule=\"evenodd\" fill-opacity=\"1\" stroke=\"#000000\" stroke-opacity=\"1\" stroke-width=\"3.2\"/>\n",
       "<circle clip-path=\"url(#clip632)\" cx=\"439.126\" cy=\"1389.63\" r=\"14\" fill=\"#009af9\" fill-rule=\"evenodd\" fill-opacity=\"1\" stroke=\"#000000\" stroke-opacity=\"1\" stroke-width=\"3.2\"/>\n",
       "<circle clip-path=\"url(#clip632)\" cx=\"443.153\" cy=\"1389.26\" r=\"14\" fill=\"#009af9\" fill-rule=\"evenodd\" fill-opacity=\"1\" stroke=\"#000000\" stroke-opacity=\"1\" stroke-width=\"3.2\"/>\n",
       "<circle clip-path=\"url(#clip632)\" cx=\"447.18\" cy=\"1373.52\" r=\"14\" fill=\"#009af9\" fill-rule=\"evenodd\" fill-opacity=\"1\" stroke=\"#000000\" stroke-opacity=\"1\" stroke-width=\"3.2\"/>\n",
       "<circle clip-path=\"url(#clip632)\" cx=\"451.207\" cy=\"1323.03\" r=\"14\" fill=\"#009af9\" fill-rule=\"evenodd\" fill-opacity=\"1\" stroke=\"#000000\" stroke-opacity=\"1\" stroke-width=\"3.2\"/>\n",
       "<circle clip-path=\"url(#clip632)\" cx=\"455.234\" cy=\"1358.36\" r=\"14\" fill=\"#009af9\" fill-rule=\"evenodd\" fill-opacity=\"1\" stroke=\"#000000\" stroke-opacity=\"1\" stroke-width=\"3.2\"/>\n",
       "<circle clip-path=\"url(#clip632)\" cx=\"459.261\" cy=\"1419.23\" r=\"14\" fill=\"#009af9\" fill-rule=\"evenodd\" fill-opacity=\"1\" stroke=\"#000000\" stroke-opacity=\"1\" stroke-width=\"3.2\"/>\n",
       "<circle clip-path=\"url(#clip632)\" cx=\"463.288\" cy=\"1418.65\" r=\"14\" fill=\"#009af9\" fill-rule=\"evenodd\" fill-opacity=\"1\" stroke=\"#000000\" stroke-opacity=\"1\" stroke-width=\"3.2\"/>\n",
       "<circle clip-path=\"url(#clip632)\" cx=\"467.315\" cy=\"1343.85\" r=\"14\" fill=\"#009af9\" fill-rule=\"evenodd\" fill-opacity=\"1\" stroke=\"#000000\" stroke-opacity=\"1\" stroke-width=\"3.2\"/>\n",
       "<circle clip-path=\"url(#clip632)\" cx=\"471.342\" cy=\"1422.11\" r=\"14\" fill=\"#009af9\" fill-rule=\"evenodd\" fill-opacity=\"1\" stroke=\"#000000\" stroke-opacity=\"1\" stroke-width=\"3.2\"/>\n",
       "<circle clip-path=\"url(#clip632)\" cx=\"475.368\" cy=\"1382.88\" r=\"14\" fill=\"#009af9\" fill-rule=\"evenodd\" fill-opacity=\"1\" stroke=\"#000000\" stroke-opacity=\"1\" stroke-width=\"3.2\"/>\n",
       "<circle clip-path=\"url(#clip632)\" cx=\"479.395\" cy=\"1418.86\" r=\"14\" fill=\"#009af9\" fill-rule=\"evenodd\" fill-opacity=\"1\" stroke=\"#000000\" stroke-opacity=\"1\" stroke-width=\"3.2\"/>\n",
       "<circle clip-path=\"url(#clip632)\" cx=\"483.422\" cy=\"1432.51\" r=\"14\" fill=\"#009af9\" fill-rule=\"evenodd\" fill-opacity=\"1\" stroke=\"#000000\" stroke-opacity=\"1\" stroke-width=\"3.2\"/>\n",
       "<circle clip-path=\"url(#clip632)\" cx=\"487.449\" cy=\"1406.67\" r=\"14\" fill=\"#009af9\" fill-rule=\"evenodd\" fill-opacity=\"1\" stroke=\"#000000\" stroke-opacity=\"1\" stroke-width=\"3.2\"/>\n",
       "<circle clip-path=\"url(#clip632)\" cx=\"491.476\" cy=\"1380.5\" r=\"14\" fill=\"#009af9\" fill-rule=\"evenodd\" fill-opacity=\"1\" stroke=\"#000000\" stroke-opacity=\"1\" stroke-width=\"3.2\"/>\n",
       "<circle clip-path=\"url(#clip632)\" cx=\"495.503\" cy=\"1423.76\" r=\"14\" fill=\"#009af9\" fill-rule=\"evenodd\" fill-opacity=\"1\" stroke=\"#000000\" stroke-opacity=\"1\" stroke-width=\"3.2\"/>\n",
       "<circle clip-path=\"url(#clip632)\" cx=\"499.53\" cy=\"1383.87\" r=\"14\" fill=\"#009af9\" fill-rule=\"evenodd\" fill-opacity=\"1\" stroke=\"#000000\" stroke-opacity=\"1\" stroke-width=\"3.2\"/>\n",
       "<circle clip-path=\"url(#clip632)\" cx=\"503.557\" cy=\"1372.73\" r=\"14\" fill=\"#009af9\" fill-rule=\"evenodd\" fill-opacity=\"1\" stroke=\"#000000\" stroke-opacity=\"1\" stroke-width=\"3.2\"/>\n",
       "<circle clip-path=\"url(#clip632)\" cx=\"507.584\" cy=\"1052.02\" r=\"14\" fill=\"#009af9\" fill-rule=\"evenodd\" fill-opacity=\"1\" stroke=\"#000000\" stroke-opacity=\"1\" stroke-width=\"3.2\"/>\n",
       "<circle clip-path=\"url(#clip632)\" cx=\"511.611\" cy=\"1323.68\" r=\"14\" fill=\"#009af9\" fill-rule=\"evenodd\" fill-opacity=\"1\" stroke=\"#000000\" stroke-opacity=\"1\" stroke-width=\"3.2\"/>\n",
       "<circle clip-path=\"url(#clip632)\" cx=\"515.638\" cy=\"1386.53\" r=\"14\" fill=\"#009af9\" fill-rule=\"evenodd\" fill-opacity=\"1\" stroke=\"#000000\" stroke-opacity=\"1\" stroke-width=\"3.2\"/>\n",
       "<circle clip-path=\"url(#clip632)\" cx=\"519.665\" cy=\"1427.42\" r=\"14\" fill=\"#009af9\" fill-rule=\"evenodd\" fill-opacity=\"1\" stroke=\"#000000\" stroke-opacity=\"1\" stroke-width=\"3.2\"/>\n",
       "<circle clip-path=\"url(#clip632)\" cx=\"523.691\" cy=\"1421.28\" r=\"14\" fill=\"#009af9\" fill-rule=\"evenodd\" fill-opacity=\"1\" stroke=\"#000000\" stroke-opacity=\"1\" stroke-width=\"3.2\"/>\n",
       "<circle clip-path=\"url(#clip632)\" cx=\"527.718\" cy=\"1432.25\" r=\"14\" fill=\"#009af9\" fill-rule=\"evenodd\" fill-opacity=\"1\" stroke=\"#000000\" stroke-opacity=\"1\" stroke-width=\"3.2\"/>\n",
       "<circle clip-path=\"url(#clip632)\" cx=\"531.745\" cy=\"1411.11\" r=\"14\" fill=\"#009af9\" fill-rule=\"evenodd\" fill-opacity=\"1\" stroke=\"#000000\" stroke-opacity=\"1\" stroke-width=\"3.2\"/>\n",
       "<circle clip-path=\"url(#clip632)\" cx=\"535.772\" cy=\"1416.77\" r=\"14\" fill=\"#009af9\" fill-rule=\"evenodd\" fill-opacity=\"1\" stroke=\"#000000\" stroke-opacity=\"1\" stroke-width=\"3.2\"/>\n",
       "<circle clip-path=\"url(#clip632)\" cx=\"539.799\" cy=\"1307.75\" r=\"14\" fill=\"#009af9\" fill-rule=\"evenodd\" fill-opacity=\"1\" stroke=\"#000000\" stroke-opacity=\"1\" stroke-width=\"3.2\"/>\n",
       "<circle clip-path=\"url(#clip632)\" cx=\"543.826\" cy=\"1319.69\" r=\"14\" fill=\"#009af9\" fill-rule=\"evenodd\" fill-opacity=\"1\" stroke=\"#000000\" stroke-opacity=\"1\" stroke-width=\"3.2\"/>\n",
       "<circle clip-path=\"url(#clip632)\" cx=\"547.853\" cy=\"1416.36\" r=\"14\" fill=\"#009af9\" fill-rule=\"evenodd\" fill-opacity=\"1\" stroke=\"#000000\" stroke-opacity=\"1\" stroke-width=\"3.2\"/>\n",
       "<circle clip-path=\"url(#clip632)\" cx=\"551.88\" cy=\"1252.12\" r=\"14\" fill=\"#009af9\" fill-rule=\"evenodd\" fill-opacity=\"1\" stroke=\"#000000\" stroke-opacity=\"1\" stroke-width=\"3.2\"/>\n",
       "<circle clip-path=\"url(#clip632)\" cx=\"555.907\" cy=\"1151.83\" r=\"14\" fill=\"#009af9\" fill-rule=\"evenodd\" fill-opacity=\"1\" stroke=\"#000000\" stroke-opacity=\"1\" stroke-width=\"3.2\"/>\n",
       "<circle clip-path=\"url(#clip632)\" cx=\"559.934\" cy=\"1434.05\" r=\"14\" fill=\"#009af9\" fill-rule=\"evenodd\" fill-opacity=\"1\" stroke=\"#000000\" stroke-opacity=\"1\" stroke-width=\"3.2\"/>\n",
       "<circle clip-path=\"url(#clip632)\" cx=\"563.961\" cy=\"1317.45\" r=\"14\" fill=\"#009af9\" fill-rule=\"evenodd\" fill-opacity=\"1\" stroke=\"#000000\" stroke-opacity=\"1\" stroke-width=\"3.2\"/>\n",
       "<circle clip-path=\"url(#clip632)\" cx=\"567.987\" cy=\"1419.71\" r=\"14\" fill=\"#009af9\" fill-rule=\"evenodd\" fill-opacity=\"1\" stroke=\"#000000\" stroke-opacity=\"1\" stroke-width=\"3.2\"/>\n",
       "<circle clip-path=\"url(#clip632)\" cx=\"572.014\" cy=\"1359.46\" r=\"14\" fill=\"#009af9\" fill-rule=\"evenodd\" fill-opacity=\"1\" stroke=\"#000000\" stroke-opacity=\"1\" stroke-width=\"3.2\"/>\n",
       "<circle clip-path=\"url(#clip632)\" cx=\"576.041\" cy=\"1431.26\" r=\"14\" fill=\"#009af9\" fill-rule=\"evenodd\" fill-opacity=\"1\" stroke=\"#000000\" stroke-opacity=\"1\" stroke-width=\"3.2\"/>\n",
       "<circle clip-path=\"url(#clip632)\" cx=\"580.068\" cy=\"1407.38\" r=\"14\" fill=\"#009af9\" fill-rule=\"evenodd\" fill-opacity=\"1\" stroke=\"#000000\" stroke-opacity=\"1\" stroke-width=\"3.2\"/>\n",
       "<circle clip-path=\"url(#clip632)\" cx=\"584.095\" cy=\"1408.7\" r=\"14\" fill=\"#009af9\" fill-rule=\"evenodd\" fill-opacity=\"1\" stroke=\"#000000\" stroke-opacity=\"1\" stroke-width=\"3.2\"/>\n",
       "<circle clip-path=\"url(#clip632)\" cx=\"588.122\" cy=\"1285.9\" r=\"14\" fill=\"#009af9\" fill-rule=\"evenodd\" fill-opacity=\"1\" stroke=\"#000000\" stroke-opacity=\"1\" stroke-width=\"3.2\"/>\n",
       "<circle clip-path=\"url(#clip632)\" cx=\"592.149\" cy=\"1413.33\" r=\"14\" fill=\"#009af9\" fill-rule=\"evenodd\" fill-opacity=\"1\" stroke=\"#000000\" stroke-opacity=\"1\" stroke-width=\"3.2\"/>\n",
       "<circle clip-path=\"url(#clip632)\" cx=\"596.176\" cy=\"1398.74\" r=\"14\" fill=\"#009af9\" fill-rule=\"evenodd\" fill-opacity=\"1\" stroke=\"#000000\" stroke-opacity=\"1\" stroke-width=\"3.2\"/>\n",
       "<circle clip-path=\"url(#clip632)\" cx=\"600.203\" cy=\"1425.46\" r=\"14\" fill=\"#009af9\" fill-rule=\"evenodd\" fill-opacity=\"1\" stroke=\"#000000\" stroke-opacity=\"1\" stroke-width=\"3.2\"/>\n",
       "<circle clip-path=\"url(#clip632)\" cx=\"604.23\" cy=\"1432.8\" r=\"14\" fill=\"#009af9\" fill-rule=\"evenodd\" fill-opacity=\"1\" stroke=\"#000000\" stroke-opacity=\"1\" stroke-width=\"3.2\"/>\n",
       "<circle clip-path=\"url(#clip632)\" cx=\"608.257\" cy=\"1426.63\" r=\"14\" fill=\"#009af9\" fill-rule=\"evenodd\" fill-opacity=\"1\" stroke=\"#000000\" stroke-opacity=\"1\" stroke-width=\"3.2\"/>\n",
       "<circle clip-path=\"url(#clip632)\" cx=\"612.284\" cy=\"1414.88\" r=\"14\" fill=\"#009af9\" fill-rule=\"evenodd\" fill-opacity=\"1\" stroke=\"#000000\" stroke-opacity=\"1\" stroke-width=\"3.2\"/>\n",
       "<circle clip-path=\"url(#clip632)\" cx=\"616.31\" cy=\"1388.49\" r=\"14\" fill=\"#009af9\" fill-rule=\"evenodd\" fill-opacity=\"1\" stroke=\"#000000\" stroke-opacity=\"1\" stroke-width=\"3.2\"/>\n",
       "<circle clip-path=\"url(#clip632)\" cx=\"620.337\" cy=\"1405.83\" r=\"14\" fill=\"#009af9\" fill-rule=\"evenodd\" fill-opacity=\"1\" stroke=\"#000000\" stroke-opacity=\"1\" stroke-width=\"3.2\"/>\n",
       "<circle clip-path=\"url(#clip632)\" cx=\"624.364\" cy=\"1406.13\" r=\"14\" fill=\"#009af9\" fill-rule=\"evenodd\" fill-opacity=\"1\" stroke=\"#000000\" stroke-opacity=\"1\" stroke-width=\"3.2\"/>\n",
       "<circle clip-path=\"url(#clip632)\" cx=\"628.391\" cy=\"1405.76\" r=\"14\" fill=\"#009af9\" fill-rule=\"evenodd\" fill-opacity=\"1\" stroke=\"#000000\" stroke-opacity=\"1\" stroke-width=\"3.2\"/>\n",
       "<circle clip-path=\"url(#clip632)\" cx=\"632.418\" cy=\"1376.91\" r=\"14\" fill=\"#009af9\" fill-rule=\"evenodd\" fill-opacity=\"1\" stroke=\"#000000\" stroke-opacity=\"1\" stroke-width=\"3.2\"/>\n",
       "<circle clip-path=\"url(#clip632)\" cx=\"636.445\" cy=\"1387.93\" r=\"14\" fill=\"#009af9\" fill-rule=\"evenodd\" fill-opacity=\"1\" stroke=\"#000000\" stroke-opacity=\"1\" stroke-width=\"3.2\"/>\n",
       "<circle clip-path=\"url(#clip632)\" cx=\"640.472\" cy=\"1425.48\" r=\"14\" fill=\"#009af9\" fill-rule=\"evenodd\" fill-opacity=\"1\" stroke=\"#000000\" stroke-opacity=\"1\" stroke-width=\"3.2\"/>\n",
       "<circle clip-path=\"url(#clip632)\" cx=\"644.499\" cy=\"1407.38\" r=\"14\" fill=\"#009af9\" fill-rule=\"evenodd\" fill-opacity=\"1\" stroke=\"#000000\" stroke-opacity=\"1\" stroke-width=\"3.2\"/>\n",
       "<circle clip-path=\"url(#clip632)\" cx=\"648.526\" cy=\"1374.88\" r=\"14\" fill=\"#009af9\" fill-rule=\"evenodd\" fill-opacity=\"1\" stroke=\"#000000\" stroke-opacity=\"1\" stroke-width=\"3.2\"/>\n",
       "<circle clip-path=\"url(#clip632)\" cx=\"652.553\" cy=\"1397.43\" r=\"14\" fill=\"#009af9\" fill-rule=\"evenodd\" fill-opacity=\"1\" stroke=\"#000000\" stroke-opacity=\"1\" stroke-width=\"3.2\"/>\n",
       "<circle clip-path=\"url(#clip632)\" cx=\"656.58\" cy=\"1429.46\" r=\"14\" fill=\"#009af9\" fill-rule=\"evenodd\" fill-opacity=\"1\" stroke=\"#000000\" stroke-opacity=\"1\" stroke-width=\"3.2\"/>\n",
       "<circle clip-path=\"url(#clip632)\" cx=\"660.607\" cy=\"1439.47\" r=\"14\" fill=\"#009af9\" fill-rule=\"evenodd\" fill-opacity=\"1\" stroke=\"#000000\" stroke-opacity=\"1\" stroke-width=\"3.2\"/>\n",
       "<circle clip-path=\"url(#clip632)\" cx=\"664.633\" cy=\"1408.59\" r=\"14\" fill=\"#009af9\" fill-rule=\"evenodd\" fill-opacity=\"1\" stroke=\"#000000\" stroke-opacity=\"1\" stroke-width=\"3.2\"/>\n",
       "<circle clip-path=\"url(#clip632)\" cx=\"668.66\" cy=\"1429.84\" r=\"14\" fill=\"#009af9\" fill-rule=\"evenodd\" fill-opacity=\"1\" stroke=\"#000000\" stroke-opacity=\"1\" stroke-width=\"3.2\"/>\n",
       "<circle clip-path=\"url(#clip632)\" cx=\"672.687\" cy=\"1420.02\" r=\"14\" fill=\"#009af9\" fill-rule=\"evenodd\" fill-opacity=\"1\" stroke=\"#000000\" stroke-opacity=\"1\" stroke-width=\"3.2\"/>\n",
       "<circle clip-path=\"url(#clip632)\" cx=\"676.714\" cy=\"1200.22\" r=\"14\" fill=\"#009af9\" fill-rule=\"evenodd\" fill-opacity=\"1\" stroke=\"#000000\" stroke-opacity=\"1\" stroke-width=\"3.2\"/>\n",
       "<circle clip-path=\"url(#clip632)\" cx=\"680.741\" cy=\"1447.87\" r=\"14\" fill=\"#009af9\" fill-rule=\"evenodd\" fill-opacity=\"1\" stroke=\"#000000\" stroke-opacity=\"1\" stroke-width=\"3.2\"/>\n",
       "<circle clip-path=\"url(#clip632)\" cx=\"684.768\" cy=\"1367.01\" r=\"14\" fill=\"#009af9\" fill-rule=\"evenodd\" fill-opacity=\"1\" stroke=\"#000000\" stroke-opacity=\"1\" stroke-width=\"3.2\"/>\n",
       "<circle clip-path=\"url(#clip632)\" cx=\"688.795\" cy=\"1236.95\" r=\"14\" fill=\"#009af9\" fill-rule=\"evenodd\" fill-opacity=\"1\" stroke=\"#000000\" stroke-opacity=\"1\" stroke-width=\"3.2\"/>\n",
       "<circle clip-path=\"url(#clip632)\" cx=\"692.822\" cy=\"1344.62\" r=\"14\" fill=\"#009af9\" fill-rule=\"evenodd\" fill-opacity=\"1\" stroke=\"#000000\" stroke-opacity=\"1\" stroke-width=\"3.2\"/>\n",
       "<circle clip-path=\"url(#clip632)\" cx=\"696.849\" cy=\"1415.12\" r=\"14\" fill=\"#009af9\" fill-rule=\"evenodd\" fill-opacity=\"1\" stroke=\"#000000\" stroke-opacity=\"1\" stroke-width=\"3.2\"/>\n",
       "<circle clip-path=\"url(#clip632)\" cx=\"700.876\" cy=\"1335.09\" r=\"14\" fill=\"#009af9\" fill-rule=\"evenodd\" fill-opacity=\"1\" stroke=\"#000000\" stroke-opacity=\"1\" stroke-width=\"3.2\"/>\n",
       "<circle clip-path=\"url(#clip632)\" cx=\"704.903\" cy=\"1377.6\" r=\"14\" fill=\"#009af9\" fill-rule=\"evenodd\" fill-opacity=\"1\" stroke=\"#000000\" stroke-opacity=\"1\" stroke-width=\"3.2\"/>\n",
       "<circle clip-path=\"url(#clip632)\" cx=\"708.929\" cy=\"1394.83\" r=\"14\" fill=\"#009af9\" fill-rule=\"evenodd\" fill-opacity=\"1\" stroke=\"#000000\" stroke-opacity=\"1\" stroke-width=\"3.2\"/>\n",
       "<circle clip-path=\"url(#clip632)\" cx=\"712.956\" cy=\"1357.9\" r=\"14\" fill=\"#009af9\" fill-rule=\"evenodd\" fill-opacity=\"1\" stroke=\"#000000\" stroke-opacity=\"1\" stroke-width=\"3.2\"/>\n",
       "<circle clip-path=\"url(#clip632)\" cx=\"716.983\" cy=\"1425.53\" r=\"14\" fill=\"#009af9\" fill-rule=\"evenodd\" fill-opacity=\"1\" stroke=\"#000000\" stroke-opacity=\"1\" stroke-width=\"3.2\"/>\n",
       "<circle clip-path=\"url(#clip632)\" cx=\"721.01\" cy=\"1404.63\" r=\"14\" fill=\"#009af9\" fill-rule=\"evenodd\" fill-opacity=\"1\" stroke=\"#000000\" stroke-opacity=\"1\" stroke-width=\"3.2\"/>\n",
       "<circle clip-path=\"url(#clip632)\" cx=\"725.037\" cy=\"1424.6\" r=\"14\" fill=\"#009af9\" fill-rule=\"evenodd\" fill-opacity=\"1\" stroke=\"#000000\" stroke-opacity=\"1\" stroke-width=\"3.2\"/>\n",
       "<circle clip-path=\"url(#clip632)\" cx=\"729.064\" cy=\"1390.7\" r=\"14\" fill=\"#009af9\" fill-rule=\"evenodd\" fill-opacity=\"1\" stroke=\"#000000\" stroke-opacity=\"1\" stroke-width=\"3.2\"/>\n",
       "<circle clip-path=\"url(#clip632)\" cx=\"733.091\" cy=\"1357.07\" r=\"14\" fill=\"#009af9\" fill-rule=\"evenodd\" fill-opacity=\"1\" stroke=\"#000000\" stroke-opacity=\"1\" stroke-width=\"3.2\"/>\n",
       "<circle clip-path=\"url(#clip632)\" cx=\"737.118\" cy=\"1416.85\" r=\"14\" fill=\"#009af9\" fill-rule=\"evenodd\" fill-opacity=\"1\" stroke=\"#000000\" stroke-opacity=\"1\" stroke-width=\"3.2\"/>\n",
       "<circle clip-path=\"url(#clip632)\" cx=\"741.145\" cy=\"1417.54\" r=\"14\" fill=\"#009af9\" fill-rule=\"evenodd\" fill-opacity=\"1\" stroke=\"#000000\" stroke-opacity=\"1\" stroke-width=\"3.2\"/>\n",
       "<circle clip-path=\"url(#clip632)\" cx=\"745.172\" cy=\"1405.75\" r=\"14\" fill=\"#009af9\" fill-rule=\"evenodd\" fill-opacity=\"1\" stroke=\"#000000\" stroke-opacity=\"1\" stroke-width=\"3.2\"/>\n",
       "<circle clip-path=\"url(#clip632)\" cx=\"749.199\" cy=\"1396.43\" r=\"14\" fill=\"#009af9\" fill-rule=\"evenodd\" fill-opacity=\"1\" stroke=\"#000000\" stroke-opacity=\"1\" stroke-width=\"3.2\"/>\n",
       "<circle clip-path=\"url(#clip632)\" cx=\"753.226\" cy=\"1421.95\" r=\"14\" fill=\"#009af9\" fill-rule=\"evenodd\" fill-opacity=\"1\" stroke=\"#000000\" stroke-opacity=\"1\" stroke-width=\"3.2\"/>\n",
       "<circle clip-path=\"url(#clip632)\" cx=\"757.252\" cy=\"1398.23\" r=\"14\" fill=\"#009af9\" fill-rule=\"evenodd\" fill-opacity=\"1\" stroke=\"#000000\" stroke-opacity=\"1\" stroke-width=\"3.2\"/>\n",
       "<circle clip-path=\"url(#clip632)\" cx=\"761.279\" cy=\"1424.07\" r=\"14\" fill=\"#009af9\" fill-rule=\"evenodd\" fill-opacity=\"1\" stroke=\"#000000\" stroke-opacity=\"1\" stroke-width=\"3.2\"/>\n",
       "<circle clip-path=\"url(#clip632)\" cx=\"765.306\" cy=\"1363.62\" r=\"14\" fill=\"#009af9\" fill-rule=\"evenodd\" fill-opacity=\"1\" stroke=\"#000000\" stroke-opacity=\"1\" stroke-width=\"3.2\"/>\n",
       "<circle clip-path=\"url(#clip632)\" cx=\"769.333\" cy=\"1415.88\" r=\"14\" fill=\"#009af9\" fill-rule=\"evenodd\" fill-opacity=\"1\" stroke=\"#000000\" stroke-opacity=\"1\" stroke-width=\"3.2\"/>\n",
       "<circle clip-path=\"url(#clip632)\" cx=\"773.36\" cy=\"1391.27\" r=\"14\" fill=\"#009af9\" fill-rule=\"evenodd\" fill-opacity=\"1\" stroke=\"#000000\" stroke-opacity=\"1\" stroke-width=\"3.2\"/>\n",
       "<circle clip-path=\"url(#clip632)\" cx=\"777.387\" cy=\"1326.92\" r=\"14\" fill=\"#009af9\" fill-rule=\"evenodd\" fill-opacity=\"1\" stroke=\"#000000\" stroke-opacity=\"1\" stroke-width=\"3.2\"/>\n",
       "<circle clip-path=\"url(#clip632)\" cx=\"781.414\" cy=\"1428.82\" r=\"14\" fill=\"#009af9\" fill-rule=\"evenodd\" fill-opacity=\"1\" stroke=\"#000000\" stroke-opacity=\"1\" stroke-width=\"3.2\"/>\n",
       "<circle clip-path=\"url(#clip632)\" cx=\"785.441\" cy=\"1328.55\" r=\"14\" fill=\"#009af9\" fill-rule=\"evenodd\" fill-opacity=\"1\" stroke=\"#000000\" stroke-opacity=\"1\" stroke-width=\"3.2\"/>\n",
       "<circle clip-path=\"url(#clip632)\" cx=\"789.468\" cy=\"1438.6\" r=\"14\" fill=\"#009af9\" fill-rule=\"evenodd\" fill-opacity=\"1\" stroke=\"#000000\" stroke-opacity=\"1\" stroke-width=\"3.2\"/>\n",
       "<circle clip-path=\"url(#clip632)\" cx=\"793.495\" cy=\"1379.67\" r=\"14\" fill=\"#009af9\" fill-rule=\"evenodd\" fill-opacity=\"1\" stroke=\"#000000\" stroke-opacity=\"1\" stroke-width=\"3.2\"/>\n",
       "<circle clip-path=\"url(#clip632)\" cx=\"797.522\" cy=\"1427.95\" r=\"14\" fill=\"#009af9\" fill-rule=\"evenodd\" fill-opacity=\"1\" stroke=\"#000000\" stroke-opacity=\"1\" stroke-width=\"3.2\"/>\n",
       "<circle clip-path=\"url(#clip632)\" cx=\"801.548\" cy=\"1413.33\" r=\"14\" fill=\"#009af9\" fill-rule=\"evenodd\" fill-opacity=\"1\" stroke=\"#000000\" stroke-opacity=\"1\" stroke-width=\"3.2\"/>\n",
       "<circle clip-path=\"url(#clip632)\" cx=\"805.575\" cy=\"1333.55\" r=\"14\" fill=\"#009af9\" fill-rule=\"evenodd\" fill-opacity=\"1\" stroke=\"#000000\" stroke-opacity=\"1\" stroke-width=\"3.2\"/>\n",
       "<circle clip-path=\"url(#clip632)\" cx=\"809.602\" cy=\"1396.28\" r=\"14\" fill=\"#009af9\" fill-rule=\"evenodd\" fill-opacity=\"1\" stroke=\"#000000\" stroke-opacity=\"1\" stroke-width=\"3.2\"/>\n",
       "<circle clip-path=\"url(#clip632)\" cx=\"813.629\" cy=\"1426.33\" r=\"14\" fill=\"#009af9\" fill-rule=\"evenodd\" fill-opacity=\"1\" stroke=\"#000000\" stroke-opacity=\"1\" stroke-width=\"3.2\"/>\n",
       "<circle clip-path=\"url(#clip632)\" cx=\"817.656\" cy=\"1386.13\" r=\"14\" fill=\"#009af9\" fill-rule=\"evenodd\" fill-opacity=\"1\" stroke=\"#000000\" stroke-opacity=\"1\" stroke-width=\"3.2\"/>\n",
       "<circle clip-path=\"url(#clip632)\" cx=\"821.683\" cy=\"1392.02\" r=\"14\" fill=\"#009af9\" fill-rule=\"evenodd\" fill-opacity=\"1\" stroke=\"#000000\" stroke-opacity=\"1\" stroke-width=\"3.2\"/>\n",
       "<circle clip-path=\"url(#clip632)\" cx=\"825.71\" cy=\"1407.58\" r=\"14\" fill=\"#009af9\" fill-rule=\"evenodd\" fill-opacity=\"1\" stroke=\"#000000\" stroke-opacity=\"1\" stroke-width=\"3.2\"/>\n",
       "<circle clip-path=\"url(#clip632)\" cx=\"829.737\" cy=\"1363.63\" r=\"14\" fill=\"#009af9\" fill-rule=\"evenodd\" fill-opacity=\"1\" stroke=\"#000000\" stroke-opacity=\"1\" stroke-width=\"3.2\"/>\n",
       "<circle clip-path=\"url(#clip632)\" cx=\"833.764\" cy=\"1414.63\" r=\"14\" fill=\"#009af9\" fill-rule=\"evenodd\" fill-opacity=\"1\" stroke=\"#000000\" stroke-opacity=\"1\" stroke-width=\"3.2\"/>\n",
       "<circle clip-path=\"url(#clip632)\" cx=\"837.791\" cy=\"1407.56\" r=\"14\" fill=\"#009af9\" fill-rule=\"evenodd\" fill-opacity=\"1\" stroke=\"#000000\" stroke-opacity=\"1\" stroke-width=\"3.2\"/>\n",
       "<circle clip-path=\"url(#clip632)\" cx=\"841.818\" cy=\"1426.8\" r=\"14\" fill=\"#009af9\" fill-rule=\"evenodd\" fill-opacity=\"1\" stroke=\"#000000\" stroke-opacity=\"1\" stroke-width=\"3.2\"/>\n",
       "<circle clip-path=\"url(#clip632)\" cx=\"845.845\" cy=\"1368.19\" r=\"14\" fill=\"#009af9\" fill-rule=\"evenodd\" fill-opacity=\"1\" stroke=\"#000000\" stroke-opacity=\"1\" stroke-width=\"3.2\"/>\n",
       "<circle clip-path=\"url(#clip632)\" cx=\"849.871\" cy=\"1403.53\" r=\"14\" fill=\"#009af9\" fill-rule=\"evenodd\" fill-opacity=\"1\" stroke=\"#000000\" stroke-opacity=\"1\" stroke-width=\"3.2\"/>\n",
       "<circle clip-path=\"url(#clip632)\" cx=\"853.898\" cy=\"1437.18\" r=\"14\" fill=\"#009af9\" fill-rule=\"evenodd\" fill-opacity=\"1\" stroke=\"#000000\" stroke-opacity=\"1\" stroke-width=\"3.2\"/>\n",
       "<circle clip-path=\"url(#clip632)\" cx=\"857.925\" cy=\"1437.99\" r=\"14\" fill=\"#009af9\" fill-rule=\"evenodd\" fill-opacity=\"1\" stroke=\"#000000\" stroke-opacity=\"1\" stroke-width=\"3.2\"/>\n",
       "<circle clip-path=\"url(#clip632)\" cx=\"861.952\" cy=\"1415.71\" r=\"14\" fill=\"#009af9\" fill-rule=\"evenodd\" fill-opacity=\"1\" stroke=\"#000000\" stroke-opacity=\"1\" stroke-width=\"3.2\"/>\n",
       "<circle clip-path=\"url(#clip632)\" cx=\"865.979\" cy=\"1396.67\" r=\"14\" fill=\"#009af9\" fill-rule=\"evenodd\" fill-opacity=\"1\" stroke=\"#000000\" stroke-opacity=\"1\" stroke-width=\"3.2\"/>\n",
       "<circle clip-path=\"url(#clip632)\" cx=\"870.006\" cy=\"1396.94\" r=\"14\" fill=\"#009af9\" fill-rule=\"evenodd\" fill-opacity=\"1\" stroke=\"#000000\" stroke-opacity=\"1\" stroke-width=\"3.2\"/>\n",
       "<circle clip-path=\"url(#clip632)\" cx=\"874.033\" cy=\"1392.11\" r=\"14\" fill=\"#009af9\" fill-rule=\"evenodd\" fill-opacity=\"1\" stroke=\"#000000\" stroke-opacity=\"1\" stroke-width=\"3.2\"/>\n",
       "<circle clip-path=\"url(#clip632)\" cx=\"878.06\" cy=\"1388.93\" r=\"14\" fill=\"#009af9\" fill-rule=\"evenodd\" fill-opacity=\"1\" stroke=\"#000000\" stroke-opacity=\"1\" stroke-width=\"3.2\"/>\n",
       "<circle clip-path=\"url(#clip632)\" cx=\"882.087\" cy=\"1398.25\" r=\"14\" fill=\"#009af9\" fill-rule=\"evenodd\" fill-opacity=\"1\" stroke=\"#000000\" stroke-opacity=\"1\" stroke-width=\"3.2\"/>\n",
       "<circle clip-path=\"url(#clip632)\" cx=\"886.114\" cy=\"1382.67\" r=\"14\" fill=\"#009af9\" fill-rule=\"evenodd\" fill-opacity=\"1\" stroke=\"#000000\" stroke-opacity=\"1\" stroke-width=\"3.2\"/>\n",
       "<circle clip-path=\"url(#clip632)\" cx=\"890.141\" cy=\"1371.87\" r=\"14\" fill=\"#009af9\" fill-rule=\"evenodd\" fill-opacity=\"1\" stroke=\"#000000\" stroke-opacity=\"1\" stroke-width=\"3.2\"/>\n",
       "<circle clip-path=\"url(#clip632)\" cx=\"894.167\" cy=\"1391.02\" r=\"14\" fill=\"#009af9\" fill-rule=\"evenodd\" fill-opacity=\"1\" stroke=\"#000000\" stroke-opacity=\"1\" stroke-width=\"3.2\"/>\n",
       "<circle clip-path=\"url(#clip632)\" cx=\"898.194\" cy=\"1430.1\" r=\"14\" fill=\"#009af9\" fill-rule=\"evenodd\" fill-opacity=\"1\" stroke=\"#000000\" stroke-opacity=\"1\" stroke-width=\"3.2\"/>\n",
       "<circle clip-path=\"url(#clip632)\" cx=\"902.221\" cy=\"1395.21\" r=\"14\" fill=\"#009af9\" fill-rule=\"evenodd\" fill-opacity=\"1\" stroke=\"#000000\" stroke-opacity=\"1\" stroke-width=\"3.2\"/>\n",
       "<circle clip-path=\"url(#clip632)\" cx=\"906.248\" cy=\"1424\" r=\"14\" fill=\"#009af9\" fill-rule=\"evenodd\" fill-opacity=\"1\" stroke=\"#000000\" stroke-opacity=\"1\" stroke-width=\"3.2\"/>\n",
       "<circle clip-path=\"url(#clip632)\" cx=\"910.275\" cy=\"1388.52\" r=\"14\" fill=\"#009af9\" fill-rule=\"evenodd\" fill-opacity=\"1\" stroke=\"#000000\" stroke-opacity=\"1\" stroke-width=\"3.2\"/>\n",
       "<circle clip-path=\"url(#clip632)\" cx=\"914.302\" cy=\"1393.84\" r=\"14\" fill=\"#009af9\" fill-rule=\"evenodd\" fill-opacity=\"1\" stroke=\"#000000\" stroke-opacity=\"1\" stroke-width=\"3.2\"/>\n",
       "<circle clip-path=\"url(#clip632)\" cx=\"918.329\" cy=\"1424.29\" r=\"14\" fill=\"#009af9\" fill-rule=\"evenodd\" fill-opacity=\"1\" stroke=\"#000000\" stroke-opacity=\"1\" stroke-width=\"3.2\"/>\n",
       "<circle clip-path=\"url(#clip632)\" cx=\"922.356\" cy=\"1353.18\" r=\"14\" fill=\"#009af9\" fill-rule=\"evenodd\" fill-opacity=\"1\" stroke=\"#000000\" stroke-opacity=\"1\" stroke-width=\"3.2\"/>\n",
       "<circle clip-path=\"url(#clip632)\" cx=\"926.383\" cy=\"1402.51\" r=\"14\" fill=\"#009af9\" fill-rule=\"evenodd\" fill-opacity=\"1\" stroke=\"#000000\" stroke-opacity=\"1\" stroke-width=\"3.2\"/>\n",
       "<circle clip-path=\"url(#clip632)\" cx=\"930.41\" cy=\"1377.83\" r=\"14\" fill=\"#009af9\" fill-rule=\"evenodd\" fill-opacity=\"1\" stroke=\"#000000\" stroke-opacity=\"1\" stroke-width=\"3.2\"/>\n",
       "<circle clip-path=\"url(#clip632)\" cx=\"934.437\" cy=\"1384.26\" r=\"14\" fill=\"#009af9\" fill-rule=\"evenodd\" fill-opacity=\"1\" stroke=\"#000000\" stroke-opacity=\"1\" stroke-width=\"3.2\"/>\n",
       "<circle clip-path=\"url(#clip632)\" cx=\"938.464\" cy=\"1404.12\" r=\"14\" fill=\"#009af9\" fill-rule=\"evenodd\" fill-opacity=\"1\" stroke=\"#000000\" stroke-opacity=\"1\" stroke-width=\"3.2\"/>\n",
       "<circle clip-path=\"url(#clip632)\" cx=\"942.49\" cy=\"1393.7\" r=\"14\" fill=\"#009af9\" fill-rule=\"evenodd\" fill-opacity=\"1\" stroke=\"#000000\" stroke-opacity=\"1\" stroke-width=\"3.2\"/>\n",
       "<circle clip-path=\"url(#clip632)\" cx=\"946.517\" cy=\"1430.87\" r=\"14\" fill=\"#009af9\" fill-rule=\"evenodd\" fill-opacity=\"1\" stroke=\"#000000\" stroke-opacity=\"1\" stroke-width=\"3.2\"/>\n",
       "<circle clip-path=\"url(#clip632)\" cx=\"950.544\" cy=\"1383.68\" r=\"14\" fill=\"#009af9\" fill-rule=\"evenodd\" fill-opacity=\"1\" stroke=\"#000000\" stroke-opacity=\"1\" stroke-width=\"3.2\"/>\n",
       "<circle clip-path=\"url(#clip632)\" cx=\"954.571\" cy=\"1411.94\" r=\"14\" fill=\"#009af9\" fill-rule=\"evenodd\" fill-opacity=\"1\" stroke=\"#000000\" stroke-opacity=\"1\" stroke-width=\"3.2\"/>\n",
       "<circle clip-path=\"url(#clip632)\" cx=\"958.598\" cy=\"1376.6\" r=\"14\" fill=\"#009af9\" fill-rule=\"evenodd\" fill-opacity=\"1\" stroke=\"#000000\" stroke-opacity=\"1\" stroke-width=\"3.2\"/>\n",
       "<circle clip-path=\"url(#clip632)\" cx=\"962.625\" cy=\"1156.77\" r=\"14\" fill=\"#009af9\" fill-rule=\"evenodd\" fill-opacity=\"1\" stroke=\"#000000\" stroke-opacity=\"1\" stroke-width=\"3.2\"/>\n",
       "<circle clip-path=\"url(#clip632)\" cx=\"966.652\" cy=\"1404.69\" r=\"14\" fill=\"#009af9\" fill-rule=\"evenodd\" fill-opacity=\"1\" stroke=\"#000000\" stroke-opacity=\"1\" stroke-width=\"3.2\"/>\n",
       "<circle clip-path=\"url(#clip632)\" cx=\"970.679\" cy=\"1276.64\" r=\"14\" fill=\"#009af9\" fill-rule=\"evenodd\" fill-opacity=\"1\" stroke=\"#000000\" stroke-opacity=\"1\" stroke-width=\"3.2\"/>\n",
       "<circle clip-path=\"url(#clip632)\" cx=\"974.706\" cy=\"1383.92\" r=\"14\" fill=\"#009af9\" fill-rule=\"evenodd\" fill-opacity=\"1\" stroke=\"#000000\" stroke-opacity=\"1\" stroke-width=\"3.2\"/>\n",
       "<circle clip-path=\"url(#clip632)\" cx=\"978.733\" cy=\"1280.87\" r=\"14\" fill=\"#009af9\" fill-rule=\"evenodd\" fill-opacity=\"1\" stroke=\"#000000\" stroke-opacity=\"1\" stroke-width=\"3.2\"/>\n",
       "<circle clip-path=\"url(#clip632)\" cx=\"982.76\" cy=\"1405.4\" r=\"14\" fill=\"#009af9\" fill-rule=\"evenodd\" fill-opacity=\"1\" stroke=\"#000000\" stroke-opacity=\"1\" stroke-width=\"3.2\"/>\n",
       "<circle clip-path=\"url(#clip632)\" cx=\"986.787\" cy=\"1423.15\" r=\"14\" fill=\"#009af9\" fill-rule=\"evenodd\" fill-opacity=\"1\" stroke=\"#000000\" stroke-opacity=\"1\" stroke-width=\"3.2\"/>\n",
       "<circle clip-path=\"url(#clip632)\" cx=\"990.813\" cy=\"1356.47\" r=\"14\" fill=\"#009af9\" fill-rule=\"evenodd\" fill-opacity=\"1\" stroke=\"#000000\" stroke-opacity=\"1\" stroke-width=\"3.2\"/>\n",
       "<circle clip-path=\"url(#clip632)\" cx=\"994.84\" cy=\"1408.02\" r=\"14\" fill=\"#009af9\" fill-rule=\"evenodd\" fill-opacity=\"1\" stroke=\"#000000\" stroke-opacity=\"1\" stroke-width=\"3.2\"/>\n",
       "<circle clip-path=\"url(#clip632)\" cx=\"998.867\" cy=\"1404.91\" r=\"14\" fill=\"#009af9\" fill-rule=\"evenodd\" fill-opacity=\"1\" stroke=\"#000000\" stroke-opacity=\"1\" stroke-width=\"3.2\"/>\n",
       "<circle clip-path=\"url(#clip632)\" cx=\"1002.89\" cy=\"1392.31\" r=\"14\" fill=\"#009af9\" fill-rule=\"evenodd\" fill-opacity=\"1\" stroke=\"#000000\" stroke-opacity=\"1\" stroke-width=\"3.2\"/>\n",
       "<circle clip-path=\"url(#clip632)\" cx=\"1006.92\" cy=\"1388.49\" r=\"14\" fill=\"#009af9\" fill-rule=\"evenodd\" fill-opacity=\"1\" stroke=\"#000000\" stroke-opacity=\"1\" stroke-width=\"3.2\"/>\n",
       "<circle clip-path=\"url(#clip632)\" cx=\"1010.95\" cy=\"1357.22\" r=\"14\" fill=\"#009af9\" fill-rule=\"evenodd\" fill-opacity=\"1\" stroke=\"#000000\" stroke-opacity=\"1\" stroke-width=\"3.2\"/>\n",
       "<circle clip-path=\"url(#clip632)\" cx=\"1014.97\" cy=\"1342.78\" r=\"14\" fill=\"#009af9\" fill-rule=\"evenodd\" fill-opacity=\"1\" stroke=\"#000000\" stroke-opacity=\"1\" stroke-width=\"3.2\"/>\n",
       "<circle clip-path=\"url(#clip632)\" cx=\"1019\" cy=\"1417.89\" r=\"14\" fill=\"#009af9\" fill-rule=\"evenodd\" fill-opacity=\"1\" stroke=\"#000000\" stroke-opacity=\"1\" stroke-width=\"3.2\"/>\n",
       "<circle clip-path=\"url(#clip632)\" cx=\"1023.03\" cy=\"1361.18\" r=\"14\" fill=\"#009af9\" fill-rule=\"evenodd\" fill-opacity=\"1\" stroke=\"#000000\" stroke-opacity=\"1\" stroke-width=\"3.2\"/>\n",
       "<circle clip-path=\"url(#clip632)\" cx=\"1027.06\" cy=\"1301.89\" r=\"14\" fill=\"#009af9\" fill-rule=\"evenodd\" fill-opacity=\"1\" stroke=\"#000000\" stroke-opacity=\"1\" stroke-width=\"3.2\"/>\n",
       "<circle clip-path=\"url(#clip632)\" cx=\"1031.08\" cy=\"1387.21\" r=\"14\" fill=\"#009af9\" fill-rule=\"evenodd\" fill-opacity=\"1\" stroke=\"#000000\" stroke-opacity=\"1\" stroke-width=\"3.2\"/>\n",
       "<circle clip-path=\"url(#clip632)\" cx=\"1035.11\" cy=\"1431.34\" r=\"14\" fill=\"#009af9\" fill-rule=\"evenodd\" fill-opacity=\"1\" stroke=\"#000000\" stroke-opacity=\"1\" stroke-width=\"3.2\"/>\n",
       "<circle clip-path=\"url(#clip632)\" cx=\"1039.14\" cy=\"1427.5\" r=\"14\" fill=\"#009af9\" fill-rule=\"evenodd\" fill-opacity=\"1\" stroke=\"#000000\" stroke-opacity=\"1\" stroke-width=\"3.2\"/>\n",
       "<circle clip-path=\"url(#clip632)\" cx=\"1043.16\" cy=\"1364.05\" r=\"14\" fill=\"#009af9\" fill-rule=\"evenodd\" fill-opacity=\"1\" stroke=\"#000000\" stroke-opacity=\"1\" stroke-width=\"3.2\"/>\n",
       "<circle clip-path=\"url(#clip632)\" cx=\"1047.19\" cy=\"1422.78\" r=\"14\" fill=\"#009af9\" fill-rule=\"evenodd\" fill-opacity=\"1\" stroke=\"#000000\" stroke-opacity=\"1\" stroke-width=\"3.2\"/>\n",
       "<circle clip-path=\"url(#clip632)\" cx=\"1051.22\" cy=\"1419.74\" r=\"14\" fill=\"#009af9\" fill-rule=\"evenodd\" fill-opacity=\"1\" stroke=\"#000000\" stroke-opacity=\"1\" stroke-width=\"3.2\"/>\n",
       "<circle clip-path=\"url(#clip632)\" cx=\"1055.24\" cy=\"1420.12\" r=\"14\" fill=\"#009af9\" fill-rule=\"evenodd\" fill-opacity=\"1\" stroke=\"#000000\" stroke-opacity=\"1\" stroke-width=\"3.2\"/>\n",
       "<circle clip-path=\"url(#clip632)\" cx=\"1059.27\" cy=\"1404.32\" r=\"14\" fill=\"#009af9\" fill-rule=\"evenodd\" fill-opacity=\"1\" stroke=\"#000000\" stroke-opacity=\"1\" stroke-width=\"3.2\"/>\n",
       "<circle clip-path=\"url(#clip632)\" cx=\"1063.3\" cy=\"1427.1\" r=\"14\" fill=\"#009af9\" fill-rule=\"evenodd\" fill-opacity=\"1\" stroke=\"#000000\" stroke-opacity=\"1\" stroke-width=\"3.2\"/>\n",
       "<circle clip-path=\"url(#clip632)\" cx=\"1067.32\" cy=\"1441.88\" r=\"14\" fill=\"#009af9\" fill-rule=\"evenodd\" fill-opacity=\"1\" stroke=\"#000000\" stroke-opacity=\"1\" stroke-width=\"3.2\"/>\n",
       "<circle clip-path=\"url(#clip632)\" cx=\"1071.35\" cy=\"1405.65\" r=\"14\" fill=\"#009af9\" fill-rule=\"evenodd\" fill-opacity=\"1\" stroke=\"#000000\" stroke-opacity=\"1\" stroke-width=\"3.2\"/>\n",
       "<circle clip-path=\"url(#clip632)\" cx=\"1075.38\" cy=\"1405.36\" r=\"14\" fill=\"#009af9\" fill-rule=\"evenodd\" fill-opacity=\"1\" stroke=\"#000000\" stroke-opacity=\"1\" stroke-width=\"3.2\"/>\n",
       "<circle clip-path=\"url(#clip632)\" cx=\"1079.41\" cy=\"1420.14\" r=\"14\" fill=\"#009af9\" fill-rule=\"evenodd\" fill-opacity=\"1\" stroke=\"#000000\" stroke-opacity=\"1\" stroke-width=\"3.2\"/>\n",
       "<circle clip-path=\"url(#clip632)\" cx=\"1083.43\" cy=\"1441.19\" r=\"14\" fill=\"#009af9\" fill-rule=\"evenodd\" fill-opacity=\"1\" stroke=\"#000000\" stroke-opacity=\"1\" stroke-width=\"3.2\"/>\n",
       "<circle clip-path=\"url(#clip632)\" cx=\"1087.46\" cy=\"1433.1\" r=\"14\" fill=\"#009af9\" fill-rule=\"evenodd\" fill-opacity=\"1\" stroke=\"#000000\" stroke-opacity=\"1\" stroke-width=\"3.2\"/>\n",
       "<circle clip-path=\"url(#clip632)\" cx=\"1091.49\" cy=\"1410.83\" r=\"14\" fill=\"#009af9\" fill-rule=\"evenodd\" fill-opacity=\"1\" stroke=\"#000000\" stroke-opacity=\"1\" stroke-width=\"3.2\"/>\n",
       "<circle clip-path=\"url(#clip632)\" cx=\"1095.51\" cy=\"1370.73\" r=\"14\" fill=\"#009af9\" fill-rule=\"evenodd\" fill-opacity=\"1\" stroke=\"#000000\" stroke-opacity=\"1\" stroke-width=\"3.2\"/>\n",
       "<circle clip-path=\"url(#clip632)\" cx=\"1099.54\" cy=\"1302.66\" r=\"14\" fill=\"#009af9\" fill-rule=\"evenodd\" fill-opacity=\"1\" stroke=\"#000000\" stroke-opacity=\"1\" stroke-width=\"3.2\"/>\n",
       "<circle clip-path=\"url(#clip632)\" cx=\"1103.57\" cy=\"1438.22\" r=\"14\" fill=\"#009af9\" fill-rule=\"evenodd\" fill-opacity=\"1\" stroke=\"#000000\" stroke-opacity=\"1\" stroke-width=\"3.2\"/>\n",
       "<circle clip-path=\"url(#clip632)\" cx=\"1107.59\" cy=\"1434.88\" r=\"14\" fill=\"#009af9\" fill-rule=\"evenodd\" fill-opacity=\"1\" stroke=\"#000000\" stroke-opacity=\"1\" stroke-width=\"3.2\"/>\n",
       "<circle clip-path=\"url(#clip632)\" cx=\"1111.62\" cy=\"1409.89\" r=\"14\" fill=\"#009af9\" fill-rule=\"evenodd\" fill-opacity=\"1\" stroke=\"#000000\" stroke-opacity=\"1\" stroke-width=\"3.2\"/>\n",
       "<circle clip-path=\"url(#clip632)\" cx=\"1115.65\" cy=\"1424.27\" r=\"14\" fill=\"#009af9\" fill-rule=\"evenodd\" fill-opacity=\"1\" stroke=\"#000000\" stroke-opacity=\"1\" stroke-width=\"3.2\"/>\n",
       "<circle clip-path=\"url(#clip632)\" cx=\"1119.67\" cy=\"1385.41\" r=\"14\" fill=\"#009af9\" fill-rule=\"evenodd\" fill-opacity=\"1\" stroke=\"#000000\" stroke-opacity=\"1\" stroke-width=\"3.2\"/>\n",
       "<circle clip-path=\"url(#clip632)\" cx=\"1123.7\" cy=\"1398.46\" r=\"14\" fill=\"#009af9\" fill-rule=\"evenodd\" fill-opacity=\"1\" stroke=\"#000000\" stroke-opacity=\"1\" stroke-width=\"3.2\"/>\n",
       "<circle clip-path=\"url(#clip632)\" cx=\"1127.73\" cy=\"1388.15\" r=\"14\" fill=\"#009af9\" fill-rule=\"evenodd\" fill-opacity=\"1\" stroke=\"#000000\" stroke-opacity=\"1\" stroke-width=\"3.2\"/>\n",
       "<circle clip-path=\"url(#clip632)\" cx=\"1131.76\" cy=\"1280.22\" r=\"14\" fill=\"#009af9\" fill-rule=\"evenodd\" fill-opacity=\"1\" stroke=\"#000000\" stroke-opacity=\"1\" stroke-width=\"3.2\"/>\n",
       "<circle clip-path=\"url(#clip632)\" cx=\"1135.78\" cy=\"1426.79\" r=\"14\" fill=\"#009af9\" fill-rule=\"evenodd\" fill-opacity=\"1\" stroke=\"#000000\" stroke-opacity=\"1\" stroke-width=\"3.2\"/>\n",
       "<circle clip-path=\"url(#clip632)\" cx=\"1139.81\" cy=\"1324.49\" r=\"14\" fill=\"#009af9\" fill-rule=\"evenodd\" fill-opacity=\"1\" stroke=\"#000000\" stroke-opacity=\"1\" stroke-width=\"3.2\"/>\n",
       "<circle clip-path=\"url(#clip632)\" cx=\"1143.84\" cy=\"1419.19\" r=\"14\" fill=\"#009af9\" fill-rule=\"evenodd\" fill-opacity=\"1\" stroke=\"#000000\" stroke-opacity=\"1\" stroke-width=\"3.2\"/>\n",
       "<circle clip-path=\"url(#clip632)\" cx=\"1147.86\" cy=\"1434.82\" r=\"14\" fill=\"#009af9\" fill-rule=\"evenodd\" fill-opacity=\"1\" stroke=\"#000000\" stroke-opacity=\"1\" stroke-width=\"3.2\"/>\n",
       "<circle clip-path=\"url(#clip632)\" cx=\"1151.89\" cy=\"1414.05\" r=\"14\" fill=\"#009af9\" fill-rule=\"evenodd\" fill-opacity=\"1\" stroke=\"#000000\" stroke-opacity=\"1\" stroke-width=\"3.2\"/>\n",
       "<circle clip-path=\"url(#clip632)\" cx=\"1155.92\" cy=\"1365.71\" r=\"14\" fill=\"#009af9\" fill-rule=\"evenodd\" fill-opacity=\"1\" stroke=\"#000000\" stroke-opacity=\"1\" stroke-width=\"3.2\"/>\n",
       "<circle clip-path=\"url(#clip632)\" cx=\"1159.94\" cy=\"1412.57\" r=\"14\" fill=\"#009af9\" fill-rule=\"evenodd\" fill-opacity=\"1\" stroke=\"#000000\" stroke-opacity=\"1\" stroke-width=\"3.2\"/>\n",
       "<circle clip-path=\"url(#clip632)\" cx=\"1163.97\" cy=\"1378.87\" r=\"14\" fill=\"#009af9\" fill-rule=\"evenodd\" fill-opacity=\"1\" stroke=\"#000000\" stroke-opacity=\"1\" stroke-width=\"3.2\"/>\n",
       "<circle clip-path=\"url(#clip632)\" cx=\"1168\" cy=\"1392.44\" r=\"14\" fill=\"#009af9\" fill-rule=\"evenodd\" fill-opacity=\"1\" stroke=\"#000000\" stroke-opacity=\"1\" stroke-width=\"3.2\"/>\n",
       "<circle clip-path=\"url(#clip632)\" cx=\"1172.02\" cy=\"1431.66\" r=\"14\" fill=\"#009af9\" fill-rule=\"evenodd\" fill-opacity=\"1\" stroke=\"#000000\" stroke-opacity=\"1\" stroke-width=\"3.2\"/>\n",
       "<circle clip-path=\"url(#clip632)\" cx=\"1176.05\" cy=\"1415.97\" r=\"14\" fill=\"#009af9\" fill-rule=\"evenodd\" fill-opacity=\"1\" stroke=\"#000000\" stroke-opacity=\"1\" stroke-width=\"3.2\"/>\n",
       "<circle clip-path=\"url(#clip632)\" cx=\"1180.08\" cy=\"1397.22\" r=\"14\" fill=\"#009af9\" fill-rule=\"evenodd\" fill-opacity=\"1\" stroke=\"#000000\" stroke-opacity=\"1\" stroke-width=\"3.2\"/>\n",
       "<circle clip-path=\"url(#clip632)\" cx=\"1184.11\" cy=\"1419.95\" r=\"14\" fill=\"#009af9\" fill-rule=\"evenodd\" fill-opacity=\"1\" stroke=\"#000000\" stroke-opacity=\"1\" stroke-width=\"3.2\"/>\n",
       "<circle clip-path=\"url(#clip632)\" cx=\"1188.13\" cy=\"1439.75\" r=\"14\" fill=\"#009af9\" fill-rule=\"evenodd\" fill-opacity=\"1\" stroke=\"#000000\" stroke-opacity=\"1\" stroke-width=\"3.2\"/>\n",
       "<circle clip-path=\"url(#clip632)\" cx=\"1192.16\" cy=\"1404.92\" r=\"14\" fill=\"#009af9\" fill-rule=\"evenodd\" fill-opacity=\"1\" stroke=\"#000000\" stroke-opacity=\"1\" stroke-width=\"3.2\"/>\n",
       "<circle clip-path=\"url(#clip632)\" cx=\"1196.19\" cy=\"1421.15\" r=\"14\" fill=\"#009af9\" fill-rule=\"evenodd\" fill-opacity=\"1\" stroke=\"#000000\" stroke-opacity=\"1\" stroke-width=\"3.2\"/>\n",
       "<circle clip-path=\"url(#clip632)\" cx=\"1200.21\" cy=\"1339.23\" r=\"14\" fill=\"#009af9\" fill-rule=\"evenodd\" fill-opacity=\"1\" stroke=\"#000000\" stroke-opacity=\"1\" stroke-width=\"3.2\"/>\n",
       "<circle clip-path=\"url(#clip632)\" cx=\"1204.24\" cy=\"1353.43\" r=\"14\" fill=\"#009af9\" fill-rule=\"evenodd\" fill-opacity=\"1\" stroke=\"#000000\" stroke-opacity=\"1\" stroke-width=\"3.2\"/>\n",
       "<circle clip-path=\"url(#clip632)\" cx=\"1208.27\" cy=\"1426.03\" r=\"14\" fill=\"#009af9\" fill-rule=\"evenodd\" fill-opacity=\"1\" stroke=\"#000000\" stroke-opacity=\"1\" stroke-width=\"3.2\"/>\n",
       "<circle clip-path=\"url(#clip632)\" cx=\"1212.29\" cy=\"1436.15\" r=\"14\" fill=\"#009af9\" fill-rule=\"evenodd\" fill-opacity=\"1\" stroke=\"#000000\" stroke-opacity=\"1\" stroke-width=\"3.2\"/>\n",
       "<circle clip-path=\"url(#clip632)\" cx=\"1216.32\" cy=\"1437.67\" r=\"14\" fill=\"#009af9\" fill-rule=\"evenodd\" fill-opacity=\"1\" stroke=\"#000000\" stroke-opacity=\"1\" stroke-width=\"3.2\"/>\n",
       "<circle clip-path=\"url(#clip632)\" cx=\"1220.35\" cy=\"1296.93\" r=\"14\" fill=\"#009af9\" fill-rule=\"evenodd\" fill-opacity=\"1\" stroke=\"#000000\" stroke-opacity=\"1\" stroke-width=\"3.2\"/>\n",
       "<circle clip-path=\"url(#clip632)\" cx=\"1224.37\" cy=\"1440.3\" r=\"14\" fill=\"#009af9\" fill-rule=\"evenodd\" fill-opacity=\"1\" stroke=\"#000000\" stroke-opacity=\"1\" stroke-width=\"3.2\"/>\n",
       "<circle clip-path=\"url(#clip632)\" cx=\"1228.4\" cy=\"1301.46\" r=\"14\" fill=\"#009af9\" fill-rule=\"evenodd\" fill-opacity=\"1\" stroke=\"#000000\" stroke-opacity=\"1\" stroke-width=\"3.2\"/>\n",
       "<circle clip-path=\"url(#clip632)\" cx=\"1232.43\" cy=\"1336.14\" r=\"14\" fill=\"#009af9\" fill-rule=\"evenodd\" fill-opacity=\"1\" stroke=\"#000000\" stroke-opacity=\"1\" stroke-width=\"3.2\"/>\n",
       "<circle clip-path=\"url(#clip632)\" cx=\"1236.46\" cy=\"1419.48\" r=\"14\" fill=\"#009af9\" fill-rule=\"evenodd\" fill-opacity=\"1\" stroke=\"#000000\" stroke-opacity=\"1\" stroke-width=\"3.2\"/>\n",
       "<circle clip-path=\"url(#clip632)\" cx=\"1240.48\" cy=\"1347.58\" r=\"14\" fill=\"#009af9\" fill-rule=\"evenodd\" fill-opacity=\"1\" stroke=\"#000000\" stroke-opacity=\"1\" stroke-width=\"3.2\"/>\n",
       "<circle clip-path=\"url(#clip632)\" cx=\"1244.51\" cy=\"1322.05\" r=\"14\" fill=\"#009af9\" fill-rule=\"evenodd\" fill-opacity=\"1\" stroke=\"#000000\" stroke-opacity=\"1\" stroke-width=\"3.2\"/>\n",
       "<circle clip-path=\"url(#clip632)\" cx=\"1248.54\" cy=\"1381.88\" r=\"14\" fill=\"#009af9\" fill-rule=\"evenodd\" fill-opacity=\"1\" stroke=\"#000000\" stroke-opacity=\"1\" stroke-width=\"3.2\"/>\n",
       "<circle clip-path=\"url(#clip632)\" cx=\"1252.56\" cy=\"1387.51\" r=\"14\" fill=\"#009af9\" fill-rule=\"evenodd\" fill-opacity=\"1\" stroke=\"#000000\" stroke-opacity=\"1\" stroke-width=\"3.2\"/>\n",
       "<circle clip-path=\"url(#clip632)\" cx=\"1256.59\" cy=\"1423.21\" r=\"14\" fill=\"#009af9\" fill-rule=\"evenodd\" fill-opacity=\"1\" stroke=\"#000000\" stroke-opacity=\"1\" stroke-width=\"3.2\"/>\n",
       "<circle clip-path=\"url(#clip632)\" cx=\"1260.62\" cy=\"1404.1\" r=\"14\" fill=\"#009af9\" fill-rule=\"evenodd\" fill-opacity=\"1\" stroke=\"#000000\" stroke-opacity=\"1\" stroke-width=\"3.2\"/>\n",
       "<circle clip-path=\"url(#clip632)\" cx=\"1264.64\" cy=\"1337.36\" r=\"14\" fill=\"#009af9\" fill-rule=\"evenodd\" fill-opacity=\"1\" stroke=\"#000000\" stroke-opacity=\"1\" stroke-width=\"3.2\"/>\n",
       "<circle clip-path=\"url(#clip632)\" cx=\"1268.67\" cy=\"1409.94\" r=\"14\" fill=\"#009af9\" fill-rule=\"evenodd\" fill-opacity=\"1\" stroke=\"#000000\" stroke-opacity=\"1\" stroke-width=\"3.2\"/>\n",
       "<circle clip-path=\"url(#clip632)\" cx=\"1272.7\" cy=\"1435.31\" r=\"14\" fill=\"#009af9\" fill-rule=\"evenodd\" fill-opacity=\"1\" stroke=\"#000000\" stroke-opacity=\"1\" stroke-width=\"3.2\"/>\n",
       "<circle clip-path=\"url(#clip632)\" cx=\"1276.72\" cy=\"1355.87\" r=\"14\" fill=\"#009af9\" fill-rule=\"evenodd\" fill-opacity=\"1\" stroke=\"#000000\" stroke-opacity=\"1\" stroke-width=\"3.2\"/>\n",
       "<circle clip-path=\"url(#clip632)\" cx=\"1280.75\" cy=\"1359.43\" r=\"14\" fill=\"#009af9\" fill-rule=\"evenodd\" fill-opacity=\"1\" stroke=\"#000000\" stroke-opacity=\"1\" stroke-width=\"3.2\"/>\n",
       "<circle clip-path=\"url(#clip632)\" cx=\"1284.78\" cy=\"1261.18\" r=\"14\" fill=\"#009af9\" fill-rule=\"evenodd\" fill-opacity=\"1\" stroke=\"#000000\" stroke-opacity=\"1\" stroke-width=\"3.2\"/>\n",
       "<circle clip-path=\"url(#clip632)\" cx=\"1288.81\" cy=\"1426.34\" r=\"14\" fill=\"#009af9\" fill-rule=\"evenodd\" fill-opacity=\"1\" stroke=\"#000000\" stroke-opacity=\"1\" stroke-width=\"3.2\"/>\n",
       "<circle clip-path=\"url(#clip632)\" cx=\"1292.83\" cy=\"1388.58\" r=\"14\" fill=\"#009af9\" fill-rule=\"evenodd\" fill-opacity=\"1\" stroke=\"#000000\" stroke-opacity=\"1\" stroke-width=\"3.2\"/>\n",
       "<circle clip-path=\"url(#clip632)\" cx=\"1296.86\" cy=\"1424.16\" r=\"14\" fill=\"#009af9\" fill-rule=\"evenodd\" fill-opacity=\"1\" stroke=\"#000000\" stroke-opacity=\"1\" stroke-width=\"3.2\"/>\n",
       "<circle clip-path=\"url(#clip632)\" cx=\"1300.89\" cy=\"1382.58\" r=\"14\" fill=\"#009af9\" fill-rule=\"evenodd\" fill-opacity=\"1\" stroke=\"#000000\" stroke-opacity=\"1\" stroke-width=\"3.2\"/>\n",
       "<circle clip-path=\"url(#clip632)\" cx=\"1304.91\" cy=\"1410.17\" r=\"14\" fill=\"#009af9\" fill-rule=\"evenodd\" fill-opacity=\"1\" stroke=\"#000000\" stroke-opacity=\"1\" stroke-width=\"3.2\"/>\n",
       "<circle clip-path=\"url(#clip632)\" cx=\"1308.94\" cy=\"1369.43\" r=\"14\" fill=\"#009af9\" fill-rule=\"evenodd\" fill-opacity=\"1\" stroke=\"#000000\" stroke-opacity=\"1\" stroke-width=\"3.2\"/>\n",
       "<circle clip-path=\"url(#clip632)\" cx=\"1312.97\" cy=\"1358.42\" r=\"14\" fill=\"#009af9\" fill-rule=\"evenodd\" fill-opacity=\"1\" stroke=\"#000000\" stroke-opacity=\"1\" stroke-width=\"3.2\"/>\n",
       "<circle clip-path=\"url(#clip632)\" cx=\"1316.99\" cy=\"1422.17\" r=\"14\" fill=\"#009af9\" fill-rule=\"evenodd\" fill-opacity=\"1\" stroke=\"#000000\" stroke-opacity=\"1\" stroke-width=\"3.2\"/>\n",
       "<circle clip-path=\"url(#clip632)\" cx=\"1321.02\" cy=\"1383.97\" r=\"14\" fill=\"#009af9\" fill-rule=\"evenodd\" fill-opacity=\"1\" stroke=\"#000000\" stroke-opacity=\"1\" stroke-width=\"3.2\"/>\n",
       "<circle clip-path=\"url(#clip632)\" cx=\"1325.05\" cy=\"1430.79\" r=\"14\" fill=\"#009af9\" fill-rule=\"evenodd\" fill-opacity=\"1\" stroke=\"#000000\" stroke-opacity=\"1\" stroke-width=\"3.2\"/>\n",
       "<circle clip-path=\"url(#clip632)\" cx=\"1329.07\" cy=\"1384.04\" r=\"14\" fill=\"#009af9\" fill-rule=\"evenodd\" fill-opacity=\"1\" stroke=\"#000000\" stroke-opacity=\"1\" stroke-width=\"3.2\"/>\n",
       "<circle clip-path=\"url(#clip632)\" cx=\"1333.1\" cy=\"1402.51\" r=\"14\" fill=\"#009af9\" fill-rule=\"evenodd\" fill-opacity=\"1\" stroke=\"#000000\" stroke-opacity=\"1\" stroke-width=\"3.2\"/>\n",
       "<circle clip-path=\"url(#clip632)\" cx=\"1337.13\" cy=\"1436.95\" r=\"14\" fill=\"#009af9\" fill-rule=\"evenodd\" fill-opacity=\"1\" stroke=\"#000000\" stroke-opacity=\"1\" stroke-width=\"3.2\"/>\n",
       "<circle clip-path=\"url(#clip632)\" cx=\"1341.15\" cy=\"1361.24\" r=\"14\" fill=\"#009af9\" fill-rule=\"evenodd\" fill-opacity=\"1\" stroke=\"#000000\" stroke-opacity=\"1\" stroke-width=\"3.2\"/>\n",
       "<circle clip-path=\"url(#clip632)\" cx=\"1345.18\" cy=\"1438.53\" r=\"14\" fill=\"#009af9\" fill-rule=\"evenodd\" fill-opacity=\"1\" stroke=\"#000000\" stroke-opacity=\"1\" stroke-width=\"3.2\"/>\n",
       "<circle clip-path=\"url(#clip632)\" cx=\"1349.21\" cy=\"1436.72\" r=\"14\" fill=\"#009af9\" fill-rule=\"evenodd\" fill-opacity=\"1\" stroke=\"#000000\" stroke-opacity=\"1\" stroke-width=\"3.2\"/>\n",
       "<circle clip-path=\"url(#clip632)\" cx=\"1353.24\" cy=\"1380.16\" r=\"14\" fill=\"#009af9\" fill-rule=\"evenodd\" fill-opacity=\"1\" stroke=\"#000000\" stroke-opacity=\"1\" stroke-width=\"3.2\"/>\n",
       "<circle clip-path=\"url(#clip632)\" cx=\"1357.26\" cy=\"1421.64\" r=\"14\" fill=\"#009af9\" fill-rule=\"evenodd\" fill-opacity=\"1\" stroke=\"#000000\" stroke-opacity=\"1\" stroke-width=\"3.2\"/>\n",
       "<circle clip-path=\"url(#clip632)\" cx=\"1361.29\" cy=\"1391.74\" r=\"14\" fill=\"#009af9\" fill-rule=\"evenodd\" fill-opacity=\"1\" stroke=\"#000000\" stroke-opacity=\"1\" stroke-width=\"3.2\"/>\n",
       "<circle clip-path=\"url(#clip632)\" cx=\"1365.32\" cy=\"1434.18\" r=\"14\" fill=\"#009af9\" fill-rule=\"evenodd\" fill-opacity=\"1\" stroke=\"#000000\" stroke-opacity=\"1\" stroke-width=\"3.2\"/>\n",
       "<circle clip-path=\"url(#clip632)\" cx=\"1369.34\" cy=\"1421.77\" r=\"14\" fill=\"#009af9\" fill-rule=\"evenodd\" fill-opacity=\"1\" stroke=\"#000000\" stroke-opacity=\"1\" stroke-width=\"3.2\"/>\n",
       "<circle clip-path=\"url(#clip632)\" cx=\"1373.37\" cy=\"1320.9\" r=\"14\" fill=\"#009af9\" fill-rule=\"evenodd\" fill-opacity=\"1\" stroke=\"#000000\" stroke-opacity=\"1\" stroke-width=\"3.2\"/>\n",
       "<circle clip-path=\"url(#clip632)\" cx=\"1377.4\" cy=\"1344.52\" r=\"14\" fill=\"#009af9\" fill-rule=\"evenodd\" fill-opacity=\"1\" stroke=\"#000000\" stroke-opacity=\"1\" stroke-width=\"3.2\"/>\n",
       "<circle clip-path=\"url(#clip632)\" cx=\"1381.42\" cy=\"1358.38\" r=\"14\" fill=\"#009af9\" fill-rule=\"evenodd\" fill-opacity=\"1\" stroke=\"#000000\" stroke-opacity=\"1\" stroke-width=\"3.2\"/>\n",
       "<circle clip-path=\"url(#clip632)\" cx=\"1385.45\" cy=\"1416.1\" r=\"14\" fill=\"#009af9\" fill-rule=\"evenodd\" fill-opacity=\"1\" stroke=\"#000000\" stroke-opacity=\"1\" stroke-width=\"3.2\"/>\n",
       "<circle clip-path=\"url(#clip632)\" cx=\"1389.48\" cy=\"1414.76\" r=\"14\" fill=\"#009af9\" fill-rule=\"evenodd\" fill-opacity=\"1\" stroke=\"#000000\" stroke-opacity=\"1\" stroke-width=\"3.2\"/>\n",
       "<circle clip-path=\"url(#clip632)\" cx=\"1393.5\" cy=\"1432.12\" r=\"14\" fill=\"#009af9\" fill-rule=\"evenodd\" fill-opacity=\"1\" stroke=\"#000000\" stroke-opacity=\"1\" stroke-width=\"3.2\"/>\n",
       "<circle clip-path=\"url(#clip632)\" cx=\"1397.53\" cy=\"1388.77\" r=\"14\" fill=\"#009af9\" fill-rule=\"evenodd\" fill-opacity=\"1\" stroke=\"#000000\" stroke-opacity=\"1\" stroke-width=\"3.2\"/>\n",
       "<circle clip-path=\"url(#clip632)\" cx=\"1401.56\" cy=\"1400.33\" r=\"14\" fill=\"#009af9\" fill-rule=\"evenodd\" fill-opacity=\"1\" stroke=\"#000000\" stroke-opacity=\"1\" stroke-width=\"3.2\"/>\n",
       "<circle clip-path=\"url(#clip632)\" cx=\"1405.59\" cy=\"1427.57\" r=\"14\" fill=\"#009af9\" fill-rule=\"evenodd\" fill-opacity=\"1\" stroke=\"#000000\" stroke-opacity=\"1\" stroke-width=\"3.2\"/>\n",
       "<circle clip-path=\"url(#clip632)\" cx=\"1409.61\" cy=\"1242.3\" r=\"14\" fill=\"#009af9\" fill-rule=\"evenodd\" fill-opacity=\"1\" stroke=\"#000000\" stroke-opacity=\"1\" stroke-width=\"3.2\"/>\n",
       "<circle clip-path=\"url(#clip632)\" cx=\"1413.64\" cy=\"1413.66\" r=\"14\" fill=\"#009af9\" fill-rule=\"evenodd\" fill-opacity=\"1\" stroke=\"#000000\" stroke-opacity=\"1\" stroke-width=\"3.2\"/>\n",
       "<circle clip-path=\"url(#clip632)\" cx=\"1417.67\" cy=\"1392.78\" r=\"14\" fill=\"#009af9\" fill-rule=\"evenodd\" fill-opacity=\"1\" stroke=\"#000000\" stroke-opacity=\"1\" stroke-width=\"3.2\"/>\n",
       "<circle clip-path=\"url(#clip632)\" cx=\"1421.69\" cy=\"1386.91\" r=\"14\" fill=\"#009af9\" fill-rule=\"evenodd\" fill-opacity=\"1\" stroke=\"#000000\" stroke-opacity=\"1\" stroke-width=\"3.2\"/>\n",
       "<circle clip-path=\"url(#clip632)\" cx=\"1425.72\" cy=\"1335.75\" r=\"14\" fill=\"#009af9\" fill-rule=\"evenodd\" fill-opacity=\"1\" stroke=\"#000000\" stroke-opacity=\"1\" stroke-width=\"3.2\"/>\n",
       "<circle clip-path=\"url(#clip632)\" cx=\"1429.75\" cy=\"1407.89\" r=\"14\" fill=\"#009af9\" fill-rule=\"evenodd\" fill-opacity=\"1\" stroke=\"#000000\" stroke-opacity=\"1\" stroke-width=\"3.2\"/>\n",
       "<circle clip-path=\"url(#clip632)\" cx=\"1433.77\" cy=\"1436.03\" r=\"14\" fill=\"#009af9\" fill-rule=\"evenodd\" fill-opacity=\"1\" stroke=\"#000000\" stroke-opacity=\"1\" stroke-width=\"3.2\"/>\n",
       "<circle clip-path=\"url(#clip632)\" cx=\"1437.8\" cy=\"1441.59\" r=\"14\" fill=\"#009af9\" fill-rule=\"evenodd\" fill-opacity=\"1\" stroke=\"#000000\" stroke-opacity=\"1\" stroke-width=\"3.2\"/>\n",
       "<circle clip-path=\"url(#clip632)\" cx=\"1441.83\" cy=\"1411.73\" r=\"14\" fill=\"#009af9\" fill-rule=\"evenodd\" fill-opacity=\"1\" stroke=\"#000000\" stroke-opacity=\"1\" stroke-width=\"3.2\"/>\n",
       "<circle clip-path=\"url(#clip632)\" cx=\"1445.85\" cy=\"1380.94\" r=\"14\" fill=\"#009af9\" fill-rule=\"evenodd\" fill-opacity=\"1\" stroke=\"#000000\" stroke-opacity=\"1\" stroke-width=\"3.2\"/>\n",
       "<circle clip-path=\"url(#clip632)\" cx=\"1449.88\" cy=\"1393.94\" r=\"14\" fill=\"#009af9\" fill-rule=\"evenodd\" fill-opacity=\"1\" stroke=\"#000000\" stroke-opacity=\"1\" stroke-width=\"3.2\"/>\n",
       "<circle clip-path=\"url(#clip632)\" cx=\"1453.91\" cy=\"1295.24\" r=\"14\" fill=\"#009af9\" fill-rule=\"evenodd\" fill-opacity=\"1\" stroke=\"#000000\" stroke-opacity=\"1\" stroke-width=\"3.2\"/>\n",
       "<circle clip-path=\"url(#clip632)\" cx=\"1457.94\" cy=\"1424.78\" r=\"14\" fill=\"#009af9\" fill-rule=\"evenodd\" fill-opacity=\"1\" stroke=\"#000000\" stroke-opacity=\"1\" stroke-width=\"3.2\"/>\n",
       "<circle clip-path=\"url(#clip632)\" cx=\"1461.96\" cy=\"1364.38\" r=\"14\" fill=\"#009af9\" fill-rule=\"evenodd\" fill-opacity=\"1\" stroke=\"#000000\" stroke-opacity=\"1\" stroke-width=\"3.2\"/>\n",
       "<circle clip-path=\"url(#clip632)\" cx=\"1465.99\" cy=\"1439.84\" r=\"14\" fill=\"#009af9\" fill-rule=\"evenodd\" fill-opacity=\"1\" stroke=\"#000000\" stroke-opacity=\"1\" stroke-width=\"3.2\"/>\n",
       "<circle clip-path=\"url(#clip632)\" cx=\"1470.02\" cy=\"1376.98\" r=\"14\" fill=\"#009af9\" fill-rule=\"evenodd\" fill-opacity=\"1\" stroke=\"#000000\" stroke-opacity=\"1\" stroke-width=\"3.2\"/>\n",
       "<circle clip-path=\"url(#clip632)\" cx=\"1474.04\" cy=\"1349.33\" r=\"14\" fill=\"#009af9\" fill-rule=\"evenodd\" fill-opacity=\"1\" stroke=\"#000000\" stroke-opacity=\"1\" stroke-width=\"3.2\"/>\n",
       "<circle clip-path=\"url(#clip632)\" cx=\"1478.07\" cy=\"1341.66\" r=\"14\" fill=\"#009af9\" fill-rule=\"evenodd\" fill-opacity=\"1\" stroke=\"#000000\" stroke-opacity=\"1\" stroke-width=\"3.2\"/>\n",
       "<circle clip-path=\"url(#clip632)\" cx=\"1482.1\" cy=\"1388.99\" r=\"14\" fill=\"#009af9\" fill-rule=\"evenodd\" fill-opacity=\"1\" stroke=\"#000000\" stroke-opacity=\"1\" stroke-width=\"3.2\"/>\n",
       "<circle clip-path=\"url(#clip632)\" cx=\"1486.12\" cy=\"1406.67\" r=\"14\" fill=\"#009af9\" fill-rule=\"evenodd\" fill-opacity=\"1\" stroke=\"#000000\" stroke-opacity=\"1\" stroke-width=\"3.2\"/>\n",
       "<circle clip-path=\"url(#clip632)\" cx=\"1490.15\" cy=\"1414\" r=\"14\" fill=\"#009af9\" fill-rule=\"evenodd\" fill-opacity=\"1\" stroke=\"#000000\" stroke-opacity=\"1\" stroke-width=\"3.2\"/>\n",
       "<circle clip-path=\"url(#clip632)\" cx=\"1494.18\" cy=\"1077.79\" r=\"14\" fill=\"#009af9\" fill-rule=\"evenodd\" fill-opacity=\"1\" stroke=\"#000000\" stroke-opacity=\"1\" stroke-width=\"3.2\"/>\n",
       "<circle clip-path=\"url(#clip632)\" cx=\"1498.2\" cy=\"1429.76\" r=\"14\" fill=\"#009af9\" fill-rule=\"evenodd\" fill-opacity=\"1\" stroke=\"#000000\" stroke-opacity=\"1\" stroke-width=\"3.2\"/>\n",
       "<circle clip-path=\"url(#clip632)\" cx=\"1502.23\" cy=\"1423.89\" r=\"14\" fill=\"#009af9\" fill-rule=\"evenodd\" fill-opacity=\"1\" stroke=\"#000000\" stroke-opacity=\"1\" stroke-width=\"3.2\"/>\n",
       "<circle clip-path=\"url(#clip632)\" cx=\"1506.26\" cy=\"1393.59\" r=\"14\" fill=\"#009af9\" fill-rule=\"evenodd\" fill-opacity=\"1\" stroke=\"#000000\" stroke-opacity=\"1\" stroke-width=\"3.2\"/>\n",
       "<circle clip-path=\"url(#clip632)\" cx=\"1510.29\" cy=\"1431.79\" r=\"14\" fill=\"#009af9\" fill-rule=\"evenodd\" fill-opacity=\"1\" stroke=\"#000000\" stroke-opacity=\"1\" stroke-width=\"3.2\"/>\n",
       "<circle clip-path=\"url(#clip632)\" cx=\"1514.31\" cy=\"1398.89\" r=\"14\" fill=\"#009af9\" fill-rule=\"evenodd\" fill-opacity=\"1\" stroke=\"#000000\" stroke-opacity=\"1\" stroke-width=\"3.2\"/>\n",
       "<circle clip-path=\"url(#clip632)\" cx=\"1518.34\" cy=\"1379.66\" r=\"14\" fill=\"#009af9\" fill-rule=\"evenodd\" fill-opacity=\"1\" stroke=\"#000000\" stroke-opacity=\"1\" stroke-width=\"3.2\"/>\n",
       "<circle clip-path=\"url(#clip632)\" cx=\"1522.37\" cy=\"1279.99\" r=\"14\" fill=\"#009af9\" fill-rule=\"evenodd\" fill-opacity=\"1\" stroke=\"#000000\" stroke-opacity=\"1\" stroke-width=\"3.2\"/>\n",
       "<circle clip-path=\"url(#clip632)\" cx=\"1526.39\" cy=\"1388.7\" r=\"14\" fill=\"#009af9\" fill-rule=\"evenodd\" fill-opacity=\"1\" stroke=\"#000000\" stroke-opacity=\"1\" stroke-width=\"3.2\"/>\n",
       "<circle clip-path=\"url(#clip632)\" cx=\"1530.42\" cy=\"1418.37\" r=\"14\" fill=\"#009af9\" fill-rule=\"evenodd\" fill-opacity=\"1\" stroke=\"#000000\" stroke-opacity=\"1\" stroke-width=\"3.2\"/>\n",
       "<circle clip-path=\"url(#clip632)\" cx=\"1534.45\" cy=\"1363.43\" r=\"14\" fill=\"#009af9\" fill-rule=\"evenodd\" fill-opacity=\"1\" stroke=\"#000000\" stroke-opacity=\"1\" stroke-width=\"3.2\"/>\n",
       "<circle clip-path=\"url(#clip632)\" cx=\"1538.47\" cy=\"1416.89\" r=\"14\" fill=\"#009af9\" fill-rule=\"evenodd\" fill-opacity=\"1\" stroke=\"#000000\" stroke-opacity=\"1\" stroke-width=\"3.2\"/>\n",
       "<circle clip-path=\"url(#clip632)\" cx=\"1542.5\" cy=\"1363.83\" r=\"14\" fill=\"#009af9\" fill-rule=\"evenodd\" fill-opacity=\"1\" stroke=\"#000000\" stroke-opacity=\"1\" stroke-width=\"3.2\"/>\n",
       "<circle clip-path=\"url(#clip632)\" cx=\"1546.53\" cy=\"1417.67\" r=\"14\" fill=\"#009af9\" fill-rule=\"evenodd\" fill-opacity=\"1\" stroke=\"#000000\" stroke-opacity=\"1\" stroke-width=\"3.2\"/>\n",
       "<circle clip-path=\"url(#clip632)\" cx=\"1550.55\" cy=\"1387.54\" r=\"14\" fill=\"#009af9\" fill-rule=\"evenodd\" fill-opacity=\"1\" stroke=\"#000000\" stroke-opacity=\"1\" stroke-width=\"3.2\"/>\n",
       "<circle clip-path=\"url(#clip632)\" cx=\"1554.58\" cy=\"1426.32\" r=\"14\" fill=\"#009af9\" fill-rule=\"evenodd\" fill-opacity=\"1\" stroke=\"#000000\" stroke-opacity=\"1\" stroke-width=\"3.2\"/>\n",
       "<circle clip-path=\"url(#clip632)\" cx=\"1558.61\" cy=\"1396.66\" r=\"14\" fill=\"#009af9\" fill-rule=\"evenodd\" fill-opacity=\"1\" stroke=\"#000000\" stroke-opacity=\"1\" stroke-width=\"3.2\"/>\n",
       "<circle clip-path=\"url(#clip632)\" cx=\"1562.64\" cy=\"1425.9\" r=\"14\" fill=\"#009af9\" fill-rule=\"evenodd\" fill-opacity=\"1\" stroke=\"#000000\" stroke-opacity=\"1\" stroke-width=\"3.2\"/>\n",
       "<circle clip-path=\"url(#clip632)\" cx=\"1566.66\" cy=\"1440.84\" r=\"14\" fill=\"#009af9\" fill-rule=\"evenodd\" fill-opacity=\"1\" stroke=\"#000000\" stroke-opacity=\"1\" stroke-width=\"3.2\"/>\n",
       "<circle clip-path=\"url(#clip632)\" cx=\"1570.69\" cy=\"1419.8\" r=\"14\" fill=\"#009af9\" fill-rule=\"evenodd\" fill-opacity=\"1\" stroke=\"#000000\" stroke-opacity=\"1\" stroke-width=\"3.2\"/>\n",
       "<circle clip-path=\"url(#clip632)\" cx=\"1574.72\" cy=\"1338.06\" r=\"14\" fill=\"#009af9\" fill-rule=\"evenodd\" fill-opacity=\"1\" stroke=\"#000000\" stroke-opacity=\"1\" stroke-width=\"3.2\"/>\n",
       "<circle clip-path=\"url(#clip632)\" cx=\"1578.74\" cy=\"1430.81\" r=\"14\" fill=\"#009af9\" fill-rule=\"evenodd\" fill-opacity=\"1\" stroke=\"#000000\" stroke-opacity=\"1\" stroke-width=\"3.2\"/>\n",
       "<circle clip-path=\"url(#clip632)\" cx=\"1582.77\" cy=\"1430.36\" r=\"14\" fill=\"#009af9\" fill-rule=\"evenodd\" fill-opacity=\"1\" stroke=\"#000000\" stroke-opacity=\"1\" stroke-width=\"3.2\"/>\n",
       "<circle clip-path=\"url(#clip632)\" cx=\"1586.8\" cy=\"1424.67\" r=\"14\" fill=\"#009af9\" fill-rule=\"evenodd\" fill-opacity=\"1\" stroke=\"#000000\" stroke-opacity=\"1\" stroke-width=\"3.2\"/>\n",
       "<circle clip-path=\"url(#clip632)\" cx=\"1590.82\" cy=\"1440.42\" r=\"14\" fill=\"#009af9\" fill-rule=\"evenodd\" fill-opacity=\"1\" stroke=\"#000000\" stroke-opacity=\"1\" stroke-width=\"3.2\"/>\n",
       "<circle clip-path=\"url(#clip632)\" cx=\"1594.85\" cy=\"1440.13\" r=\"14\" fill=\"#009af9\" fill-rule=\"evenodd\" fill-opacity=\"1\" stroke=\"#000000\" stroke-opacity=\"1\" stroke-width=\"3.2\"/>\n",
       "<circle clip-path=\"url(#clip632)\" cx=\"1598.88\" cy=\"1349.48\" r=\"14\" fill=\"#009af9\" fill-rule=\"evenodd\" fill-opacity=\"1\" stroke=\"#000000\" stroke-opacity=\"1\" stroke-width=\"3.2\"/>\n",
       "<circle clip-path=\"url(#clip632)\" cx=\"1602.9\" cy=\"1422.4\" r=\"14\" fill=\"#009af9\" fill-rule=\"evenodd\" fill-opacity=\"1\" stroke=\"#000000\" stroke-opacity=\"1\" stroke-width=\"3.2\"/>\n",
       "<circle clip-path=\"url(#clip632)\" cx=\"1606.93\" cy=\"1409.33\" r=\"14\" fill=\"#009af9\" fill-rule=\"evenodd\" fill-opacity=\"1\" stroke=\"#000000\" stroke-opacity=\"1\" stroke-width=\"3.2\"/>\n",
       "<circle clip-path=\"url(#clip632)\" cx=\"1610.96\" cy=\"1432.37\" r=\"14\" fill=\"#009af9\" fill-rule=\"evenodd\" fill-opacity=\"1\" stroke=\"#000000\" stroke-opacity=\"1\" stroke-width=\"3.2\"/>\n",
       "<circle clip-path=\"url(#clip632)\" cx=\"1614.99\" cy=\"1431.51\" r=\"14\" fill=\"#009af9\" fill-rule=\"evenodd\" fill-opacity=\"1\" stroke=\"#000000\" stroke-opacity=\"1\" stroke-width=\"3.2\"/>\n",
       "<circle clip-path=\"url(#clip632)\" cx=\"1619.01\" cy=\"1419.51\" r=\"14\" fill=\"#009af9\" fill-rule=\"evenodd\" fill-opacity=\"1\" stroke=\"#000000\" stroke-opacity=\"1\" stroke-width=\"3.2\"/>\n",
       "<circle clip-path=\"url(#clip632)\" cx=\"1623.04\" cy=\"1361.56\" r=\"14\" fill=\"#009af9\" fill-rule=\"evenodd\" fill-opacity=\"1\" stroke=\"#000000\" stroke-opacity=\"1\" stroke-width=\"3.2\"/>\n",
       "<circle clip-path=\"url(#clip632)\" cx=\"1627.07\" cy=\"1382.72\" r=\"14\" fill=\"#009af9\" fill-rule=\"evenodd\" fill-opacity=\"1\" stroke=\"#000000\" stroke-opacity=\"1\" stroke-width=\"3.2\"/>\n",
       "<circle clip-path=\"url(#clip632)\" cx=\"1631.09\" cy=\"1262.09\" r=\"14\" fill=\"#009af9\" fill-rule=\"evenodd\" fill-opacity=\"1\" stroke=\"#000000\" stroke-opacity=\"1\" stroke-width=\"3.2\"/>\n",
       "<circle clip-path=\"url(#clip632)\" cx=\"1635.12\" cy=\"1412.08\" r=\"14\" fill=\"#009af9\" fill-rule=\"evenodd\" fill-opacity=\"1\" stroke=\"#000000\" stroke-opacity=\"1\" stroke-width=\"3.2\"/>\n",
       "<circle clip-path=\"url(#clip632)\" cx=\"1639.15\" cy=\"1438.37\" r=\"14\" fill=\"#009af9\" fill-rule=\"evenodd\" fill-opacity=\"1\" stroke=\"#000000\" stroke-opacity=\"1\" stroke-width=\"3.2\"/>\n",
       "<circle clip-path=\"url(#clip632)\" cx=\"1643.17\" cy=\"1408.26\" r=\"14\" fill=\"#009af9\" fill-rule=\"evenodd\" fill-opacity=\"1\" stroke=\"#000000\" stroke-opacity=\"1\" stroke-width=\"3.2\"/>\n",
       "<circle clip-path=\"url(#clip632)\" cx=\"1647.2\" cy=\"1372.99\" r=\"14\" fill=\"#009af9\" fill-rule=\"evenodd\" fill-opacity=\"1\" stroke=\"#000000\" stroke-opacity=\"1\" stroke-width=\"3.2\"/>\n",
       "<circle clip-path=\"url(#clip632)\" cx=\"1651.23\" cy=\"1312.8\" r=\"14\" fill=\"#009af9\" fill-rule=\"evenodd\" fill-opacity=\"1\" stroke=\"#000000\" stroke-opacity=\"1\" stroke-width=\"3.2\"/>\n",
       "<circle clip-path=\"url(#clip632)\" cx=\"1655.25\" cy=\"1403.77\" r=\"14\" fill=\"#009af9\" fill-rule=\"evenodd\" fill-opacity=\"1\" stroke=\"#000000\" stroke-opacity=\"1\" stroke-width=\"3.2\"/>\n",
       "<circle clip-path=\"url(#clip632)\" cx=\"1659.28\" cy=\"1397.19\" r=\"14\" fill=\"#009af9\" fill-rule=\"evenodd\" fill-opacity=\"1\" stroke=\"#000000\" stroke-opacity=\"1\" stroke-width=\"3.2\"/>\n",
       "<circle clip-path=\"url(#clip632)\" cx=\"1663.31\" cy=\"1411.93\" r=\"14\" fill=\"#009af9\" fill-rule=\"evenodd\" fill-opacity=\"1\" stroke=\"#000000\" stroke-opacity=\"1\" stroke-width=\"3.2\"/>\n",
       "<circle clip-path=\"url(#clip632)\" cx=\"1667.33\" cy=\"1417.71\" r=\"14\" fill=\"#009af9\" fill-rule=\"evenodd\" fill-opacity=\"1\" stroke=\"#000000\" stroke-opacity=\"1\" stroke-width=\"3.2\"/>\n",
       "<circle clip-path=\"url(#clip632)\" cx=\"1671.36\" cy=\"1399.94\" r=\"14\" fill=\"#009af9\" fill-rule=\"evenodd\" fill-opacity=\"1\" stroke=\"#000000\" stroke-opacity=\"1\" stroke-width=\"3.2\"/>\n",
       "<circle clip-path=\"url(#clip632)\" cx=\"1675.39\" cy=\"1378.43\" r=\"14\" fill=\"#009af9\" fill-rule=\"evenodd\" fill-opacity=\"1\" stroke=\"#000000\" stroke-opacity=\"1\" stroke-width=\"3.2\"/>\n",
       "<circle clip-path=\"url(#clip632)\" cx=\"1679.42\" cy=\"1332.29\" r=\"14\" fill=\"#009af9\" fill-rule=\"evenodd\" fill-opacity=\"1\" stroke=\"#000000\" stroke-opacity=\"1\" stroke-width=\"3.2\"/>\n",
       "<circle clip-path=\"url(#clip632)\" cx=\"1683.44\" cy=\"1424.15\" r=\"14\" fill=\"#009af9\" fill-rule=\"evenodd\" fill-opacity=\"1\" stroke=\"#000000\" stroke-opacity=\"1\" stroke-width=\"3.2\"/>\n",
       "<circle clip-path=\"url(#clip632)\" cx=\"1687.47\" cy=\"1406.21\" r=\"14\" fill=\"#009af9\" fill-rule=\"evenodd\" fill-opacity=\"1\" stroke=\"#000000\" stroke-opacity=\"1\" stroke-width=\"3.2\"/>\n",
       "<circle clip-path=\"url(#clip632)\" cx=\"1691.5\" cy=\"1417.78\" r=\"14\" fill=\"#009af9\" fill-rule=\"evenodd\" fill-opacity=\"1\" stroke=\"#000000\" stroke-opacity=\"1\" stroke-width=\"3.2\"/>\n",
       "<circle clip-path=\"url(#clip632)\" cx=\"1695.52\" cy=\"1403.43\" r=\"14\" fill=\"#009af9\" fill-rule=\"evenodd\" fill-opacity=\"1\" stroke=\"#000000\" stroke-opacity=\"1\" stroke-width=\"3.2\"/>\n",
       "<circle clip-path=\"url(#clip632)\" cx=\"1699.55\" cy=\"1437.2\" r=\"14\" fill=\"#009af9\" fill-rule=\"evenodd\" fill-opacity=\"1\" stroke=\"#000000\" stroke-opacity=\"1\" stroke-width=\"3.2\"/>\n",
       "<circle clip-path=\"url(#clip632)\" cx=\"1703.58\" cy=\"1365.21\" r=\"14\" fill=\"#009af9\" fill-rule=\"evenodd\" fill-opacity=\"1\" stroke=\"#000000\" stroke-opacity=\"1\" stroke-width=\"3.2\"/>\n",
       "<circle clip-path=\"url(#clip632)\" cx=\"1707.6\" cy=\"1407.48\" r=\"14\" fill=\"#009af9\" fill-rule=\"evenodd\" fill-opacity=\"1\" stroke=\"#000000\" stroke-opacity=\"1\" stroke-width=\"3.2\"/>\n",
       "<circle clip-path=\"url(#clip632)\" cx=\"1711.63\" cy=\"1398.52\" r=\"14\" fill=\"#009af9\" fill-rule=\"evenodd\" fill-opacity=\"1\" stroke=\"#000000\" stroke-opacity=\"1\" stroke-width=\"3.2\"/>\n",
       "<circle clip-path=\"url(#clip632)\" cx=\"1715.66\" cy=\"1424.47\" r=\"14\" fill=\"#009af9\" fill-rule=\"evenodd\" fill-opacity=\"1\" stroke=\"#000000\" stroke-opacity=\"1\" stroke-width=\"3.2\"/>\n",
       "<circle clip-path=\"url(#clip632)\" cx=\"1719.68\" cy=\"1418.97\" r=\"14\" fill=\"#009af9\" fill-rule=\"evenodd\" fill-opacity=\"1\" stroke=\"#000000\" stroke-opacity=\"1\" stroke-width=\"3.2\"/>\n",
       "<circle clip-path=\"url(#clip632)\" cx=\"1723.71\" cy=\"1371.79\" r=\"14\" fill=\"#009af9\" fill-rule=\"evenodd\" fill-opacity=\"1\" stroke=\"#000000\" stroke-opacity=\"1\" stroke-width=\"3.2\"/>\n",
       "<circle clip-path=\"url(#clip632)\" cx=\"1727.74\" cy=\"1389.24\" r=\"14\" fill=\"#009af9\" fill-rule=\"evenodd\" fill-opacity=\"1\" stroke=\"#000000\" stroke-opacity=\"1\" stroke-width=\"3.2\"/>\n",
       "<circle clip-path=\"url(#clip632)\" cx=\"1731.77\" cy=\"1390.31\" r=\"14\" fill=\"#009af9\" fill-rule=\"evenodd\" fill-opacity=\"1\" stroke=\"#000000\" stroke-opacity=\"1\" stroke-width=\"3.2\"/>\n",
       "<circle clip-path=\"url(#clip632)\" cx=\"1735.79\" cy=\"1348.44\" r=\"14\" fill=\"#009af9\" fill-rule=\"evenodd\" fill-opacity=\"1\" stroke=\"#000000\" stroke-opacity=\"1\" stroke-width=\"3.2\"/>\n",
       "<circle clip-path=\"url(#clip632)\" cx=\"1739.82\" cy=\"1356.72\" r=\"14\" fill=\"#009af9\" fill-rule=\"evenodd\" fill-opacity=\"1\" stroke=\"#000000\" stroke-opacity=\"1\" stroke-width=\"3.2\"/>\n",
       "<circle clip-path=\"url(#clip632)\" cx=\"1743.85\" cy=\"1396.59\" r=\"14\" fill=\"#009af9\" fill-rule=\"evenodd\" fill-opacity=\"1\" stroke=\"#000000\" stroke-opacity=\"1\" stroke-width=\"3.2\"/>\n",
       "<circle clip-path=\"url(#clip632)\" cx=\"1747.87\" cy=\"1369.43\" r=\"14\" fill=\"#009af9\" fill-rule=\"evenodd\" fill-opacity=\"1\" stroke=\"#000000\" stroke-opacity=\"1\" stroke-width=\"3.2\"/>\n",
       "<circle clip-path=\"url(#clip632)\" cx=\"1751.9\" cy=\"1426.47\" r=\"14\" fill=\"#009af9\" fill-rule=\"evenodd\" fill-opacity=\"1\" stroke=\"#000000\" stroke-opacity=\"1\" stroke-width=\"3.2\"/>\n",
       "<circle clip-path=\"url(#clip632)\" cx=\"1755.93\" cy=\"1356.49\" r=\"14\" fill=\"#009af9\" fill-rule=\"evenodd\" fill-opacity=\"1\" stroke=\"#000000\" stroke-opacity=\"1\" stroke-width=\"3.2\"/>\n",
       "<circle clip-path=\"url(#clip632)\" cx=\"1759.95\" cy=\"162.047\" r=\"14\" fill=\"#009af9\" fill-rule=\"evenodd\" fill-opacity=\"1\" stroke=\"#000000\" stroke-opacity=\"1\" stroke-width=\"3.2\"/>\n",
       "<circle clip-path=\"url(#clip632)\" cx=\"1763.98\" cy=\"1402.36\" r=\"14\" fill=\"#009af9\" fill-rule=\"evenodd\" fill-opacity=\"1\" stroke=\"#000000\" stroke-opacity=\"1\" stroke-width=\"3.2\"/>\n",
       "<circle clip-path=\"url(#clip632)\" cx=\"1768.01\" cy=\"1385.21\" r=\"14\" fill=\"#009af9\" fill-rule=\"evenodd\" fill-opacity=\"1\" stroke=\"#000000\" stroke-opacity=\"1\" stroke-width=\"3.2\"/>\n",
       "<circle clip-path=\"url(#clip632)\" cx=\"1772.03\" cy=\"1420.28\" r=\"14\" fill=\"#009af9\" fill-rule=\"evenodd\" fill-opacity=\"1\" stroke=\"#000000\" stroke-opacity=\"1\" stroke-width=\"3.2\"/>\n",
       "<circle clip-path=\"url(#clip632)\" cx=\"1776.06\" cy=\"1410.67\" r=\"14\" fill=\"#009af9\" fill-rule=\"evenodd\" fill-opacity=\"1\" stroke=\"#000000\" stroke-opacity=\"1\" stroke-width=\"3.2\"/>\n",
       "<circle clip-path=\"url(#clip632)\" cx=\"1780.09\" cy=\"1370.8\" r=\"14\" fill=\"#009af9\" fill-rule=\"evenodd\" fill-opacity=\"1\" stroke=\"#000000\" stroke-opacity=\"1\" stroke-width=\"3.2\"/>\n",
       "<circle clip-path=\"url(#clip632)\" cx=\"1784.12\" cy=\"1416.36\" r=\"14\" fill=\"#009af9\" fill-rule=\"evenodd\" fill-opacity=\"1\" stroke=\"#000000\" stroke-opacity=\"1\" stroke-width=\"3.2\"/>\n",
       "<circle clip-path=\"url(#clip632)\" cx=\"1788.14\" cy=\"1303.48\" r=\"14\" fill=\"#009af9\" fill-rule=\"evenodd\" fill-opacity=\"1\" stroke=\"#000000\" stroke-opacity=\"1\" stroke-width=\"3.2\"/>\n",
       "<circle clip-path=\"url(#clip632)\" cx=\"1792.17\" cy=\"1433.07\" r=\"14\" fill=\"#009af9\" fill-rule=\"evenodd\" fill-opacity=\"1\" stroke=\"#000000\" stroke-opacity=\"1\" stroke-width=\"3.2\"/>\n",
       "<circle clip-path=\"url(#clip632)\" cx=\"1796.2\" cy=\"1381.62\" r=\"14\" fill=\"#009af9\" fill-rule=\"evenodd\" fill-opacity=\"1\" stroke=\"#000000\" stroke-opacity=\"1\" stroke-width=\"3.2\"/>\n",
       "<circle clip-path=\"url(#clip632)\" cx=\"1800.22\" cy=\"1399.33\" r=\"14\" fill=\"#009af9\" fill-rule=\"evenodd\" fill-opacity=\"1\" stroke=\"#000000\" stroke-opacity=\"1\" stroke-width=\"3.2\"/>\n",
       "<circle clip-path=\"url(#clip632)\" cx=\"1804.25\" cy=\"1410.49\" r=\"14\" fill=\"#009af9\" fill-rule=\"evenodd\" fill-opacity=\"1\" stroke=\"#000000\" stroke-opacity=\"1\" stroke-width=\"3.2\"/>\n",
       "<circle clip-path=\"url(#clip632)\" cx=\"1808.28\" cy=\"1425.64\" r=\"14\" fill=\"#009af9\" fill-rule=\"evenodd\" fill-opacity=\"1\" stroke=\"#000000\" stroke-opacity=\"1\" stroke-width=\"3.2\"/>\n",
       "<circle clip-path=\"url(#clip632)\" cx=\"1812.3\" cy=\"1377.1\" r=\"14\" fill=\"#009af9\" fill-rule=\"evenodd\" fill-opacity=\"1\" stroke=\"#000000\" stroke-opacity=\"1\" stroke-width=\"3.2\"/>\n",
       "<circle clip-path=\"url(#clip632)\" cx=\"1816.33\" cy=\"1439.85\" r=\"14\" fill=\"#009af9\" fill-rule=\"evenodd\" fill-opacity=\"1\" stroke=\"#000000\" stroke-opacity=\"1\" stroke-width=\"3.2\"/>\n",
       "<circle clip-path=\"url(#clip632)\" cx=\"1820.36\" cy=\"1392.3\" r=\"14\" fill=\"#009af9\" fill-rule=\"evenodd\" fill-opacity=\"1\" stroke=\"#000000\" stroke-opacity=\"1\" stroke-width=\"3.2\"/>\n",
       "<circle clip-path=\"url(#clip632)\" cx=\"1824.38\" cy=\"1330.28\" r=\"14\" fill=\"#009af9\" fill-rule=\"evenodd\" fill-opacity=\"1\" stroke=\"#000000\" stroke-opacity=\"1\" stroke-width=\"3.2\"/>\n",
       "<circle clip-path=\"url(#clip632)\" cx=\"1828.41\" cy=\"1410.51\" r=\"14\" fill=\"#009af9\" fill-rule=\"evenodd\" fill-opacity=\"1\" stroke=\"#000000\" stroke-opacity=\"1\" stroke-width=\"3.2\"/>\n",
       "<circle clip-path=\"url(#clip632)\" cx=\"1832.44\" cy=\"1386.52\" r=\"14\" fill=\"#009af9\" fill-rule=\"evenodd\" fill-opacity=\"1\" stroke=\"#000000\" stroke-opacity=\"1\" stroke-width=\"3.2\"/>\n",
       "<circle clip-path=\"url(#clip632)\" cx=\"1836.47\" cy=\"1404.21\" r=\"14\" fill=\"#009af9\" fill-rule=\"evenodd\" fill-opacity=\"1\" stroke=\"#000000\" stroke-opacity=\"1\" stroke-width=\"3.2\"/>\n",
       "<circle clip-path=\"url(#clip632)\" cx=\"1840.49\" cy=\"1191.15\" r=\"14\" fill=\"#009af9\" fill-rule=\"evenodd\" fill-opacity=\"1\" stroke=\"#000000\" stroke-opacity=\"1\" stroke-width=\"3.2\"/>\n",
       "<circle clip-path=\"url(#clip632)\" cx=\"1844.52\" cy=\"1439.6\" r=\"14\" fill=\"#009af9\" fill-rule=\"evenodd\" fill-opacity=\"1\" stroke=\"#000000\" stroke-opacity=\"1\" stroke-width=\"3.2\"/>\n",
       "<circle clip-path=\"url(#clip632)\" cx=\"1848.55\" cy=\"1403.51\" r=\"14\" fill=\"#009af9\" fill-rule=\"evenodd\" fill-opacity=\"1\" stroke=\"#000000\" stroke-opacity=\"1\" stroke-width=\"3.2\"/>\n",
       "<circle clip-path=\"url(#clip632)\" cx=\"1852.57\" cy=\"1395.8\" r=\"14\" fill=\"#009af9\" fill-rule=\"evenodd\" fill-opacity=\"1\" stroke=\"#000000\" stroke-opacity=\"1\" stroke-width=\"3.2\"/>\n",
       "<circle clip-path=\"url(#clip632)\" cx=\"1856.6\" cy=\"1415.35\" r=\"14\" fill=\"#009af9\" fill-rule=\"evenodd\" fill-opacity=\"1\" stroke=\"#000000\" stroke-opacity=\"1\" stroke-width=\"3.2\"/>\n",
       "<circle clip-path=\"url(#clip632)\" cx=\"1860.63\" cy=\"1330.44\" r=\"14\" fill=\"#009af9\" fill-rule=\"evenodd\" fill-opacity=\"1\" stroke=\"#000000\" stroke-opacity=\"1\" stroke-width=\"3.2\"/>\n",
       "<circle clip-path=\"url(#clip632)\" cx=\"1864.65\" cy=\"1377.27\" r=\"14\" fill=\"#009af9\" fill-rule=\"evenodd\" fill-opacity=\"1\" stroke=\"#000000\" stroke-opacity=\"1\" stroke-width=\"3.2\"/>\n",
       "<circle clip-path=\"url(#clip632)\" cx=\"1868.68\" cy=\"1295.13\" r=\"14\" fill=\"#009af9\" fill-rule=\"evenodd\" fill-opacity=\"1\" stroke=\"#000000\" stroke-opacity=\"1\" stroke-width=\"3.2\"/>\n",
       "<circle clip-path=\"url(#clip632)\" cx=\"1872.71\" cy=\"1407.3\" r=\"14\" fill=\"#009af9\" fill-rule=\"evenodd\" fill-opacity=\"1\" stroke=\"#000000\" stroke-opacity=\"1\" stroke-width=\"3.2\"/>\n",
       "<circle clip-path=\"url(#clip632)\" cx=\"1876.73\" cy=\"1374.43\" r=\"14\" fill=\"#009af9\" fill-rule=\"evenodd\" fill-opacity=\"1\" stroke=\"#000000\" stroke-opacity=\"1\" stroke-width=\"3.2\"/>\n",
       "<circle clip-path=\"url(#clip632)\" cx=\"1880.76\" cy=\"1349.11\" r=\"14\" fill=\"#009af9\" fill-rule=\"evenodd\" fill-opacity=\"1\" stroke=\"#000000\" stroke-opacity=\"1\" stroke-width=\"3.2\"/>\n",
       "<circle clip-path=\"url(#clip632)\" cx=\"1884.79\" cy=\"1385.59\" r=\"14\" fill=\"#009af9\" fill-rule=\"evenodd\" fill-opacity=\"1\" stroke=\"#000000\" stroke-opacity=\"1\" stroke-width=\"3.2\"/>\n",
       "<circle clip-path=\"url(#clip632)\" cx=\"1888.82\" cy=\"1366.23\" r=\"14\" fill=\"#009af9\" fill-rule=\"evenodd\" fill-opacity=\"1\" stroke=\"#000000\" stroke-opacity=\"1\" stroke-width=\"3.2\"/>\n",
       "<circle clip-path=\"url(#clip632)\" cx=\"1892.84\" cy=\"1421.52\" r=\"14\" fill=\"#009af9\" fill-rule=\"evenodd\" fill-opacity=\"1\" stroke=\"#000000\" stroke-opacity=\"1\" stroke-width=\"3.2\"/>\n",
       "<circle clip-path=\"url(#clip632)\" cx=\"1896.87\" cy=\"1400.68\" r=\"14\" fill=\"#009af9\" fill-rule=\"evenodd\" fill-opacity=\"1\" stroke=\"#000000\" stroke-opacity=\"1\" stroke-width=\"3.2\"/>\n",
       "<circle clip-path=\"url(#clip632)\" cx=\"1900.9\" cy=\"1397.56\" r=\"14\" fill=\"#009af9\" fill-rule=\"evenodd\" fill-opacity=\"1\" stroke=\"#000000\" stroke-opacity=\"1\" stroke-width=\"3.2\"/>\n",
       "<circle clip-path=\"url(#clip632)\" cx=\"1904.92\" cy=\"1425.34\" r=\"14\" fill=\"#009af9\" fill-rule=\"evenodd\" fill-opacity=\"1\" stroke=\"#000000\" stroke-opacity=\"1\" stroke-width=\"3.2\"/>\n",
       "<circle clip-path=\"url(#clip632)\" cx=\"1908.95\" cy=\"1416.73\" r=\"14\" fill=\"#009af9\" fill-rule=\"evenodd\" fill-opacity=\"1\" stroke=\"#000000\" stroke-opacity=\"1\" stroke-width=\"3.2\"/>\n",
       "<circle clip-path=\"url(#clip632)\" cx=\"1912.98\" cy=\"1368.57\" r=\"14\" fill=\"#009af9\" fill-rule=\"evenodd\" fill-opacity=\"1\" stroke=\"#000000\" stroke-opacity=\"1\" stroke-width=\"3.2\"/>\n",
       "<circle clip-path=\"url(#clip632)\" cx=\"1917\" cy=\"1205.32\" r=\"14\" fill=\"#009af9\" fill-rule=\"evenodd\" fill-opacity=\"1\" stroke=\"#000000\" stroke-opacity=\"1\" stroke-width=\"3.2\"/>\n",
       "<circle clip-path=\"url(#clip632)\" cx=\"1921.03\" cy=\"1412.78\" r=\"14\" fill=\"#009af9\" fill-rule=\"evenodd\" fill-opacity=\"1\" stroke=\"#000000\" stroke-opacity=\"1\" stroke-width=\"3.2\"/>\n",
       "<circle clip-path=\"url(#clip632)\" cx=\"1925.06\" cy=\"1328.43\" r=\"14\" fill=\"#009af9\" fill-rule=\"evenodd\" fill-opacity=\"1\" stroke=\"#000000\" stroke-opacity=\"1\" stroke-width=\"3.2\"/>\n",
       "<circle clip-path=\"url(#clip632)\" cx=\"1929.08\" cy=\"1376.76\" r=\"14\" fill=\"#009af9\" fill-rule=\"evenodd\" fill-opacity=\"1\" stroke=\"#000000\" stroke-opacity=\"1\" stroke-width=\"3.2\"/>\n",
       "<circle clip-path=\"url(#clip632)\" cx=\"1933.11\" cy=\"1376.21\" r=\"14\" fill=\"#009af9\" fill-rule=\"evenodd\" fill-opacity=\"1\" stroke=\"#000000\" stroke-opacity=\"1\" stroke-width=\"3.2\"/>\n",
       "<circle clip-path=\"url(#clip632)\" cx=\"1937.14\" cy=\"1335.98\" r=\"14\" fill=\"#009af9\" fill-rule=\"evenodd\" fill-opacity=\"1\" stroke=\"#000000\" stroke-opacity=\"1\" stroke-width=\"3.2\"/>\n",
       "<circle clip-path=\"url(#clip632)\" cx=\"1941.17\" cy=\"1415.59\" r=\"14\" fill=\"#009af9\" fill-rule=\"evenodd\" fill-opacity=\"1\" stroke=\"#000000\" stroke-opacity=\"1\" stroke-width=\"3.2\"/>\n",
       "<circle clip-path=\"url(#clip632)\" cx=\"1945.19\" cy=\"1409.81\" r=\"14\" fill=\"#009af9\" fill-rule=\"evenodd\" fill-opacity=\"1\" stroke=\"#000000\" stroke-opacity=\"1\" stroke-width=\"3.2\"/>\n",
       "<circle clip-path=\"url(#clip632)\" cx=\"1949.22\" cy=\"1351.98\" r=\"14\" fill=\"#009af9\" fill-rule=\"evenodd\" fill-opacity=\"1\" stroke=\"#000000\" stroke-opacity=\"1\" stroke-width=\"3.2\"/>\n",
       "<circle clip-path=\"url(#clip632)\" cx=\"1953.25\" cy=\"1407.52\" r=\"14\" fill=\"#009af9\" fill-rule=\"evenodd\" fill-opacity=\"1\" stroke=\"#000000\" stroke-opacity=\"1\" stroke-width=\"3.2\"/>\n",
       "<circle clip-path=\"url(#clip632)\" cx=\"1957.27\" cy=\"1389.13\" r=\"14\" fill=\"#009af9\" fill-rule=\"evenodd\" fill-opacity=\"1\" stroke=\"#000000\" stroke-opacity=\"1\" stroke-width=\"3.2\"/>\n",
       "<circle clip-path=\"url(#clip632)\" cx=\"1961.3\" cy=\"1400.49\" r=\"14\" fill=\"#009af9\" fill-rule=\"evenodd\" fill-opacity=\"1\" stroke=\"#000000\" stroke-opacity=\"1\" stroke-width=\"3.2\"/>\n",
       "<circle clip-path=\"url(#clip632)\" cx=\"1965.33\" cy=\"1351.24\" r=\"14\" fill=\"#009af9\" fill-rule=\"evenodd\" fill-opacity=\"1\" stroke=\"#000000\" stroke-opacity=\"1\" stroke-width=\"3.2\"/>\n",
       "<circle clip-path=\"url(#clip632)\" cx=\"1969.35\" cy=\"1408.02\" r=\"14\" fill=\"#009af9\" fill-rule=\"evenodd\" fill-opacity=\"1\" stroke=\"#000000\" stroke-opacity=\"1\" stroke-width=\"3.2\"/>\n",
       "<circle clip-path=\"url(#clip632)\" cx=\"1973.38\" cy=\"1429.35\" r=\"14\" fill=\"#009af9\" fill-rule=\"evenodd\" fill-opacity=\"1\" stroke=\"#000000\" stroke-opacity=\"1\" stroke-width=\"3.2\"/>\n",
       "<circle clip-path=\"url(#clip632)\" cx=\"1977.41\" cy=\"1429.06\" r=\"14\" fill=\"#009af9\" fill-rule=\"evenodd\" fill-opacity=\"1\" stroke=\"#000000\" stroke-opacity=\"1\" stroke-width=\"3.2\"/>\n",
       "<circle clip-path=\"url(#clip632)\" cx=\"1981.43\" cy=\"1397.65\" r=\"14\" fill=\"#009af9\" fill-rule=\"evenodd\" fill-opacity=\"1\" stroke=\"#000000\" stroke-opacity=\"1\" stroke-width=\"3.2\"/>\n",
       "<circle clip-path=\"url(#clip632)\" cx=\"1985.46\" cy=\"1410.54\" r=\"14\" fill=\"#009af9\" fill-rule=\"evenodd\" fill-opacity=\"1\" stroke=\"#000000\" stroke-opacity=\"1\" stroke-width=\"3.2\"/>\n",
       "<circle clip-path=\"url(#clip632)\" cx=\"1989.49\" cy=\"1396.07\" r=\"14\" fill=\"#009af9\" fill-rule=\"evenodd\" fill-opacity=\"1\" stroke=\"#000000\" stroke-opacity=\"1\" stroke-width=\"3.2\"/>\n",
       "<circle clip-path=\"url(#clip632)\" cx=\"1993.51\" cy=\"1420.4\" r=\"14\" fill=\"#009af9\" fill-rule=\"evenodd\" fill-opacity=\"1\" stroke=\"#000000\" stroke-opacity=\"1\" stroke-width=\"3.2\"/>\n",
       "<circle clip-path=\"url(#clip632)\" cx=\"1997.54\" cy=\"1410.78\" r=\"14\" fill=\"#009af9\" fill-rule=\"evenodd\" fill-opacity=\"1\" stroke=\"#000000\" stroke-opacity=\"1\" stroke-width=\"3.2\"/>\n",
       "<circle clip-path=\"url(#clip632)\" cx=\"2001.57\" cy=\"1391.83\" r=\"14\" fill=\"#009af9\" fill-rule=\"evenodd\" fill-opacity=\"1\" stroke=\"#000000\" stroke-opacity=\"1\" stroke-width=\"3.2\"/>\n",
       "<circle clip-path=\"url(#clip632)\" cx=\"2005.6\" cy=\"1430.26\" r=\"14\" fill=\"#009af9\" fill-rule=\"evenodd\" fill-opacity=\"1\" stroke=\"#000000\" stroke-opacity=\"1\" stroke-width=\"3.2\"/>\n",
       "<circle clip-path=\"url(#clip632)\" cx=\"2009.62\" cy=\"1389.73\" r=\"14\" fill=\"#009af9\" fill-rule=\"evenodd\" fill-opacity=\"1\" stroke=\"#000000\" stroke-opacity=\"1\" stroke-width=\"3.2\"/>\n",
       "<circle clip-path=\"url(#clip632)\" cx=\"2013.65\" cy=\"1413.66\" r=\"14\" fill=\"#009af9\" fill-rule=\"evenodd\" fill-opacity=\"1\" stroke=\"#000000\" stroke-opacity=\"1\" stroke-width=\"3.2\"/>\n",
       "<circle clip-path=\"url(#clip632)\" cx=\"2017.68\" cy=\"1413.74\" r=\"14\" fill=\"#009af9\" fill-rule=\"evenodd\" fill-opacity=\"1\" stroke=\"#000000\" stroke-opacity=\"1\" stroke-width=\"3.2\"/>\n",
       "<circle clip-path=\"url(#clip632)\" cx=\"2021.7\" cy=\"1349.55\" r=\"14\" fill=\"#009af9\" fill-rule=\"evenodd\" fill-opacity=\"1\" stroke=\"#000000\" stroke-opacity=\"1\" stroke-width=\"3.2\"/>\n",
       "<circle clip-path=\"url(#clip632)\" cx=\"2025.73\" cy=\"1298.54\" r=\"14\" fill=\"#009af9\" fill-rule=\"evenodd\" fill-opacity=\"1\" stroke=\"#000000\" stroke-opacity=\"1\" stroke-width=\"3.2\"/>\n",
       "<circle clip-path=\"url(#clip632)\" cx=\"2029.76\" cy=\"1370.01\" r=\"14\" fill=\"#009af9\" fill-rule=\"evenodd\" fill-opacity=\"1\" stroke=\"#000000\" stroke-opacity=\"1\" stroke-width=\"3.2\"/>\n",
       "<circle clip-path=\"url(#clip632)\" cx=\"2033.78\" cy=\"1434.55\" r=\"14\" fill=\"#009af9\" fill-rule=\"evenodd\" fill-opacity=\"1\" stroke=\"#000000\" stroke-opacity=\"1\" stroke-width=\"3.2\"/>\n",
       "<circle clip-path=\"url(#clip632)\" cx=\"2037.81\" cy=\"1357.93\" r=\"14\" fill=\"#009af9\" fill-rule=\"evenodd\" fill-opacity=\"1\" stroke=\"#000000\" stroke-opacity=\"1\" stroke-width=\"3.2\"/>\n",
       "<circle clip-path=\"url(#clip632)\" cx=\"2041.84\" cy=\"1372.16\" r=\"14\" fill=\"#009af9\" fill-rule=\"evenodd\" fill-opacity=\"1\" stroke=\"#000000\" stroke-opacity=\"1\" stroke-width=\"3.2\"/>\n",
       "<circle clip-path=\"url(#clip632)\" cx=\"2045.86\" cy=\"1327.18\" r=\"14\" fill=\"#009af9\" fill-rule=\"evenodd\" fill-opacity=\"1\" stroke=\"#000000\" stroke-opacity=\"1\" stroke-width=\"3.2\"/>\n",
       "<circle clip-path=\"url(#clip632)\" cx=\"2049.89\" cy=\"1386.97\" r=\"14\" fill=\"#009af9\" fill-rule=\"evenodd\" fill-opacity=\"1\" stroke=\"#000000\" stroke-opacity=\"1\" stroke-width=\"3.2\"/>\n",
       "<circle clip-path=\"url(#clip632)\" cx=\"2053.92\" cy=\"1380.53\" r=\"14\" fill=\"#009af9\" fill-rule=\"evenodd\" fill-opacity=\"1\" stroke=\"#000000\" stroke-opacity=\"1\" stroke-width=\"3.2\"/>\n",
       "<circle clip-path=\"url(#clip632)\" cx=\"2057.95\" cy=\"1396.28\" r=\"14\" fill=\"#009af9\" fill-rule=\"evenodd\" fill-opacity=\"1\" stroke=\"#000000\" stroke-opacity=\"1\" stroke-width=\"3.2\"/>\n",
       "<circle clip-path=\"url(#clip632)\" cx=\"2061.97\" cy=\"1390.54\" r=\"14\" fill=\"#009af9\" fill-rule=\"evenodd\" fill-opacity=\"1\" stroke=\"#000000\" stroke-opacity=\"1\" stroke-width=\"3.2\"/>\n",
       "<circle clip-path=\"url(#clip632)\" cx=\"2066\" cy=\"1408.83\" r=\"14\" fill=\"#009af9\" fill-rule=\"evenodd\" fill-opacity=\"1\" stroke=\"#000000\" stroke-opacity=\"1\" stroke-width=\"3.2\"/>\n",
       "<circle clip-path=\"url(#clip632)\" cx=\"2070.03\" cy=\"1409.72\" r=\"14\" fill=\"#009af9\" fill-rule=\"evenodd\" fill-opacity=\"1\" stroke=\"#000000\" stroke-opacity=\"1\" stroke-width=\"3.2\"/>\n",
       "<circle clip-path=\"url(#clip632)\" cx=\"2074.05\" cy=\"1285\" r=\"14\" fill=\"#009af9\" fill-rule=\"evenodd\" fill-opacity=\"1\" stroke=\"#000000\" stroke-opacity=\"1\" stroke-width=\"3.2\"/>\n",
       "<circle clip-path=\"url(#clip632)\" cx=\"2078.08\" cy=\"1426.23\" r=\"14\" fill=\"#009af9\" fill-rule=\"evenodd\" fill-opacity=\"1\" stroke=\"#000000\" stroke-opacity=\"1\" stroke-width=\"3.2\"/>\n",
       "<circle clip-path=\"url(#clip632)\" cx=\"2082.11\" cy=\"1430.03\" r=\"14\" fill=\"#009af9\" fill-rule=\"evenodd\" fill-opacity=\"1\" stroke=\"#000000\" stroke-opacity=\"1\" stroke-width=\"3.2\"/>\n",
       "<circle clip-path=\"url(#clip632)\" cx=\"2086.13\" cy=\"1430.44\" r=\"14\" fill=\"#009af9\" fill-rule=\"evenodd\" fill-opacity=\"1\" stroke=\"#000000\" stroke-opacity=\"1\" stroke-width=\"3.2\"/>\n",
       "<circle clip-path=\"url(#clip632)\" cx=\"2090.16\" cy=\"1403.77\" r=\"14\" fill=\"#009af9\" fill-rule=\"evenodd\" fill-opacity=\"1\" stroke=\"#000000\" stroke-opacity=\"1\" stroke-width=\"3.2\"/>\n",
       "<circle clip-path=\"url(#clip632)\" cx=\"2094.19\" cy=\"1409.99\" r=\"14\" fill=\"#009af9\" fill-rule=\"evenodd\" fill-opacity=\"1\" stroke=\"#000000\" stroke-opacity=\"1\" stroke-width=\"3.2\"/>\n",
       "<circle clip-path=\"url(#clip632)\" cx=\"2098.21\" cy=\"1423.14\" r=\"14\" fill=\"#009af9\" fill-rule=\"evenodd\" fill-opacity=\"1\" stroke=\"#000000\" stroke-opacity=\"1\" stroke-width=\"3.2\"/>\n",
       "<circle clip-path=\"url(#clip632)\" cx=\"2102.24\" cy=\"1297.78\" r=\"14\" fill=\"#009af9\" fill-rule=\"evenodd\" fill-opacity=\"1\" stroke=\"#000000\" stroke-opacity=\"1\" stroke-width=\"3.2\"/>\n",
       "<circle clip-path=\"url(#clip632)\" cx=\"2106.27\" cy=\"1440.9\" r=\"14\" fill=\"#009af9\" fill-rule=\"evenodd\" fill-opacity=\"1\" stroke=\"#000000\" stroke-opacity=\"1\" stroke-width=\"3.2\"/>\n",
       "<circle clip-path=\"url(#clip632)\" cx=\"2110.3\" cy=\"1441.74\" r=\"14\" fill=\"#009af9\" fill-rule=\"evenodd\" fill-opacity=\"1\" stroke=\"#000000\" stroke-opacity=\"1\" stroke-width=\"3.2\"/>\n",
       "<circle clip-path=\"url(#clip632)\" cx=\"2114.32\" cy=\"1368.22\" r=\"14\" fill=\"#009af9\" fill-rule=\"evenodd\" fill-opacity=\"1\" stroke=\"#000000\" stroke-opacity=\"1\" stroke-width=\"3.2\"/>\n",
       "<circle clip-path=\"url(#clip632)\" cx=\"2118.35\" cy=\"1404.33\" r=\"14\" fill=\"#009af9\" fill-rule=\"evenodd\" fill-opacity=\"1\" stroke=\"#000000\" stroke-opacity=\"1\" stroke-width=\"3.2\"/>\n",
       "<circle clip-path=\"url(#clip632)\" cx=\"2122.38\" cy=\"1323.29\" r=\"14\" fill=\"#009af9\" fill-rule=\"evenodd\" fill-opacity=\"1\" stroke=\"#000000\" stroke-opacity=\"1\" stroke-width=\"3.2\"/>\n",
       "<circle clip-path=\"url(#clip632)\" cx=\"2126.4\" cy=\"1367.36\" r=\"14\" fill=\"#009af9\" fill-rule=\"evenodd\" fill-opacity=\"1\" stroke=\"#000000\" stroke-opacity=\"1\" stroke-width=\"3.2\"/>\n",
       "<circle clip-path=\"url(#clip632)\" cx=\"2130.43\" cy=\"1368.58\" r=\"14\" fill=\"#009af9\" fill-rule=\"evenodd\" fill-opacity=\"1\" stroke=\"#000000\" stroke-opacity=\"1\" stroke-width=\"3.2\"/>\n",
       "<circle clip-path=\"url(#clip632)\" cx=\"2134.46\" cy=\"1363.36\" r=\"14\" fill=\"#009af9\" fill-rule=\"evenodd\" fill-opacity=\"1\" stroke=\"#000000\" stroke-opacity=\"1\" stroke-width=\"3.2\"/>\n",
       "<circle clip-path=\"url(#clip632)\" cx=\"2138.48\" cy=\"1372.92\" r=\"14\" fill=\"#009af9\" fill-rule=\"evenodd\" fill-opacity=\"1\" stroke=\"#000000\" stroke-opacity=\"1\" stroke-width=\"3.2\"/>\n",
       "<circle clip-path=\"url(#clip632)\" cx=\"2142.51\" cy=\"1414.84\" r=\"14\" fill=\"#009af9\" fill-rule=\"evenodd\" fill-opacity=\"1\" stroke=\"#000000\" stroke-opacity=\"1\" stroke-width=\"3.2\"/>\n",
       "<circle clip-path=\"url(#clip632)\" cx=\"2146.54\" cy=\"1411.19\" r=\"14\" fill=\"#009af9\" fill-rule=\"evenodd\" fill-opacity=\"1\" stroke=\"#000000\" stroke-opacity=\"1\" stroke-width=\"3.2\"/>\n",
       "<circle clip-path=\"url(#clip632)\" cx=\"2150.56\" cy=\"1400.95\" r=\"14\" fill=\"#009af9\" fill-rule=\"evenodd\" fill-opacity=\"1\" stroke=\"#000000\" stroke-opacity=\"1\" stroke-width=\"3.2\"/>\n",
       "<circle clip-path=\"url(#clip632)\" cx=\"2154.59\" cy=\"1387.13\" r=\"14\" fill=\"#009af9\" fill-rule=\"evenodd\" fill-opacity=\"1\" stroke=\"#000000\" stroke-opacity=\"1\" stroke-width=\"3.2\"/>\n",
       "<circle clip-path=\"url(#clip632)\" cx=\"2158.62\" cy=\"1408.15\" r=\"14\" fill=\"#009af9\" fill-rule=\"evenodd\" fill-opacity=\"1\" stroke=\"#000000\" stroke-opacity=\"1\" stroke-width=\"3.2\"/>\n",
       "<circle clip-path=\"url(#clip632)\" cx=\"2162.65\" cy=\"1384.34\" r=\"14\" fill=\"#009af9\" fill-rule=\"evenodd\" fill-opacity=\"1\" stroke=\"#000000\" stroke-opacity=\"1\" stroke-width=\"3.2\"/>\n",
       "<circle clip-path=\"url(#clip632)\" cx=\"2166.67\" cy=\"1388.86\" r=\"14\" fill=\"#009af9\" fill-rule=\"evenodd\" fill-opacity=\"1\" stroke=\"#000000\" stroke-opacity=\"1\" stroke-width=\"3.2\"/>\n",
       "<circle clip-path=\"url(#clip632)\" cx=\"2170.7\" cy=\"1415.45\" r=\"14\" fill=\"#009af9\" fill-rule=\"evenodd\" fill-opacity=\"1\" stroke=\"#000000\" stroke-opacity=\"1\" stroke-width=\"3.2\"/>\n",
       "<circle clip-path=\"url(#clip632)\" cx=\"2174.73\" cy=\"1381.73\" r=\"14\" fill=\"#009af9\" fill-rule=\"evenodd\" fill-opacity=\"1\" stroke=\"#000000\" stroke-opacity=\"1\" stroke-width=\"3.2\"/>\n",
       "<circle clip-path=\"url(#clip632)\" cx=\"2178.75\" cy=\"1432.2\" r=\"14\" fill=\"#009af9\" fill-rule=\"evenodd\" fill-opacity=\"1\" stroke=\"#000000\" stroke-opacity=\"1\" stroke-width=\"3.2\"/>\n",
       "<circle clip-path=\"url(#clip632)\" cx=\"2182.78\" cy=\"1381.34\" r=\"14\" fill=\"#009af9\" fill-rule=\"evenodd\" fill-opacity=\"1\" stroke=\"#000000\" stroke-opacity=\"1\" stroke-width=\"3.2\"/>\n",
       "<circle clip-path=\"url(#clip632)\" cx=\"2186.81\" cy=\"1396.63\" r=\"14\" fill=\"#009af9\" fill-rule=\"evenodd\" fill-opacity=\"1\" stroke=\"#000000\" stroke-opacity=\"1\" stroke-width=\"3.2\"/>\n",
       "<circle clip-path=\"url(#clip632)\" cx=\"2190.83\" cy=\"1361.82\" r=\"14\" fill=\"#009af9\" fill-rule=\"evenodd\" fill-opacity=\"1\" stroke=\"#000000\" stroke-opacity=\"1\" stroke-width=\"3.2\"/>\n",
       "<circle clip-path=\"url(#clip632)\" cx=\"2194.86\" cy=\"1395.92\" r=\"14\" fill=\"#009af9\" fill-rule=\"evenodd\" fill-opacity=\"1\" stroke=\"#000000\" stroke-opacity=\"1\" stroke-width=\"3.2\"/>\n",
       "<circle clip-path=\"url(#clip632)\" cx=\"2198.89\" cy=\"1398.41\" r=\"14\" fill=\"#009af9\" fill-rule=\"evenodd\" fill-opacity=\"1\" stroke=\"#000000\" stroke-opacity=\"1\" stroke-width=\"3.2\"/>\n",
       "<circle clip-path=\"url(#clip632)\" cx=\"2202.91\" cy=\"1393.76\" r=\"14\" fill=\"#009af9\" fill-rule=\"evenodd\" fill-opacity=\"1\" stroke=\"#000000\" stroke-opacity=\"1\" stroke-width=\"3.2\"/>\n",
       "<circle clip-path=\"url(#clip632)\" cx=\"2206.94\" cy=\"1331.84\" r=\"14\" fill=\"#009af9\" fill-rule=\"evenodd\" fill-opacity=\"1\" stroke=\"#000000\" stroke-opacity=\"1\" stroke-width=\"3.2\"/>\n",
       "<circle clip-path=\"url(#clip632)\" cx=\"2210.97\" cy=\"1404.24\" r=\"14\" fill=\"#009af9\" fill-rule=\"evenodd\" fill-opacity=\"1\" stroke=\"#000000\" stroke-opacity=\"1\" stroke-width=\"3.2\"/>\n",
       "<circle clip-path=\"url(#clip632)\" cx=\"2215\" cy=\"1410.2\" r=\"14\" fill=\"#009af9\" fill-rule=\"evenodd\" fill-opacity=\"1\" stroke=\"#000000\" stroke-opacity=\"1\" stroke-width=\"3.2\"/>\n",
       "<circle clip-path=\"url(#clip632)\" cx=\"2219.02\" cy=\"1405.32\" r=\"14\" fill=\"#009af9\" fill-rule=\"evenodd\" fill-opacity=\"1\" stroke=\"#000000\" stroke-opacity=\"1\" stroke-width=\"3.2\"/>\n",
       "<circle clip-path=\"url(#clip632)\" cx=\"2223.05\" cy=\"1392.28\" r=\"14\" fill=\"#009af9\" fill-rule=\"evenodd\" fill-opacity=\"1\" stroke=\"#000000\" stroke-opacity=\"1\" stroke-width=\"3.2\"/>\n",
       "<circle clip-path=\"url(#clip632)\" cx=\"2227.08\" cy=\"1435.24\" r=\"14\" fill=\"#009af9\" fill-rule=\"evenodd\" fill-opacity=\"1\" stroke=\"#000000\" stroke-opacity=\"1\" stroke-width=\"3.2\"/>\n",
       "<circle clip-path=\"url(#clip632)\" cx=\"2231.1\" cy=\"1410.24\" r=\"14\" fill=\"#009af9\" fill-rule=\"evenodd\" fill-opacity=\"1\" stroke=\"#000000\" stroke-opacity=\"1\" stroke-width=\"3.2\"/>\n",
       "<circle clip-path=\"url(#clip632)\" cx=\"2235.13\" cy=\"1425.05\" r=\"14\" fill=\"#009af9\" fill-rule=\"evenodd\" fill-opacity=\"1\" stroke=\"#000000\" stroke-opacity=\"1\" stroke-width=\"3.2\"/>\n",
       "<circle clip-path=\"url(#clip632)\" cx=\"2239.16\" cy=\"1321.41\" r=\"14\" fill=\"#009af9\" fill-rule=\"evenodd\" fill-opacity=\"1\" stroke=\"#000000\" stroke-opacity=\"1\" stroke-width=\"3.2\"/>\n",
       "<circle clip-path=\"url(#clip632)\" cx=\"2243.18\" cy=\"1428.4\" r=\"14\" fill=\"#009af9\" fill-rule=\"evenodd\" fill-opacity=\"1\" stroke=\"#000000\" stroke-opacity=\"1\" stroke-width=\"3.2\"/>\n",
       "<circle clip-path=\"url(#clip632)\" cx=\"2247.21\" cy=\"1352.16\" r=\"14\" fill=\"#009af9\" fill-rule=\"evenodd\" fill-opacity=\"1\" stroke=\"#000000\" stroke-opacity=\"1\" stroke-width=\"3.2\"/>\n",
       "<circle clip-path=\"url(#clip632)\" cx=\"2251.24\" cy=\"1385.2\" r=\"14\" fill=\"#009af9\" fill-rule=\"evenodd\" fill-opacity=\"1\" stroke=\"#000000\" stroke-opacity=\"1\" stroke-width=\"3.2\"/>\n",
       "<circle clip-path=\"url(#clip632)\" cx=\"2255.26\" cy=\"1375.02\" r=\"14\" fill=\"#009af9\" fill-rule=\"evenodd\" fill-opacity=\"1\" stroke=\"#000000\" stroke-opacity=\"1\" stroke-width=\"3.2\"/>\n",
       "<circle clip-path=\"url(#clip632)\" cx=\"2259.29\" cy=\"1416.78\" r=\"14\" fill=\"#009af9\" fill-rule=\"evenodd\" fill-opacity=\"1\" stroke=\"#000000\" stroke-opacity=\"1\" stroke-width=\"3.2\"/>\n",
       "<circle clip-path=\"url(#clip632)\" cx=\"2263.32\" cy=\"1428.55\" r=\"14\" fill=\"#009af9\" fill-rule=\"evenodd\" fill-opacity=\"1\" stroke=\"#000000\" stroke-opacity=\"1\" stroke-width=\"3.2\"/>\n",
       "<circle clip-path=\"url(#clip632)\" cx=\"2267.35\" cy=\"1405.57\" r=\"14\" fill=\"#009af9\" fill-rule=\"evenodd\" fill-opacity=\"1\" stroke=\"#000000\" stroke-opacity=\"1\" stroke-width=\"3.2\"/>\n",
       "<circle clip-path=\"url(#clip632)\" cx=\"2271.37\" cy=\"1422.77\" r=\"14\" fill=\"#009af9\" fill-rule=\"evenodd\" fill-opacity=\"1\" stroke=\"#000000\" stroke-opacity=\"1\" stroke-width=\"3.2\"/>\n",
       "<circle clip-path=\"url(#clip632)\" cx=\"2275.4\" cy=\"1412.16\" r=\"14\" fill=\"#009af9\" fill-rule=\"evenodd\" fill-opacity=\"1\" stroke=\"#000000\" stroke-opacity=\"1\" stroke-width=\"3.2\"/>\n",
       "<circle clip-path=\"url(#clip632)\" cx=\"2279.43\" cy=\"1399.19\" r=\"14\" fill=\"#009af9\" fill-rule=\"evenodd\" fill-opacity=\"1\" stroke=\"#000000\" stroke-opacity=\"1\" stroke-width=\"3.2\"/>\n",
       "<circle clip-path=\"url(#clip632)\" cx=\"2283.45\" cy=\"1362.46\" r=\"14\" fill=\"#009af9\" fill-rule=\"evenodd\" fill-opacity=\"1\" stroke=\"#000000\" stroke-opacity=\"1\" stroke-width=\"3.2\"/>\n",
       "<circle clip-path=\"url(#clip632)\" cx=\"2287.48\" cy=\"1418.99\" r=\"14\" fill=\"#009af9\" fill-rule=\"evenodd\" fill-opacity=\"1\" stroke=\"#000000\" stroke-opacity=\"1\" stroke-width=\"3.2\"/>\n",
       "<circle clip-path=\"url(#clip632)\" cx=\"2291.51\" cy=\"1407.99\" r=\"14\" fill=\"#009af9\" fill-rule=\"evenodd\" fill-opacity=\"1\" stroke=\"#000000\" stroke-opacity=\"1\" stroke-width=\"3.2\"/>\n",
       "<path clip-path=\"url(#clip630)\" d=\"\n",
       "M1855.94 327.952 L2280.76 327.952 L2280.76 206.992 L1855.94 206.992  Z\n",
       "  \" fill=\"#ffffff\" fill-rule=\"evenodd\" fill-opacity=\"1\"/>\n",
       "<polyline clip-path=\"url(#clip630)\" style=\"stroke:#000000; stroke-width:4; stroke-opacity:1; fill:none\" points=\"\n",
       "  1855.94,327.952 2280.76,327.952 2280.76,206.992 1855.94,206.992 1855.94,327.952 \n",
       "  \"/>\n",
       "<circle clip-path=\"url(#clip630)\" cx=\"1963.94\" cy=\"267.472\" r=\"23\" fill=\"#009af9\" fill-rule=\"evenodd\" fill-opacity=\"1\" stroke=\"#000000\" stroke-opacity=\"1\" stroke-width=\"5.12\"/>\n",
       "<path clip-path=\"url(#clip630)\" d=\"M 0 0 M2071.97 270.724 L2071.97 272.808 L2052.39 272.808 Q2052.66 277.206 2055.03 279.521 Q2057.41 281.812 2061.65 281.812 Q2064.1 281.812 2066.39 281.21 Q2068.71 280.609 2070.97 279.405 L2070.97 283.433 Q2068.68 284.405 2066.28 284.914 Q2063.87 285.423 2061.39 285.423 Q2055.19 285.423 2051.55 281.812 Q2047.94 278.201 2047.94 272.044 Q2047.94 265.678 2051.37 261.951 Q2054.82 258.201 2060.65 258.201 Q2065.88 258.201 2068.91 261.581 Q2071.97 264.937 2071.97 270.724 M2067.71 269.474 Q2067.66 265.979 2065.74 263.896 Q2063.84 261.812 2060.7 261.812 Q2057.13 261.812 2054.98 263.826 Q2052.85 265.84 2052.53 269.498 L2067.71 269.474 Z\" fill=\"#000000\" fill-rule=\"evenodd\" fill-opacity=\"1\" /><path clip-path=\"url(#clip630)\" d=\"M 0 0 M2076.44 248.734 L2080.7 248.734 L2080.7 284.752 L2076.44 284.752 L2076.44 248.734 Z\" fill=\"#000000\" fill-rule=\"evenodd\" fill-opacity=\"1\" /><path clip-path=\"url(#clip630)\" d=\"M 0 0 M2095.21 261.812 Q2091.78 261.812 2089.79 264.498 Q2087.8 267.16 2087.8 271.812 Q2087.8 276.465 2089.77 279.15 Q2091.76 281.812 2095.21 281.812 Q2098.61 281.812 2100.6 279.127 Q2102.59 276.442 2102.59 271.812 Q2102.59 267.206 2100.6 264.521 Q2098.61 261.812 2095.21 261.812 M2095.21 258.201 Q2100.77 258.201 2103.94 261.812 Q2107.11 265.424 2107.11 271.812 Q2107.11 278.178 2103.94 281.812 Q2100.77 285.423 2095.21 285.423 Q2089.63 285.423 2086.46 281.812 Q2083.31 278.178 2083.31 271.812 Q2083.31 265.424 2086.46 261.812 Q2089.63 258.201 2095.21 258.201 Z\" fill=\"#000000\" fill-rule=\"evenodd\" fill-opacity=\"1\" /><path clip-path=\"url(#clip630)\" d=\"M 0 0 M2115.7 280.863 L2115.7 294.613 L2111.41 294.613 L2111.41 258.826 L2115.7 258.826 L2115.7 262.762 Q2117.04 260.447 2119.08 259.336 Q2121.14 258.201 2123.98 258.201 Q2128.71 258.201 2131.65 261.951 Q2134.61 265.701 2134.61 271.812 Q2134.61 277.923 2131.65 281.673 Q2128.71 285.423 2123.98 285.423 Q2121.14 285.423 2119.08 284.312 Q2117.04 283.178 2115.7 280.863 M2130.19 271.812 Q2130.19 267.113 2128.24 264.451 Q2126.32 261.766 2122.94 261.766 Q2119.56 261.766 2117.62 264.451 Q2115.7 267.113 2115.7 271.812 Q2115.7 276.511 2117.62 279.197 Q2119.56 281.859 2122.94 281.859 Q2126.32 281.859 2128.24 279.197 Q2130.19 276.511 2130.19 271.812 Z\" fill=\"#000000\" fill-rule=\"evenodd\" fill-opacity=\"1\" /><path clip-path=\"url(#clip630)\" d=\"M 0 0 M2154.1 262.808 Q2153.38 262.391 2152.52 262.206 Q2151.69 261.998 2150.67 261.998 Q2147.06 261.998 2145.12 264.359 Q2143.2 266.697 2143.2 271.095 L2143.2 284.752 L2138.91 284.752 L2138.91 258.826 L2143.2 258.826 L2143.2 262.854 Q2144.54 260.493 2146.69 259.359 Q2148.84 258.201 2151.92 258.201 Q2152.36 258.201 2152.9 258.271 Q2153.43 258.317 2154.08 258.433 L2154.1 262.808 Z\" fill=\"#000000\" fill-rule=\"evenodd\" fill-opacity=\"1\" /><path clip-path=\"url(#clip630)\" d=\"M 0 0 M2167.57 261.812 Q2164.15 261.812 2162.15 264.498 Q2160.16 267.16 2160.16 271.812 Q2160.16 276.465 2162.13 279.15 Q2164.12 281.812 2167.57 281.812 Q2170.97 281.812 2172.96 279.127 Q2174.96 276.442 2174.96 271.812 Q2174.96 267.206 2172.96 264.521 Q2170.97 261.812 2167.57 261.812 M2167.57 258.201 Q2173.13 258.201 2176.3 261.812 Q2179.47 265.424 2179.47 271.812 Q2179.47 278.178 2176.3 281.812 Q2173.13 285.423 2167.57 285.423 Q2161.99 285.423 2158.82 281.812 Q2155.67 278.178 2155.67 271.812 Q2155.67 265.424 2158.82 261.812 Q2161.99 258.201 2167.57 258.201 Z\" fill=\"#000000\" fill-rule=\"evenodd\" fill-opacity=\"1\" /><path clip-path=\"url(#clip630)\" d=\"M 0 0 M2202.55 271.812 Q2202.55 267.113 2200.6 264.451 Q2198.68 261.766 2195.3 261.766 Q2191.92 261.766 2189.98 264.451 Q2188.06 267.113 2188.06 271.812 Q2188.06 276.511 2189.98 279.197 Q2191.92 281.859 2195.3 281.859 Q2198.68 281.859 2200.6 279.197 Q2202.55 276.511 2202.55 271.812 M2188.06 262.762 Q2189.4 260.447 2191.44 259.336 Q2193.5 258.201 2196.34 258.201 Q2201.07 258.201 2204.01 261.951 Q2206.97 265.701 2206.97 271.812 Q2206.97 277.923 2204.01 281.673 Q2201.07 285.423 2196.34 285.423 Q2193.5 285.423 2191.44 284.312 Q2189.4 283.178 2188.06 280.863 L2188.06 284.752 L2183.77 284.752 L2183.77 248.734 L2188.06 248.734 L2188.06 262.762 Z\" fill=\"#000000\" fill-rule=\"evenodd\" fill-opacity=\"1\" /><path clip-path=\"url(#clip630)\" d=\"M 0 0 M2212.85 280.817 L2220.49 280.817 L2220.49 254.451 L2212.18 256.118 L2212.18 251.859 L2220.44 250.192 L2225.12 250.192 L2225.12 280.817 L2232.76 280.817 L2232.76 284.752 L2212.85 284.752 L2212.85 280.817 Z\" fill=\"#000000\" fill-rule=\"evenodd\" fill-opacity=\"1\" /></svg>\n"
      ]
     },
     "execution_count": 19,
     "metadata": {},
     "output_type": "execute_result"
    }
   ],
   "source": [
    "using Plots\n",
    "plot(df[!,9],seriestype=:scatter, title=\"eloprob1\", label=\"eloprob1\")"
   ]
  },
  {
   "cell_type": "markdown",
   "metadata": {},
   "source": [
    "### Data Cleaning"
   ]
  },
  {
   "cell_type": "markdown",
   "metadata": {},
   "source": [
    "##### Remove Duplicates"
   ]
  },
  {
   "cell_type": "code",
   "execution_count": 20,
   "metadata": {},
   "outputs": [
    {
     "data": {
      "text/html": [
       "<table class=\"data-frame\"><thead><tr><th></th><th>Symbol</th><th>Name</th><th>Sector</th><th>Price</th><th>Earnings</th></tr><tr><th></th><th>String</th><th>String</th><th>String</th><th>Float64</th><th>Float64?</th></tr></thead><tbody><p>505 rows × 14 columns (omitted printing of 9 columns)</p><tr><th>1</th><td>MMM</td><td>3M Company</td><td>Industrials</td><td>222.89</td><td>24.31</td></tr><tr><th>2</th><td>AOS</td><td>A.O. Smith Corp</td><td>Industrials</td><td>60.24</td><td>27.76</td></tr><tr><th>3</th><td>ABT</td><td>Abbott Laboratories</td><td>Health Care</td><td>56.27</td><td>22.51</td></tr><tr><th>4</th><td>ABBV</td><td>AbbVie Inc.</td><td>Health Care</td><td>108.48</td><td>19.41</td></tr><tr><th>5</th><td>ACN</td><td>Accenture plc</td><td>Information Technology</td><td>150.51</td><td>25.47</td></tr><tr><th>6</th><td>ATVI</td><td>Activision Blizzard</td><td>Information Technology</td><td>65.83</td><td>31.8</td></tr><tr><th>7</th><td>AYI</td><td>Acuity Brands Inc</td><td>Industrials</td><td>145.41</td><td>18.22</td></tr><tr><th>8</th><td>ADBE</td><td>Adobe Systems Inc</td><td>Information Technology</td><td>185.16</td><td>52.31</td></tr><tr><th>9</th><td>AAP</td><td>Advance Auto Parts</td><td>Consumer Discretionary</td><td>109.63</td><td>19.54</td></tr><tr><th>10</th><td>AMD</td><td>Advanced Micro Devices Inc</td><td>Information Technology</td><td>11.22</td><td>187.0</td></tr><tr><th>11</th><td>AES</td><td>AES Corp</td><td>Utilities</td><td>10.06</td><td>9.96</td></tr><tr><th>12</th><td>AET</td><td>Aetna Inc</td><td>Health Care</td><td>178.0</td><td>18.11</td></tr><tr><th>13</th><td>AMG</td><td>Affiliated Managers Group Inc</td><td>Financials</td><td>179.11</td><td>12.24</td></tr><tr><th>14</th><td>AFL</td><td>AFLAC Inc</td><td>Financials</td><td>83.25</td><td>12.24</td></tr><tr><th>15</th><td>A</td><td>Agilent Technologies Inc</td><td>Health Care</td><td>65.05</td><td>27.45</td></tr><tr><th>16</th><td>APD</td><td>Air Products &amp; Chemicals Inc</td><td>Materials</td><td>152.8</td><td>24.22</td></tr><tr><th>17</th><td>AKAM</td><td>Akamai Technologies Inc</td><td>Information Technology</td><td>62.49</td><td>32.55</td></tr><tr><th>18</th><td>ALK</td><td>Alaska Air Group Inc</td><td>Industrials</td><td>64.04</td><td>9.66</td></tr><tr><th>19</th><td>ALB</td><td>Albemarle Corp</td><td>Materials</td><td>105.18</td><td>26.03</td></tr><tr><th>20</th><td>ARE</td><td>Alexandria Real Estate Equities Inc</td><td>Real Estate</td><td>114.58</td><td>19.03</td></tr><tr><th>21</th><td>ALXN</td><td>Alexion Pharmaceuticals</td><td>Health Care</td><td>108.47</td><td>22.18</td></tr><tr><th>22</th><td>ALGN</td><td>Align Technology</td><td>Health Care</td><td>220.71</td><td>56.59</td></tr><tr><th>23</th><td>ALLE</td><td>Allegion</td><td>Industrials</td><td>77.32</td><td>21.07</td></tr><tr><th>24</th><td>AGN</td><td>Allergan, Plc</td><td>Health Care</td><td>164.2</td><td>10.65</td></tr><tr><th>25</th><td>ADS</td><td>Alliance Data Systems</td><td>Information Technology</td><td>240.6</td><td>13.02</td></tr><tr><th>26</th><td>LNT</td><td>Alliant Energy Corp</td><td>Utilities</td><td>37.14</td><td>19.86</td></tr><tr><th>27</th><td>ALL</td><td>Allstate Corp</td><td>Financials</td><td>90.06</td><td>13.26</td></tr><tr><th>28</th><td>GOOGL</td><td>Alphabet Inc Class A</td><td>Information Technology</td><td>1007.71</td><td>31.48</td></tr><tr><th>29</th><td>GOOG</td><td>Alphabet Inc Class C</td><td>Information Technology</td><td>1001.52</td><td>40.29</td></tr><tr><th>30</th><td>MO</td><td>Altria Group Inc</td><td>Consumer Staples</td><td>64.05</td><td>18.89</td></tr><tr><th>&vellip;</th><td>&vellip;</td><td>&vellip;</td><td>&vellip;</td><td>&vellip;</td><td>&vellip;</td></tr></tbody></table>"
      ],
      "text/latex": [
       "\\begin{tabular}{r|cccccc}\n",
       "\t& Symbol & Name & Sector & Price & Earnings & \\\\\n",
       "\t\\hline\n",
       "\t& String & String & String & Float64 & Float64? & \\\\\n",
       "\t\\hline\n",
       "\t1 & MMM & 3M Company & Industrials & 222.89 & 24.31 & $\\dots$ \\\\\n",
       "\t2 & AOS & A.O. Smith Corp & Industrials & 60.24 & 27.76 & $\\dots$ \\\\\n",
       "\t3 & ABT & Abbott Laboratories & Health Care & 56.27 & 22.51 & $\\dots$ \\\\\n",
       "\t4 & ABBV & AbbVie Inc. & Health Care & 108.48 & 19.41 & $\\dots$ \\\\\n",
       "\t5 & ACN & Accenture plc & Information Technology & 150.51 & 25.47 & $\\dots$ \\\\\n",
       "\t6 & ATVI & Activision Blizzard & Information Technology & 65.83 & 31.8 & $\\dots$ \\\\\n",
       "\t7 & AYI & Acuity Brands Inc & Industrials & 145.41 & 18.22 & $\\dots$ \\\\\n",
       "\t8 & ADBE & Adobe Systems Inc & Information Technology & 185.16 & 52.31 & $\\dots$ \\\\\n",
       "\t9 & AAP & Advance Auto Parts & Consumer Discretionary & 109.63 & 19.54 & $\\dots$ \\\\\n",
       "\t10 & AMD & Advanced Micro Devices Inc & Information Technology & 11.22 & 187.0 & $\\dots$ \\\\\n",
       "\t11 & AES & AES Corp & Utilities & 10.06 & 9.96 & $\\dots$ \\\\\n",
       "\t12 & AET & Aetna Inc & Health Care & 178.0 & 18.11 & $\\dots$ \\\\\n",
       "\t13 & AMG & Affiliated Managers Group Inc & Financials & 179.11 & 12.24 & $\\dots$ \\\\\n",
       "\t14 & AFL & AFLAC Inc & Financials & 83.25 & 12.24 & $\\dots$ \\\\\n",
       "\t15 & A & Agilent Technologies Inc & Health Care & 65.05 & 27.45 & $\\dots$ \\\\\n",
       "\t16 & APD & Air Products \\& Chemicals Inc & Materials & 152.8 & 24.22 & $\\dots$ \\\\\n",
       "\t17 & AKAM & Akamai Technologies Inc & Information Technology & 62.49 & 32.55 & $\\dots$ \\\\\n",
       "\t18 & ALK & Alaska Air Group Inc & Industrials & 64.04 & 9.66 & $\\dots$ \\\\\n",
       "\t19 & ALB & Albemarle Corp & Materials & 105.18 & 26.03 & $\\dots$ \\\\\n",
       "\t20 & ARE & Alexandria Real Estate Equities Inc & Real Estate & 114.58 & 19.03 & $\\dots$ \\\\\n",
       "\t21 & ALXN & Alexion Pharmaceuticals & Health Care & 108.47 & 22.18 & $\\dots$ \\\\\n",
       "\t22 & ALGN & Align Technology & Health Care & 220.71 & 56.59 & $\\dots$ \\\\\n",
       "\t23 & ALLE & Allegion & Industrials & 77.32 & 21.07 & $\\dots$ \\\\\n",
       "\t24 & AGN & Allergan, Plc & Health Care & 164.2 & 10.65 & $\\dots$ \\\\\n",
       "\t25 & ADS & Alliance Data Systems & Information Technology & 240.6 & 13.02 & $\\dots$ \\\\\n",
       "\t26 & LNT & Alliant Energy Corp & Utilities & 37.14 & 19.86 & $\\dots$ \\\\\n",
       "\t27 & ALL & Allstate Corp & Financials & 90.06 & 13.26 & $\\dots$ \\\\\n",
       "\t28 & GOOGL & Alphabet Inc Class A & Information Technology & 1007.71 & 31.48 & $\\dots$ \\\\\n",
       "\t29 & GOOG & Alphabet Inc Class C & Information Technology & 1001.52 & 40.29 & $\\dots$ \\\\\n",
       "\t30 & MO & Altria Group Inc & Consumer Staples & 64.05 & 18.89 & $\\dots$ \\\\\n",
       "\t$\\dots$ & $\\dots$ & $\\dots$ & $\\dots$ & $\\dots$ & $\\dots$ &  \\\\\n",
       "\\end{tabular}\n"
      ],
      "text/plain": [
       "505×14 DataFrame. Omitted printing of 10 columns\n",
       "│ Row │ Symbol │ Name                       │ Sector                 │ Price   │\n",
       "│     │ \u001b[90mString\u001b[39m │ \u001b[90mString\u001b[39m                     │ \u001b[90mString\u001b[39m                 │ \u001b[90mFloat64\u001b[39m │\n",
       "├─────┼────────┼────────────────────────────┼────────────────────────┼─────────┤\n",
       "│ 1   │ MMM    │ 3M Company                 │ Industrials            │ 222.89  │\n",
       "│ 2   │ AOS    │ A.O. Smith Corp            │ Industrials            │ 60.24   │\n",
       "│ 3   │ ABT    │ Abbott Laboratories        │ Health Care            │ 56.27   │\n",
       "│ 4   │ ABBV   │ AbbVie Inc.                │ Health Care            │ 108.48  │\n",
       "│ 5   │ ACN    │ Accenture plc              │ Information Technology │ 150.51  │\n",
       "│ 6   │ ATVI   │ Activision Blizzard        │ Information Technology │ 65.83   │\n",
       "│ 7   │ AYI    │ Acuity Brands Inc          │ Industrials            │ 145.41  │\n",
       "│ 8   │ ADBE   │ Adobe Systems Inc          │ Information Technology │ 185.16  │\n",
       "│ 9   │ AAP    │ Advance Auto Parts         │ Consumer Discretionary │ 109.63  │\n",
       "│ 10  │ AMD    │ Advanced Micro Devices Inc │ Information Technology │ 11.22   │\n",
       "⋮\n",
       "│ 495 │ WYN    │ Wyndham Worldwide          │ Consumer Discretionary │ 113.56  │\n",
       "│ 496 │ WYNN   │ Wynn Resorts Ltd           │ Consumer Discretionary │ 169.28  │\n",
       "│ 497 │ XEL    │ Xcel Energy Inc            │ Utilities              │ 42.44   │\n",
       "│ 498 │ XRX    │ Xerox Corp.                │ Information Technology │ 29.8    │\n",
       "│ 499 │ XLNX   │ Xilinx Inc                 │ Information Technology │ 62.82   │\n",
       "│ 500 │ XL     │ XL Capital                 │ Financials             │ 41.26   │\n",
       "│ 501 │ XYL    │ Xylem Inc.                 │ Industrials            │ 70.24   │\n",
       "│ 502 │ YUM    │ Yum! Brands Inc            │ Consumer Discretionary │ 76.3    │\n",
       "│ 503 │ ZBH    │ Zimmer Biomet Holdings     │ Health Care            │ 115.53  │\n",
       "│ 504 │ ZION   │ Zions Bancorp              │ Financials             │ 50.71   │\n",
       "│ 505 │ ZTS    │ Zoetis                     │ Health Care            │ 71.51   │"
      ]
     },
     "execution_count": 20,
     "metadata": {},
     "output_type": "execute_result"
    }
   ],
   "source": [
    "using DataFrames\n",
    "df=unique!(df)"
   ]
  },
  {
   "cell_type": "markdown",
   "metadata": {},
   "source": [
    "### Handling Missing Values"
   ]
  },
  {
   "cell_type": "markdown",
   "metadata": {},
   "source": [
    "Fill Missing Values with Mean"
   ]
  },
  {
   "cell_type": "code",
   "execution_count": 23,
   "metadata": {},
   "outputs": [
    {
     "data": {
      "text/html": [
       "<table class=\"data-frame\"><thead><tr><th></th><th>Symbol</th><th>Name</th><th>Sector</th><th>Price</th><th>Earnings</th></tr><tr><th></th><th>String</th><th>String</th><th>String</th><th>Float64</th><th>Float64?</th></tr></thead><tbody><p>505 rows × 13 columns (omitted printing of 8 columns)</p><tr><th>1</th><td>MMM</td><td>3M Company</td><td>Industrials</td><td>222.89</td><td>24.31</td></tr><tr><th>2</th><td>AOS</td><td>A.O. Smith Corp</td><td>Industrials</td><td>60.24</td><td>27.76</td></tr><tr><th>3</th><td>ABT</td><td>Abbott Laboratories</td><td>Health Care</td><td>56.27</td><td>22.51</td></tr><tr><th>4</th><td>ABBV</td><td>AbbVie Inc.</td><td>Health Care</td><td>108.48</td><td>19.41</td></tr><tr><th>5</th><td>ACN</td><td>Accenture plc</td><td>Information Technology</td><td>150.51</td><td>25.47</td></tr><tr><th>6</th><td>ATVI</td><td>Activision Blizzard</td><td>Information Technology</td><td>65.83</td><td>31.8</td></tr><tr><th>7</th><td>AYI</td><td>Acuity Brands Inc</td><td>Industrials</td><td>145.41</td><td>18.22</td></tr><tr><th>8</th><td>ADBE</td><td>Adobe Systems Inc</td><td>Information Technology</td><td>185.16</td><td>52.31</td></tr><tr><th>9</th><td>AAP</td><td>Advance Auto Parts</td><td>Consumer Discretionary</td><td>109.63</td><td>19.54</td></tr><tr><th>10</th><td>AMD</td><td>Advanced Micro Devices Inc</td><td>Information Technology</td><td>11.22</td><td>187.0</td></tr><tr><th>11</th><td>AES</td><td>AES Corp</td><td>Utilities</td><td>10.06</td><td>9.96</td></tr><tr><th>12</th><td>AET</td><td>Aetna Inc</td><td>Health Care</td><td>178.0</td><td>18.11</td></tr><tr><th>13</th><td>AMG</td><td>Affiliated Managers Group Inc</td><td>Financials</td><td>179.11</td><td>12.24</td></tr><tr><th>14</th><td>AFL</td><td>AFLAC Inc</td><td>Financials</td><td>83.25</td><td>12.24</td></tr><tr><th>15</th><td>A</td><td>Agilent Technologies Inc</td><td>Health Care</td><td>65.05</td><td>27.45</td></tr><tr><th>16</th><td>APD</td><td>Air Products &amp; Chemicals Inc</td><td>Materials</td><td>152.8</td><td>24.22</td></tr><tr><th>17</th><td>AKAM</td><td>Akamai Technologies Inc</td><td>Information Technology</td><td>62.49</td><td>32.55</td></tr><tr><th>18</th><td>ALK</td><td>Alaska Air Group Inc</td><td>Industrials</td><td>64.04</td><td>9.66</td></tr><tr><th>19</th><td>ALB</td><td>Albemarle Corp</td><td>Materials</td><td>105.18</td><td>26.03</td></tr><tr><th>20</th><td>ARE</td><td>Alexandria Real Estate Equities Inc</td><td>Real Estate</td><td>114.58</td><td>19.03</td></tr><tr><th>21</th><td>ALXN</td><td>Alexion Pharmaceuticals</td><td>Health Care</td><td>108.47</td><td>22.18</td></tr><tr><th>22</th><td>ALGN</td><td>Align Technology</td><td>Health Care</td><td>220.71</td><td>56.59</td></tr><tr><th>23</th><td>ALLE</td><td>Allegion</td><td>Industrials</td><td>77.32</td><td>21.07</td></tr><tr><th>24</th><td>AGN</td><td>Allergan, Plc</td><td>Health Care</td><td>164.2</td><td>10.65</td></tr><tr><th>25</th><td>ADS</td><td>Alliance Data Systems</td><td>Information Technology</td><td>240.6</td><td>13.02</td></tr><tr><th>26</th><td>LNT</td><td>Alliant Energy Corp</td><td>Utilities</td><td>37.14</td><td>19.86</td></tr><tr><th>27</th><td>ALL</td><td>Allstate Corp</td><td>Financials</td><td>90.06</td><td>13.26</td></tr><tr><th>28</th><td>GOOGL</td><td>Alphabet Inc Class A</td><td>Information Technology</td><td>1007.71</td><td>31.48</td></tr><tr><th>29</th><td>GOOG</td><td>Alphabet Inc Class C</td><td>Information Technology</td><td>1001.52</td><td>40.29</td></tr><tr><th>30</th><td>MO</td><td>Altria Group Inc</td><td>Consumer Staples</td><td>64.05</td><td>18.89</td></tr><tr><th>&vellip;</th><td>&vellip;</td><td>&vellip;</td><td>&vellip;</td><td>&vellip;</td><td>&vellip;</td></tr></tbody></table>"
      ],
      "text/latex": [
       "\\begin{tabular}{r|cccccc}\n",
       "\t& Symbol & Name & Sector & Price & Earnings & \\\\\n",
       "\t\\hline\n",
       "\t& String & String & String & Float64 & Float64? & \\\\\n",
       "\t\\hline\n",
       "\t1 & MMM & 3M Company & Industrials & 222.89 & 24.31 & $\\dots$ \\\\\n",
       "\t2 & AOS & A.O. Smith Corp & Industrials & 60.24 & 27.76 & $\\dots$ \\\\\n",
       "\t3 & ABT & Abbott Laboratories & Health Care & 56.27 & 22.51 & $\\dots$ \\\\\n",
       "\t4 & ABBV & AbbVie Inc. & Health Care & 108.48 & 19.41 & $\\dots$ \\\\\n",
       "\t5 & ACN & Accenture plc & Information Technology & 150.51 & 25.47 & $\\dots$ \\\\\n",
       "\t6 & ATVI & Activision Blizzard & Information Technology & 65.83 & 31.8 & $\\dots$ \\\\\n",
       "\t7 & AYI & Acuity Brands Inc & Industrials & 145.41 & 18.22 & $\\dots$ \\\\\n",
       "\t8 & ADBE & Adobe Systems Inc & Information Technology & 185.16 & 52.31 & $\\dots$ \\\\\n",
       "\t9 & AAP & Advance Auto Parts & Consumer Discretionary & 109.63 & 19.54 & $\\dots$ \\\\\n",
       "\t10 & AMD & Advanced Micro Devices Inc & Information Technology & 11.22 & 187.0 & $\\dots$ \\\\\n",
       "\t11 & AES & AES Corp & Utilities & 10.06 & 9.96 & $\\dots$ \\\\\n",
       "\t12 & AET & Aetna Inc & Health Care & 178.0 & 18.11 & $\\dots$ \\\\\n",
       "\t13 & AMG & Affiliated Managers Group Inc & Financials & 179.11 & 12.24 & $\\dots$ \\\\\n",
       "\t14 & AFL & AFLAC Inc & Financials & 83.25 & 12.24 & $\\dots$ \\\\\n",
       "\t15 & A & Agilent Technologies Inc & Health Care & 65.05 & 27.45 & $\\dots$ \\\\\n",
       "\t16 & APD & Air Products \\& Chemicals Inc & Materials & 152.8 & 24.22 & $\\dots$ \\\\\n",
       "\t17 & AKAM & Akamai Technologies Inc & Information Technology & 62.49 & 32.55 & $\\dots$ \\\\\n",
       "\t18 & ALK & Alaska Air Group Inc & Industrials & 64.04 & 9.66 & $\\dots$ \\\\\n",
       "\t19 & ALB & Albemarle Corp & Materials & 105.18 & 26.03 & $\\dots$ \\\\\n",
       "\t20 & ARE & Alexandria Real Estate Equities Inc & Real Estate & 114.58 & 19.03 & $\\dots$ \\\\\n",
       "\t21 & ALXN & Alexion Pharmaceuticals & Health Care & 108.47 & 22.18 & $\\dots$ \\\\\n",
       "\t22 & ALGN & Align Technology & Health Care & 220.71 & 56.59 & $\\dots$ \\\\\n",
       "\t23 & ALLE & Allegion & Industrials & 77.32 & 21.07 & $\\dots$ \\\\\n",
       "\t24 & AGN & Allergan, Plc & Health Care & 164.2 & 10.65 & $\\dots$ \\\\\n",
       "\t25 & ADS & Alliance Data Systems & Information Technology & 240.6 & 13.02 & $\\dots$ \\\\\n",
       "\t26 & LNT & Alliant Energy Corp & Utilities & 37.14 & 19.86 & $\\dots$ \\\\\n",
       "\t27 & ALL & Allstate Corp & Financials & 90.06 & 13.26 & $\\dots$ \\\\\n",
       "\t28 & GOOGL & Alphabet Inc Class A & Information Technology & 1007.71 & 31.48 & $\\dots$ \\\\\n",
       "\t29 & GOOG & Alphabet Inc Class C & Information Technology & 1001.52 & 40.29 & $\\dots$ \\\\\n",
       "\t30 & MO & Altria Group Inc & Consumer Staples & 64.05 & 18.89 & $\\dots$ \\\\\n",
       "\t$\\dots$ & $\\dots$ & $\\dots$ & $\\dots$ & $\\dots$ & $\\dots$ &  \\\\\n",
       "\\end{tabular}\n"
      ],
      "text/plain": [
       "505×13 DataFrame. Omitted printing of 9 columns\n",
       "│ Row │ Symbol │ Name                       │ Sector                 │ Price   │\n",
       "│     │ \u001b[90mString\u001b[39m │ \u001b[90mString\u001b[39m                     │ \u001b[90mString\u001b[39m                 │ \u001b[90mFloat64\u001b[39m │\n",
       "├─────┼────────┼────────────────────────────┼────────────────────────┼─────────┤\n",
       "│ 1   │ MMM    │ 3M Company                 │ Industrials            │ 222.89  │\n",
       "│ 2   │ AOS    │ A.O. Smith Corp            │ Industrials            │ 60.24   │\n",
       "│ 3   │ ABT    │ Abbott Laboratories        │ Health Care            │ 56.27   │\n",
       "│ 4   │ ABBV   │ AbbVie Inc.                │ Health Care            │ 108.48  │\n",
       "│ 5   │ ACN    │ Accenture plc              │ Information Technology │ 150.51  │\n",
       "│ 6   │ ATVI   │ Activision Blizzard        │ Information Technology │ 65.83   │\n",
       "│ 7   │ AYI    │ Acuity Brands Inc          │ Industrials            │ 145.41  │\n",
       "│ 8   │ ADBE   │ Adobe Systems Inc          │ Information Technology │ 185.16  │\n",
       "│ 9   │ AAP    │ Advance Auto Parts         │ Consumer Discretionary │ 109.63  │\n",
       "│ 10  │ AMD    │ Advanced Micro Devices Inc │ Information Technology │ 11.22   │\n",
       "⋮\n",
       "│ 495 │ WYN    │ Wyndham Worldwide          │ Consumer Discretionary │ 113.56  │\n",
       "│ 496 │ WYNN   │ Wynn Resorts Ltd           │ Consumer Discretionary │ 169.28  │\n",
       "│ 497 │ XEL    │ Xcel Energy Inc            │ Utilities              │ 42.44   │\n",
       "│ 498 │ XRX    │ Xerox Corp.                │ Information Technology │ 29.8    │\n",
       "│ 499 │ XLNX   │ Xilinx Inc                 │ Information Technology │ 62.82   │\n",
       "│ 500 │ XL     │ XL Capital                 │ Financials             │ 41.26   │\n",
       "│ 501 │ XYL    │ Xylem Inc.                 │ Industrials            │ 70.24   │\n",
       "│ 502 │ YUM    │ Yum! Brands Inc            │ Consumer Discretionary │ 76.3    │\n",
       "│ 503 │ ZBH    │ Zimmer Biomet Holdings     │ Health Care            │ 115.53  │\n",
       "│ 504 │ ZION   │ Zions Bancorp              │ Financials             │ 50.71   │\n",
       "│ 505 │ ZTS    │ Zoetis                     │ Health Care            │ 71.51   │"
      ]
     },
     "execution_count": 23,
     "metadata": {},
     "output_type": "execute_result"
    }
   ],
   "source": [
    "using Statistics\n",
    "df= df[:,mean.(ismissing,eachcol(df)).<.1]"
   ]
  },
  {
   "cell_type": "markdown",
   "metadata": {},
   "source": [
    "#### Imputing Missing Values"
   ]
  },
  {
   "cell_type": "code",
   "execution_count": 25,
   "metadata": {},
   "outputs": [
    {
     "name": "stderr",
     "output_type": "stream",
     "text": [
      "┌ Info: Precompiling Impute [f7bf1975-0170-51b9-8c5f-a992d46b9575]\n",
      "└ @ Base loading.jl:1192\n",
      "WARNING: Method definition getproperty(Tuple, Int32) in module Tables at /home/rhyme/.julia/packages/Tables/AcRIE/src/Tables.jl:8 overwritten in module ChainRulesCore at /home/rhyme/.julia/packages/ChainRulesCore/8NXnp/src/compat.jl:2.\n"
     ]
    },
    {
     "data": {
      "text/html": [
       "<table class=\"data-frame\"><thead><tr><th></th><th>Symbol</th><th>Name</th><th>Sector</th><th>Price</th><th>Earnings</th></tr><tr><th></th><th>String</th><th>String</th><th>String</th><th>Float64</th><th>Float64?</th></tr></thead><tbody><p>505 rows × 13 columns (omitted printing of 8 columns)</p><tr><th>1</th><td>MMM</td><td>3M Company</td><td>Industrials</td><td>222.89</td><td>24.31</td></tr><tr><th>2</th><td>AOS</td><td>A.O. Smith Corp</td><td>Industrials</td><td>60.24</td><td>27.76</td></tr><tr><th>3</th><td>ABT</td><td>Abbott Laboratories</td><td>Health Care</td><td>56.27</td><td>22.51</td></tr><tr><th>4</th><td>ABBV</td><td>AbbVie Inc.</td><td>Health Care</td><td>108.48</td><td>19.41</td></tr><tr><th>5</th><td>ACN</td><td>Accenture plc</td><td>Information Technology</td><td>150.51</td><td>25.47</td></tr><tr><th>6</th><td>ATVI</td><td>Activision Blizzard</td><td>Information Technology</td><td>65.83</td><td>31.8</td></tr><tr><th>7</th><td>AYI</td><td>Acuity Brands Inc</td><td>Industrials</td><td>145.41</td><td>18.22</td></tr><tr><th>8</th><td>ADBE</td><td>Adobe Systems Inc</td><td>Information Technology</td><td>185.16</td><td>52.31</td></tr><tr><th>9</th><td>AAP</td><td>Advance Auto Parts</td><td>Consumer Discretionary</td><td>109.63</td><td>19.54</td></tr><tr><th>10</th><td>AMD</td><td>Advanced Micro Devices Inc</td><td>Information Technology</td><td>11.22</td><td>187.0</td></tr><tr><th>11</th><td>AES</td><td>AES Corp</td><td>Utilities</td><td>10.06</td><td>9.96</td></tr><tr><th>12</th><td>AET</td><td>Aetna Inc</td><td>Health Care</td><td>178.0</td><td>18.11</td></tr><tr><th>13</th><td>AMG</td><td>Affiliated Managers Group Inc</td><td>Financials</td><td>179.11</td><td>12.24</td></tr><tr><th>14</th><td>AFL</td><td>AFLAC Inc</td><td>Financials</td><td>83.25</td><td>12.24</td></tr><tr><th>15</th><td>A</td><td>Agilent Technologies Inc</td><td>Health Care</td><td>65.05</td><td>27.45</td></tr><tr><th>16</th><td>APD</td><td>Air Products &amp; Chemicals Inc</td><td>Materials</td><td>152.8</td><td>24.22</td></tr><tr><th>17</th><td>AKAM</td><td>Akamai Technologies Inc</td><td>Information Technology</td><td>62.49</td><td>32.55</td></tr><tr><th>18</th><td>ALK</td><td>Alaska Air Group Inc</td><td>Industrials</td><td>64.04</td><td>9.66</td></tr><tr><th>19</th><td>ALB</td><td>Albemarle Corp</td><td>Materials</td><td>105.18</td><td>26.03</td></tr><tr><th>20</th><td>ARE</td><td>Alexandria Real Estate Equities Inc</td><td>Real Estate</td><td>114.58</td><td>19.03</td></tr><tr><th>21</th><td>ALXN</td><td>Alexion Pharmaceuticals</td><td>Health Care</td><td>108.47</td><td>22.18</td></tr><tr><th>22</th><td>ALGN</td><td>Align Technology</td><td>Health Care</td><td>220.71</td><td>56.59</td></tr><tr><th>23</th><td>ALLE</td><td>Allegion</td><td>Industrials</td><td>77.32</td><td>21.07</td></tr><tr><th>24</th><td>AGN</td><td>Allergan, Plc</td><td>Health Care</td><td>164.2</td><td>10.65</td></tr><tr><th>25</th><td>ADS</td><td>Alliance Data Systems</td><td>Information Technology</td><td>240.6</td><td>13.02</td></tr><tr><th>26</th><td>LNT</td><td>Alliant Energy Corp</td><td>Utilities</td><td>37.14</td><td>19.86</td></tr><tr><th>27</th><td>ALL</td><td>Allstate Corp</td><td>Financials</td><td>90.06</td><td>13.26</td></tr><tr><th>28</th><td>GOOGL</td><td>Alphabet Inc Class A</td><td>Information Technology</td><td>1007.71</td><td>31.48</td></tr><tr><th>29</th><td>GOOG</td><td>Alphabet Inc Class C</td><td>Information Technology</td><td>1001.52</td><td>40.29</td></tr><tr><th>30</th><td>MO</td><td>Altria Group Inc</td><td>Consumer Staples</td><td>64.05</td><td>18.89</td></tr><tr><th>&vellip;</th><td>&vellip;</td><td>&vellip;</td><td>&vellip;</td><td>&vellip;</td><td>&vellip;</td></tr></tbody></table>"
      ],
      "text/latex": [
       "\\begin{tabular}{r|cccccc}\n",
       "\t& Symbol & Name & Sector & Price & Earnings & \\\\\n",
       "\t\\hline\n",
       "\t& String & String & String & Float64 & Float64? & \\\\\n",
       "\t\\hline\n",
       "\t1 & MMM & 3M Company & Industrials & 222.89 & 24.31 & $\\dots$ \\\\\n",
       "\t2 & AOS & A.O. Smith Corp & Industrials & 60.24 & 27.76 & $\\dots$ \\\\\n",
       "\t3 & ABT & Abbott Laboratories & Health Care & 56.27 & 22.51 & $\\dots$ \\\\\n",
       "\t4 & ABBV & AbbVie Inc. & Health Care & 108.48 & 19.41 & $\\dots$ \\\\\n",
       "\t5 & ACN & Accenture plc & Information Technology & 150.51 & 25.47 & $\\dots$ \\\\\n",
       "\t6 & ATVI & Activision Blizzard & Information Technology & 65.83 & 31.8 & $\\dots$ \\\\\n",
       "\t7 & AYI & Acuity Brands Inc & Industrials & 145.41 & 18.22 & $\\dots$ \\\\\n",
       "\t8 & ADBE & Adobe Systems Inc & Information Technology & 185.16 & 52.31 & $\\dots$ \\\\\n",
       "\t9 & AAP & Advance Auto Parts & Consumer Discretionary & 109.63 & 19.54 & $\\dots$ \\\\\n",
       "\t10 & AMD & Advanced Micro Devices Inc & Information Technology & 11.22 & 187.0 & $\\dots$ \\\\\n",
       "\t11 & AES & AES Corp & Utilities & 10.06 & 9.96 & $\\dots$ \\\\\n",
       "\t12 & AET & Aetna Inc & Health Care & 178.0 & 18.11 & $\\dots$ \\\\\n",
       "\t13 & AMG & Affiliated Managers Group Inc & Financials & 179.11 & 12.24 & $\\dots$ \\\\\n",
       "\t14 & AFL & AFLAC Inc & Financials & 83.25 & 12.24 & $\\dots$ \\\\\n",
       "\t15 & A & Agilent Technologies Inc & Health Care & 65.05 & 27.45 & $\\dots$ \\\\\n",
       "\t16 & APD & Air Products \\& Chemicals Inc & Materials & 152.8 & 24.22 & $\\dots$ \\\\\n",
       "\t17 & AKAM & Akamai Technologies Inc & Information Technology & 62.49 & 32.55 & $\\dots$ \\\\\n",
       "\t18 & ALK & Alaska Air Group Inc & Industrials & 64.04 & 9.66 & $\\dots$ \\\\\n",
       "\t19 & ALB & Albemarle Corp & Materials & 105.18 & 26.03 & $\\dots$ \\\\\n",
       "\t20 & ARE & Alexandria Real Estate Equities Inc & Real Estate & 114.58 & 19.03 & $\\dots$ \\\\\n",
       "\t21 & ALXN & Alexion Pharmaceuticals & Health Care & 108.47 & 22.18 & $\\dots$ \\\\\n",
       "\t22 & ALGN & Align Technology & Health Care & 220.71 & 56.59 & $\\dots$ \\\\\n",
       "\t23 & ALLE & Allegion & Industrials & 77.32 & 21.07 & $\\dots$ \\\\\n",
       "\t24 & AGN & Allergan, Plc & Health Care & 164.2 & 10.65 & $\\dots$ \\\\\n",
       "\t25 & ADS & Alliance Data Systems & Information Technology & 240.6 & 13.02 & $\\dots$ \\\\\n",
       "\t26 & LNT & Alliant Energy Corp & Utilities & 37.14 & 19.86 & $\\dots$ \\\\\n",
       "\t27 & ALL & Allstate Corp & Financials & 90.06 & 13.26 & $\\dots$ \\\\\n",
       "\t28 & GOOGL & Alphabet Inc Class A & Information Technology & 1007.71 & 31.48 & $\\dots$ \\\\\n",
       "\t29 & GOOG & Alphabet Inc Class C & Information Technology & 1001.52 & 40.29 & $\\dots$ \\\\\n",
       "\t30 & MO & Altria Group Inc & Consumer Staples & 64.05 & 18.89 & $\\dots$ \\\\\n",
       "\t$\\dots$ & $\\dots$ & $\\dots$ & $\\dots$ & $\\dots$ & $\\dots$ &  \\\\\n",
       "\\end{tabular}\n"
      ],
      "text/plain": [
       "505×13 DataFrame. Omitted printing of 9 columns\n",
       "│ Row │ Symbol │ Name                       │ Sector                 │ Price   │\n",
       "│     │ \u001b[90mString\u001b[39m │ \u001b[90mString\u001b[39m                     │ \u001b[90mString\u001b[39m                 │ \u001b[90mFloat64\u001b[39m │\n",
       "├─────┼────────┼────────────────────────────┼────────────────────────┼─────────┤\n",
       "│ 1   │ MMM    │ 3M Company                 │ Industrials            │ 222.89  │\n",
       "│ 2   │ AOS    │ A.O. Smith Corp            │ Industrials            │ 60.24   │\n",
       "│ 3   │ ABT    │ Abbott Laboratories        │ Health Care            │ 56.27   │\n",
       "│ 4   │ ABBV   │ AbbVie Inc.                │ Health Care            │ 108.48  │\n",
       "│ 5   │ ACN    │ Accenture plc              │ Information Technology │ 150.51  │\n",
       "│ 6   │ ATVI   │ Activision Blizzard        │ Information Technology │ 65.83   │\n",
       "│ 7   │ AYI    │ Acuity Brands Inc          │ Industrials            │ 145.41  │\n",
       "│ 8   │ ADBE   │ Adobe Systems Inc          │ Information Technology │ 185.16  │\n",
       "│ 9   │ AAP    │ Advance Auto Parts         │ Consumer Discretionary │ 109.63  │\n",
       "│ 10  │ AMD    │ Advanced Micro Devices Inc │ Information Technology │ 11.22   │\n",
       "⋮\n",
       "│ 495 │ WYN    │ Wyndham Worldwide          │ Consumer Discretionary │ 113.56  │\n",
       "│ 496 │ WYNN   │ Wynn Resorts Ltd           │ Consumer Discretionary │ 169.28  │\n",
       "│ 497 │ XEL    │ Xcel Energy Inc            │ Utilities              │ 42.44   │\n",
       "│ 498 │ XRX    │ Xerox Corp.                │ Information Technology │ 29.8    │\n",
       "│ 499 │ XLNX   │ Xilinx Inc                 │ Information Technology │ 62.82   │\n",
       "│ 500 │ XL     │ XL Capital                 │ Financials             │ 41.26   │\n",
       "│ 501 │ XYL    │ Xylem Inc.                 │ Industrials            │ 70.24   │\n",
       "│ 502 │ YUM    │ Yum! Brands Inc            │ Consumer Discretionary │ 76.3    │\n",
       "│ 503 │ ZBH    │ Zimmer Biomet Holdings     │ Health Care            │ 115.53  │\n",
       "│ 504 │ ZION   │ Zions Bancorp              │ Financials             │ 50.71   │\n",
       "│ 505 │ ZTS    │ Zoetis                     │ Health Care            │ 71.51   │"
      ]
     },
     "execution_count": 25,
     "metadata": {},
     "output_type": "execute_result"
    }
   ],
   "source": [
    "using DataFrames, Impute\n",
    "df=Impute.interp(df)"
   ]
  },
  {
   "cell_type": "markdown",
   "metadata": {},
   "source": [
    "## <center>🏆 Challenge\n",
    "    \n",
    "Impute missing values in df1."
   ]
  },
  {
   "cell_type": "code",
   "execution_count": 26,
   "metadata": {},
   "outputs": [
    {
     "data": {
      "text/html": [
       "<table class=\"data-frame\"><thead><tr><th></th><th>Symbol</th><th>Name</th><th>Sector</th></tr><tr><th></th><th>String</th><th>String</th><th>String</th></tr></thead><tbody><p>505 rows × 3 columns</p><tr><th>1</th><td>MMM</td><td>3M Company</td><td>Industrials</td></tr><tr><th>2</th><td>AOS</td><td>A.O. Smith Corp</td><td>Industrials</td></tr><tr><th>3</th><td>ABT</td><td>Abbott Laboratories</td><td>Health Care</td></tr><tr><th>4</th><td>ABBV</td><td>AbbVie Inc.</td><td>Health Care</td></tr><tr><th>5</th><td>ACN</td><td>Accenture plc</td><td>Information Technology</td></tr><tr><th>6</th><td>ATVI</td><td>Activision Blizzard</td><td>Information Technology</td></tr><tr><th>7</th><td>AYI</td><td>Acuity Brands Inc</td><td>Industrials</td></tr><tr><th>8</th><td>ADBE</td><td>Adobe Systems Inc</td><td>Information Technology</td></tr><tr><th>9</th><td>AAP</td><td>Advance Auto Parts</td><td>Consumer Discretionary</td></tr><tr><th>10</th><td>AMD</td><td>Advanced Micro Devices Inc</td><td>Information Technology</td></tr><tr><th>11</th><td>AES</td><td>AES Corp</td><td>Utilities</td></tr><tr><th>12</th><td>AET</td><td>Aetna Inc</td><td>Health Care</td></tr><tr><th>13</th><td>AMG</td><td>Affiliated Managers Group Inc</td><td>Financials</td></tr><tr><th>14</th><td>AFL</td><td>AFLAC Inc</td><td>Financials</td></tr><tr><th>15</th><td>A</td><td>Agilent Technologies Inc</td><td>Health Care</td></tr><tr><th>16</th><td>APD</td><td>Air Products &amp; Chemicals Inc</td><td>Materials</td></tr><tr><th>17</th><td>AKAM</td><td>Akamai Technologies Inc</td><td>Information Technology</td></tr><tr><th>18</th><td>ALK</td><td>Alaska Air Group Inc</td><td>Industrials</td></tr><tr><th>19</th><td>ALB</td><td>Albemarle Corp</td><td>Materials</td></tr><tr><th>20</th><td>ARE</td><td>Alexandria Real Estate Equities Inc</td><td>Real Estate</td></tr><tr><th>21</th><td>ALXN</td><td>Alexion Pharmaceuticals</td><td>Health Care</td></tr><tr><th>22</th><td>ALGN</td><td>Align Technology</td><td>Health Care</td></tr><tr><th>23</th><td>ALLE</td><td>Allegion</td><td>Industrials</td></tr><tr><th>24</th><td>AGN</td><td>Allergan, Plc</td><td>Health Care</td></tr><tr><th>25</th><td>ADS</td><td>Alliance Data Systems</td><td>Information Technology</td></tr><tr><th>26</th><td>LNT</td><td>Alliant Energy Corp</td><td>Utilities</td></tr><tr><th>27</th><td>ALL</td><td>Allstate Corp</td><td>Financials</td></tr><tr><th>28</th><td>GOOGL</td><td>Alphabet Inc Class A</td><td>Information Technology</td></tr><tr><th>29</th><td>GOOG</td><td>Alphabet Inc Class C</td><td>Information Technology</td></tr><tr><th>30</th><td>MO</td><td>Altria Group Inc</td><td>Consumer Staples</td></tr><tr><th>&vellip;</th><td>&vellip;</td><td>&vellip;</td><td>&vellip;</td></tr></tbody></table>"
      ],
      "text/latex": [
       "\\begin{tabular}{r|ccc}\n",
       "\t& Symbol & Name & Sector\\\\\n",
       "\t\\hline\n",
       "\t& String & String & String\\\\\n",
       "\t\\hline\n",
       "\t1 & MMM & 3M Company & Industrials \\\\\n",
       "\t2 & AOS & A.O. Smith Corp & Industrials \\\\\n",
       "\t3 & ABT & Abbott Laboratories & Health Care \\\\\n",
       "\t4 & ABBV & AbbVie Inc. & Health Care \\\\\n",
       "\t5 & ACN & Accenture plc & Information Technology \\\\\n",
       "\t6 & ATVI & Activision Blizzard & Information Technology \\\\\n",
       "\t7 & AYI & Acuity Brands Inc & Industrials \\\\\n",
       "\t8 & ADBE & Adobe Systems Inc & Information Technology \\\\\n",
       "\t9 & AAP & Advance Auto Parts & Consumer Discretionary \\\\\n",
       "\t10 & AMD & Advanced Micro Devices Inc & Information Technology \\\\\n",
       "\t11 & AES & AES Corp & Utilities \\\\\n",
       "\t12 & AET & Aetna Inc & Health Care \\\\\n",
       "\t13 & AMG & Affiliated Managers Group Inc & Financials \\\\\n",
       "\t14 & AFL & AFLAC Inc & Financials \\\\\n",
       "\t15 & A & Agilent Technologies Inc & Health Care \\\\\n",
       "\t16 & APD & Air Products \\& Chemicals Inc & Materials \\\\\n",
       "\t17 & AKAM & Akamai Technologies Inc & Information Technology \\\\\n",
       "\t18 & ALK & Alaska Air Group Inc & Industrials \\\\\n",
       "\t19 & ALB & Albemarle Corp & Materials \\\\\n",
       "\t20 & ARE & Alexandria Real Estate Equities Inc & Real Estate \\\\\n",
       "\t21 & ALXN & Alexion Pharmaceuticals & Health Care \\\\\n",
       "\t22 & ALGN & Align Technology & Health Care \\\\\n",
       "\t23 & ALLE & Allegion & Industrials \\\\\n",
       "\t24 & AGN & Allergan, Plc & Health Care \\\\\n",
       "\t25 & ADS & Alliance Data Systems & Information Technology \\\\\n",
       "\t26 & LNT & Alliant Energy Corp & Utilities \\\\\n",
       "\t27 & ALL & Allstate Corp & Financials \\\\\n",
       "\t28 & GOOGL & Alphabet Inc Class A & Information Technology \\\\\n",
       "\t29 & GOOG & Alphabet Inc Class C & Information Technology \\\\\n",
       "\t30 & MO & Altria Group Inc & Consumer Staples \\\\\n",
       "\t$\\dots$ & $\\dots$ & $\\dots$ & $\\dots$ \\\\\n",
       "\\end{tabular}\n"
      ],
      "text/plain": [
       "505×3 DataFrame\n",
       "│ Row │ Symbol │ Name                       │ Sector                 │\n",
       "│     │ \u001b[90mString\u001b[39m │ \u001b[90mString\u001b[39m                     │ \u001b[90mString\u001b[39m                 │\n",
       "├─────┼────────┼────────────────────────────┼────────────────────────┤\n",
       "│ 1   │ MMM    │ 3M Company                 │ Industrials            │\n",
       "│ 2   │ AOS    │ A.O. Smith Corp            │ Industrials            │\n",
       "│ 3   │ ABT    │ Abbott Laboratories        │ Health Care            │\n",
       "│ 4   │ ABBV   │ AbbVie Inc.                │ Health Care            │\n",
       "│ 5   │ ACN    │ Accenture plc              │ Information Technology │\n",
       "│ 6   │ ATVI   │ Activision Blizzard        │ Information Technology │\n",
       "│ 7   │ AYI    │ Acuity Brands Inc          │ Industrials            │\n",
       "│ 8   │ ADBE   │ Adobe Systems Inc          │ Information Technology │\n",
       "│ 9   │ AAP    │ Advance Auto Parts         │ Consumer Discretionary │\n",
       "│ 10  │ AMD    │ Advanced Micro Devices Inc │ Information Technology │\n",
       "⋮\n",
       "│ 495 │ WYN    │ Wyndham Worldwide          │ Consumer Discretionary │\n",
       "│ 496 │ WYNN   │ Wynn Resorts Ltd           │ Consumer Discretionary │\n",
       "│ 497 │ XEL    │ Xcel Energy Inc            │ Utilities              │\n",
       "│ 498 │ XRX    │ Xerox Corp.                │ Information Technology │\n",
       "│ 499 │ XLNX   │ Xilinx Inc                 │ Information Technology │\n",
       "│ 500 │ XL     │ XL Capital                 │ Financials             │\n",
       "│ 501 │ XYL    │ Xylem Inc.                 │ Industrials            │\n",
       "│ 502 │ YUM    │ Yum! Brands Inc            │ Consumer Discretionary │\n",
       "│ 503 │ ZBH    │ Zimmer Biomet Holdings     │ Health Care            │\n",
       "│ 504 │ ZION   │ Zions Bancorp              │ Financials             │\n",
       "│ 505 │ ZTS    │ Zoetis                     │ Health Care            │"
      ]
     },
     "execution_count": 26,
     "metadata": {},
     "output_type": "execute_result"
    }
   ],
   "source": [
    "using DataFrames, Impute\n",
    "df1=Impute.interp(df1)"
   ]
  },
  {
   "cell_type": "markdown",
   "metadata": {},
   "source": [
    "### Sorting Data"
   ]
  },
  {
   "cell_type": "code",
   "execution_count": 27,
   "metadata": {},
   "outputs": [
    {
     "data": {
      "text/html": [
       "<table class=\"data-frame\"><thead><tr><th></th><th>Symbol</th><th>Name</th><th>Sector</th><th>Price</th><th>Earnings</th></tr><tr><th></th><th>String</th><th>String</th><th>String</th><th>Float64</th><th>Float64?</th></tr></thead><tbody><p>505 rows × 13 columns (omitted printing of 8 columns)</p><tr><th>1</th><td>A</td><td>Agilent Technologies Inc</td><td>Health Care</td><td>65.05</td><td>27.45</td></tr><tr><th>2</th><td>AAL</td><td>American Airlines Group</td><td>Industrials</td><td>48.6</td><td>9.92</td></tr><tr><th>3</th><td>AAP</td><td>Advance Auto Parts</td><td>Consumer Discretionary</td><td>109.63</td><td>19.54</td></tr><tr><th>4</th><td>AAPL</td><td>Apple Inc.</td><td>Information Technology</td><td>155.15</td><td>16.86</td></tr><tr><th>5</th><td>ABBV</td><td>AbbVie Inc.</td><td>Health Care</td><td>108.48</td><td>19.41</td></tr><tr><th>6</th><td>ABC</td><td>AmerisourceBergen Corp</td><td>Health Care</td><td>91.55</td><td>15.54</td></tr><tr><th>7</th><td>ABT</td><td>Abbott Laboratories</td><td>Health Care</td><td>56.27</td><td>22.51</td></tr><tr><th>8</th><td>ACN</td><td>Accenture plc</td><td>Information Technology</td><td>150.51</td><td>25.47</td></tr><tr><th>9</th><td>ADBE</td><td>Adobe Systems Inc</td><td>Information Technology</td><td>185.16</td><td>52.31</td></tr><tr><th>10</th><td>ADI</td><td>Analog Devices, Inc.</td><td>Information Technology</td><td>82.68</td><td>17.67</td></tr><tr><th>11</th><td>ADM</td><td>Archer-Daniels-Midland Co</td><td>Consumer Staples</td><td>41.35</td><td>17.45</td></tr><tr><th>12</th><td>ADP</td><td>Automatic Data Processing</td><td>Information Technology</td><td>108.25</td><td>29.34</td></tr><tr><th>13</th><td>ADS</td><td>Alliance Data Systems</td><td>Information Technology</td><td>240.6</td><td>13.02</td></tr><tr><th>14</th><td>ADSK</td><td>Autodesk Inc</td><td>Information Technology</td><td>104.81</td><td>-77.07</td></tr><tr><th>15</th><td>AEE</td><td>Ameren Corp</td><td>Utilities</td><td>52.59</td><td>20.38</td></tr><tr><th>16</th><td>AEP</td><td>American Electric Power</td><td>Utilities</td><td>63.38</td><td>17.32</td></tr><tr><th>17</th><td>AES</td><td>AES Corp</td><td>Utilities</td><td>10.06</td><td>9.96</td></tr><tr><th>18</th><td>AET</td><td>Aetna Inc</td><td>Health Care</td><td>178.0</td><td>18.11</td></tr><tr><th>19</th><td>AFL</td><td>AFLAC Inc</td><td>Financials</td><td>83.25</td><td>12.24</td></tr><tr><th>20</th><td>AGN</td><td>Allergan, Plc</td><td>Health Care</td><td>164.2</td><td>10.65</td></tr><tr><th>21</th><td>AIG</td><td>American International Group, Inc.</td><td>Financials</td><td>58.28</td><td>23.22</td></tr><tr><th>22</th><td>AIV</td><td>Apartment Investment &amp; Management</td><td>Real Estate</td><td>38.21</td><td>15.6</td></tr><tr><th>23</th><td>AIZ</td><td>Assurant Inc</td><td>Financials</td><td>85.16</td><td>33.27</td></tr><tr><th>24</th><td>AJG</td><td>Arthur J. Gallagher &amp; Co.</td><td>Financials</td><td>64.4</td><td>21.05</td></tr><tr><th>25</th><td>AKAM</td><td>Akamai Technologies Inc</td><td>Information Technology</td><td>62.49</td><td>32.55</td></tr><tr><th>26</th><td>ALB</td><td>Albemarle Corp</td><td>Materials</td><td>105.18</td><td>26.03</td></tr><tr><th>27</th><td>ALGN</td><td>Align Technology</td><td>Health Care</td><td>220.71</td><td>56.59</td></tr><tr><th>28</th><td>ALK</td><td>Alaska Air Group Inc</td><td>Industrials</td><td>64.04</td><td>9.66</td></tr><tr><th>29</th><td>ALL</td><td>Allstate Corp</td><td>Financials</td><td>90.06</td><td>13.26</td></tr><tr><th>30</th><td>ALLE</td><td>Allegion</td><td>Industrials</td><td>77.32</td><td>21.07</td></tr><tr><th>&vellip;</th><td>&vellip;</td><td>&vellip;</td><td>&vellip;</td><td>&vellip;</td><td>&vellip;</td></tr></tbody></table>"
      ],
      "text/latex": [
       "\\begin{tabular}{r|cccccc}\n",
       "\t& Symbol & Name & Sector & Price & Earnings & \\\\\n",
       "\t\\hline\n",
       "\t& String & String & String & Float64 & Float64? & \\\\\n",
       "\t\\hline\n",
       "\t1 & A & Agilent Technologies Inc & Health Care & 65.05 & 27.45 & $\\dots$ \\\\\n",
       "\t2 & AAL & American Airlines Group & Industrials & 48.6 & 9.92 & $\\dots$ \\\\\n",
       "\t3 & AAP & Advance Auto Parts & Consumer Discretionary & 109.63 & 19.54 & $\\dots$ \\\\\n",
       "\t4 & AAPL & Apple Inc. & Information Technology & 155.15 & 16.86 & $\\dots$ \\\\\n",
       "\t5 & ABBV & AbbVie Inc. & Health Care & 108.48 & 19.41 & $\\dots$ \\\\\n",
       "\t6 & ABC & AmerisourceBergen Corp & Health Care & 91.55 & 15.54 & $\\dots$ \\\\\n",
       "\t7 & ABT & Abbott Laboratories & Health Care & 56.27 & 22.51 & $\\dots$ \\\\\n",
       "\t8 & ACN & Accenture plc & Information Technology & 150.51 & 25.47 & $\\dots$ \\\\\n",
       "\t9 & ADBE & Adobe Systems Inc & Information Technology & 185.16 & 52.31 & $\\dots$ \\\\\n",
       "\t10 & ADI & Analog Devices, Inc. & Information Technology & 82.68 & 17.67 & $\\dots$ \\\\\n",
       "\t11 & ADM & Archer-Daniels-Midland Co & Consumer Staples & 41.35 & 17.45 & $\\dots$ \\\\\n",
       "\t12 & ADP & Automatic Data Processing & Information Technology & 108.25 & 29.34 & $\\dots$ \\\\\n",
       "\t13 & ADS & Alliance Data Systems & Information Technology & 240.6 & 13.02 & $\\dots$ \\\\\n",
       "\t14 & ADSK & Autodesk Inc & Information Technology & 104.81 & -77.07 & $\\dots$ \\\\\n",
       "\t15 & AEE & Ameren Corp & Utilities & 52.59 & 20.38 & $\\dots$ \\\\\n",
       "\t16 & AEP & American Electric Power & Utilities & 63.38 & 17.32 & $\\dots$ \\\\\n",
       "\t17 & AES & AES Corp & Utilities & 10.06 & 9.96 & $\\dots$ \\\\\n",
       "\t18 & AET & Aetna Inc & Health Care & 178.0 & 18.11 & $\\dots$ \\\\\n",
       "\t19 & AFL & AFLAC Inc & Financials & 83.25 & 12.24 & $\\dots$ \\\\\n",
       "\t20 & AGN & Allergan, Plc & Health Care & 164.2 & 10.65 & $\\dots$ \\\\\n",
       "\t21 & AIG & American International Group, Inc. & Financials & 58.28 & 23.22 & $\\dots$ \\\\\n",
       "\t22 & AIV & Apartment Investment \\& Management & Real Estate & 38.21 & 15.6 & $\\dots$ \\\\\n",
       "\t23 & AIZ & Assurant Inc & Financials & 85.16 & 33.27 & $\\dots$ \\\\\n",
       "\t24 & AJG & Arthur J. Gallagher \\& Co. & Financials & 64.4 & 21.05 & $\\dots$ \\\\\n",
       "\t25 & AKAM & Akamai Technologies Inc & Information Technology & 62.49 & 32.55 & $\\dots$ \\\\\n",
       "\t26 & ALB & Albemarle Corp & Materials & 105.18 & 26.03 & $\\dots$ \\\\\n",
       "\t27 & ALGN & Align Technology & Health Care & 220.71 & 56.59 & $\\dots$ \\\\\n",
       "\t28 & ALK & Alaska Air Group Inc & Industrials & 64.04 & 9.66 & $\\dots$ \\\\\n",
       "\t29 & ALL & Allstate Corp & Financials & 90.06 & 13.26 & $\\dots$ \\\\\n",
       "\t30 & ALLE & Allegion & Industrials & 77.32 & 21.07 & $\\dots$ \\\\\n",
       "\t$\\dots$ & $\\dots$ & $\\dots$ & $\\dots$ & $\\dots$ & $\\dots$ &  \\\\\n",
       "\\end{tabular}\n"
      ],
      "text/plain": [
       "505×13 DataFrame. Omitted printing of 9 columns\n",
       "│ Row │ Symbol │ Name                     │ Sector                 │ Price   │\n",
       "│     │ \u001b[90mString\u001b[39m │ \u001b[90mString\u001b[39m                   │ \u001b[90mString\u001b[39m                 │ \u001b[90mFloat64\u001b[39m │\n",
       "├─────┼────────┼──────────────────────────┼────────────────────────┼─────────┤\n",
       "│ 1   │ A      │ Agilent Technologies Inc │ Health Care            │ 65.05   │\n",
       "│ 2   │ AAL    │ American Airlines Group  │ Industrials            │ 48.6    │\n",
       "│ 3   │ AAP    │ Advance Auto Parts       │ Consumer Discretionary │ 109.63  │\n",
       "│ 4   │ AAPL   │ Apple Inc.               │ Information Technology │ 155.15  │\n",
       "│ 5   │ ABBV   │ AbbVie Inc.              │ Health Care            │ 108.48  │\n",
       "│ 6   │ ABC    │ AmerisourceBergen Corp   │ Health Care            │ 91.55   │\n",
       "│ 7   │ ABT    │ Abbott Laboratories      │ Health Care            │ 56.27   │\n",
       "│ 8   │ ACN    │ Accenture plc            │ Information Technology │ 150.51  │\n",
       "│ 9   │ ADBE   │ Adobe Systems Inc        │ Information Technology │ 185.16  │\n",
       "│ 10  │ ADI    │ Analog Devices, Inc.     │ Information Technology │ 82.68   │\n",
       "⋮\n",
       "│ 495 │ XEL    │ Xcel Energy Inc          │ Utilities              │ 42.44   │\n",
       "│ 496 │ XL     │ XL Capital               │ Financials             │ 41.26   │\n",
       "│ 497 │ XLNX   │ Xilinx Inc               │ Information Technology │ 62.82   │\n",
       "│ 498 │ XOM    │ Exxon Mobil Corp.        │ Energy                 │ 76.07   │\n",
       "│ 499 │ XRAY   │ Dentsply Sirona          │ Health Care            │ 56.85   │\n",
       "│ 500 │ XRX    │ Xerox Corp.              │ Information Technology │ 29.8    │\n",
       "│ 501 │ XYL    │ Xylem Inc.               │ Industrials            │ 70.24   │\n",
       "│ 502 │ YUM    │ Yum! Brands Inc          │ Consumer Discretionary │ 76.3    │\n",
       "│ 503 │ ZBH    │ Zimmer Biomet Holdings   │ Health Care            │ 115.53  │\n",
       "│ 504 │ ZION   │ Zions Bancorp            │ Financials             │ 50.71   │\n",
       "│ 505 │ ZTS    │ Zoetis                   │ Health Care            │ 71.51   │"
      ]
     },
     "execution_count": 27,
     "metadata": {},
     "output_type": "execute_result"
    }
   ],
   "source": [
    "sort!(df,rev=false)"
   ]
  },
  {
   "cell_type": "markdown",
   "metadata": {},
   "source": [
    "## <center>🏆 Challenge\n",
    "    \n",
    "Sort df in descending order."
   ]
  },
  {
   "cell_type": "code",
   "execution_count": 28,
   "metadata": {},
   "outputs": [
    {
     "data": {
      "text/html": [
       "<table class=\"data-frame\"><thead><tr><th></th><th>Symbol</th><th>Name</th><th>Sector</th><th>Price</th><th>Earnings</th></tr><tr><th></th><th>String</th><th>String</th><th>String</th><th>Float64</th><th>Float64?</th></tr></thead><tbody><p>505 rows × 13 columns (omitted printing of 8 columns)</p><tr><th>1</th><td>ZTS</td><td>Zoetis</td><td>Health Care</td><td>71.51</td><td>32.8</td></tr><tr><th>2</th><td>ZION</td><td>Zions Bancorp</td><td>Financials</td><td>50.71</td><td>17.73</td></tr><tr><th>3</th><td>ZBH</td><td>Zimmer Biomet Holdings</td><td>Health Care</td><td>115.53</td><td>14.32</td></tr><tr><th>4</th><td>YUM</td><td>Yum! Brands Inc</td><td>Consumer Discretionary</td><td>76.3</td><td>27.25</td></tr><tr><th>5</th><td>XYL</td><td>Xylem Inc.</td><td>Industrials</td><td>70.24</td><td>30.94</td></tr><tr><th>6</th><td>XRX</td><td>Xerox Corp.</td><td>Information Technology</td><td>29.8</td><td>8.87</td></tr><tr><th>7</th><td>XRAY</td><td>Dentsply Sirona</td><td>Health Care</td><td>56.85</td><td>22.65</td></tr><tr><th>8</th><td>XOM</td><td>Exxon Mobil Corp.</td><td>Energy</td><td>76.07</td><td>21.37</td></tr><tr><th>9</th><td>XLNX</td><td>Xilinx Inc</td><td>Information Technology</td><td>62.82</td><td>27.19</td></tr><tr><th>10</th><td>XL</td><td>XL Capital</td><td>Financials</td><td>41.26</td><td>-19.93</td></tr><tr><th>11</th><td>XEL</td><td>Xcel Energy Inc</td><td>Utilities</td><td>42.44</td><td>18.14</td></tr><tr><th>12</th><td>XEC</td><td>Cimarex Energy</td><td>Energy</td><td>100.19</td><td>26.37</td></tr><tr><th>13</th><td>WYNN</td><td>Wynn Resorts Ltd</td><td>Consumer Discretionary</td><td>169.28</td><td>31.7</td></tr><tr><th>14</th><td>WYN</td><td>Wyndham Worldwide</td><td>Consumer Discretionary</td><td>113.56</td><td>18.77</td></tr><tr><th>15</th><td>WY</td><td>Weyerhaeuser Corp.</td><td>Real Estate</td><td>33.6</td><td>34.29</td></tr><tr><th>16</th><td>WU</td><td>Western Union Co</td><td>Information Technology</td><td>18.81</td><td>10.17</td></tr><tr><th>17</th><td>WRK</td><td>WestRock Company</td><td>Materials</td><td>60.93</td><td>23.26</td></tr><tr><th>18</th><td>WMT</td><td>Wal-Mart Stores</td><td>Consumer Staples</td><td>100.02</td><td>23.1</td></tr><tr><th>19</th><td>WMB</td><td>Williams Cos.</td><td>Energy</td><td>28.56</td><td>48.41</td></tr><tr><th>20</th><td>WM</td><td>Waste Management Inc.</td><td>Industrials</td><td>79.12</td><td>25.36</td></tr><tr><th>21</th><td>WLTW</td><td>Willis Towers Watson</td><td>Financials</td><td>152.36</td><td>18.67</td></tr><tr><th>22</th><td>WHR</td><td>Whirlpool Corp.</td><td>Consumer Discretionary</td><td>164.95</td><td>11.77</td></tr><tr><th>23</th><td>WFC</td><td>Wells Fargo</td><td>Financials</td><td>55.4</td><td>13.58</td></tr><tr><th>24</th><td>WEC</td><td>Wec Energy Group Inc</td><td>Utilities</td><td>59.5</td><td>19.57</td></tr><tr><th>25</th><td>WDC</td><td>Western Digital</td><td>Information Technology</td><td>80.09</td><td>10.19</td></tr><tr><th>26</th><td>WBA</td><td>Walgreens Boots Alliance</td><td>Consumer Staples</td><td>68.22</td><td>13.38</td></tr><tr><th>27</th><td>WAT</td><td>Waters Corporation</td><td>Health Care</td><td>191.79</td><td>26.64</td></tr><tr><th>28</th><td>VZ</td><td>Verizon Communications</td><td>Telecommunication Services</td><td>49.04</td><td>13.08</td></tr><tr><th>29</th><td>VTR</td><td>Ventas Inc</td><td>Real Estate</td><td>50.92</td><td>12.21</td></tr><tr><th>30</th><td>VRTX</td><td>Vertex Pharmaceuticals Inc</td><td>Health Care</td><td>151.6</td><td>252.67</td></tr><tr><th>&vellip;</th><td>&vellip;</td><td>&vellip;</td><td>&vellip;</td><td>&vellip;</td><td>&vellip;</td></tr></tbody></table>"
      ],
      "text/latex": [
       "\\begin{tabular}{r|cccccc}\n",
       "\t& Symbol & Name & Sector & Price & Earnings & \\\\\n",
       "\t\\hline\n",
       "\t& String & String & String & Float64 & Float64? & \\\\\n",
       "\t\\hline\n",
       "\t1 & ZTS & Zoetis & Health Care & 71.51 & 32.8 & $\\dots$ \\\\\n",
       "\t2 & ZION & Zions Bancorp & Financials & 50.71 & 17.73 & $\\dots$ \\\\\n",
       "\t3 & ZBH & Zimmer Biomet Holdings & Health Care & 115.53 & 14.32 & $\\dots$ \\\\\n",
       "\t4 & YUM & Yum! Brands Inc & Consumer Discretionary & 76.3 & 27.25 & $\\dots$ \\\\\n",
       "\t5 & XYL & Xylem Inc. & Industrials & 70.24 & 30.94 & $\\dots$ \\\\\n",
       "\t6 & XRX & Xerox Corp. & Information Technology & 29.8 & 8.87 & $\\dots$ \\\\\n",
       "\t7 & XRAY & Dentsply Sirona & Health Care & 56.85 & 22.65 & $\\dots$ \\\\\n",
       "\t8 & XOM & Exxon Mobil Corp. & Energy & 76.07 & 21.37 & $\\dots$ \\\\\n",
       "\t9 & XLNX & Xilinx Inc & Information Technology & 62.82 & 27.19 & $\\dots$ \\\\\n",
       "\t10 & XL & XL Capital & Financials & 41.26 & -19.93 & $\\dots$ \\\\\n",
       "\t11 & XEL & Xcel Energy Inc & Utilities & 42.44 & 18.14 & $\\dots$ \\\\\n",
       "\t12 & XEC & Cimarex Energy & Energy & 100.19 & 26.37 & $\\dots$ \\\\\n",
       "\t13 & WYNN & Wynn Resorts Ltd & Consumer Discretionary & 169.28 & 31.7 & $\\dots$ \\\\\n",
       "\t14 & WYN & Wyndham Worldwide & Consumer Discretionary & 113.56 & 18.77 & $\\dots$ \\\\\n",
       "\t15 & WY & Weyerhaeuser Corp. & Real Estate & 33.6 & 34.29 & $\\dots$ \\\\\n",
       "\t16 & WU & Western Union Co & Information Technology & 18.81 & 10.17 & $\\dots$ \\\\\n",
       "\t17 & WRK & WestRock Company & Materials & 60.93 & 23.26 & $\\dots$ \\\\\n",
       "\t18 & WMT & Wal-Mart Stores & Consumer Staples & 100.02 & 23.1 & $\\dots$ \\\\\n",
       "\t19 & WMB & Williams Cos. & Energy & 28.56 & 48.41 & $\\dots$ \\\\\n",
       "\t20 & WM & Waste Management Inc. & Industrials & 79.12 & 25.36 & $\\dots$ \\\\\n",
       "\t21 & WLTW & Willis Towers Watson & Financials & 152.36 & 18.67 & $\\dots$ \\\\\n",
       "\t22 & WHR & Whirlpool Corp. & Consumer Discretionary & 164.95 & 11.77 & $\\dots$ \\\\\n",
       "\t23 & WFC & Wells Fargo & Financials & 55.4 & 13.58 & $\\dots$ \\\\\n",
       "\t24 & WEC & Wec Energy Group Inc & Utilities & 59.5 & 19.57 & $\\dots$ \\\\\n",
       "\t25 & WDC & Western Digital & Information Technology & 80.09 & 10.19 & $\\dots$ \\\\\n",
       "\t26 & WBA & Walgreens Boots Alliance & Consumer Staples & 68.22 & 13.38 & $\\dots$ \\\\\n",
       "\t27 & WAT & Waters Corporation & Health Care & 191.79 & 26.64 & $\\dots$ \\\\\n",
       "\t28 & VZ & Verizon Communications & Telecommunication Services & 49.04 & 13.08 & $\\dots$ \\\\\n",
       "\t29 & VTR & Ventas Inc & Real Estate & 50.92 & 12.21 & $\\dots$ \\\\\n",
       "\t30 & VRTX & Vertex Pharmaceuticals Inc & Health Care & 151.6 & 252.67 & $\\dots$ \\\\\n",
       "\t$\\dots$ & $\\dots$ & $\\dots$ & $\\dots$ & $\\dots$ & $\\dots$ &  \\\\\n",
       "\\end{tabular}\n"
      ],
      "text/plain": [
       "505×13 DataFrame. Omitted printing of 9 columns\n",
       "│ Row │ Symbol │ Name                      │ Sector                 │ Price   │\n",
       "│     │ \u001b[90mString\u001b[39m │ \u001b[90mString\u001b[39m                    │ \u001b[90mString\u001b[39m                 │ \u001b[90mFloat64\u001b[39m │\n",
       "├─────┼────────┼───────────────────────────┼────────────────────────┼─────────┤\n",
       "│ 1   │ ZTS    │ Zoetis                    │ Health Care            │ 71.51   │\n",
       "│ 2   │ ZION   │ Zions Bancorp             │ Financials             │ 50.71   │\n",
       "│ 3   │ ZBH    │ Zimmer Biomet Holdings    │ Health Care            │ 115.53  │\n",
       "│ 4   │ YUM    │ Yum! Brands Inc           │ Consumer Discretionary │ 76.3    │\n",
       "│ 5   │ XYL    │ Xylem Inc.                │ Industrials            │ 70.24   │\n",
       "│ 6   │ XRX    │ Xerox Corp.               │ Information Technology │ 29.8    │\n",
       "│ 7   │ XRAY   │ Dentsply Sirona           │ Health Care            │ 56.85   │\n",
       "│ 8   │ XOM    │ Exxon Mobil Corp.         │ Energy                 │ 76.07   │\n",
       "│ 9   │ XLNX   │ Xilinx Inc                │ Information Technology │ 62.82   │\n",
       "│ 10  │ XL     │ XL Capital                │ Financials             │ 41.26   │\n",
       "⋮\n",
       "│ 495 │ ADM    │ Archer-Daniels-Midland Co │ Consumer Staples       │ 41.35   │\n",
       "│ 496 │ ADI    │ Analog Devices, Inc.      │ Information Technology │ 82.68   │\n",
       "│ 497 │ ADBE   │ Adobe Systems Inc         │ Information Technology │ 185.16  │\n",
       "│ 498 │ ACN    │ Accenture plc             │ Information Technology │ 150.51  │\n",
       "│ 499 │ ABT    │ Abbott Laboratories       │ Health Care            │ 56.27   │\n",
       "│ 500 │ ABC    │ AmerisourceBergen Corp    │ Health Care            │ 91.55   │\n",
       "│ 501 │ ABBV   │ AbbVie Inc.               │ Health Care            │ 108.48  │\n",
       "│ 502 │ AAPL   │ Apple Inc.                │ Information Technology │ 155.15  │\n",
       "│ 503 │ AAP    │ Advance Auto Parts        │ Consumer Discretionary │ 109.63  │\n",
       "│ 504 │ AAL    │ American Airlines Group   │ Industrials            │ 48.6    │\n",
       "│ 505 │ A      │ Agilent Technologies Inc  │ Health Care            │ 65.05   │"
      ]
     },
     "execution_count": 28,
     "metadata": {},
     "output_type": "execute_result"
    }
   ],
   "source": [
    "sort!(df,rev=true)"
   ]
  },
  {
   "cell_type": "markdown",
   "metadata": {},
   "source": [
    "### Splitting Data "
   ]
  },
  {
   "cell_type": "code",
   "execution_count": 29,
   "metadata": {},
   "outputs": [
    {
     "name": "stderr",
     "output_type": "stream",
     "text": [
      "┌ Info: Precompiling MLDataUtils [cc2ba9b6-d476-5e6d-8eaf-a92d5412d41d]\n",
      "└ @ Base loading.jl:1192\n",
      "WARNING: Method definition getproperty(Tuple, Int32) in module ChainRulesCore at /home/rhyme/.julia/packages/ChainRulesCore/8NXnp/src/compat.jl:2 overwritten in module Tables at /home/rhyme/.julia/packages/Tables/AcRIE/src/Tables.jl:8.\n"
     ]
    },
    {
     "data": {
      "text/plain": [
       "(252×13 SubDataFrame. Omitted printing of 11 columns\n",
       "│ Row │ Symbol │ Name                                   │\n",
       "│     │ \u001b[90mString\u001b[39m │ \u001b[90mString\u001b[39m                                 │\n",
       "├─────┼────────┼────────────────────────────────────────┤\n",
       "│ 1   │ FLS    │ Flowserve Corporation                  │\n",
       "│ 2   │ DTE    │ DTE Energy Co.                         │\n",
       "│ 3   │ XL     │ XL Capital                             │\n",
       "│ 4   │ DISCK  │ Discovery Communications-C             │\n",
       "│ 5   │ EMR    │ Emerson Electric Company               │\n",
       "│ 6   │ HBAN   │ Huntington Bancshares                  │\n",
       "│ 7   │ GD     │ General Dynamics                       │\n",
       "│ 8   │ UNH    │ United Health Group Inc.               │\n",
       "│ 9   │ XLNX   │ Xilinx Inc                             │\n",
       "│ 10  │ UPS    │ United Parcel Service                  │\n",
       "⋮\n",
       "│ 242 │ FIS    │ Fidelity National Information Services │\n",
       "│ 243 │ JWN    │ Nordstrom                              │\n",
       "│ 244 │ AVGO   │ Broadcom                               │\n",
       "│ 245 │ MCO    │ Moody's Corp                           │\n",
       "│ 246 │ EL     │ Estee Lauder Cos.                      │\n",
       "│ 247 │ MO     │ Altria Group Inc                       │\n",
       "│ 248 │ AEE    │ Ameren Corp                            │\n",
       "│ 249 │ COP    │ ConocoPhillips                         │\n",
       "│ 250 │ MRK    │ Merck & Co.                            │\n",
       "│ 251 │ CCL    │ Carnival Corp.                         │\n",
       "│ 252 │ ANSS   │ ANSYS                                  │, 202×13 SubDataFrame. Omitted printing of 9 columns\n",
       "│ Row │ Symbol │ Name                    │ Sector                 │ Price   │\n",
       "│     │ \u001b[90mString\u001b[39m │ \u001b[90mString\u001b[39m                  │ \u001b[90mString\u001b[39m                 │ \u001b[90mFloat64\u001b[39m │\n",
       "├─────┼────────┼─────────────────────────┼────────────────────────┼─────────┤\n",
       "│ 1   │ ABT    │ Abbott Laboratories     │ Health Care            │ 56.27   │\n",
       "│ 2   │ COTY   │ Coty, Inc               │ Consumer Staples       │ 19.96   │\n",
       "│ 3   │ NWS    │ News Corp. Class B      │ Consumer Discretionary │ 15.85   │\n",
       "│ 4   │ IQV    │ IQVIA Holdings Inc.     │ Health Care            │ 95.23   │\n",
       "│ 5   │ ANTM   │ Anthem Inc.             │ Health Care            │ 230.57  │\n",
       "│ 6   │ MON    │ Monsanto Co.            │ Materials              │ 119.08  │\n",
       "│ 7   │ GPN    │ Global Payments Inc.    │ Information Technology │ 100.59  │\n",
       "│ 8   │ VMC    │ Vulcan Materials        │ Materials              │ 121.47  │\n",
       "│ 9   │ RSG    │ Republic Services Inc   │ Industrials            │ 62.72   │\n",
       "│ 10  │ RF     │ Regions Financial Corp. │ Financials             │ 17.9    │\n",
       "⋮\n",
       "│ 192 │ XEC    │ Cimarex Energy          │ Energy                 │ 100.19  │\n",
       "│ 193 │ APC    │ Anadarko Petroleum Corp │ Energy                 │ 56.2    │\n",
       "│ 194 │ BDX    │ Becton Dickinson        │ Health Care            │ 211.44  │\n",
       "│ 195 │ NVDA   │ Nvidia Corporation      │ Information Technology │ 217.52  │\n",
       "│ 196 │ MS     │ Morgan Stanley          │ Financials             │ 51.79   │\n",
       "│ 197 │ AMZN   │ Amazon.com Inc          │ Consumer Discretionary │ 1350.5  │\n",
       "│ 198 │ CBOE   │ CBOE Holdings           │ Financials             │ 111.15  │\n",
       "│ 199 │ MAR    │ Marriott Int'l.         │ Consumer Discretionary │ 133.88  │\n",
       "│ 200 │ CAH    │ Cardinal Health Inc.    │ Health Care            │ 66.63   │\n",
       "│ 201 │ ORLY   │ O'Reilly Automotive     │ Consumer Discretionary │ 252.22  │\n",
       "│ 202 │ TXN    │ Texas Instruments       │ Information Technology │ 97.66   │, 51×13 SubDataFrame. Omitted printing of 9 columns\n",
       "│ Row │ Symbol │ Name                      │ Sector                 │ Price   │\n",
       "│     │ \u001b[90mString\u001b[39m │ \u001b[90mString\u001b[39m                    │ \u001b[90mString\u001b[39m                 │ \u001b[90mFloat64\u001b[39m │\n",
       "├─────┼────────┼───────────────────────────┼────────────────────────┼─────────┤\n",
       "│ 1   │ REGN   │ Regeneron                 │ Health Care            │ 322.62  │\n",
       "│ 2   │ VIAB   │ Viacom Inc.               │ Consumer Discretionary │ 32.71   │\n",
       "│ 3   │ SPG    │ Simon Property Group Inc  │ Real Estate            │ 152.18  │\n",
       "│ 4   │ URI    │ United Rentals, Inc.      │ Industrials            │ 161.99  │\n",
       "│ 5   │ HAS    │ Hasbro Inc.               │ Consumer Discretionary │ 96.48   │\n",
       "│ 6   │ WLTW   │ Willis Towers Watson      │ Financials             │ 152.36  │\n",
       "│ 7   │ HRB    │ Block H&R                 │ Financials             │ 25.19   │\n",
       "│ 8   │ LEN    │ Lennar Corp.              │ Consumer Discretionary │ 59.11   │\n",
       "│ 9   │ WYN    │ Wyndham Worldwide         │ Consumer Discretionary │ 113.56  │\n",
       "│ 10  │ C      │ Citigroup Inc.            │ Financials             │ 71.87   │\n",
       "⋮\n",
       "│ 41  │ GRMN   │ Garmin Ltd.               │ Consumer Discretionary │ 61.13   │\n",
       "│ 42  │ UAA    │ Under Armour Class A      │ Consumer Discretionary │ 13.14   │\n",
       "│ 43  │ FE     │ FirstEnergy Corp          │ Utilities              │ 30.64   │\n",
       "│ 44  │ ICE    │ Intercontinental Exchange │ Financials             │ 67.0    │\n",
       "│ 45  │ FLR    │ Fluor Corp.               │ Industrials            │ 55.31   │\n",
       "│ 46  │ SIG    │ Signet Jewelers           │ Consumer Discretionary │ 49.38   │\n",
       "│ 47  │ INTU   │ Intuit Inc.               │ Information Technology │ 152.75  │\n",
       "│ 48  │ TWX    │ Time Warner Inc.          │ Consumer Discretionary │ 93.02   │\n",
       "│ 49  │ BA     │ Boeing Company            │ Industrials            │ 329.66  │\n",
       "│ 50  │ FFIV   │ F5 Networks               │ Information Technology │ 137.25  │\n",
       "│ 51  │ SNPS   │ Synopsys Inc.             │ Information Technology │ 82.62   │)"
      ]
     },
     "execution_count": 29,
     "metadata": {},
     "output_type": "execute_result"
    }
   ],
   "source": [
    "using MLDataUtils\n",
    "df2, df3 =splitobs(shuffleobs(df), at=(0.5,0.4))"
   ]
  },
  {
   "cell_type": "markdown",
   "metadata": {},
   "source": [
    "### Joinning Data"
   ]
  },
  {
   "cell_type": "markdown",
   "metadata": {},
   "source": [
    "<img src=\"https://github.com/VinitaSilaparasetty/Coursera-Intermediate-Pandas/blob/master/media/inner-join.png?raw=true\" width=\"600\" height=\"600\">"
   ]
  },
  {
   "cell_type": "code",
   "execution_count": 30,
   "metadata": {},
   "outputs": [
    {
     "data": {
      "text/html": [
       "<table class=\"data-frame\"><thead><tr><th></th><th>Symbol</th><th>Name</th><th>Sector</th><th>Symbol_1</th><th>Sector_1</th></tr><tr><th></th><th>String</th><th>String</th><th>String</th><th>String</th><th>String</th></tr></thead><tbody><p>505 rows × 15 columns (omitted printing of 10 columns)</p><tr><th>1</th><td>MMM</td><td>3M Company</td><td>Industrials</td><td>MMM</td><td>Industrials</td></tr><tr><th>2</th><td>AOS</td><td>A.O. Smith Corp</td><td>Industrials</td><td>AOS</td><td>Industrials</td></tr><tr><th>3</th><td>ABT</td><td>Abbott Laboratories</td><td>Health Care</td><td>ABT</td><td>Health Care</td></tr><tr><th>4</th><td>ABBV</td><td>AbbVie Inc.</td><td>Health Care</td><td>ABBV</td><td>Health Care</td></tr><tr><th>5</th><td>ACN</td><td>Accenture plc</td><td>Information Technology</td><td>ACN</td><td>Information Technology</td></tr><tr><th>6</th><td>ATVI</td><td>Activision Blizzard</td><td>Information Technology</td><td>ATVI</td><td>Information Technology</td></tr><tr><th>7</th><td>AYI</td><td>Acuity Brands Inc</td><td>Industrials</td><td>AYI</td><td>Industrials</td></tr><tr><th>8</th><td>ADBE</td><td>Adobe Systems Inc</td><td>Information Technology</td><td>ADBE</td><td>Information Technology</td></tr><tr><th>9</th><td>AAP</td><td>Advance Auto Parts</td><td>Consumer Discretionary</td><td>AAP</td><td>Consumer Discretionary</td></tr><tr><th>10</th><td>AMD</td><td>Advanced Micro Devices Inc</td><td>Information Technology</td><td>AMD</td><td>Information Technology</td></tr><tr><th>11</th><td>AES</td><td>AES Corp</td><td>Utilities</td><td>AES</td><td>Utilities</td></tr><tr><th>12</th><td>AET</td><td>Aetna Inc</td><td>Health Care</td><td>AET</td><td>Health Care</td></tr><tr><th>13</th><td>AMG</td><td>Affiliated Managers Group Inc</td><td>Financials</td><td>AMG</td><td>Financials</td></tr><tr><th>14</th><td>AFL</td><td>AFLAC Inc</td><td>Financials</td><td>AFL</td><td>Financials</td></tr><tr><th>15</th><td>A</td><td>Agilent Technologies Inc</td><td>Health Care</td><td>A</td><td>Health Care</td></tr><tr><th>16</th><td>APD</td><td>Air Products &amp; Chemicals Inc</td><td>Materials</td><td>APD</td><td>Materials</td></tr><tr><th>17</th><td>AKAM</td><td>Akamai Technologies Inc</td><td>Information Technology</td><td>AKAM</td><td>Information Technology</td></tr><tr><th>18</th><td>ALK</td><td>Alaska Air Group Inc</td><td>Industrials</td><td>ALK</td><td>Industrials</td></tr><tr><th>19</th><td>ALB</td><td>Albemarle Corp</td><td>Materials</td><td>ALB</td><td>Materials</td></tr><tr><th>20</th><td>ARE</td><td>Alexandria Real Estate Equities Inc</td><td>Real Estate</td><td>ARE</td><td>Real Estate</td></tr><tr><th>21</th><td>ALXN</td><td>Alexion Pharmaceuticals</td><td>Health Care</td><td>ALXN</td><td>Health Care</td></tr><tr><th>22</th><td>ALGN</td><td>Align Technology</td><td>Health Care</td><td>ALGN</td><td>Health Care</td></tr><tr><th>23</th><td>ALLE</td><td>Allegion</td><td>Industrials</td><td>ALLE</td><td>Industrials</td></tr><tr><th>24</th><td>AGN</td><td>Allergan, Plc</td><td>Health Care</td><td>AGN</td><td>Health Care</td></tr><tr><th>25</th><td>ADS</td><td>Alliance Data Systems</td><td>Information Technology</td><td>ADS</td><td>Information Technology</td></tr><tr><th>26</th><td>LNT</td><td>Alliant Energy Corp</td><td>Utilities</td><td>LNT</td><td>Utilities</td></tr><tr><th>27</th><td>ALL</td><td>Allstate Corp</td><td>Financials</td><td>ALL</td><td>Financials</td></tr><tr><th>28</th><td>GOOGL</td><td>Alphabet Inc Class A</td><td>Information Technology</td><td>GOOGL</td><td>Information Technology</td></tr><tr><th>29</th><td>GOOG</td><td>Alphabet Inc Class C</td><td>Information Technology</td><td>GOOG</td><td>Information Technology</td></tr><tr><th>30</th><td>MO</td><td>Altria Group Inc</td><td>Consumer Staples</td><td>MO</td><td>Consumer Staples</td></tr><tr><th>&vellip;</th><td>&vellip;</td><td>&vellip;</td><td>&vellip;</td><td>&vellip;</td><td>&vellip;</td></tr></tbody></table>"
      ],
      "text/latex": [
       "\\begin{tabular}{r|cccccc}\n",
       "\t& Symbol & Name & Sector & Symbol\\_1 & Sector\\_1 & \\\\\n",
       "\t\\hline\n",
       "\t& String & String & String & String & String & \\\\\n",
       "\t\\hline\n",
       "\t1 & MMM & 3M Company & Industrials & MMM & Industrials & $\\dots$ \\\\\n",
       "\t2 & AOS & A.O. Smith Corp & Industrials & AOS & Industrials & $\\dots$ \\\\\n",
       "\t3 & ABT & Abbott Laboratories & Health Care & ABT & Health Care & $\\dots$ \\\\\n",
       "\t4 & ABBV & AbbVie Inc. & Health Care & ABBV & Health Care & $\\dots$ \\\\\n",
       "\t5 & ACN & Accenture plc & Information Technology & ACN & Information Technology & $\\dots$ \\\\\n",
       "\t6 & ATVI & Activision Blizzard & Information Technology & ATVI & Information Technology & $\\dots$ \\\\\n",
       "\t7 & AYI & Acuity Brands Inc & Industrials & AYI & Industrials & $\\dots$ \\\\\n",
       "\t8 & ADBE & Adobe Systems Inc & Information Technology & ADBE & Information Technology & $\\dots$ \\\\\n",
       "\t9 & AAP & Advance Auto Parts & Consumer Discretionary & AAP & Consumer Discretionary & $\\dots$ \\\\\n",
       "\t10 & AMD & Advanced Micro Devices Inc & Information Technology & AMD & Information Technology & $\\dots$ \\\\\n",
       "\t11 & AES & AES Corp & Utilities & AES & Utilities & $\\dots$ \\\\\n",
       "\t12 & AET & Aetna Inc & Health Care & AET & Health Care & $\\dots$ \\\\\n",
       "\t13 & AMG & Affiliated Managers Group Inc & Financials & AMG & Financials & $\\dots$ \\\\\n",
       "\t14 & AFL & AFLAC Inc & Financials & AFL & Financials & $\\dots$ \\\\\n",
       "\t15 & A & Agilent Technologies Inc & Health Care & A & Health Care & $\\dots$ \\\\\n",
       "\t16 & APD & Air Products \\& Chemicals Inc & Materials & APD & Materials & $\\dots$ \\\\\n",
       "\t17 & AKAM & Akamai Technologies Inc & Information Technology & AKAM & Information Technology & $\\dots$ \\\\\n",
       "\t18 & ALK & Alaska Air Group Inc & Industrials & ALK & Industrials & $\\dots$ \\\\\n",
       "\t19 & ALB & Albemarle Corp & Materials & ALB & Materials & $\\dots$ \\\\\n",
       "\t20 & ARE & Alexandria Real Estate Equities Inc & Real Estate & ARE & Real Estate & $\\dots$ \\\\\n",
       "\t21 & ALXN & Alexion Pharmaceuticals & Health Care & ALXN & Health Care & $\\dots$ \\\\\n",
       "\t22 & ALGN & Align Technology & Health Care & ALGN & Health Care & $\\dots$ \\\\\n",
       "\t23 & ALLE & Allegion & Industrials & ALLE & Industrials & $\\dots$ \\\\\n",
       "\t24 & AGN & Allergan, Plc & Health Care & AGN & Health Care & $\\dots$ \\\\\n",
       "\t25 & ADS & Alliance Data Systems & Information Technology & ADS & Information Technology & $\\dots$ \\\\\n",
       "\t26 & LNT & Alliant Energy Corp & Utilities & LNT & Utilities & $\\dots$ \\\\\n",
       "\t27 & ALL & Allstate Corp & Financials & ALL & Financials & $\\dots$ \\\\\n",
       "\t28 & GOOGL & Alphabet Inc Class A & Information Technology & GOOGL & Information Technology & $\\dots$ \\\\\n",
       "\t29 & GOOG & Alphabet Inc Class C & Information Technology & GOOG & Information Technology & $\\dots$ \\\\\n",
       "\t30 & MO & Altria Group Inc & Consumer Staples & MO & Consumer Staples & $\\dots$ \\\\\n",
       "\t$\\dots$ & $\\dots$ & $\\dots$ & $\\dots$ & $\\dots$ & $\\dots$ &  \\\\\n",
       "\\end{tabular}\n"
      ],
      "text/plain": [
       "505×15 DataFrame. Omitted printing of 12 columns\n",
       "│ Row │ Symbol │ Name                       │ Sector                 │\n",
       "│     │ \u001b[90mString\u001b[39m │ \u001b[90mString\u001b[39m                     │ \u001b[90mString\u001b[39m                 │\n",
       "├─────┼────────┼────────────────────────────┼────────────────────────┤\n",
       "│ 1   │ MMM    │ 3M Company                 │ Industrials            │\n",
       "│ 2   │ AOS    │ A.O. Smith Corp            │ Industrials            │\n",
       "│ 3   │ ABT    │ Abbott Laboratories        │ Health Care            │\n",
       "│ 4   │ ABBV   │ AbbVie Inc.                │ Health Care            │\n",
       "│ 5   │ ACN    │ Accenture plc              │ Information Technology │\n",
       "│ 6   │ ATVI   │ Activision Blizzard        │ Information Technology │\n",
       "│ 7   │ AYI    │ Acuity Brands Inc          │ Industrials            │\n",
       "│ 8   │ ADBE   │ Adobe Systems Inc          │ Information Technology │\n",
       "│ 9   │ AAP    │ Advance Auto Parts         │ Consumer Discretionary │\n",
       "│ 10  │ AMD    │ Advanced Micro Devices Inc │ Information Technology │\n",
       "⋮\n",
       "│ 495 │ WYN    │ Wyndham Worldwide          │ Consumer Discretionary │\n",
       "│ 496 │ WYNN   │ Wynn Resorts Ltd           │ Consumer Discretionary │\n",
       "│ 497 │ XEL    │ Xcel Energy Inc            │ Utilities              │\n",
       "│ 498 │ XRX    │ Xerox Corp.                │ Information Technology │\n",
       "│ 499 │ XLNX   │ Xilinx Inc                 │ Information Technology │\n",
       "│ 500 │ XL     │ XL Capital                 │ Financials             │\n",
       "│ 501 │ XYL    │ Xylem Inc.                 │ Industrials            │\n",
       "│ 502 │ YUM    │ Yum! Brands Inc            │ Consumer Discretionary │\n",
       "│ 503 │ ZBH    │ Zimmer Biomet Holdings     │ Health Care            │\n",
       "│ 504 │ ZION   │ Zions Bancorp              │ Financials             │\n",
       "│ 505 │ ZTS    │ Zoetis                     │ Health Care            │"
      ]
     },
     "execution_count": 30,
     "metadata": {},
     "output_type": "execute_result"
    }
   ],
   "source": [
    "df4= innerjoin(df1,df, on=:Name, makeunique=true)"
   ]
  },
  {
   "cell_type": "markdown",
   "metadata": {},
   "source": [
    "<img src=\"https://github.com/VinitaSilaparasetty/Coursera-Intermediate-Pandas/blob/master/media/full-outer-inclusive-join.png?raw=true\" width=\"600\" height=\"600\">"
   ]
  },
  {
   "cell_type": "markdown",
   "metadata": {},
   "source": [
    "## <center>🏆 Challenge\n",
    "    \n",
    "Do a full outer inclusive join on df1 and df, specifically in this order and call the new dataframe df5.\n",
    "\n",
    "Hint: Use on=:Name"
   ]
  },
  {
   "cell_type": "code",
   "execution_count": 33,
   "metadata": {},
   "outputs": [
    {
     "data": {
      "text/html": [
       "<table class=\"data-frame\"><thead><tr><th></th><th>Symbol</th><th>Name</th><th>Sector</th><th>Price</th><th>Earnings</th></tr><tr><th></th><th>String?</th><th>String?</th><th>String?</th><th>Float64?</th><th>Float64?</th></tr></thead><tbody><p>505 rows × 15 columns (omitted printing of 10 columns)</p><tr><th>1</th><td>ZTS</td><td>Zoetis</td><td>Health Care</td><td>71.51</td><td>32.8</td></tr><tr><th>2</th><td>ZION</td><td>Zions Bancorp</td><td>Financials</td><td>50.71</td><td>17.73</td></tr><tr><th>3</th><td>ZBH</td><td>Zimmer Biomet Holdings</td><td>Health Care</td><td>115.53</td><td>14.32</td></tr><tr><th>4</th><td>YUM</td><td>Yum! Brands Inc</td><td>Consumer Discretionary</td><td>76.3</td><td>27.25</td></tr><tr><th>5</th><td>XYL</td><td>Xylem Inc.</td><td>Industrials</td><td>70.24</td><td>30.94</td></tr><tr><th>6</th><td>XRX</td><td>Xerox Corp.</td><td>Information Technology</td><td>29.8</td><td>8.87</td></tr><tr><th>7</th><td>XRAY</td><td>Dentsply Sirona</td><td>Health Care</td><td>56.85</td><td>22.65</td></tr><tr><th>8</th><td>XOM</td><td>Exxon Mobil Corp.</td><td>Energy</td><td>76.07</td><td>21.37</td></tr><tr><th>9</th><td>XLNX</td><td>Xilinx Inc</td><td>Information Technology</td><td>62.82</td><td>27.19</td></tr><tr><th>10</th><td>XL</td><td>XL Capital</td><td>Financials</td><td>41.26</td><td>-19.93</td></tr><tr><th>11</th><td>XEL</td><td>Xcel Energy Inc</td><td>Utilities</td><td>42.44</td><td>18.14</td></tr><tr><th>12</th><td>XEC</td><td>Cimarex Energy</td><td>Energy</td><td>100.19</td><td>26.37</td></tr><tr><th>13</th><td>WYNN</td><td>Wynn Resorts Ltd</td><td>Consumer Discretionary</td><td>169.28</td><td>31.7</td></tr><tr><th>14</th><td>WYN</td><td>Wyndham Worldwide</td><td>Consumer Discretionary</td><td>113.56</td><td>18.77</td></tr><tr><th>15</th><td>WY</td><td>Weyerhaeuser Corp.</td><td>Real Estate</td><td>33.6</td><td>34.29</td></tr><tr><th>16</th><td>WU</td><td>Western Union Co</td><td>Information Technology</td><td>18.81</td><td>10.17</td></tr><tr><th>17</th><td>WRK</td><td>WestRock Company</td><td>Materials</td><td>60.93</td><td>23.26</td></tr><tr><th>18</th><td>WMT</td><td>Wal-Mart Stores</td><td>Consumer Staples</td><td>100.02</td><td>23.1</td></tr><tr><th>19</th><td>WMB</td><td>Williams Cos.</td><td>Energy</td><td>28.56</td><td>48.41</td></tr><tr><th>20</th><td>WM</td><td>Waste Management Inc.</td><td>Industrials</td><td>79.12</td><td>25.36</td></tr><tr><th>21</th><td>WLTW</td><td>Willis Towers Watson</td><td>Financials</td><td>152.36</td><td>18.67</td></tr><tr><th>22</th><td>WHR</td><td>Whirlpool Corp.</td><td>Consumer Discretionary</td><td>164.95</td><td>11.77</td></tr><tr><th>23</th><td>WFC</td><td>Wells Fargo</td><td>Financials</td><td>55.4</td><td>13.58</td></tr><tr><th>24</th><td>WEC</td><td>Wec Energy Group Inc</td><td>Utilities</td><td>59.5</td><td>19.57</td></tr><tr><th>25</th><td>WDC</td><td>Western Digital</td><td>Information Technology</td><td>80.09</td><td>10.19</td></tr><tr><th>26</th><td>WBA</td><td>Walgreens Boots Alliance</td><td>Consumer Staples</td><td>68.22</td><td>13.38</td></tr><tr><th>27</th><td>WAT</td><td>Waters Corporation</td><td>Health Care</td><td>191.79</td><td>26.64</td></tr><tr><th>28</th><td>VZ</td><td>Verizon Communications</td><td>Telecommunication Services</td><td>49.04</td><td>13.08</td></tr><tr><th>29</th><td>VTR</td><td>Ventas Inc</td><td>Real Estate</td><td>50.92</td><td>12.21</td></tr><tr><th>30</th><td>VRTX</td><td>Vertex Pharmaceuticals Inc</td><td>Health Care</td><td>151.6</td><td>252.67</td></tr><tr><th>&vellip;</th><td>&vellip;</td><td>&vellip;</td><td>&vellip;</td><td>&vellip;</td><td>&vellip;</td></tr></tbody></table>"
      ],
      "text/latex": [
       "\\begin{tabular}{r|cccccc}\n",
       "\t& Symbol & Name & Sector & Price & Earnings & \\\\\n",
       "\t\\hline\n",
       "\t& String? & String? & String? & Float64? & Float64? & \\\\\n",
       "\t\\hline\n",
       "\t1 & ZTS & Zoetis & Health Care & 71.51 & 32.8 & $\\dots$ \\\\\n",
       "\t2 & ZION & Zions Bancorp & Financials & 50.71 & 17.73 & $\\dots$ \\\\\n",
       "\t3 & ZBH & Zimmer Biomet Holdings & Health Care & 115.53 & 14.32 & $\\dots$ \\\\\n",
       "\t4 & YUM & Yum! Brands Inc & Consumer Discretionary & 76.3 & 27.25 & $\\dots$ \\\\\n",
       "\t5 & XYL & Xylem Inc. & Industrials & 70.24 & 30.94 & $\\dots$ \\\\\n",
       "\t6 & XRX & Xerox Corp. & Information Technology & 29.8 & 8.87 & $\\dots$ \\\\\n",
       "\t7 & XRAY & Dentsply Sirona & Health Care & 56.85 & 22.65 & $\\dots$ \\\\\n",
       "\t8 & XOM & Exxon Mobil Corp. & Energy & 76.07 & 21.37 & $\\dots$ \\\\\n",
       "\t9 & XLNX & Xilinx Inc & Information Technology & 62.82 & 27.19 & $\\dots$ \\\\\n",
       "\t10 & XL & XL Capital & Financials & 41.26 & -19.93 & $\\dots$ \\\\\n",
       "\t11 & XEL & Xcel Energy Inc & Utilities & 42.44 & 18.14 & $\\dots$ \\\\\n",
       "\t12 & XEC & Cimarex Energy & Energy & 100.19 & 26.37 & $\\dots$ \\\\\n",
       "\t13 & WYNN & Wynn Resorts Ltd & Consumer Discretionary & 169.28 & 31.7 & $\\dots$ \\\\\n",
       "\t14 & WYN & Wyndham Worldwide & Consumer Discretionary & 113.56 & 18.77 & $\\dots$ \\\\\n",
       "\t15 & WY & Weyerhaeuser Corp. & Real Estate & 33.6 & 34.29 & $\\dots$ \\\\\n",
       "\t16 & WU & Western Union Co & Information Technology & 18.81 & 10.17 & $\\dots$ \\\\\n",
       "\t17 & WRK & WestRock Company & Materials & 60.93 & 23.26 & $\\dots$ \\\\\n",
       "\t18 & WMT & Wal-Mart Stores & Consumer Staples & 100.02 & 23.1 & $\\dots$ \\\\\n",
       "\t19 & WMB & Williams Cos. & Energy & 28.56 & 48.41 & $\\dots$ \\\\\n",
       "\t20 & WM & Waste Management Inc. & Industrials & 79.12 & 25.36 & $\\dots$ \\\\\n",
       "\t21 & WLTW & Willis Towers Watson & Financials & 152.36 & 18.67 & $\\dots$ \\\\\n",
       "\t22 & WHR & Whirlpool Corp. & Consumer Discretionary & 164.95 & 11.77 & $\\dots$ \\\\\n",
       "\t23 & WFC & Wells Fargo & Financials & 55.4 & 13.58 & $\\dots$ \\\\\n",
       "\t24 & WEC & Wec Energy Group Inc & Utilities & 59.5 & 19.57 & $\\dots$ \\\\\n",
       "\t25 & WDC & Western Digital & Information Technology & 80.09 & 10.19 & $\\dots$ \\\\\n",
       "\t26 & WBA & Walgreens Boots Alliance & Consumer Staples & 68.22 & 13.38 & $\\dots$ \\\\\n",
       "\t27 & WAT & Waters Corporation & Health Care & 191.79 & 26.64 & $\\dots$ \\\\\n",
       "\t28 & VZ & Verizon Communications & Telecommunication Services & 49.04 & 13.08 & $\\dots$ \\\\\n",
       "\t29 & VTR & Ventas Inc & Real Estate & 50.92 & 12.21 & $\\dots$ \\\\\n",
       "\t30 & VRTX & Vertex Pharmaceuticals Inc & Health Care & 151.6 & 252.67 & $\\dots$ \\\\\n",
       "\t$\\dots$ & $\\dots$ & $\\dots$ & $\\dots$ & $\\dots$ & $\\dots$ &  \\\\\n",
       "\\end{tabular}\n"
      ],
      "text/plain": [
       "505×15 DataFrame. Omitted printing of 12 columns\n",
       "│ Row │ Symbol  │ Name                      │ Sector                 │\n",
       "│     │ \u001b[90mString?\u001b[39m │ \u001b[90mUnion{Missing, String}\u001b[39m    │ \u001b[90mUnion{Missing, String}\u001b[39m │\n",
       "├─────┼─────────┼───────────────────────────┼────────────────────────┤\n",
       "│ 1   │ ZTS     │ Zoetis                    │ Health Care            │\n",
       "│ 2   │ ZION    │ Zions Bancorp             │ Financials             │\n",
       "│ 3   │ ZBH     │ Zimmer Biomet Holdings    │ Health Care            │\n",
       "│ 4   │ YUM     │ Yum! Brands Inc           │ Consumer Discretionary │\n",
       "│ 5   │ XYL     │ Xylem Inc.                │ Industrials            │\n",
       "│ 6   │ XRX     │ Xerox Corp.               │ Information Technology │\n",
       "│ 7   │ XRAY    │ Dentsply Sirona           │ Health Care            │\n",
       "│ 8   │ XOM     │ Exxon Mobil Corp.         │ Energy                 │\n",
       "│ 9   │ XLNX    │ Xilinx Inc                │ Information Technology │\n",
       "│ 10  │ XL      │ XL Capital                │ Financials             │\n",
       "⋮\n",
       "│ 495 │ ADM     │ Archer-Daniels-Midland Co │ Consumer Staples       │\n",
       "│ 496 │ ADI     │ Analog Devices, Inc.      │ Information Technology │\n",
       "│ 497 │ ADBE    │ Adobe Systems Inc         │ Information Technology │\n",
       "│ 498 │ ACN     │ Accenture plc             │ Information Technology │\n",
       "│ 499 │ ABT     │ Abbott Laboratories       │ Health Care            │\n",
       "│ 500 │ ABC     │ AmerisourceBergen Corp    │ Health Care            │\n",
       "│ 501 │ ABBV    │ AbbVie Inc.               │ Health Care            │\n",
       "│ 502 │ AAPL    │ Apple Inc.                │ Information Technology │\n",
       "│ 503 │ AAP     │ Advance Auto Parts        │ Consumer Discretionary │\n",
       "│ 504 │ AAL     │ American Airlines Group   │ Industrials            │\n",
       "│ 505 │ A       │ Agilent Technologies Inc  │ Health Care            │"
      ]
     },
     "execution_count": 33,
     "metadata": {},
     "output_type": "execute_result"
    }
   ],
   "source": [
    "df5= outerjoin(df,df1,on=:Name, makeunique=true)"
   ]
  },
  {
   "cell_type": "markdown",
   "metadata": {},
   "source": [
    "<img src=\"https://github.com/VinitaSilaparasetty/Coursera-Intermediate-Pandas/blob/master/media/left-inclusive-join.png?raw=true\" width=\"600\" height=\"600\">"
   ]
  },
  {
   "cell_type": "code",
   "execution_count": null,
   "metadata": {},
   "outputs": [],
   "source": []
  },
  {
   "cell_type": "markdown",
   "metadata": {},
   "source": [
    "<img src=\"https://github.com/VinitaSilaparasetty/Coursera-Intermediate-Pandas/blob/master/media/right-inclusive-join.png?raw=true\" width=\"600\" height=\"600\">"
   ]
  },
  {
   "cell_type": "markdown",
   "metadata": {},
   "source": [
    "## <center>🏆 Challenge\n",
    "    \n",
    "Do a right inclusive join on df1 and df, specifically in this order and call the new dataframe df8.\n",
    "    \n",
    "Hint: Use on=:Name"
   ]
  },
  {
   "cell_type": "code",
   "execution_count": null,
   "metadata": {},
   "outputs": [],
   "source": []
  }
 ],
 "metadata": {
  "kernelspec": {
   "display_name": "Julia 1.0.4",
   "language": "julia",
   "name": "julia-1.0"
  },
  "language_info": {
   "file_extension": ".jl",
   "mimetype": "application/julia",
   "name": "julia",
   "version": "1.0.4"
  },
  "latex_envs": {
   "LaTeX_envs_menu_present": true,
   "autoclose": false,
   "autocomplete": true,
   "bibliofile": "biblio.bib",
   "cite_by": "apalike",
   "current_citInitial": 1,
   "eqLabelWithNumbers": true,
   "eqNumInitial": 1,
   "hotkeys": {
    "equation": "Ctrl-E",
    "itemize": "Ctrl-I"
   },
   "labels_anchors": false,
   "latex_user_defs": false,
   "report_style_numbering": false,
   "user_envs_cfg": false
  }
 },
 "nbformat": 4,
 "nbformat_minor": 4
}
